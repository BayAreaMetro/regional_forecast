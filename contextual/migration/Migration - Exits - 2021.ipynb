{
 "cells": [
  {
   "cell_type": "code",
   "execution_count": 1,
   "id": "8b8a684d",
   "metadata": {},
   "outputs": [
    {
     "name": "stderr",
     "output_type": "stream",
     "text": [
      "/Users/aolsen/opt/anaconda3/envs/geo_env_2/lib/python3.10/site-packages/geopandas/_compat.py:123: UserWarning: The Shapely GEOS version (3.11.1-CAPI-1.17.1) is incompatible with the GEOS version PyGEOS was compiled with (3.10.4-CAPI-1.16.2). Conversions between both will be slow.\n",
      "  warnings.warn(\n",
      "/var/folders/x8/3_n775lx7zq1nv3mddc7vmlh0000gp/T/ipykernel_23616/3812692806.py:2: UserWarning: Shapely 2.0 is installed, but because PyGEOS is also installed, GeoPandas will still use PyGEOS by default for now. To force to use and test Shapely 2.0, you have to set the environment variable USE_PYGEOS=0. You can do this before starting the Python process, or in your code before importing geopandas:\n",
      "\n",
      "import os\n",
      "os.environ['USE_PYGEOS'] = '0'\n",
      "import geopandas\n",
      "\n",
      "In a future release, GeoPandas will switch to using Shapely by default. If you are using PyGEOS directly (calling PyGEOS functions on geometries from GeoPandas), this will then stop working and you are encouraged to migrate from PyGEOS to Shapely 2.0 (https://shapely.readthedocs.io/en/latest/migration_pygeos.html).\n",
      "  import geopandas as gpd\n"
     ]
    }
   ],
   "source": [
    "import pandas as pd\n",
    "import geopandas as gpd\n",
    "import numpy as np\n",
    "import os\n",
    "apikey=os.getenv('CENSUS_API_KEY')\n",
    "import requests\n",
    "import textwrap\n",
    "import seaborn as sns\n",
    "import matplotlib.pyplot as plt\n",
    "import matplotlib.cm as cm\n",
    "sns.set(style=\"darkgrid\")\n",
    "# Set figure width to 12 and height to 9\n",
    "plt.rcParams[\"figure.figsize\"] = [12,7]"
   ]
  },
  {
   "cell_type": "code",
   "execution_count": 2,
   "id": "9c15f828",
   "metadata": {},
   "outputs": [],
   "source": [
    "pct = lambda x: x/x.sum()"
   ]
  },
  {
   "cell_type": "code",
   "execution_count": 3,
   "id": "fb23fab7",
   "metadata": {},
   "outputs": [],
   "source": [
    "# https://medium.com/dunder-data/automatically-wrap-graph-labels-in-matplotlib-and-seaborn-a48740bc9ce\n",
    "def wrap_labels(ax, width, break_long_words=False):  \n",
    "    labels = []  \n",
    "    for label in ax.get_xticklabels():  \n",
    "        text = label.get_text()  \n",
    "        labels.append(textwrap.fill(text, width=width,  \n",
    "                      break_long_words=break_long_words))  \n",
    "    ax.set_xticklabels(labels, rotation=0)"
   ]
  },
  {
   "cell_type": "code",
   "execution_count": 4,
   "id": "8856378d",
   "metadata": {},
   "outputs": [],
   "source": [
    "def agebreaker(breaks):\n",
    "    labels=[]\n",
    "    for f in range(len(breaks)-1):\n",
    "        labels.append(\"age{fr:02.0f}{to:02.0f}\".format(fr=breaks[f],to=breaks[f+1]-1))\n",
    "    labels[-1]='age{dt:,.0f}p'.format(dt=breaks[-2])\n",
    "    return labels\n",
    "diffbreaks_5 = list(range(0,86,5))+[np.inf]\n",
    "age_breaks = [0,20,45,65,np.inf]\n"
   ]
  },
  {
   "cell_type": "code",
   "execution_count": 5,
   "id": "7b3a2a8c",
   "metadata": {},
   "outputs": [],
   "source": [
    "var = 'P1_001N'"
   ]
  },
  {
   "cell_type": "code",
   "execution_count": 6,
   "id": "392dd9f6",
   "metadata": {},
   "outputs": [],
   "source": [
    "base_url = f'https://api.census.gov/data/2020/dec/pl?get=NAME,{var}&for=county:*'\n",
    "query_params = {\n",
    "        #'get': var,\n",
    "        #'for': 'tract:*',\n",
    "        #'in': [\n",
    "        #    f'county:{counties}',\n",
    "        #    f'state:{state}',\n",
    "        #],\n",
    "        'key': apikey\n",
    "    }\n",
    "rq = requests.get(base_url, params=query_params)\n",
    "data = rq.json()\n",
    "acs_df = pd.DataFrame(data[1:],columns=data[0])\n",
    "    "
   ]
  },
  {
   "cell_type": "code",
   "execution_count": 7,
   "id": "c702b2ce",
   "metadata": {},
   "outputs": [],
   "source": [
    "acs_df['STCOUNTY']=acs_df.state+acs_df.county\n",
    "acs_df.P1_001N= acs_df.P1_001N.astype(int)\n"
   ]
  },
  {
   "cell_type": "markdown",
   "id": "251c9603",
   "metadata": {},
   "source": [
    "## Mappings and Code lists\n",
    "https://www2.census.gov/programs-surveys/acs/tech_docs/pums/code_lists/"
   ]
  },
  {
   "cell_type": "code",
   "execution_count": 8,
   "id": "d7133e5e",
   "metadata": {},
   "outputs": [],
   "source": [
    "# state abbreviations\n",
    "\n",
    "state_abbrev = pd.read_csv('https://www2.census.gov/geo/docs/reference/state.txt',sep='|',dtype=str)"
   ]
  },
  {
   "cell_type": "code",
   "execution_count": 9,
   "id": "e2ef2d9b",
   "metadata": {},
   "outputs": [],
   "source": [
    "bayareafips_full ={'06001':'Alameda', '06013':'Contra Costa', '06041':'Marin', '06055':'Napa', '06075':'San Francisco', '06081':'San Mateo', '06085':'Santa Clara', '06097':'Sonoma', '06095':'Solano'}"
   ]
  },
  {
   "cell_type": "code",
   "execution_count": 10,
   "id": "0b030da7",
   "metadata": {},
   "outputs": [],
   "source": [
    "us_pumas = gpd.read_file('/Users/aolsen/Dropbox/Documents/Data/GIS/Census/PUMAs/2010/US_puma_2010.shp').to_crs('EPSG:5070')"
   ]
  },
  {
   "cell_type": "markdown",
   "id": "ae4bdeeb",
   "metadata": {},
   "source": [
    "#### county-to-MSA maps"
   ]
  },
  {
   "cell_type": "markdown",
   "id": "2787f85b",
   "metadata": {},
   "source": [
    "### MIGPUMA-based maps"
   ]
  },
  {
   "cell_type": "code",
   "execution_count": 11,
   "id": "0e7d617a",
   "metadata": {},
   "outputs": [],
   "source": [
    "msa_delineation = pd.read_excel('/Users/aolsen/Dropbox/Documents/Data/_Census/geo/msa/list_03_2020.xls',\n",
    "                                skiprows=2,header=[0],skipfooter=4,dtype={'CSA Code':str,'CBSA Code':str,'FIPS State Code':str,'FIPS County Code':str})\n",
    "msa_delineation['GEOID'] = msa_delineation['FIPS State Code']+msa_delineation['FIPS County Code']\n",
    "\n",
    "csa_delineation = msa_delineation[msa_delineation['CSA Title'].notna()]\n",
    "metdiv_delineation = msa_delineation[msa_delineation['Metropolitan Division Title'].notna()]\n",
    "cbsa_delineation = msa_delineation[msa_delineation['CBSA Title'].notna()]\n"
   ]
  },
  {
   "cell_type": "markdown",
   "id": "a9e99aca",
   "metadata": {},
   "source": [
    "#### MIGPUMA to county\n",
    "\n",
    "MIGPUMAs are natively mapped to counties in the census code lists. Since counties map to MSAS, CSAs, we can readily form these relationships.\n",
    "\n"
   ]
  },
  {
   "cell_type": "code",
   "execution_count": 12,
   "id": "8afc3582",
   "metadata": {},
   "outputs": [
    {
     "data": {
      "text/html": [
       "<div>\n",
       "<style scoped>\n",
       "    .dataframe tbody tr th:only-of-type {\n",
       "        vertical-align: middle;\n",
       "    }\n",
       "\n",
       "    .dataframe tbody tr th {\n",
       "        vertical-align: top;\n",
       "    }\n",
       "\n",
       "    .dataframe thead th {\n",
       "        text-align: right;\n",
       "    }\n",
       "</style>\n",
       "<table border=\"1\" class=\"dataframe\">\n",
       "  <thead>\n",
       "    <tr style=\"text-align: right;\">\n",
       "      <th></th>\n",
       "      <th>State of Residence (ST)</th>\n",
       "      <th>PUMA</th>\n",
       "      <th>Place of Work State (POWSP) or Migration State (MIGSP)</th>\n",
       "      <th>POWPUMA or MIGPUMA*</th>\n",
       "    </tr>\n",
       "  </thead>\n",
       "  <tbody>\n",
       "    <tr>\n",
       "      <th>0</th>\n",
       "      <td>01</td>\n",
       "      <td>00100</td>\n",
       "      <td>001</td>\n",
       "      <td>00190</td>\n",
       "    </tr>\n",
       "    <tr>\n",
       "      <th>1</th>\n",
       "      <td>01</td>\n",
       "      <td>00200</td>\n",
       "      <td>001</td>\n",
       "      <td>00290</td>\n",
       "    </tr>\n",
       "    <tr>\n",
       "      <th>2</th>\n",
       "      <td>01</td>\n",
       "      <td>00301</td>\n",
       "      <td>001</td>\n",
       "      <td>00290</td>\n",
       "    </tr>\n",
       "    <tr>\n",
       "      <th>3</th>\n",
       "      <td>01</td>\n",
       "      <td>00302</td>\n",
       "      <td>001</td>\n",
       "      <td>00290</td>\n",
       "    </tr>\n",
       "    <tr>\n",
       "      <th>4</th>\n",
       "      <td>01</td>\n",
       "      <td>00400</td>\n",
       "      <td>001</td>\n",
       "      <td>00400</td>\n",
       "    </tr>\n",
       "    <tr>\n",
       "      <th>...</th>\n",
       "      <td>...</td>\n",
       "      <td>...</td>\n",
       "      <td>...</td>\n",
       "      <td>...</td>\n",
       "    </tr>\n",
       "    <tr>\n",
       "      <th>2412</th>\n",
       "      <td>Records affected are listed at the bottom of t...</td>\n",
       "      <td>NaN</td>\n",
       "      <td>NaN</td>\n",
       "      <td>NaN</td>\n",
       "    </tr>\n",
       "    <tr>\n",
       "      <th>2413</th>\n",
       "      <td>MIGPUMA and POWPUMA code lists.</td>\n",
       "      <td>NaN</td>\n",
       "      <td>NaN</td>\n",
       "      <td>NaN</td>\n",
       "    </tr>\n",
       "    <tr>\n",
       "      <th>2414</th>\n",
       "      <td>NaN</td>\n",
       "      <td>NaN</td>\n",
       "      <td>NaN</td>\n",
       "      <td>NaN</td>\n",
       "    </tr>\n",
       "    <tr>\n",
       "      <th>2415</th>\n",
       "      <td>The other 2015 POWPUMA, MIGPUMA, and PUMA code...</td>\n",
       "      <td>NaN</td>\n",
       "      <td>NaN</td>\n",
       "      <td>NaN</td>\n",
       "    </tr>\n",
       "    <tr>\n",
       "      <th>2416</th>\n",
       "      <td>the 2012, 2013, and 2014 codes.</td>\n",
       "      <td>NaN</td>\n",
       "      <td>NaN</td>\n",
       "      <td>NaN</td>\n",
       "    </tr>\n",
       "  </tbody>\n",
       "</table>\n",
       "<p>2417 rows × 4 columns</p>\n",
       "</div>"
      ],
      "text/plain": [
       "                                State of Residence (ST)   PUMA  \\\n",
       "0                                                    01  00100   \n",
       "1                                                    01  00200   \n",
       "2                                                    01  00301   \n",
       "3                                                    01  00302   \n",
       "4                                                    01  00400   \n",
       "...                                                 ...    ...   \n",
       "2412  Records affected are listed at the bottom of t...    NaN   \n",
       "2413                    MIGPUMA and POWPUMA code lists.    NaN   \n",
       "2414                                                NaN    NaN   \n",
       "2415  The other 2015 POWPUMA, MIGPUMA, and PUMA code...    NaN   \n",
       "2416                    the 2012, 2013, and 2014 codes.    NaN   \n",
       "\n",
       "     Place of Work State (POWSP) or Migration State (MIGSP)  \\\n",
       "0                                                   001       \n",
       "1                                                   001       \n",
       "2                                                   001       \n",
       "3                                                   001       \n",
       "4                                                   001       \n",
       "...                                                 ...       \n",
       "2412                                                NaN       \n",
       "2413                                                NaN       \n",
       "2414                                                NaN       \n",
       "2415                                                NaN       \n",
       "2416                                                NaN       \n",
       "\n",
       "     POWPUMA or MIGPUMA*  \n",
       "0                  00190  \n",
       "1                  00290  \n",
       "2                  00290  \n",
       "3                  00290  \n",
       "4                  00400  \n",
       "...                  ...  \n",
       "2412                 NaN  \n",
       "2413                 NaN  \n",
       "2414                 NaN  \n",
       "2415                 NaN  \n",
       "2416                 NaN  \n",
       "\n",
       "[2417 rows x 4 columns]"
      ]
     },
     "execution_count": 12,
     "metadata": {},
     "output_type": "execute_result"
    }
   ],
   "source": [
    "mapping_migpumas = pd.read_excel(\n",
    "    '/Users/aolsen/Dropbox/My Mac (AOLSEN-MBP.local)/Downloads/ACSPUMS2021CodeLists.xls', 'PUMA_POWPUMA_MIGPUMA', skiprows=3, dtype=str)\n",
    "mapping_migpumas"
   ]
  },
  {
   "cell_type": "code",
   "execution_count": 13,
   "id": "17174352",
   "metadata": {},
   "outputs": [
    {
     "data": {
      "text/html": [
       "<div>\n",
       "<style scoped>\n",
       "    .dataframe tbody tr th:only-of-type {\n",
       "        vertical-align: middle;\n",
       "    }\n",
       "\n",
       "    .dataframe tbody tr th {\n",
       "        vertical-align: top;\n",
       "    }\n",
       "\n",
       "    .dataframe thead th {\n",
       "        text-align: right;\n",
       "    }\n",
       "</style>\n",
       "<table border=\"1\" class=\"dataframe\">\n",
       "  <thead>\n",
       "    <tr style=\"text-align: right;\">\n",
       "      <th></th>\n",
       "      <th>FIPS State Code</th>\n",
       "      <th>FIPS County Code</th>\n",
       "      <th>Area Name</th>\n",
       "      <th>MIGSP Migration (3-digit) and POWSP (3-digit) State Code</th>\n",
       "      <th>MIGPUMA\\nPOWPUMA</th>\n",
       "    </tr>\n",
       "  </thead>\n",
       "  <tbody>\n",
       "    <tr>\n",
       "      <th>0</th>\n",
       "      <td>01</td>\n",
       "      <td>001</td>\n",
       "      <td>Autauga County</td>\n",
       "      <td>001</td>\n",
       "      <td>02090</td>\n",
       "    </tr>\n",
       "    <tr>\n",
       "      <th>1</th>\n",
       "      <td>01</td>\n",
       "      <td>003</td>\n",
       "      <td>Baldwin County</td>\n",
       "      <td>001</td>\n",
       "      <td>02600</td>\n",
       "    </tr>\n",
       "    <tr>\n",
       "      <th>2</th>\n",
       "      <td>01</td>\n",
       "      <td>005</td>\n",
       "      <td>Barbour County</td>\n",
       "      <td>001</td>\n",
       "      <td>02400</td>\n",
       "    </tr>\n",
       "    <tr>\n",
       "      <th>3</th>\n",
       "      <td>01</td>\n",
       "      <td>007</td>\n",
       "      <td>Bibb County</td>\n",
       "      <td>001</td>\n",
       "      <td>01700</td>\n",
       "    </tr>\n",
       "    <tr>\n",
       "      <th>4</th>\n",
       "      <td>01</td>\n",
       "      <td>009</td>\n",
       "      <td>Blount County</td>\n",
       "      <td>001</td>\n",
       "      <td>00800</td>\n",
       "    </tr>\n",
       "    <tr>\n",
       "      <th>...</th>\n",
       "      <td>...</td>\n",
       "      <td>...</td>\n",
       "      <td>...</td>\n",
       "      <td>...</td>\n",
       "      <td>...</td>\n",
       "    </tr>\n",
       "    <tr>\n",
       "      <th>3235</th>\n",
       "      <td>in South Carolina were assigned duplicate code...</td>\n",
       "      <td>NaN</td>\n",
       "      <td>NaN</td>\n",
       "      <td>NaN</td>\n",
       "      <td>NaN</td>\n",
       "    </tr>\n",
       "    <tr>\n",
       "      <th>3236</th>\n",
       "      <td>has a MIGPUMA code of 00606.</td>\n",
       "      <td>NaN</td>\n",
       "      <td>NaN</td>\n",
       "      <td>NaN</td>\n",
       "      <td>NaN</td>\n",
       "    </tr>\n",
       "    <tr>\n",
       "      <th>3237</th>\n",
       "      <td>The serial number (SERIALNO) and person number...</td>\n",
       "      <td>NaN</td>\n",
       "      <td>NaN</td>\n",
       "      <td>NaN</td>\n",
       "      <td>NaN</td>\n",
       "    </tr>\n",
       "    <tr>\n",
       "      <th>3238</th>\n",
       "      <td>the MIGPUMA is the Charlottesville area; or Le...</td>\n",
       "      <td>NaN</td>\n",
       "      <td>NaN</td>\n",
       "      <td>NaN</td>\n",
       "      <td>NaN</td>\n",
       "    </tr>\n",
       "    <tr>\n",
       "      <th>3239</th>\n",
       "      <td>and 2014 MIGPUMA code lists.</td>\n",
       "      <td>NaN</td>\n",
       "      <td>NaN</td>\n",
       "      <td>NaN</td>\n",
       "      <td>NaN</td>\n",
       "    </tr>\n",
       "  </tbody>\n",
       "</table>\n",
       "<p>3240 rows × 5 columns</p>\n",
       "</div>"
      ],
      "text/plain": [
       "                                        FIPS State Code FIPS County Code  \\\n",
       "0                                                    01              001   \n",
       "1                                                    01              003   \n",
       "2                                                    01              005   \n",
       "3                                                    01              007   \n",
       "4                                                    01              009   \n",
       "...                                                 ...              ...   \n",
       "3235  in South Carolina were assigned duplicate code...              NaN   \n",
       "3236                       has a MIGPUMA code of 00606.              NaN   \n",
       "3237  The serial number (SERIALNO) and person number...              NaN   \n",
       "3238  the MIGPUMA is the Charlottesville area; or Le...              NaN   \n",
       "3239                       and 2014 MIGPUMA code lists.              NaN   \n",
       "\n",
       "           Area Name MIGSP Migration (3-digit) and POWSP (3-digit) State Code  \\\n",
       "0     Autauga County                                                001         \n",
       "1     Baldwin County                                                001         \n",
       "2     Barbour County                                                001         \n",
       "3        Bibb County                                                001         \n",
       "4      Blount County                                                001         \n",
       "...              ...                                                ...         \n",
       "3235             NaN                                                NaN         \n",
       "3236             NaN                                                NaN         \n",
       "3237             NaN                                                NaN         \n",
       "3238             NaN                                                NaN         \n",
       "3239             NaN                                                NaN         \n",
       "\n",
       "     MIGPUMA\\nPOWPUMA  \n",
       "0               02090  \n",
       "1               02600  \n",
       "2               02400  \n",
       "3               01700  \n",
       "4               00800  \n",
       "...               ...  \n",
       "3235              NaN  \n",
       "3236              NaN  \n",
       "3237              NaN  \n",
       "3238              NaN  \n",
       "3239              NaN  \n",
       "\n",
       "[3240 rows x 5 columns]"
      ]
     },
     "execution_count": 13,
     "metadata": {},
     "output_type": "execute_result"
    }
   ],
   "source": [
    "mapping_migpumas = pd.read_excel(\n",
    "    '/Users/aolsen/Dropbox/My Mac (AOLSEN-MBP.local)/Downloads/ACSPUMS2021CodeLists.xls', 'MIGPUMA-POWPUMA 2021 Lookup', skiprows=3, dtype=str)\n",
    "mapping_migpumas"
   ]
  },
  {
   "cell_type": "code",
   "execution_count": 14,
   "id": "15765bc2",
   "metadata": {},
   "outputs": [
    {
     "name": "stderr",
     "output_type": "stream",
     "text": [
      "/var/folders/x8/3_n775lx7zq1nv3mddc7vmlh0000gp/T/ipykernel_23616/1036610331.py:8: FutureWarning: The default value of regex will change from True to False in a future version.\n",
      "  mapping_migpumas.MIGSTPUMA = mapping_migpumas.MIGSTPUMA.str.replace('\\*', '')\n",
      "/var/folders/x8/3_n775lx7zq1nv3mddc7vmlh0000gp/T/ipykernel_23616/1036610331.py:8: SettingWithCopyWarning: \n",
      "A value is trying to be set on a copy of a slice from a DataFrame.\n",
      "Try using .loc[row_indexer,col_indexer] = value instead\n",
      "\n",
      "See the caveats in the documentation: https://pandas.pydata.org/pandas-docs/stable/user_guide/indexing.html#returning-a-view-versus-a-copy\n",
      "  mapping_migpumas.MIGSTPUMA = mapping_migpumas.MIGSTPUMA.str.replace('\\*', '')\n"
     ]
    },
    {
     "data": {
      "text/plain": [
       "STCOUNTY\n",
       "01001    00102090\n",
       "01003    00102600\n",
       "01005    00102400\n",
       "01007    00101700\n",
       "01009    00100800\n",
       "           ...   \n",
       "72145    07200501\n",
       "72147    07201101\n",
       "72149    07200403\n",
       "72151    07201102\n",
       "72153    07200401\n",
       "Name: MIGSTPUMA, Length: 3220, dtype: object"
      ]
     },
     "execution_count": 14,
     "metadata": {},
     "output_type": "execute_result"
    }
   ],
   "source": [
    "mapping_migpumas['STCOUNTY'] = mapping_migpumas['FIPS State Code'] + \\\n",
    "    mapping_migpumas['FIPS County Code']\n",
    "\n",
    "mapping_migpumas['MIGSTPUMA'] = mapping_migpumas['MIGSP Migration (3-digit) and POWSP (3-digit) State Code'] + \\\n",
    "    mapping_migpumas['MIGPUMA\\nPOWPUMA']\n",
    "\n",
    "mapping_migpumas = mapping_migpumas[mapping_migpumas['STCOUNTY'].notna()]\n",
    "mapping_migpumas.MIGSTPUMA = mapping_migpumas.MIGSTPUMA.str.replace('\\*', '')\n",
    "\n",
    "mapping_migpuma_to_countyname = mapping_migpumas.set_index('MIGSTPUMA')[\n",
    "    'Area Name']\n",
    "mapping_migpuma_to_countyfips = mapping_migpumas.set_index('MIGSTPUMA')[\n",
    "    'STCOUNTY']\n",
    "\n",
    "mapping_cnty_to_migpuma = mapping_migpumas.set_index(['STCOUNTY'])['MIGSTPUMA']\n",
    "mapping_cnty_to_migpuma"
   ]
  },
  {
   "cell_type": "markdown",
   "id": "42a14615",
   "metadata": {},
   "source": [
    "#### Building blocks: County-layer"
   ]
  },
  {
   "cell_type": "code",
   "execution_count": 15,
   "id": "1f4f4999",
   "metadata": {},
   "outputs": [],
   "source": [
    "us_counties = gpd.read_file('/Users/aolsen/Dropbox/Documents/Data/GIS/Census/tiger/cb_2015_us_county_500k.shp').to_crs('EPSG:5070')\n",
    "#us_counties = us_counties[us_counties.geometry.representative_point().x<-40]\n",
    "#us_counties=us_counties[us_counties.STATEFP.astype(int)<57]\n",
    "#us_counties=us_counties.loc[~us_counties.STATEFP.astype(int).isin([2,15])]\n",
    "us_counties['CBSA']=us_counties.GEOID.map(msa_delineation.set_index('GEOID')['CBSA Title'])\n",
    "us_counties['CSA']=us_counties.GEOID.map(csa_delineation.set_index('GEOID')['CSA Title'])\n",
    "us_counties['MDIV']=us_counties.GEOID.map(metdiv_delineation.set_index('GEOID')['Metropolitan Division Title'])\n",
    "us_counties['area'] = us_counties.area\n",
    "us_counties['MIGSTPUMA'] = us_counties.GEOID.map(mapping_cnty_to_migpuma)\n",
    "us_counties['POWSTPUMA'] = us_counties.GEOID.map(mapping_cnty_to_migpuma)\n",
    "\n",
    "us_migstpumas = us_counties.dissolve('MIGSTPUMA',as_index=False)\n",
    "us_counties['STUSAB']=us_counties['STATEFP'].map(state_abbrev.set_index('STATE').STUSAB)\n",
    "us_counties['pop20'] = us_counties.GEOID.map(acs_df.set_index('STCOUNTY').P1_001N)\n",
    "us_counties['county_name'] = us_counties.apply(lambda x: f'{x.NAME} County ({x.STUSAB})',axis=1)\n",
    "\n",
    "us_counties['CSA'] = us_counties['CSA'].fillna('Not in a Combined Statistical Area')\n",
    "us_counties['CBSA'] = us_counties['CBSA'].fillna('Not in a Metropolitan / Micro Statistical Area')"
   ]
  },
  {
   "cell_type": "markdown",
   "id": "ff1dfff3",
   "metadata": {},
   "source": [
    "#### MIGPUMA to CSA\n",
    "\n",
    "For each MIGSTPUMA, which CSA has the largest share of its population?"
   ]
  },
  {
   "cell_type": "code",
   "execution_count": 16,
   "id": "9cc58555",
   "metadata": {},
   "outputs": [],
   "source": [
    "csa_share_of_migstpuma_pct = (us_counties.groupby(['MIGSTPUMA','CSA'])\n",
    " .pop20.sum().groupby(level=['MIGSTPUMA'],group_keys=False)\n",
    " .apply(pct))\n",
    "map_migstpuma_to_csa = csa_share_of_migstpuma_pct.groupby('MIGSTPUMA',group_keys=False).nlargest(1).reset_index(1).CSA"
   ]
  },
  {
   "cell_type": "markdown",
   "id": "a9b2f48e",
   "metadata": {},
   "source": [
    "#### MIGPUMA to County\n",
    "\n",
    "For each MIGSTPUMA, which county has the largest share of its population?"
   ]
  },
  {
   "cell_type": "code",
   "execution_count": 17,
   "id": "b504c6b3",
   "metadata": {},
   "outputs": [],
   "source": [
    "county_share_of_migstpuma_pct = (us_counties.groupby(['MIGSTPUMA','GEOID'])\n",
    " .pop20.sum().groupby(level=['MIGSTPUMA'],group_keys=False)\n",
    " .apply(pct))\n",
    "\n",
    "map_migstpuma_to_countyfips = county_share_of_migstpuma_pct.groupby('MIGSTPUMA',group_keys=False).nlargest(1).reset_index(1).GEOID\n",
    "map_migstpuma_to_countyname = map_migstpuma_to_countyfips.map(us_counties.set_index('GEOID').county_name)"
   ]
  },
  {
   "cell_type": "code",
   "execution_count": 18,
   "id": "76a9a624",
   "metadata": {},
   "outputs": [],
   "source": [
    "# Add these entries to mapping dict so they don't get mapped to fillna - which I use for non-movers\n",
    "\n",
    "map_migstpuma_to_countyname['Abroad00001']= 'Lived Abroad'\n",
    "map_migstpuma_to_countyfips['Abroad00001']= 'Lived Abroad'\n",
    "\n",
    "map_migstpuma_to_countyname['07200002']= 'Puerto Rico'\n",
    "map_migstpuma_to_countyfips['07200002']= 'Puerto Rico'"
   ]
  },
  {
   "cell_type": "markdown",
   "id": "f31066b5",
   "metadata": {},
   "source": [
    "### PUMA-based maps"
   ]
  },
  {
   "cell_type": "code",
   "execution_count": 19,
   "id": "e383f077",
   "metadata": {},
   "outputs": [
    {
     "name": "stdout",
     "output_type": "stream",
     "text": [
      "CPU times: user 51.1 s, sys: 313 ms, total: 51.5 s\n",
      "Wall time: 51.5 s\n"
     ]
    },
    {
     "name": "stderr",
     "output_type": "stream",
     "text": [
      "<timed exec>:1: UserWarning: `keep_geom_type=True` in overlay resulted in 367522 dropped geometries of different geometry types than df1 has. Set `keep_geom_type=False` to retain all geometries\n"
     ]
    },
    {
     "data": {
      "text/html": [
       "<div>\n",
       "<style scoped>\n",
       "    .dataframe tbody tr th:only-of-type {\n",
       "        vertical-align: middle;\n",
       "    }\n",
       "\n",
       "    .dataframe tbody tr th {\n",
       "        vertical-align: top;\n",
       "    }\n",
       "\n",
       "    .dataframe thead th {\n",
       "        text-align: right;\n",
       "    }\n",
       "</style>\n",
       "<table border=\"1\" class=\"dataframe\">\n",
       "  <thead>\n",
       "    <tr style=\"text-align: right;\">\n",
       "      <th></th>\n",
       "      <th>STATEFP10</th>\n",
       "      <th>PUMACE10</th>\n",
       "      <th>GEOID10</th>\n",
       "      <th>NAMELSAD10</th>\n",
       "      <th>MTFCC10</th>\n",
       "      <th>FUNCSTAT10</th>\n",
       "      <th>ALAND10</th>\n",
       "      <th>AWATER10</th>\n",
       "      <th>INTPTLAT10</th>\n",
       "      <th>INTPTLON10</th>\n",
       "      <th>...</th>\n",
       "      <th>CBSA</th>\n",
       "      <th>CSA</th>\n",
       "      <th>MDIV</th>\n",
       "      <th>area</th>\n",
       "      <th>MIGSTPUMA</th>\n",
       "      <th>POWSTPUMA</th>\n",
       "      <th>STUSAB</th>\n",
       "      <th>pop20</th>\n",
       "      <th>county_name</th>\n",
       "      <th>geometry</th>\n",
       "    </tr>\n",
       "  </thead>\n",
       "  <tbody>\n",
       "    <tr>\n",
       "      <th>0</th>\n",
       "      <td>01</td>\n",
       "      <td>02200</td>\n",
       "      <td>0102200</td>\n",
       "      <td>Southwest Alabama PUMA</td>\n",
       "      <td>G6120</td>\n",
       "      <td>S</td>\n",
       "      <td>17978653694</td>\n",
       "      <td>176363994</td>\n",
       "      <td>+31.6002249</td>\n",
       "      <td>-087.6129034</td>\n",
       "      <td>...</td>\n",
       "      <td>Not in a Metropolitan / Micro Statistical Area</td>\n",
       "      <td>Not in a Combined Statistical Area</td>\n",
       "      <td>NaN</td>\n",
       "      <td>2.384255e+09</td>\n",
       "      <td>00102200</td>\n",
       "      <td>00102200</td>\n",
       "      <td>AL</td>\n",
       "      <td>12665.0</td>\n",
       "      <td>Choctaw County (AL)</td>\n",
       "      <td>POLYGON ((710307.655 989023.606, 710300.599 98...</td>\n",
       "    </tr>\n",
       "    <tr>\n",
       "      <th>1</th>\n",
       "      <td>01</td>\n",
       "      <td>01700</td>\n",
       "      <td>0101700</td>\n",
       "      <td>Dallas, Bibb, Marengo, Hale, Sumter, Perry &amp; G...</td>\n",
       "      <td>G6120</td>\n",
       "      <td>S</td>\n",
       "      <td>14226179732</td>\n",
       "      <td>164539153</td>\n",
       "      <td>+32.5894569</td>\n",
       "      <td>-087.5966439</td>\n",
       "      <td>...</td>\n",
       "      <td>Not in a Metropolitan / Micro Statistical Area</td>\n",
       "      <td>Not in a Combined Statistical Area</td>\n",
       "      <td>NaN</td>\n",
       "      <td>9.508976e+05</td>\n",
       "      <td>00102200</td>\n",
       "      <td>00102200</td>\n",
       "      <td>AL</td>\n",
       "      <td>12665.0</td>\n",
       "      <td>Choctaw County (AL)</td>\n",
       "      <td>MULTIPOLYGON (((744655.586 1021760.739, 744533...</td>\n",
       "    </tr>\n",
       "  </tbody>\n",
       "</table>\n",
       "<p>2 rows × 29 columns</p>\n",
       "</div>"
      ],
      "text/plain": [
       "  STATEFP10 PUMACE10  GEOID10  \\\n",
       "0        01    02200  0102200   \n",
       "1        01    01700  0101700   \n",
       "\n",
       "                                          NAMELSAD10 MTFCC10 FUNCSTAT10  \\\n",
       "0                             Southwest Alabama PUMA   G6120          S   \n",
       "1  Dallas, Bibb, Marengo, Hale, Sumter, Perry & G...   G6120          S   \n",
       "\n",
       "       ALAND10   AWATER10   INTPTLAT10    INTPTLON10  ...  \\\n",
       "0  17978653694  176363994  +31.6002249  -087.6129034  ...   \n",
       "1  14226179732  164539153  +32.5894569  -087.5966439  ...   \n",
       "\n",
       "                                             CBSA  \\\n",
       "0  Not in a Metropolitan / Micro Statistical Area   \n",
       "1  Not in a Metropolitan / Micro Statistical Area   \n",
       "\n",
       "                                  CSA MDIV          area MIGSTPUMA POWSTPUMA  \\\n",
       "0  Not in a Combined Statistical Area  NaN  2.384255e+09  00102200  00102200   \n",
       "1  Not in a Combined Statistical Area  NaN  9.508976e+05  00102200  00102200   \n",
       "\n",
       "  STUSAB    pop20          county_name  \\\n",
       "0     AL  12665.0  Choctaw County (AL)   \n",
       "1     AL  12665.0  Choctaw County (AL)   \n",
       "\n",
       "                                            geometry  \n",
       "0  POLYGON ((710307.655 989023.606, 710300.599 98...  \n",
       "1  MULTIPOLYGON (((744655.586 1021760.739, 744533...  \n",
       "\n",
       "[2 rows x 29 columns]"
      ]
     },
     "execution_count": 19,
     "metadata": {},
     "output_type": "execute_result"
    }
   ],
   "source": [
    "%%time\n",
    "puma_i_county = gpd.overlay(us_pumas,us_counties)\n",
    "puma_i_county['area'] = puma_i_county.area\n",
    "puma_i_county.head(2)"
   ]
  },
  {
   "cell_type": "markdown",
   "id": "ef08d1df",
   "metadata": {},
   "source": [
    "#### PUMA to county\n",
    "Spatial assignment based on area"
   ]
  },
  {
   "cell_type": "code",
   "execution_count": 20,
   "id": "5a787fd2",
   "metadata": {},
   "outputs": [
    {
     "data": {
      "text/plain": [
       "'06075'"
      ]
     },
     "execution_count": 20,
     "metadata": {},
     "output_type": "execute_result"
    }
   ],
   "source": [
    "# puma to county\n",
    "map_puma_to_county = (puma_i_county.groupby(['GEOID10','county_name']).\n",
    "                 area.sum().groupby(level=['GEOID10'],group_keys=False)\n",
    " .apply(pct).groupby(level=['GEOID10'],group_keys=False)).nlargest(1).sort_values().reset_index(1).county_name\n",
    "map_puma_to_county.loc['0607501']\n",
    "\n",
    "map_puma_to_countyfips = (puma_i_county.groupby(['GEOID10','GEOID']).\n",
    "                 area.sum().groupby(level=['GEOID10'],group_keys=False)\n",
    " .apply(pct).groupby(level=['GEOID10'],group_keys=False)).nlargest(1).sort_values().reset_index(1).GEOID\n",
    "map_puma_to_countyfips.loc['0607501']"
   ]
  },
  {
   "cell_type": "markdown",
   "id": "dd18a6de",
   "metadata": {},
   "source": [
    "#### PUMA to CSA"
   ]
  },
  {
   "cell_type": "code",
   "execution_count": 21,
   "id": "6769d1c8",
   "metadata": {},
   "outputs": [
    {
     "data": {
      "text/plain": [
       "'San Jose-San Francisco-Oakland, CA'"
      ]
     },
     "execution_count": 21,
     "metadata": {},
     "output_type": "execute_result"
    }
   ],
   "source": [
    "map_puma_to_csa = (puma_i_county.groupby(['GEOID10','CSA']).\n",
    "                 area.sum().groupby(level=['GEOID10'],group_keys=False)\n",
    " .apply(pct).groupby(level=['GEOID10'],group_keys=False)).nlargest(1).sort_values().reset_index(1).CSA\n",
    "map_puma_to_csa.loc['0600101']"
   ]
  },
  {
   "cell_type": "code",
   "execution_count": 22,
   "id": "7d15ff1e",
   "metadata": {},
   "outputs": [],
   "source": [
    "# # map_puma_to_migstpuma = (puma_i_migstpuma.groupby(['GEOID10','NAME']).\n",
    "# #                  area.sum().groupby(level=['GEOID10'],group_keys=False)\n",
    "# #  .apply(pct).groupby(level=['GEOID10'],group_keys=False)).nlargest(1).sort_values().reset_index(1).NAME\n",
    "# # map_puma_to_migstpuma.loc['0607501']\n",
    "\n",
    "# map_puma_to_migstpumafips = (puma_i_migstpuma.groupby(['GEOID10','MIGSTPUMA']).\n",
    "#                  area.sum().groupby(level=['GEOID10'],group_keys=False)\n",
    "#  .apply(pct).groupby(level=['GEOID10'],group_keys=False)).nlargest(1).sort_values().reset_index(1).MIGSTPUMA\n",
    "# map_puma_to_migstpumafips"
   ]
  },
  {
   "cell_type": "markdown",
   "id": "b33963d9",
   "metadata": {},
   "source": [
    "### Category mappings"
   ]
  },
  {
   "cell_type": "code",
   "execution_count": 23,
   "id": "9ba08006",
   "metadata": {},
   "outputs": [],
   "source": [
    "map_mig = {1: 'Lived in same house',\n",
    "           2: 'Lived outside U.S. and Puerto Rico',\n",
    "           3: 'Lived in different house in U.S. or Puerto Rico'}"
   ]
  },
  {
   "cell_type": "code",
   "execution_count": 24,
   "id": "ae336f34",
   "metadata": {},
   "outputs": [],
   "source": [
    "race_map = {1: 'White',\n",
    "            2: 'Black',\n",
    "            3: 'Other',\n",
    "            4: 'Other',\n",
    "            5: 'Other',\n",
    "            6: 'Asian',\n",
    "            7: 'Other',\n",
    "            8: 'Other',\n",
    "            9: 'Other'}"
   ]
  },
  {
   "cell_type": "code",
   "execution_count": 25,
   "id": "4d1ec0ba",
   "metadata": {},
   "outputs": [],
   "source": [
    "def race_eth(df):\n",
    "    if df.name > 1:\n",
    "        return 'Hispanic'\n",
    "    else:\n",
    "        return df+' (Non-Hispanic)'"
   ]
  },
  {
   "cell_type": "markdown",
   "id": "0c494283",
   "metadata": {},
   "source": [
    "### Load data"
   ]
  },
  {
   "cell_type": "code",
   "execution_count": 26,
   "id": "75c7c952",
   "metadata": {},
   "outputs": [],
   "source": [
    "hus = pd.read_csv('/Users/aolsen/Dropbox/My Mac (AOLSEN-MBP.local)/Downloads/csv_hus/psam_husa.csv')\n",
    "\n",
    "pus = pd.read_csv('/Users/aolsen/Dropbox/My Mac (AOLSEN-MBP.local)/Downloads/csv_pus/psam_pusa.csv')"
   ]
  },
  {
   "cell_type": "code",
   "execution_count": 27,
   "id": "80d09798",
   "metadata": {},
   "outputs": [],
   "source": [
    "p1_path = '/Users/aolsen/Dropbox/My Mac (AOLSEN-MBP.local)/Downloads/csv_pus/psam_pusa.csv'"
   ]
  },
  {
   "cell_type": "code",
   "execution_count": 28,
   "id": "b1df6c6b",
   "metadata": {},
   "outputs": [],
   "source": [
    "KEEP_COLS = ['RT','SERIALNO','SPORDER','PUMA','ST','ADJINC','PWGTP','AGEP','COW','JWTRNS','MIG','SCHL','SEX','WAGP','PINCP','WKL','RAC1P','HISP','MIGPUMA','POWPUMA','MIGSP','POWSP']"
   ]
  },
  {
   "cell_type": "code",
   "execution_count": 29,
   "id": "5f7794bb",
   "metadata": {},
   "outputs": [
    {
     "name": "stdout",
     "output_type": "stream",
     "text": [
      "CPU times: user 8.4 s, sys: 373 ms, total: 8.77 s\n",
      "Wall time: 8.77 s\n"
     ]
    }
   ],
   "source": [
    "%%time\n",
    "p1_data = pd.read_csv(p1_path,usecols=KEEP_COLS)"
   ]
  },
  {
   "cell_type": "code",
   "execution_count": 30,
   "id": "c7568240",
   "metadata": {},
   "outputs": [],
   "source": [
    "pers_data = pd.concat([p1_data])"
   ]
  },
  {
   "cell_type": "code",
   "execution_count": 31,
   "id": "344d3382",
   "metadata": {},
   "outputs": [],
   "source": [
    "del p1_data"
   ]
  },
  {
   "cell_type": "markdown",
   "id": "6390a9e0",
   "metadata": {},
   "source": [
    "### Assignments\n",
    "#### Geographic"
   ]
  },
  {
   "cell_type": "code",
   "execution_count": 32,
   "id": "f98a07d1",
   "metadata": {},
   "outputs": [],
   "source": [
    "pers_data['STPUMA'] = pers_data.ST.apply(\n",
    "    lambda x: f'{x:02d}') + pers_data.PUMA.apply(lambda x: f'{x:05d}')"
   ]
  },
  {
   "cell_type": "code",
   "execution_count": 33,
   "id": "a816112b",
   "metadata": {},
   "outputs": [
    {
     "data": {
      "text/html": [
       "<div>\n",
       "<style scoped>\n",
       "    .dataframe tbody tr th:only-of-type {\n",
       "        vertical-align: middle;\n",
       "    }\n",
       "\n",
       "    .dataframe tbody tr th {\n",
       "        vertical-align: top;\n",
       "    }\n",
       "\n",
       "    .dataframe thead th {\n",
       "        text-align: right;\n",
       "    }\n",
       "</style>\n",
       "<table border=\"1\" class=\"dataframe\">\n",
       "  <thead>\n",
       "    <tr style=\"text-align: right;\">\n",
       "      <th></th>\n",
       "      <th>RT</th>\n",
       "      <th>SERIALNO</th>\n",
       "      <th>SPORDER</th>\n",
       "      <th>PUMA</th>\n",
       "      <th>ST</th>\n",
       "      <th>ADJINC</th>\n",
       "      <th>PWGTP</th>\n",
       "      <th>AGEP</th>\n",
       "      <th>COW</th>\n",
       "      <th>JWTRNS</th>\n",
       "      <th>...</th>\n",
       "      <th>MIGPUMA</th>\n",
       "      <th>MIGSP</th>\n",
       "      <th>PINCP</th>\n",
       "      <th>POWPUMA</th>\n",
       "      <th>POWSP</th>\n",
       "      <th>RAC1P</th>\n",
       "      <th>STPUMA</th>\n",
       "      <th>county_dest</th>\n",
       "      <th>stcounty_dest</th>\n",
       "      <th>stcounty_dest_bayarea</th>\n",
       "    </tr>\n",
       "  </thead>\n",
       "  <tbody>\n",
       "    <tr>\n",
       "      <th>159136</th>\n",
       "      <td>P</td>\n",
       "      <td>2021GQ0000021</td>\n",
       "      <td>1</td>\n",
       "      <td>5500</td>\n",
       "      <td>6</td>\n",
       "      <td>1029928</td>\n",
       "      <td>19</td>\n",
       "      <td>61</td>\n",
       "      <td>5.0</td>\n",
       "      <td>NaN</td>\n",
       "      <td>...</td>\n",
       "      <td>5500.0</td>\n",
       "      <td>6.0</td>\n",
       "      <td>14000.0</td>\n",
       "      <td>NaN</td>\n",
       "      <td>NaN</td>\n",
       "      <td>1</td>\n",
       "      <td>0605500</td>\n",
       "      <td>Napa County (CA)</td>\n",
       "      <td>06055</td>\n",
       "      <td>True</td>\n",
       "    </tr>\n",
       "    <tr>\n",
       "      <th>159150</th>\n",
       "      <td>P</td>\n",
       "      <td>2021GQ0000140</td>\n",
       "      <td>1</td>\n",
       "      <td>9503</td>\n",
       "      <td>6</td>\n",
       "      <td>1029928</td>\n",
       "      <td>28</td>\n",
       "      <td>51</td>\n",
       "      <td>4.0</td>\n",
       "      <td>NaN</td>\n",
       "      <td>...</td>\n",
       "      <td>NaN</td>\n",
       "      <td>NaN</td>\n",
       "      <td>5800.0</td>\n",
       "      <td>NaN</td>\n",
       "      <td>NaN</td>\n",
       "      <td>9</td>\n",
       "      <td>0609503</td>\n",
       "      <td>Solano County (CA)</td>\n",
       "      <td>06095</td>\n",
       "      <td>True</td>\n",
       "    </tr>\n",
       "    <tr>\n",
       "      <th>159152</th>\n",
       "      <td>P</td>\n",
       "      <td>2021GQ0000154</td>\n",
       "      <td>1</td>\n",
       "      <td>107</td>\n",
       "      <td>6</td>\n",
       "      <td>1029928</td>\n",
       "      <td>6</td>\n",
       "      <td>22</td>\n",
       "      <td>NaN</td>\n",
       "      <td>NaN</td>\n",
       "      <td>...</td>\n",
       "      <td>NaN</td>\n",
       "      <td>NaN</td>\n",
       "      <td>-2400.0</td>\n",
       "      <td>NaN</td>\n",
       "      <td>NaN</td>\n",
       "      <td>6</td>\n",
       "      <td>0600107</td>\n",
       "      <td>Alameda County (CA)</td>\n",
       "      <td>06001</td>\n",
       "      <td>True</td>\n",
       "    </tr>\n",
       "    <tr>\n",
       "      <th>159157</th>\n",
       "      <td>P</td>\n",
       "      <td>2021GQ0000216</td>\n",
       "      <td>1</td>\n",
       "      <td>7501</td>\n",
       "      <td>6</td>\n",
       "      <td>1029928</td>\n",
       "      <td>13</td>\n",
       "      <td>54</td>\n",
       "      <td>NaN</td>\n",
       "      <td>NaN</td>\n",
       "      <td>...</td>\n",
       "      <td>NaN</td>\n",
       "      <td>NaN</td>\n",
       "      <td>0.0</td>\n",
       "      <td>NaN</td>\n",
       "      <td>NaN</td>\n",
       "      <td>1</td>\n",
       "      <td>0607501</td>\n",
       "      <td>San Francisco County (CA)</td>\n",
       "      <td>06075</td>\n",
       "      <td>True</td>\n",
       "    </tr>\n",
       "    <tr>\n",
       "      <th>159166</th>\n",
       "      <td>P</td>\n",
       "      <td>2021GQ0000289</td>\n",
       "      <td>1</td>\n",
       "      <td>1303</td>\n",
       "      <td>6</td>\n",
       "      <td>1029928</td>\n",
       "      <td>35</td>\n",
       "      <td>67</td>\n",
       "      <td>NaN</td>\n",
       "      <td>NaN</td>\n",
       "      <td>...</td>\n",
       "      <td>NaN</td>\n",
       "      <td>NaN</td>\n",
       "      <td>20400.0</td>\n",
       "      <td>NaN</td>\n",
       "      <td>NaN</td>\n",
       "      <td>2</td>\n",
       "      <td>0601303</td>\n",
       "      <td>Contra Costa County (CA)</td>\n",
       "      <td>06013</td>\n",
       "      <td>True</td>\n",
       "    </tr>\n",
       "    <tr>\n",
       "      <th>...</th>\n",
       "      <td>...</td>\n",
       "      <td>...</td>\n",
       "      <td>...</td>\n",
       "      <td>...</td>\n",
       "      <td>...</td>\n",
       "      <td>...</td>\n",
       "      <td>...</td>\n",
       "      <td>...</td>\n",
       "      <td>...</td>\n",
       "      <td>...</td>\n",
       "      <td>...</td>\n",
       "      <td>...</td>\n",
       "      <td>...</td>\n",
       "      <td>...</td>\n",
       "      <td>...</td>\n",
       "      <td>...</td>\n",
       "      <td>...</td>\n",
       "      <td>...</td>\n",
       "      <td>...</td>\n",
       "      <td>...</td>\n",
       "      <td>...</td>\n",
       "    </tr>\n",
       "    <tr>\n",
       "      <th>545148</th>\n",
       "      <td>P</td>\n",
       "      <td>2021HU1415513</td>\n",
       "      <td>4</td>\n",
       "      <td>7504</td>\n",
       "      <td>6</td>\n",
       "      <td>1029928</td>\n",
       "      <td>39</td>\n",
       "      <td>9</td>\n",
       "      <td>NaN</td>\n",
       "      <td>NaN</td>\n",
       "      <td>...</td>\n",
       "      <td>NaN</td>\n",
       "      <td>NaN</td>\n",
       "      <td>NaN</td>\n",
       "      <td>NaN</td>\n",
       "      <td>NaN</td>\n",
       "      <td>1</td>\n",
       "      <td>0607504</td>\n",
       "      <td>San Francisco County (CA)</td>\n",
       "      <td>06075</td>\n",
       "      <td>True</td>\n",
       "    </tr>\n",
       "    <tr>\n",
       "      <th>545174</th>\n",
       "      <td>P</td>\n",
       "      <td>2021HU1415583</td>\n",
       "      <td>1</td>\n",
       "      <td>8508</td>\n",
       "      <td>6</td>\n",
       "      <td>1029928</td>\n",
       "      <td>94</td>\n",
       "      <td>42</td>\n",
       "      <td>1.0</td>\n",
       "      <td>1.0</td>\n",
       "      <td>...</td>\n",
       "      <td>NaN</td>\n",
       "      <td>NaN</td>\n",
       "      <td>196000.0</td>\n",
       "      <td>8500.0</td>\n",
       "      <td>6.0</td>\n",
       "      <td>6</td>\n",
       "      <td>0608508</td>\n",
       "      <td>Santa Clara County (CA)</td>\n",
       "      <td>06085</td>\n",
       "      <td>True</td>\n",
       "    </tr>\n",
       "    <tr>\n",
       "      <th>545175</th>\n",
       "      <td>P</td>\n",
       "      <td>2021HU1415583</td>\n",
       "      <td>2</td>\n",
       "      <td>8508</td>\n",
       "      <td>6</td>\n",
       "      <td>1029928</td>\n",
       "      <td>91</td>\n",
       "      <td>44</td>\n",
       "      <td>1.0</td>\n",
       "      <td>1.0</td>\n",
       "      <td>...</td>\n",
       "      <td>NaN</td>\n",
       "      <td>NaN</td>\n",
       "      <td>252000.0</td>\n",
       "      <td>8100.0</td>\n",
       "      <td>6.0</td>\n",
       "      <td>1</td>\n",
       "      <td>0608508</td>\n",
       "      <td>Santa Clara County (CA)</td>\n",
       "      <td>06085</td>\n",
       "      <td>True</td>\n",
       "    </tr>\n",
       "    <tr>\n",
       "      <th>545176</th>\n",
       "      <td>P</td>\n",
       "      <td>2021HU1415583</td>\n",
       "      <td>3</td>\n",
       "      <td>8508</td>\n",
       "      <td>6</td>\n",
       "      <td>1029928</td>\n",
       "      <td>96</td>\n",
       "      <td>8</td>\n",
       "      <td>NaN</td>\n",
       "      <td>NaN</td>\n",
       "      <td>...</td>\n",
       "      <td>NaN</td>\n",
       "      <td>NaN</td>\n",
       "      <td>NaN</td>\n",
       "      <td>NaN</td>\n",
       "      <td>NaN</td>\n",
       "      <td>9</td>\n",
       "      <td>0608508</td>\n",
       "      <td>Santa Clara County (CA)</td>\n",
       "      <td>06085</td>\n",
       "      <td>True</td>\n",
       "    </tr>\n",
       "    <tr>\n",
       "      <th>545177</th>\n",
       "      <td>P</td>\n",
       "      <td>2021HU1415583</td>\n",
       "      <td>4</td>\n",
       "      <td>8508</td>\n",
       "      <td>6</td>\n",
       "      <td>1029928</td>\n",
       "      <td>87</td>\n",
       "      <td>5</td>\n",
       "      <td>NaN</td>\n",
       "      <td>NaN</td>\n",
       "      <td>...</td>\n",
       "      <td>NaN</td>\n",
       "      <td>NaN</td>\n",
       "      <td>NaN</td>\n",
       "      <td>NaN</td>\n",
       "      <td>NaN</td>\n",
       "      <td>9</td>\n",
       "      <td>0608508</td>\n",
       "      <td>Santa Clara County (CA)</td>\n",
       "      <td>06085</td>\n",
       "      <td>True</td>\n",
       "    </tr>\n",
       "  </tbody>\n",
       "</table>\n",
       "<p>78400 rows × 26 columns</p>\n",
       "</div>"
      ],
      "text/plain": [
       "       RT       SERIALNO  SPORDER  PUMA  ST   ADJINC  PWGTP  AGEP  COW  \\\n",
       "159136  P  2021GQ0000021        1  5500   6  1029928     19    61  5.0   \n",
       "159150  P  2021GQ0000140        1  9503   6  1029928     28    51  4.0   \n",
       "159152  P  2021GQ0000154        1   107   6  1029928      6    22  NaN   \n",
       "159157  P  2021GQ0000216        1  7501   6  1029928     13    54  NaN   \n",
       "159166  P  2021GQ0000289        1  1303   6  1029928     35    67  NaN   \n",
       "...    ..            ...      ...   ...  ..      ...    ...   ...  ...   \n",
       "545148  P  2021HU1415513        4  7504   6  1029928     39     9  NaN   \n",
       "545174  P  2021HU1415583        1  8508   6  1029928     94    42  1.0   \n",
       "545175  P  2021HU1415583        2  8508   6  1029928     91    44  1.0   \n",
       "545176  P  2021HU1415583        3  8508   6  1029928     96     8  NaN   \n",
       "545177  P  2021HU1415583        4  8508   6  1029928     87     5  NaN   \n",
       "\n",
       "        JWTRNS  ...  MIGPUMA  MIGSP     PINCP  POWPUMA  POWSP  RAC1P   STPUMA  \\\n",
       "159136     NaN  ...   5500.0    6.0   14000.0      NaN    NaN      1  0605500   \n",
       "159150     NaN  ...      NaN    NaN    5800.0      NaN    NaN      9  0609503   \n",
       "159152     NaN  ...      NaN    NaN   -2400.0      NaN    NaN      6  0600107   \n",
       "159157     NaN  ...      NaN    NaN       0.0      NaN    NaN      1  0607501   \n",
       "159166     NaN  ...      NaN    NaN   20400.0      NaN    NaN      2  0601303   \n",
       "...        ...  ...      ...    ...       ...      ...    ...    ...      ...   \n",
       "545148     NaN  ...      NaN    NaN       NaN      NaN    NaN      1  0607504   \n",
       "545174     1.0  ...      NaN    NaN  196000.0   8500.0    6.0      6  0608508   \n",
       "545175     1.0  ...      NaN    NaN  252000.0   8100.0    6.0      1  0608508   \n",
       "545176     NaN  ...      NaN    NaN       NaN      NaN    NaN      9  0608508   \n",
       "545177     NaN  ...      NaN    NaN       NaN      NaN    NaN      9  0608508   \n",
       "\n",
       "                      county_dest  stcounty_dest  stcounty_dest_bayarea  \n",
       "159136           Napa County (CA)          06055                   True  \n",
       "159150         Solano County (CA)          06095                   True  \n",
       "159152        Alameda County (CA)          06001                   True  \n",
       "159157  San Francisco County (CA)          06075                   True  \n",
       "159166   Contra Costa County (CA)          06013                   True  \n",
       "...                           ...            ...                    ...  \n",
       "545148  San Francisco County (CA)          06075                   True  \n",
       "545174    Santa Clara County (CA)          06085                   True  \n",
       "545175    Santa Clara County (CA)          06085                   True  \n",
       "545176    Santa Clara County (CA)          06085                   True  \n",
       "545177    Santa Clara County (CA)          06085                   True  \n",
       "\n",
       "[78400 rows x 26 columns]"
      ]
     },
     "execution_count": 33,
     "metadata": {},
     "output_type": "execute_result"
    }
   ],
   "source": [
    "pers_data['county_dest'] = pers_data.STPUMA.map(\n",
    "    map_puma_to_county)  # .astype('category')\n",
    "pers_data['stcounty_dest'] = pers_data.STPUMA.map(\n",
    "    map_puma_to_countyfips)  # .astype('category')\n",
    "pers_data['stcounty_dest_bayarea'] = pers_data['stcounty_dest'].isin(\n",
    "    bayareafips_full)\n",
    "\n",
    "pers_data.query('stcounty_dest_bayarea')"
   ]
  },
  {
   "cell_type": "code",
   "execution_count": 34,
   "id": "d04510f0",
   "metadata": {},
   "outputs": [],
   "source": [
    "pers_data['csa_dest'] = pers_data.STPUMA.map(map_puma_to_csa) \n"
   ]
  },
  {
   "cell_type": "code",
   "execution_count": 35,
   "id": "a5f4e456",
   "metadata": {},
   "outputs": [],
   "source": [
    "pers_data['MIG_l'] = pers_data.MIG.map(map_mig).astype('category')"
   ]
  },
  {
   "cell_type": "code",
   "execution_count": 36,
   "id": "e5e9433b",
   "metadata": {},
   "outputs": [],
   "source": [
    "movers_mask = pers_data.MIGPUMA.notna()"
   ]
  },
  {
   "cell_type": "code",
   "execution_count": 37,
   "id": "1f982faf",
   "metadata": {},
   "outputs": [],
   "source": [
    "pers_data['MIGPUMA_l']=pers_data.MIGPUMA.fillna(0).apply(lambda x: f'{x:05.0f}')\n",
    "pers_data['MIGSP_l']=pers_data.MIGSP.fillna(0).apply(lambda x: f'{x:03.0f}')"
   ]
  },
  {
   "cell_type": "code",
   "execution_count": 38,
   "id": "ef715968",
   "metadata": {},
   "outputs": [],
   "source": [
    "pers_data['POWPUMA_l']=pers_data.POWPUMA.fillna(0).apply(lambda x: f'{x:05.0f}')\n",
    "pers_data['POWSP_l']=pers_data.POWSP.fillna(0).apply(lambda x: f'{x:03.0f}')"
   ]
  },
  {
   "cell_type": "code",
   "execution_count": 39,
   "id": "a2f4ec80",
   "metadata": {},
   "outputs": [],
   "source": [
    "migsp_abroad_mask = pers_data['MIGSP_l'].astype(int).apply(lambda x: x>72)\n",
    "\n",
    "pers_data.loc[migsp_abroad_mask,'MIGSP_l']='Abroad'"
   ]
  },
  {
   "cell_type": "code",
   "execution_count": 40,
   "id": "68096953",
   "metadata": {},
   "outputs": [],
   "source": [
    "pers_data['MIGSTPUMA'] = pers_data.MIGSP_l + pers_data.MIGPUMA_l \n",
    "pers_data['POWSTPUMA'] = pers_data.POWSP_l + pers_data.POWPUMA_l "
   ]
  },
  {
   "cell_type": "code",
   "execution_count": 41,
   "id": "d659514b",
   "metadata": {},
   "outputs": [],
   "source": [
    "pers_data['county_orig'] = pers_data['MIGSTPUMA'].map(map_migstpuma_to_countyname).fillna(' Non-mover')\n",
    "pers_data['stcounty_orig'] = pers_data['MIGSTPUMA'].map(map_migstpuma_to_countyfips).fillna(' Non-mover')"
   ]
  },
  {
   "cell_type": "code",
   "execution_count": 42,
   "id": "ab1f6ab5",
   "metadata": {},
   "outputs": [
    {
     "data": {
      "text/plain": [
       "False    1659715\n",
       "True        9664\n",
       "Name: stcounty_orig_bayarea, dtype: int64"
      ]
     },
     "execution_count": 42,
     "metadata": {},
     "output_type": "execute_result"
    }
   ],
   "source": [
    "pers_data['stcounty_orig_bayarea'] = pers_data['stcounty_orig'].isin(bayareafips_full)\n",
    "pers_data['stcounty_orig_bayarea'].value_counts()"
   ]
  },
  {
   "cell_type": "code",
   "execution_count": 43,
   "id": "4add34f8",
   "metadata": {},
   "outputs": [],
   "source": [
    "pers_data['csa_orig'] = pers_data.MIGSTPUMA.map(map_migstpuma_to_csa) "
   ]
  },
  {
   "cell_type": "code",
   "execution_count": 44,
   "id": "d0826447",
   "metadata": {},
   "outputs": [],
   "source": [
    "pers_data['county_pow'] = pers_data['POWSTPUMA'].map(map_migstpuma_to_countyname).fillna(' Non-mover')\n",
    "pers_data['stcounty_pow'] = pers_data['POWSTPUMA'].map(map_migstpuma_to_countyfips).fillna(' Non-mover')"
   ]
  },
  {
   "cell_type": "markdown",
   "id": "a2575974",
   "metadata": {},
   "source": [
    "#### Other assignments"
   ]
  },
  {
   "cell_type": "code",
   "execution_count": 45,
   "id": "8f4a8a40",
   "metadata": {},
   "outputs": [
    {
     "data": {
      "text/plain": [
       "White (Non-Hispanic)    1009015\n",
       "Hispanic                 286586\n",
       "Black (Non-Hispanic)     159854\n",
       "Asian (Non-Hispanic)     116217\n",
       "Other (Non-Hispanic)      97707\n",
       "Name: race_ethn, dtype: int64"
      ]
     },
     "execution_count": 45,
     "metadata": {},
     "output_type": "execute_result"
    }
   ],
   "source": [
    "pers_data['RAC1P_l']= pers_data.RAC1P.map(race_map)\n",
    "pers_data['race_ethn']=pers_data.groupby(['HISP'])['RAC1P_l'].transform(race_eth)\n",
    "pers_data['race_ethn'].value_counts()"
   ]
  },
  {
   "cell_type": "code",
   "execution_count": 46,
   "id": "93bca571",
   "metadata": {},
   "outputs": [],
   "source": [
    "pers_data['gender'] = pers_data.SEX.map({1:'Male',2:'Female'})"
   ]
  },
  {
   "cell_type": "code",
   "execution_count": 47,
   "id": "22cdbe65",
   "metadata": {},
   "outputs": [],
   "source": [
    "pers_data['age_cat'] = pd.cut(pers_data.AGEP,bins=age_breaks,right=True,include_lowest=True,labels=agebreaker(age_breaks))\n",
    "\n",
    "#pers_data.AGEP.head().map(agebreaker)\n",
    "\n",
    "#pers_data.AGEP.apply(years_mapping_dyn)\n"
   ]
  },
  {
   "cell_type": "markdown",
   "id": "9ae69087",
   "metadata": {},
   "source": [
    "### Basic summaries"
   ]
  },
  {
   "cell_type": "code",
   "execution_count": 48,
   "id": "91a5feac",
   "metadata": {},
   "outputs": [],
   "source": [
    "county_list = list(map(lambda x: f'{x} County (CA)',bayareafips_full.values()))"
   ]
  },
  {
   "cell_type": "code",
   "execution_count": 49,
   "id": "9e9f323c",
   "metadata": {},
   "outputs": [
    {
     "data": {
      "text/plain": [
       "['00600100',\n",
       " '00601300',\n",
       " '00604100',\n",
       " '00605500',\n",
       " '00607500',\n",
       " '00608100',\n",
       " '00608500',\n",
       " '00609700',\n",
       " '00609500']"
      ]
     },
     "execution_count": 49,
     "metadata": {},
     "output_type": "execute_result"
    }
   ],
   "source": [
    "BAY_AREA_MIGSTPUMAS = list(map(lambda x: f'0{x}00', bayareafips_full.keys()))\n",
    "BAY_AREA_MIGSTPUMAS"
   ]
  },
  {
   "cell_type": "markdown",
   "id": "56789980",
   "metadata": {},
   "source": [
    "#### County level - let's limit to CA to CA counties"
   ]
  },
  {
   "cell_type": "code",
   "execution_count": 50,
   "id": "3397a8b2",
   "metadata": {},
   "outputs": [],
   "source": [
    "# matrix where origin is not the same as destination county\n",
    "county_move_matrix = pers_data.loc[((pers_data.stcounty_orig!=pers_data.stcounty_dest)\n",
    "                                 &(pers_data.MIG.isin([2,3])))\n",
    "                                 ].groupby(['county_orig','county_dest']).PWGTP.sum().reset_index()"
   ]
  },
  {
   "cell_type": "code",
   "execution_count": 51,
   "id": "4de06248",
   "metadata": {},
   "outputs": [
    {
     "data": {
      "text/html": [
       "<div>\n",
       "<style scoped>\n",
       "    .dataframe tbody tr th:only-of-type {\n",
       "        vertical-align: middle;\n",
       "    }\n",
       "\n",
       "    .dataframe tbody tr th {\n",
       "        vertical-align: top;\n",
       "    }\n",
       "\n",
       "    .dataframe thead th {\n",
       "        text-align: right;\n",
       "    }\n",
       "</style>\n",
       "<table border=\"1\" class=\"dataframe\">\n",
       "  <thead>\n",
       "    <tr style=\"text-align: right;\">\n",
       "      <th></th>\n",
       "      <th>county_orig</th>\n",
       "      <th>county_dest</th>\n",
       "      <th>PWGTP</th>\n",
       "    </tr>\n",
       "  </thead>\n",
       "  <tbody>\n",
       "    <tr>\n",
       "      <th>18491</th>\n",
       "      <td>San Francisco County (CA)</td>\n",
       "      <td>El Paso County (CO)</td>\n",
       "      <td>4</td>\n",
       "    </tr>\n",
       "    <tr>\n",
       "      <th>3873</th>\n",
       "      <td>Contra Costa County (CA)</td>\n",
       "      <td>Humboldt County (CA)</td>\n",
       "      <td>4</td>\n",
       "    </tr>\n",
       "    <tr>\n",
       "      <th>8345</th>\n",
       "      <td>Hennepin County (MN)</td>\n",
       "      <td>Alameda County (CA)</td>\n",
       "      <td>5</td>\n",
       "    </tr>\n",
       "    <tr>\n",
       "      <th>5540</th>\n",
       "      <td>Dubois County (IN)</td>\n",
       "      <td>San Francisco County (CA)</td>\n",
       "      <td>5</td>\n",
       "    </tr>\n",
       "    <tr>\n",
       "      <th>7574</th>\n",
       "      <td>Guilford County (NC)</td>\n",
       "      <td>San Francisco County (CA)</td>\n",
       "      <td>6</td>\n",
       "    </tr>\n",
       "    <tr>\n",
       "      <th>...</th>\n",
       "      <td>...</td>\n",
       "      <td>...</td>\n",
       "      <td>...</td>\n",
       "    </tr>\n",
       "    <tr>\n",
       "      <th>11628</th>\n",
       "      <td>Lived Abroad</td>\n",
       "      <td>Alameda County (CA)</td>\n",
       "      <td>12528</td>\n",
       "    </tr>\n",
       "    <tr>\n",
       "      <th>18475</th>\n",
       "      <td>San Francisco County (CA)</td>\n",
       "      <td>Alameda County (CA)</td>\n",
       "      <td>14612</td>\n",
       "    </tr>\n",
       "    <tr>\n",
       "      <th>18779</th>\n",
       "      <td>Santa Clara County (CA)</td>\n",
       "      <td>Alameda County (CA)</td>\n",
       "      <td>17552</td>\n",
       "    </tr>\n",
       "    <tr>\n",
       "      <th>11995</th>\n",
       "      <td>Lived Abroad</td>\n",
       "      <td>Santa Clara County (CA)</td>\n",
       "      <td>17805</td>\n",
       "    </tr>\n",
       "    <tr>\n",
       "      <th>154</th>\n",
       "      <td>Alameda County (CA)</td>\n",
       "      <td>Contra Costa County (CA)</td>\n",
       "      <td>19523</td>\n",
       "    </tr>\n",
       "  </tbody>\n",
       "</table>\n",
       "<p>1035 rows × 3 columns</p>\n",
       "</div>"
      ],
      "text/plain": [
       "                     county_orig                county_dest  PWGTP\n",
       "18491  San Francisco County (CA)        El Paso County (CO)      4\n",
       "3873    Contra Costa County (CA)       Humboldt County (CA)      4\n",
       "8345        Hennepin County (MN)        Alameda County (CA)      5\n",
       "5540          Dubois County (IN)  San Francisco County (CA)      5\n",
       "7574        Guilford County (NC)  San Francisco County (CA)      6\n",
       "...                          ...                        ...    ...\n",
       "11628               Lived Abroad        Alameda County (CA)  12528\n",
       "18475  San Francisco County (CA)        Alameda County (CA)  14612\n",
       "18779    Santa Clara County (CA)        Alameda County (CA)  17552\n",
       "11995               Lived Abroad    Santa Clara County (CA)  17805\n",
       "154          Alameda County (CA)   Contra Costa County (CA)  19523\n",
       "\n",
       "[1035 rows x 3 columns]"
      ]
     },
     "execution_count": 51,
     "metadata": {},
     "output_type": "execute_result"
    }
   ],
   "source": [
    "county_move_matrix.query(f'county_orig in {county_list} | county_dest in {county_list}').sort_values('PWGTP')"
   ]
  },
  {
   "cell_type": "code",
   "execution_count": 52,
   "id": "93580e69",
   "metadata": {},
   "outputs": [
    {
     "data": {
      "text/html": [
       "<div>\n",
       "<style scoped>\n",
       "    .dataframe tbody tr th:only-of-type {\n",
       "        vertical-align: middle;\n",
       "    }\n",
       "\n",
       "    .dataframe tbody tr th {\n",
       "        vertical-align: top;\n",
       "    }\n",
       "\n",
       "    .dataframe thead th {\n",
       "        text-align: right;\n",
       "    }\n",
       "</style>\n",
       "<table border=\"1\" class=\"dataframe\">\n",
       "  <thead>\n",
       "    <tr style=\"text-align: right;\">\n",
       "      <th></th>\n",
       "      <th>county_orig</th>\n",
       "      <th>county_dest</th>\n",
       "      <th>PWGTP</th>\n",
       "    </tr>\n",
       "  </thead>\n",
       "  <tbody>\n",
       "    <tr>\n",
       "      <th>201</th>\n",
       "      <td>Alameda County (CA)</td>\n",
       "      <td>Santa Clara County (CA)</td>\n",
       "      <td>6811</td>\n",
       "    </tr>\n",
       "  </tbody>\n",
       "</table>\n",
       "</div>"
      ],
      "text/plain": [
       "             county_orig              county_dest  PWGTP\n",
       "201  Alameda County (CA)  Santa Clara County (CA)   6811"
      ]
     },
     "execution_count": 52,
     "metadata": {},
     "output_type": "execute_result"
    }
   ],
   "source": [
    "# from Alameda to Santa Clara\n",
    "county_move_matrix.query(\"county_orig=='Alameda County (CA)' & county_dest=='Santa Clara County (CA)'\")"
   ]
  },
  {
   "cell_type": "code",
   "execution_count": 53,
   "id": "727af1ef",
   "metadata": {},
   "outputs": [
    {
     "data": {
      "text/html": [
       "<div>\n",
       "<style scoped>\n",
       "    .dataframe tbody tr th:only-of-type {\n",
       "        vertical-align: middle;\n",
       "    }\n",
       "\n",
       "    .dataframe tbody tr th {\n",
       "        vertical-align: top;\n",
       "    }\n",
       "\n",
       "    .dataframe thead th {\n",
       "        text-align: right;\n",
       "    }\n",
       "</style>\n",
       "<table border=\"1\" class=\"dataframe\">\n",
       "  <thead>\n",
       "    <tr style=\"text-align: right;\">\n",
       "      <th></th>\n",
       "      <th>county_orig</th>\n",
       "      <th>county_dest</th>\n",
       "      <th>PWGTP</th>\n",
       "    </tr>\n",
       "  </thead>\n",
       "  <tbody>\n",
       "    <tr>\n",
       "      <th>18779</th>\n",
       "      <td>Santa Clara County (CA)</td>\n",
       "      <td>Alameda County (CA)</td>\n",
       "      <td>17552</td>\n",
       "    </tr>\n",
       "  </tbody>\n",
       "</table>\n",
       "</div>"
      ],
      "text/plain": [
       "                   county_orig          county_dest  PWGTP\n",
       "18779  Santa Clara County (CA)  Alameda County (CA)  17552"
      ]
     },
     "execution_count": 53,
     "metadata": {},
     "output_type": "execute_result"
    }
   ],
   "source": [
    "# from Santa Clara to Alameda\n",
    "county_move_matrix.query(\"county_dest=='Alameda County (CA)' & county_orig=='Santa Clara County (CA)'\")"
   ]
  },
  {
   "cell_type": "code",
   "execution_count": 54,
   "id": "c5241243",
   "metadata": {},
   "outputs": [
    {
     "data": {
      "text/html": [
       "<div>\n",
       "<style scoped>\n",
       "    .dataframe tbody tr th:only-of-type {\n",
       "        vertical-align: middle;\n",
       "    }\n",
       "\n",
       "    .dataframe tbody tr th {\n",
       "        vertical-align: top;\n",
       "    }\n",
       "\n",
       "    .dataframe thead th {\n",
       "        text-align: right;\n",
       "    }\n",
       "</style>\n",
       "<table border=\"1\" class=\"dataframe\">\n",
       "  <thead>\n",
       "    <tr style=\"text-align: right;\">\n",
       "      <th></th>\n",
       "      <th>county_orig</th>\n",
       "      <th>county_dest</th>\n",
       "      <th>PWGTP</th>\n",
       "    </tr>\n",
       "  </thead>\n",
       "  <tbody>\n",
       "    <tr>\n",
       "      <th>18502</th>\n",
       "      <td>San Francisco County (CA)</td>\n",
       "      <td>Los Angeles County (CA)</td>\n",
       "      <td>7899</td>\n",
       "    </tr>\n",
       "  </tbody>\n",
       "</table>\n",
       "</div>"
      ],
      "text/plain": [
       "                     county_orig              county_dest  PWGTP\n",
       "18502  San Francisco County (CA)  Los Angeles County (CA)   7899"
      ]
     },
     "execution_count": 54,
     "metadata": {},
     "output_type": "execute_result"
    }
   ],
   "source": [
    "# from SF to LA\n",
    "county_move_matrix.query(\"county_dest=='Los Angeles County (CA)' & county_orig=='San Francisco County (CA)'\")"
   ]
  },
  {
   "cell_type": "code",
   "execution_count": 55,
   "id": "3d84594f",
   "metadata": {},
   "outputs": [
    {
     "data": {
      "text/html": [
       "<div>\n",
       "<style scoped>\n",
       "    .dataframe tbody tr th:only-of-type {\n",
       "        vertical-align: middle;\n",
       "    }\n",
       "\n",
       "    .dataframe tbody tr th {\n",
       "        vertical-align: top;\n",
       "    }\n",
       "\n",
       "    .dataframe thead th {\n",
       "        text-align: right;\n",
       "    }\n",
       "</style>\n",
       "<table border=\"1\" class=\"dataframe\">\n",
       "  <thead>\n",
       "    <tr style=\"text-align: right;\">\n",
       "      <th></th>\n",
       "      <th>county_orig</th>\n",
       "      <th>county_dest</th>\n",
       "      <th>PWGTP</th>\n",
       "    </tr>\n",
       "  </thead>\n",
       "  <tbody>\n",
       "    <tr>\n",
       "      <th>12314</th>\n",
       "      <td>Los Angeles County (CA)</td>\n",
       "      <td>San Francisco County (CA)</td>\n",
       "      <td>5303</td>\n",
       "    </tr>\n",
       "  </tbody>\n",
       "</table>\n",
       "</div>"
      ],
      "text/plain": [
       "                   county_orig                county_dest  PWGTP\n",
       "12314  Los Angeles County (CA)  San Francisco County (CA)   5303"
      ]
     },
     "execution_count": 55,
     "metadata": {},
     "output_type": "execute_result"
    }
   ],
   "source": [
    "# from LA to SF\n",
    "county_move_matrix.query(\"county_orig=='Los Angeles County (CA)' & county_dest=='San Francisco County (CA)'\")"
   ]
  },
  {
   "cell_type": "markdown",
   "id": "ad6ddbbe",
   "metadata": {},
   "source": [
    "#### CSA level - overall"
   ]
  },
  {
   "cell_type": "code",
   "execution_count": 56,
   "id": "faeebdcf",
   "metadata": {},
   "outputs": [
    {
     "data": {
      "text/plain": [
       "csa_dest\n",
       "Atlanta--Athens-Clarke County--Sandy Springs, GA-AL    6867296\n",
       "Birmingham-Hoover-Talladega, AL                        1159871\n",
       "Bloomington-Bedford, IN                                 139539\n",
       "Bloomington-Pontiac, IL                                 171411\n",
       "Boise City-Mountain Home-Ontario, ID-OR                 686225\n",
       "                                                        ...   \n",
       "Steamboat Springs-Craig, CO                             112302\n",
       "Tucson-Nogales, AZ                                     1052303\n",
       "Tupelo-Corinth, MS                                      142430\n",
       "Washington-Baltimore-Arlington, DC-MD-VA-WV-PA         6452849\n",
       "Wichita-Winfield, KS                                    625879\n",
       "Name: PWGTP, Length: 80, dtype: int64"
      ]
     },
     "execution_count": 56,
     "metadata": {},
     "output_type": "execute_result"
    }
   ],
   "source": [
    "FLOW_THRESHOLD = 500\n",
    "top_csa_N = 5\n",
    "BAY_AREA_CSA='San Jose-San Francisco-Oakland, CA'\n",
    "\n",
    "pers_data[pers_data.csa_dest!='Not in a Combined Statistical Area'].groupby('csa_dest').PWGTP.sum()"
   ]
  },
  {
   "cell_type": "code",
   "execution_count": 57,
   "id": "808509ab",
   "metadata": {},
   "outputs": [
    {
     "data": {
      "text/plain": [
       "['Monroe-Ruston, LA',\n",
       " 'Dixon-Sterling, IL',\n",
       " 'South Bend-Elkhart-Mishawaka, IN-MI',\n",
       " 'Pensacola-Ferry Pass, FL-AL',\n",
       " 'Pueblo-Cañon City, CO',\n",
       " 'Louisville/Jefferson County--Elizabethtown--Bardstown, KY-IN',\n",
       " 'Tucson-Nogales, AZ',\n",
       " 'Bloomington-Bedford, IN',\n",
       " 'Kalamazoo-Battle Creek-Portage, MI',\n",
       " 'Indianapolis-Carmel-Muncie, IN',\n",
       " 'Hartford-East Hartford, CT',\n",
       " 'New Orleans-Metairie-Hammond, LA-MS',\n",
       " 'St. Louis-St. Charles-Farmington, MO-IL',\n",
       " 'Kansas City-Overland Park-Kansas City, MO-KS',\n",
       " 'Huntsville-Decatur, AL',\n",
       " \"Spokane-Spokane Valley-Coeur d'Alene, WA-ID\",\n",
       " 'Des Moines-Ames-West Des Moines, IA',\n",
       " 'Columbus-Auburn-Opelika, GA-AL',\n",
       " 'Little Rock-North Little Rock, AR',\n",
       " 'Lafayette-West Lafayette-Frankfort, IN',\n",
       " 'Lexington-Fayette--Richmond--Frankfort, KY',\n",
       " 'Savannah-Hinesville-Statesboro, GA',\n",
       " 'Jacksonville-St. Marys-Palatka, FL-GA',\n",
       " 'Idaho Falls-Rexburg-Blackfoot, ID',\n",
       " 'Gainesville-Lake City, FL',\n",
       " 'Wichita-Winfield, KS',\n",
       " 'Orlando-Lakeland-Deltona, FL',\n",
       " 'Portland-Lewiston-South Portland, ME',\n",
       " 'New York-Newark, NY-NJ-CT-PA',\n",
       " 'Chattanooga-Cleveland-Dalton, TN-GA',\n",
       " 'Cape Coral-Fort Myers-Naples, FL',\n",
       " 'Minneapolis-St. Paul, MN-WI',\n",
       " 'Detroit-Warren-Ann Arbor, MI',\n",
       " 'Miami-Port St. Lucie-Fort Lauderdale, FL',\n",
       " 'Boise City-Mountain Home-Ontario, ID-OR',\n",
       " 'Redding-Red Bluff, CA',\n",
       " 'Washington-Baltimore-Arlington, DC-MD-VA-WV-PA',\n",
       " 'Boston-Worcester-Providence, MA-RI-NH-CT',\n",
       " 'Chicago-Naperville, IL-IN-WI',\n",
       " 'Atlanta--Athens-Clarke County--Sandy Springs, GA-AL',\n",
       " 'Denver-Aurora, CO',\n",
       " 'Phoenix-Mesa, AZ',\n",
       " 'Fresno-Madera-Hanford, CA',\n",
       " 'Sacramento-Roseville, CA',\n",
       " 'Los Angeles-Long Beach, CA']"
      ]
     },
     "execution_count": 57,
     "metadata": {},
     "output_type": "execute_result"
    }
   ],
   "source": [
    "# More relevant: Rank relative to migration flows to/from Bay Area\n",
    "# top CSAs in terms of flow ENTERING the bay area\n",
    "top_n_origins_bayarea = pers_data.loc[((pers_data.csa_orig != pers_data.csa_dest) &\n",
    "                                       (pers_data.MIG.isin([2, 3]))\n",
    "                                       & (pers_data.csa_dest == BAY_AREA_CSA)\n",
    "                                       & (pers_data.csa_orig != 'Not in a Combined Statistical Area'))\n",
    "                                      ].groupby('csa_orig').PWGTP.sum().sort_values().index.tolist()\n",
    "\n",
    "# top CSAs in terms of flow LEAVING the bay area\n",
    "top_n_destinations_bayarea = pers_data.loc[((pers_data.csa_orig != pers_data.csa_dest) &\n",
    "                                            (pers_data.MIG.isin([2, 3]))\n",
    "                                            & (pers_data.csa_orig == BAY_AREA_CSA)\n",
    "                                            & (pers_data.csa_dest != 'Not in a Combined Statistical Area'))\n",
    "                                           ].groupby('csa_dest').PWGTP.sum().sort_values().index.tolist()\n",
    "\n",
    "top_n_destinations_bayarea"
   ]
  },
  {
   "cell_type": "code",
   "execution_count": 58,
   "id": "e4b9b07c",
   "metadata": {},
   "outputs": [],
   "source": [
    "csa_orig_mask = pers_data.csa_orig.notna()\n",
    "csa_dest_mask = pers_data.csa_dest.notna()\n",
    "csa_masks = {'orig':csa_orig_mask,\n",
    "            'dest':csa_dest_mask}\n",
    "\n",
    "top_move_flows = {'orig':top_n_origins_bayarea,\n",
    "                 'dest':top_n_destinations_bayarea}\n",
    "\n"
   ]
  },
  {
   "cell_type": "code",
   "execution_count": 59,
   "id": "30259ed8",
   "metadata": {},
   "outputs": [
    {
     "data": {
      "text/plain": [
       "0             Birmingham-Hoover-Talladega, AL\n",
       "1             Birmingham-Hoover-Talladega, AL\n",
       "2             Birmingham-Hoover-Talladega, AL\n",
       "3          Not in a Combined Statistical Area\n",
       "4          Not in a Combined Statistical Area\n",
       "                          ...                \n",
       "1669374    Not in a Combined Statistical Area\n",
       "1669375    Not in a Combined Statistical Area\n",
       "1669376    Not in a Combined Statistical Area\n",
       "1669377    Not in a Combined Statistical Area\n",
       "1669378    Not in a Combined Statistical Area\n",
       "Name: csa_dest, Length: 1669379, dtype: object"
      ]
     },
     "execution_count": 59,
     "metadata": {},
     "output_type": "execute_result"
    }
   ],
   "source": [
    "pers_data.csa_dest"
   ]
  },
  {
   "cell_type": "code",
   "execution_count": 60,
   "id": "491b9af0",
   "metadata": {},
   "outputs": [],
   "source": [
    "# Field name mapping for Top od Ttrings (MTS)\n",
    "mts ={}"
   ]
  },
  {
   "cell_type": "code",
   "execution_count": 61,
   "id": "b0bacea6",
   "metadata": {},
   "outputs": [],
   "source": [
    "top_pop = {}"
   ]
  },
  {
   "cell_type": "code",
   "execution_count": 62,
   "id": "423112ae",
   "metadata": {},
   "outputs": [
    {
     "name": "stdout",
     "output_type": "stream",
     "text": [
      "5 orig\n",
      "5 dest\n",
      "15 orig\n",
      "15 dest\n",
      "25 orig\n",
      "25 dest\n",
      "50 orig\n",
      "50 dest\n"
     ]
    }
   ],
   "source": [
    "for top_csa_N in [5, 15, 25, 50]:\n",
    "    # ranking based on overall CSA population\n",
    "    CSA_top_pop = pers_data[pers_data.csa_dest != 'Not in a Combined Statistical Area'].groupby(\n",
    "        'csa_dest').PWGTP.sum().sort_values().tail(top_csa_N).index.tolist()\n",
    "\n",
    "    CSA_recode = {a: a for a in CSA_top_pop}\n",
    "\n",
    "    top_pop[top_csa_N] = CSA_top_pop\n",
    "    for part in ['orig', 'dest']:\n",
    "        print(top_csa_N, part)\n",
    "\n",
    "        #CSA_recode = {a:a for a in CSA_top_pop}\n",
    "\n",
    "        # More relevant: Rank relative to migration flows to/from Bay Area\n",
    "\n",
    "        CSA_recode = {a: a for a in top_move_flows[part][-top_csa_N:]}\n",
    "\n",
    "        # add bay area to dict - we don't want that recoded as outside csa\n",
    "        CSA_recode[BAY_AREA_CSA] = BAY_AREA_CSA\n",
    "\n",
    "        # start by copying the base csa coding\n",
    "        cat_str = f'csa_{part}'\n",
    "        new_cat_str = f'csa_{part}_top_{top_csa_N}'\n",
    "\n",
    "        mts[(part, top_csa_N)] = new_cat_str\n",
    "\n",
    "        pers_data[new_cat_str] = pers_data[f'csa_{part}']\n",
    "        pers_data[new_cat_str] = pers_data[cat_str]\n",
    "\n",
    "        # then recode, keeping the top N ones, and bundling the rest to outside top csas\n",
    "        # we don't pollute all the nans / non-movers with this call\n",
    "\n",
    "        pers_data.loc[csa_masks[part], new_cat_str] = pers_data.loc[csa_masks[part], cat_str].map(\n",
    "            CSA_recode).fillna('Outside Top CSAs')"
   ]
  },
  {
   "cell_type": "code",
   "execution_count": 63,
   "id": "b9840aaf",
   "metadata": {},
   "outputs": [
    {
     "data": {
      "text/plain": [
       "Outside Top CSAs                                       736520\n",
       "Los Angeles-Long Beach, CA                             184781\n",
       "San Jose-San Francisco-Oakland, CA                      95215\n",
       "Chicago-Naperville, IL-IN-WI                            83461\n",
       "Washington-Baltimore-Arlington, DC-MD-VA-WV-PA          65595\n",
       "Boston-Worcester-Providence, MA-RI-NH-CT                64289\n",
       "Miami-Port St. Lucie-Fort Lauderdale, FL                62059\n",
       "Atlanta--Athens-Clarke County--Sandy Springs, GA-AL     56764\n",
       "Phoenix-Mesa, AZ                                        48010\n",
       "Detroit-Warren-Ann Arbor, MI                            44659\n",
       "Orlando-Lakeland-Deltona, FL                            36792\n",
       "Denver-Aurora, CO                                       35904\n",
       "Sacramento-Roseville, CA                                26653\n",
       "Minneapolis-St. Paul, MN-WI                             25239\n",
       "New York-Newark, NY-NJ-CT-PA                            19682\n",
       "Name: csa_dest_top_25, dtype: int64"
      ]
     },
     "execution_count": 63,
     "metadata": {},
     "output_type": "execute_result"
    }
   ],
   "source": [
    "pers_data.csa_dest_top_25.value_counts().head(15)"
   ]
  },
  {
   "cell_type": "code",
   "execution_count": 64,
   "id": "90f6e26a",
   "metadata": {},
   "outputs": [
    {
     "data": {
      "text/plain": [
       "Outside Top CSAs                                       840413\n",
       "Los Angeles-Long Beach, CA                             184781\n",
       "San Jose-San Francisco-Oakland, CA                      95215\n",
       "Chicago-Naperville, IL-IN-WI                            83461\n",
       "Washington-Baltimore-Arlington, DC-MD-VA-WV-PA          65595\n",
       "Boston-Worcester-Providence, MA-RI-NH-CT                64289\n",
       "Miami-Port St. Lucie-Fort Lauderdale, FL                62059\n",
       "Atlanta--Athens-Clarke County--Sandy Springs, GA-AL     56764\n",
       "Phoenix-Mesa, AZ                                        48010\n",
       "Detroit-Warren-Ann Arbor, MI                            44659\n",
       "Denver-Aurora, CO                                       35904\n",
       "Sacramento-Roseville, CA                                26653\n",
       "Minneapolis-St. Paul, MN-WI                             25239\n",
       "Fresno-Madera-Hanford, CA                               11955\n",
       "Cape Coral-Fort Myers-Naples, FL                        11308\n",
       "Name: csa_dest_top_15, dtype: int64"
      ]
     },
     "execution_count": 64,
     "metadata": {},
     "output_type": "execute_result"
    }
   ],
   "source": [
    "pers_data.csa_dest_top_15.value_counts().head(15)"
   ]
  },
  {
   "cell_type": "code",
   "execution_count": 65,
   "id": "46b38a45",
   "metadata": {},
   "outputs": [
    {
     "data": {
      "text/html": [
       "<div>\n",
       "<style scoped>\n",
       "    .dataframe tbody tr th:only-of-type {\n",
       "        vertical-align: middle;\n",
       "    }\n",
       "\n",
       "    .dataframe tbody tr th {\n",
       "        vertical-align: top;\n",
       "    }\n",
       "\n",
       "    .dataframe thead th {\n",
       "        text-align: right;\n",
       "    }\n",
       "</style>\n",
       "<table border=\"1\" class=\"dataframe\">\n",
       "  <thead>\n",
       "    <tr style=\"text-align: right;\">\n",
       "      <th></th>\n",
       "      <th>csa_orig_top_15</th>\n",
       "      <th>csa_dest_top_15</th>\n",
       "      <th>flow</th>\n",
       "    </tr>\n",
       "  </thead>\n",
       "  <tbody>\n",
       "    <tr>\n",
       "      <th>0</th>\n",
       "      <td>Atlanta--Athens-Clarke County--Sandy Springs, ...</td>\n",
       "      <td>Boston-Worcester-Providence, MA-RI-NH-CT</td>\n",
       "      <td>1016</td>\n",
       "    </tr>\n",
       "    <tr>\n",
       "      <th>1</th>\n",
       "      <td>Atlanta--Athens-Clarke County--Sandy Springs, ...</td>\n",
       "      <td>Cape Coral-Fort Myers-Naples, FL</td>\n",
       "      <td>1840</td>\n",
       "    </tr>\n",
       "  </tbody>\n",
       "</table>\n",
       "</div>"
      ],
      "text/plain": [
       "                                     csa_orig_top_15  \\\n",
       "0  Atlanta--Athens-Clarke County--Sandy Springs, ...   \n",
       "1  Atlanta--Athens-Clarke County--Sandy Springs, ...   \n",
       "\n",
       "                            csa_dest_top_15  flow  \n",
       "0  Boston-Worcester-Providence, MA-RI-NH-CT  1016  \n",
       "1          Cape Coral-Fort Myers-Naples, FL  1840  "
      ]
     },
     "execution_count": 65,
     "metadata": {},
     "output_type": "execute_result"
    }
   ],
   "source": [
    "# matrix where origin is not the same as destination county\n",
    "\n",
    "d_var = mts[('dest', 15)]\n",
    "o_var = mts[('orig', 15)]\n",
    "\n",
    "csa_move_matrix = pers_data.loc[((pers_data.csa_orig != pers_data.csa_dest) &\n",
    "                                 (pers_data.MIG.isin([2, 3])))\n",
    "                                ].groupby([o_var, d_var]).PWGTP.sum().reset_index(name='flow')\n",
    "csa_move_matrix.head(2)"
   ]
  },
  {
   "cell_type": "code",
   "execution_count": 66,
   "id": "d653d6fa",
   "metadata": {},
   "outputs": [
    {
     "data": {
      "text/plain": [
       "csa_dest_top_15                     csa_orig_top_15                                    \n",
       "San Jose-San Francisco-Oakland, CA  Outside Top CSAs                                       92357\n",
       "                                    Los Angeles-Long Beach, CA                             45325\n",
       "                                    Sacramento-Roseville, CA                               19941\n",
       "                                    New York-Newark, NY-NJ-CT-PA                            9971\n",
       "                                    Chicago-Naperville, IL-IN-WI                            7884\n",
       "                                    Seattle-Tacoma, WA                                      6799\n",
       "                                    Fresno-Madera-Hanford, CA                               6730\n",
       "                                    Boston-Worcester-Providence, MA-RI-NH-CT                5758\n",
       "                                    Portland-Vancouver-Salem, OR-WA                         4507\n",
       "                                    Washington-Baltimore-Arlington, DC-MD-VA-WV-PA          4042\n",
       "                                    Phoenix-Mesa, AZ                                        3160\n",
       "                                    Denver-Aurora, CO                                       2692\n",
       "                                    Miami-Port St. Lucie-Fort Lauderdale, FL                2632\n",
       "                                    Atlanta--Athens-Clarke County--Sandy Springs, GA-AL     2631\n",
       "                                    Philadelphia-Reading-Camden, PA-NJ-DE-MD                2162\n",
       "                                    Minneapolis-St. Paul, MN-WI                             2142\n",
       "Name: flow, dtype: int64"
      ]
     },
     "execution_count": 66,
     "metadata": {},
     "output_type": "execute_result"
    }
   ],
   "source": [
    "# Moves TO the Bay Area: top 25 origin regions \n",
    "\n",
    "csa_move_matrix.loc[csa_move_matrix[d_var]==BAY_AREA_CSA].set_index([d_var,o_var]).flow.sort_values(ascending=False)"
   ]
  },
  {
   "cell_type": "code",
   "execution_count": 67,
   "id": "d4211abe",
   "metadata": {},
   "outputs": [
    {
     "data": {
      "text/plain": [
       "csa_dest_top_15                                      csa_orig_top_15                   \n",
       "Outside Top CSAs                                     San Jose-San Francisco-Oakland, CA    88482\n",
       "Los Angeles-Long Beach, CA                           San Jose-San Francisco-Oakland, CA    59709\n",
       "Sacramento-Roseville, CA                             San Jose-San Francisco-Oakland, CA    44258\n",
       "Fresno-Madera-Hanford, CA                            San Jose-San Francisco-Oakland, CA     8534\n",
       "Phoenix-Mesa, AZ                                     San Jose-San Francisco-Oakland, CA     6774\n",
       "Denver-Aurora, CO                                    San Jose-San Francisco-Oakland, CA     6683\n",
       "Atlanta--Athens-Clarke County--Sandy Springs, GA-AL  San Jose-San Francisco-Oakland, CA     5210\n",
       "Chicago-Naperville, IL-IN-WI                         San Jose-San Francisco-Oakland, CA     4416\n",
       "Boston-Worcester-Providence, MA-RI-NH-CT             San Jose-San Francisco-Oakland, CA     4214\n",
       "Washington-Baltimore-Arlington, DC-MD-VA-WV-PA       San Jose-San Francisco-Oakland, CA     3705\n",
       "Redding-Red Bluff, CA                                San Jose-San Francisco-Oakland, CA     3320\n",
       "Boise City-Mountain Home-Ontario, ID-OR              San Jose-San Francisco-Oakland, CA     2587\n",
       "Miami-Port St. Lucie-Fort Lauderdale, FL             San Jose-San Francisco-Oakland, CA     2026\n",
       "Detroit-Warren-Ann Arbor, MI                         San Jose-San Francisco-Oakland, CA     1948\n",
       "Minneapolis-St. Paul, MN-WI                          San Jose-San Francisco-Oakland, CA     1826\n",
       "Cape Coral-Fort Myers-Naples, FL                     San Jose-San Francisco-Oakland, CA     1687\n",
       "Name: flow, dtype: int64"
      ]
     },
     "execution_count": 67,
     "metadata": {},
     "output_type": "execute_result"
    }
   ],
   "source": [
    "# Moves FROM the Bay Area: top 25 destination regions \n",
    "\n",
    "csa_move_matrix.loc[csa_move_matrix[o_var]==BAY_AREA_CSA].set_index([d_var,o_var]).flow.sort_values(ascending=False)"
   ]
  },
  {
   "cell_type": "code",
   "execution_count": 68,
   "id": "cb784031",
   "metadata": {},
   "outputs": [
    {
     "name": "stderr",
     "output_type": "stream",
     "text": [
      "/var/folders/x8/3_n775lx7zq1nv3mddc7vmlh0000gp/T/ipykernel_23616/3538019197.py:3: FutureWarning: Not prepending group keys to the result index of transform-like apply. In the future, the group keys will be included in the index, regardless of whether the applied function returns a like-indexed object.\n",
      "To preserve the previous behavior, use\n",
      "\n",
      "\t>>> .groupby(..., group_keys=False)\n",
      "\n",
      "To adopt the future behavior and silence this warning, use \n",
      "\n",
      "\t>>> .groupby(..., group_keys=True)\n",
      "  csa_move_matrix.loc[csa_move_matrix[d_var]==BAY_AREA_CSA].set_index([d_var,o_var]).flow.groupby(level=0).apply(pct).unstack(0).sort_values(BAY_AREA_CSA).head(10).plot(kind='barh')\n"
     ]
    },
    {
     "data": {
      "text/plain": [
       "<AxesSubplot: ylabel='csa_orig_top_15'>"
      ]
     },
     "execution_count": 68,
     "metadata": {},
     "output_type": "execute_result"
    },
    {
     "data": {
      "image/png": "[encoded data removed]",
      "text/plain": [
       "<Figure size 1200x700 with 1 Axes>"
      ]
     },
     "metadata": {},
     "output_type": "display_data"
    }
   ],
   "source": [
    "# Moves TO the Bay Area: top 25 origin regions \n",
    "\n",
    "csa_move_matrix.loc[csa_move_matrix[d_var]==BAY_AREA_CSA].set_index([d_var,o_var]).flow.groupby(level=0).apply(pct).unstack(0).sort_values(BAY_AREA_CSA).head(10).plot(kind='barh')\n"
   ]
  },
  {
   "cell_type": "code",
   "execution_count": 69,
   "id": "bb10c95c",
   "metadata": {},
   "outputs": [
    {
     "name": "stderr",
     "output_type": "stream",
     "text": [
      "/var/folders/x8/3_n775lx7zq1nv3mddc7vmlh0000gp/T/ipykernel_23616/402318048.py:3: FutureWarning: Not prepending group keys to the result index of transform-like apply. In the future, the group keys will be included in the index, regardless of whether the applied function returns a like-indexed object.\n",
      "To preserve the previous behavior, use\n",
      "\n",
      "\t>>> .groupby(..., group_keys=False)\n",
      "\n",
      "To adopt the future behavior and silence this warning, use \n",
      "\n",
      "\t>>> .groupby(..., group_keys=True)\n",
      "  csa_move_matrix.loc[csa_move_matrix[o_var]==BAY_AREA_CSA].set_index([o_var,d_var]).flow.groupby(level=0).apply(pct).unstack(0).sort_values(BAY_AREA_CSA).head(10).plot(kind='barh')\n"
     ]
    },
    {
     "data": {
      "text/plain": [
       "<AxesSubplot: ylabel='csa_dest_top_15'>"
      ]
     },
     "execution_count": 69,
     "metadata": {},
     "output_type": "execute_result"
    },
    {
     "data": {
      "image/png": "[encoded data removed]",
      "text/plain": [
       "<Figure size 1200x700 with 1 Axes>"
      ]
     },
     "metadata": {},
     "output_type": "display_data"
    }
   ],
   "source": [
    "# Moves FROM the Bay Area: top 25 destination regions \n",
    "\n",
    "csa_move_matrix.loc[csa_move_matrix[o_var]==BAY_AREA_CSA].set_index([o_var,d_var]).flow.groupby(level=0).apply(pct).unstack(0).sort_values(BAY_AREA_CSA).head(10).plot(kind='barh')"
   ]
  },
  {
   "cell_type": "code",
   "execution_count": 70,
   "id": "a7477c6f",
   "metadata": {},
   "outputs": [
    {
     "data": {
      "text/html": [
       "<div>\n",
       "<style scoped>\n",
       "    .dataframe tbody tr th:only-of-type {\n",
       "        vertical-align: middle;\n",
       "    }\n",
       "\n",
       "    .dataframe tbody tr th {\n",
       "        vertical-align: top;\n",
       "    }\n",
       "\n",
       "    .dataframe thead th {\n",
       "        text-align: right;\n",
       "    }\n",
       "</style>\n",
       "<table border=\"1\" class=\"dataframe\">\n",
       "  <thead>\n",
       "    <tr style=\"text-align: right;\">\n",
       "      <th></th>\n",
       "      <th>csa_orig_top_15</th>\n",
       "      <th>csa_dest_top_15</th>\n",
       "      <th>flow</th>\n",
       "    </tr>\n",
       "  </thead>\n",
       "  <tbody>\n",
       "    <tr>\n",
       "      <th>0</th>\n",
       "      <td>Atlanta--Athens-Clarke County--Sandy Springs, ...</td>\n",
       "      <td>Boston-Worcester-Providence, MA-RI-NH-CT</td>\n",
       "      <td>1016</td>\n",
       "    </tr>\n",
       "    <tr>\n",
       "      <th>1</th>\n",
       "      <td>Atlanta--Athens-Clarke County--Sandy Springs, ...</td>\n",
       "      <td>Cape Coral-Fort Myers-Naples, FL</td>\n",
       "      <td>1840</td>\n",
       "    </tr>\n",
       "    <tr>\n",
       "      <th>2</th>\n",
       "      <td>Atlanta--Athens-Clarke County--Sandy Springs, ...</td>\n",
       "      <td>Chicago-Naperville, IL-IN-WI</td>\n",
       "      <td>1736</td>\n",
       "    </tr>\n",
       "    <tr>\n",
       "      <th>3</th>\n",
       "      <td>Atlanta--Athens-Clarke County--Sandy Springs, ...</td>\n",
       "      <td>Denver-Aurora, CO</td>\n",
       "      <td>1378</td>\n",
       "    </tr>\n",
       "    <tr>\n",
       "      <th>4</th>\n",
       "      <td>Atlanta--Athens-Clarke County--Sandy Springs, ...</td>\n",
       "      <td>Detroit-Warren-Ann Arbor, MI</td>\n",
       "      <td>1660</td>\n",
       "    </tr>\n",
       "    <tr>\n",
       "      <th>...</th>\n",
       "      <td>...</td>\n",
       "      <td>...</td>\n",
       "      <td>...</td>\n",
       "    </tr>\n",
       "    <tr>\n",
       "      <th>243</th>\n",
       "      <td>Washington-Baltimore-Arlington, DC-MD-VA-WV-PA</td>\n",
       "      <td>Minneapolis-St. Paul, MN-WI</td>\n",
       "      <td>831</td>\n",
       "    </tr>\n",
       "    <tr>\n",
       "      <th>244</th>\n",
       "      <td>Washington-Baltimore-Arlington, DC-MD-VA-WV-PA</td>\n",
       "      <td>Outside Top CSAs</td>\n",
       "      <td>92055</td>\n",
       "    </tr>\n",
       "    <tr>\n",
       "      <th>245</th>\n",
       "      <td>Washington-Baltimore-Arlington, DC-MD-VA-WV-PA</td>\n",
       "      <td>Phoenix-Mesa, AZ</td>\n",
       "      <td>2063</td>\n",
       "    </tr>\n",
       "    <tr>\n",
       "      <th>246</th>\n",
       "      <td>Washington-Baltimore-Arlington, DC-MD-VA-WV-PA</td>\n",
       "      <td>Sacramento-Roseville, CA</td>\n",
       "      <td>506</td>\n",
       "    </tr>\n",
       "    <tr>\n",
       "      <th>247</th>\n",
       "      <td>Washington-Baltimore-Arlington, DC-MD-VA-WV-PA</td>\n",
       "      <td>San Jose-San Francisco-Oakland, CA</td>\n",
       "      <td>4042</td>\n",
       "    </tr>\n",
       "  </tbody>\n",
       "</table>\n",
       "<p>248 rows × 3 columns</p>\n",
       "</div>"
      ],
      "text/plain": [
       "                                       csa_orig_top_15  \\\n",
       "0    Atlanta--Athens-Clarke County--Sandy Springs, ...   \n",
       "1    Atlanta--Athens-Clarke County--Sandy Springs, ...   \n",
       "2    Atlanta--Athens-Clarke County--Sandy Springs, ...   \n",
       "3    Atlanta--Athens-Clarke County--Sandy Springs, ...   \n",
       "4    Atlanta--Athens-Clarke County--Sandy Springs, ...   \n",
       "..                                                 ...   \n",
       "243     Washington-Baltimore-Arlington, DC-MD-VA-WV-PA   \n",
       "244     Washington-Baltimore-Arlington, DC-MD-VA-WV-PA   \n",
       "245     Washington-Baltimore-Arlington, DC-MD-VA-WV-PA   \n",
       "246     Washington-Baltimore-Arlington, DC-MD-VA-WV-PA   \n",
       "247     Washington-Baltimore-Arlington, DC-MD-VA-WV-PA   \n",
       "\n",
       "                              csa_dest_top_15   flow  \n",
       "0    Boston-Worcester-Providence, MA-RI-NH-CT   1016  \n",
       "1            Cape Coral-Fort Myers-Naples, FL   1840  \n",
       "2                Chicago-Naperville, IL-IN-WI   1736  \n",
       "3                           Denver-Aurora, CO   1378  \n",
       "4                Detroit-Warren-Ann Arbor, MI   1660  \n",
       "..                                        ...    ...  \n",
       "243               Minneapolis-St. Paul, MN-WI    831  \n",
       "244                          Outside Top CSAs  92055  \n",
       "245                          Phoenix-Mesa, AZ   2063  \n",
       "246                  Sacramento-Roseville, CA    506  \n",
       "247        San Jose-San Francisco-Oakland, CA   4042  \n",
       "\n",
       "[248 rows x 3 columns]"
      ]
     },
     "execution_count": 70,
     "metadata": {},
     "output_type": "execute_result"
    }
   ],
   "source": [
    "csa_move_matrix#[csa_move_matrix.csa_dest_top_15.str.contains('New Y')]"
   ]
  },
  {
   "cell_type": "code",
   "execution_count": 71,
   "id": "e7705148",
   "metadata": {},
   "outputs": [
    {
     "data": {
      "text/html": [
       "<div>\n",
       "<style scoped>\n",
       "    .dataframe tbody tr th:only-of-type {\n",
       "        vertical-align: middle;\n",
       "    }\n",
       "\n",
       "    .dataframe tbody tr th {\n",
       "        vertical-align: top;\n",
       "    }\n",
       "\n",
       "    .dataframe thead th {\n",
       "        text-align: right;\n",
       "    }\n",
       "</style>\n",
       "<table border=\"1\" class=\"dataframe\">\n",
       "  <thead>\n",
       "    <tr style=\"text-align: right;\">\n",
       "      <th></th>\n",
       "      <th>csa_orig_top_15</th>\n",
       "      <th>csa_dest_top_15</th>\n",
       "      <th>Flow A to B</th>\n",
       "      <th>Flow B to A</th>\n",
       "      <th>Net Flow</th>\n",
       "    </tr>\n",
       "  </thead>\n",
       "  <tbody>\n",
       "    <tr>\n",
       "      <th>120</th>\n",
       "      <td>San Jose-San Francisco-Oakland, CA</td>\n",
       "      <td>Atlanta--Athens-Clarke County--Sandy Springs, ...</td>\n",
       "      <td>5210</td>\n",
       "      <td>2631</td>\n",
       "      <td>-2579</td>\n",
       "    </tr>\n",
       "    <tr>\n",
       "      <th>121</th>\n",
       "      <td>San Jose-San Francisco-Oakland, CA</td>\n",
       "      <td>Boston-Worcester-Providence, MA-RI-NH-CT</td>\n",
       "      <td>4214</td>\n",
       "      <td>5758</td>\n",
       "      <td>1544</td>\n",
       "    </tr>\n",
       "    <tr>\n",
       "      <th>122</th>\n",
       "      <td>San Jose-San Francisco-Oakland, CA</td>\n",
       "      <td>Chicago-Naperville, IL-IN-WI</td>\n",
       "      <td>4416</td>\n",
       "      <td>7884</td>\n",
       "      <td>3468</td>\n",
       "    </tr>\n",
       "    <tr>\n",
       "      <th>123</th>\n",
       "      <td>San Jose-San Francisco-Oakland, CA</td>\n",
       "      <td>Denver-Aurora, CO</td>\n",
       "      <td>6683</td>\n",
       "      <td>2692</td>\n",
       "      <td>-3991</td>\n",
       "    </tr>\n",
       "    <tr>\n",
       "      <th>124</th>\n",
       "      <td>San Jose-San Francisco-Oakland, CA</td>\n",
       "      <td>Fresno-Madera-Hanford, CA</td>\n",
       "      <td>8534</td>\n",
       "      <td>6730</td>\n",
       "      <td>-1804</td>\n",
       "    </tr>\n",
       "    <tr>\n",
       "      <th>125</th>\n",
       "      <td>San Jose-San Francisco-Oakland, CA</td>\n",
       "      <td>Los Angeles-Long Beach, CA</td>\n",
       "      <td>59709</td>\n",
       "      <td>45325</td>\n",
       "      <td>-14384</td>\n",
       "    </tr>\n",
       "    <tr>\n",
       "      <th>126</th>\n",
       "      <td>San Jose-San Francisco-Oakland, CA</td>\n",
       "      <td>Miami-Port St. Lucie-Fort Lauderdale, FL</td>\n",
       "      <td>2026</td>\n",
       "      <td>2632</td>\n",
       "      <td>606</td>\n",
       "    </tr>\n",
       "    <tr>\n",
       "      <th>127</th>\n",
       "      <td>San Jose-San Francisco-Oakland, CA</td>\n",
       "      <td>Minneapolis-St. Paul, MN-WI</td>\n",
       "      <td>1826</td>\n",
       "      <td>2142</td>\n",
       "      <td>316</td>\n",
       "    </tr>\n",
       "    <tr>\n",
       "      <th>128</th>\n",
       "      <td>San Jose-San Francisco-Oakland, CA</td>\n",
       "      <td>Outside Top CSAs</td>\n",
       "      <td>88482</td>\n",
       "      <td>92357</td>\n",
       "      <td>3875</td>\n",
       "    </tr>\n",
       "    <tr>\n",
       "      <th>129</th>\n",
       "      <td>San Jose-San Francisco-Oakland, CA</td>\n",
       "      <td>Phoenix-Mesa, AZ</td>\n",
       "      <td>6774</td>\n",
       "      <td>3160</td>\n",
       "      <td>-3614</td>\n",
       "    </tr>\n",
       "    <tr>\n",
       "      <th>130</th>\n",
       "      <td>San Jose-San Francisco-Oakland, CA</td>\n",
       "      <td>Sacramento-Roseville, CA</td>\n",
       "      <td>44258</td>\n",
       "      <td>19941</td>\n",
       "      <td>-24317</td>\n",
       "    </tr>\n",
       "    <tr>\n",
       "      <th>131</th>\n",
       "      <td>San Jose-San Francisco-Oakland, CA</td>\n",
       "      <td>Washington-Baltimore-Arlington, DC-MD-VA-WV-PA</td>\n",
       "      <td>3705</td>\n",
       "      <td>4042</td>\n",
       "      <td>337</td>\n",
       "    </tr>\n",
       "  </tbody>\n",
       "</table>\n",
       "</div>"
      ],
      "text/plain": [
       "                        csa_orig_top_15  \\\n",
       "120  San Jose-San Francisco-Oakland, CA   \n",
       "121  San Jose-San Francisco-Oakland, CA   \n",
       "122  San Jose-San Francisco-Oakland, CA   \n",
       "123  San Jose-San Francisco-Oakland, CA   \n",
       "124  San Jose-San Francisco-Oakland, CA   \n",
       "125  San Jose-San Francisco-Oakland, CA   \n",
       "126  San Jose-San Francisco-Oakland, CA   \n",
       "127  San Jose-San Francisco-Oakland, CA   \n",
       "128  San Jose-San Francisco-Oakland, CA   \n",
       "129  San Jose-San Francisco-Oakland, CA   \n",
       "130  San Jose-San Francisco-Oakland, CA   \n",
       "131  San Jose-San Francisco-Oakland, CA   \n",
       "\n",
       "                                       csa_dest_top_15  Flow A to B  \\\n",
       "120  Atlanta--Athens-Clarke County--Sandy Springs, ...         5210   \n",
       "121           Boston-Worcester-Providence, MA-RI-NH-CT         4214   \n",
       "122                       Chicago-Naperville, IL-IN-WI         4416   \n",
       "123                                  Denver-Aurora, CO         6683   \n",
       "124                          Fresno-Madera-Hanford, CA         8534   \n",
       "125                         Los Angeles-Long Beach, CA        59709   \n",
       "126           Miami-Port St. Lucie-Fort Lauderdale, FL         2026   \n",
       "127                        Minneapolis-St. Paul, MN-WI         1826   \n",
       "128                                   Outside Top CSAs        88482   \n",
       "129                                   Phoenix-Mesa, AZ         6774   \n",
       "130                           Sacramento-Roseville, CA        44258   \n",
       "131     Washington-Baltimore-Arlington, DC-MD-VA-WV-PA         3705   \n",
       "\n",
       "     Flow B to A  Net Flow  \n",
       "120         2631     -2579  \n",
       "121         5758      1544  \n",
       "122         7884      3468  \n",
       "123         2692     -3991  \n",
       "124         6730     -1804  \n",
       "125        45325    -14384  \n",
       "126         2632       606  \n",
       "127         2142       316  \n",
       "128        92357      3875  \n",
       "129         3160     -3614  \n",
       "130        19941    -24317  \n",
       "131         4042       337  "
      ]
     },
     "execution_count": 71,
     "metadata": {},
     "output_type": "execute_result"
    }
   ],
   "source": [
    "# prepare a side-by-side format\n",
    "\n",
    "csa_move_matrix_with_net = csa_move_matrix.merge(csa_move_matrix.rename(columns={'csa_orig_top_15':'csa_dest_top_15','csa_dest_top_15':'csa_orig_top_15'}),\n",
    "                                             on=['csa_orig_top_15','csa_dest_top_15']).rename(columns={'flow_x':'Flow A to B',\n",
    "                                                                                        'flow_y':'Flow B to A'})\n",
    "csa_move_matrix_with_net['Net Flow'] = csa_move_matrix_with_net['Flow B to A'] - csa_move_matrix_with_net['Flow A to B']\n",
    "csa_move_matrix_with_net[csa_move_matrix_with_net.csa_orig_top_15=='San Jose-San Francisco-Oakland, CA']"
   ]
  },
  {
   "cell_type": "code",
   "execution_count": null,
   "id": "1475a4d9",
   "metadata": {},
   "outputs": [],
   "source": []
  },
  {
   "cell_type": "code",
   "execution_count": 72,
   "id": "38104cbf",
   "metadata": {},
   "outputs": [],
   "source": [
    "PROCESSED_DATA = '/Users/aolsen/Box/Modeling and Surveys/Projects/Regional Growth Forecast Update/Estimates/PUMS'\n",
    "\n",
    "csa_for_plot = csa_move_matrix.query(f'(csa_orig_top_15 in {top_pop[5]} & csa_dest_top_15 in {top_pop[5]}) ').sort_values('flow').set_index(['csa_orig_top_15','csa_dest_top_15']).flow\n",
    "csa_for_plot.reset_index().to_csv(os.path.join(PROCESSED_DATA,'mig_puma_mig_csa.csv'))"
   ]
  },
  {
   "cell_type": "code",
   "execution_count": 73,
   "id": "7677fb82",
   "metadata": {},
   "outputs": [
    {
     "data": {
      "text/plain": [
       "(array([0.5, 1.5, 2.5, 3.5, 4.5]),\n",
       " [Text(0, 0.5, 'Atlanta--Athens-Clarke County--Sandy Springs, GA-AL'),\n",
       "  Text(0, 1.5, 'Chicago-Naperville, IL-IN-WI'),\n",
       "  Text(0, 2.5, 'Los Angeles-Long Beach, CA'),\n",
       "  Text(0, 3.5, 'Miami-Port St. Lucie-Fort Lauderdale, FL'),\n",
       "  Text(0, 4.5, 'San Jose-San Francisco-Oakland, CA')])"
      ]
     },
     "execution_count": 73,
     "metadata": {},
     "output_type": "execute_result"
    },
    {
     "data": {
      "image/png": "[encoded data removed]",
      "text/plain": [
       "<Figure size 1700x850 with 2 Axes>"
      ]
     },
     "metadata": {},
     "output_type": "display_data"
    }
   ],
   "source": [
    "fig, ax = plt.subplots(figsize=[17, 8.5])\n",
    "sns.heatmap(csa_for_plot.map(lambda x: x/1000).unstack(1),\n",
    "            annot=True, fmt=',.1f', linewidths=.5, cmap=cm.coolwarm,\n",
    "            annot_kws={'fontsize': 15})\n",
    "plt.title('CSA move flows for the 15 largest CSAs\\nNumbers are in 1,000s\\nSource: U.S. Census Bureau, American Community Survey, 2021 PUMS', size=14)\n",
    "plt.tight_layout()\n",
    "plt.xticks(size=10, ha='right', rotation=90)\n",
    "plt.yticks(size=10)\n",
    "#wrap_labels(ax, 20)\n",
    "#savefig(os.path.join(box,'COVID Density Research Proejct/Tidbits/plots/splom_heat.svg'))"
   ]
  },
  {
   "cell_type": "markdown",
   "id": "b5401e2d",
   "metadata": {},
   "source": [
    "#### CSA level - by age"
   ]
  },
  {
   "cell_type": "code",
   "execution_count": 74,
   "id": "dd763612",
   "metadata": {},
   "outputs": [
    {
     "data": {
      "text/html": [
       "<div>\n",
       "<style scoped>\n",
       "    .dataframe tbody tr th:only-of-type {\n",
       "        vertical-align: middle;\n",
       "    }\n",
       "\n",
       "    .dataframe tbody tr th {\n",
       "        vertical-align: top;\n",
       "    }\n",
       "\n",
       "    .dataframe thead th {\n",
       "        text-align: right;\n",
       "    }\n",
       "</style>\n",
       "<table border=\"1\" class=\"dataframe\">\n",
       "  <thead>\n",
       "    <tr style=\"text-align: right;\">\n",
       "      <th></th>\n",
       "      <th>csa_orig</th>\n",
       "      <th>csa_dest</th>\n",
       "      <th>age_cat</th>\n",
       "      <th>flow</th>\n",
       "    </tr>\n",
       "  </thead>\n",
       "  <tbody>\n",
       "    <tr>\n",
       "      <th>3710</th>\n",
       "      <td>Macon-Bibb County--Warner Robins, GA</td>\n",
       "      <td>Los Angeles-Long Beach, CA</td>\n",
       "      <td>age2044</td>\n",
       "      <td>2</td>\n",
       "    </tr>\n",
       "    <tr>\n",
       "      <th>5237</th>\n",
       "      <td>Orlando-Lakeland-Deltona, FL</td>\n",
       "      <td>Minneapolis-St. Paul, MN-WI</td>\n",
       "      <td>age2044</td>\n",
       "      <td>2</td>\n",
       "    </tr>\n",
       "    <tr>\n",
       "      <th>7186</th>\n",
       "      <td>Washington-Baltimore-Arlington, DC-MD-VA-WV-PA</td>\n",
       "      <td>Sacramento-Roseville, CA</td>\n",
       "      <td>age4564</td>\n",
       "      <td>3</td>\n",
       "    </tr>\n",
       "    <tr>\n",
       "      <th>4234</th>\n",
       "      <td>Mobile-Daphne-Fairhope, AL</td>\n",
       "      <td>Little Rock-North Little Rock, AR</td>\n",
       "      <td>age65p</td>\n",
       "      <td>3</td>\n",
       "    </tr>\n",
       "    <tr>\n",
       "      <th>2585</th>\n",
       "      <td>Houston-The Woodlands, TX</td>\n",
       "      <td>Mount Pleasant-Alma, MI</td>\n",
       "      <td>age0019</td>\n",
       "      <td>4</td>\n",
       "    </tr>\n",
       "    <tr>\n",
       "      <th>...</th>\n",
       "      <td>...</td>\n",
       "      <td>...</td>\n",
       "      <td>...</td>\n",
       "      <td>...</td>\n",
       "    </tr>\n",
       "    <tr>\n",
       "      <th>5024</th>\n",
       "      <td>Not in a Combined Statistical Area</td>\n",
       "      <td>San Jose-San Francisco-Oakland, CA</td>\n",
       "      <td>age2044</td>\n",
       "      <td>34352</td>\n",
       "    </tr>\n",
       "    <tr>\n",
       "      <th>6359</th>\n",
       "      <td>San Jose-San Francisco-Oakland, CA</td>\n",
       "      <td>Los Angeles-Long Beach, CA</td>\n",
       "      <td>age2044</td>\n",
       "      <td>34555</td>\n",
       "    </tr>\n",
       "    <tr>\n",
       "      <th>3547</th>\n",
       "      <td>Los Angeles-Long Beach, CA</td>\n",
       "      <td>Not in a Combined Statistical Area</td>\n",
       "      <td>age0019</td>\n",
       "      <td>37808</td>\n",
       "    </tr>\n",
       "    <tr>\n",
       "      <th>4917</th>\n",
       "      <td>Not in a Combined Statistical Area</td>\n",
       "      <td>Los Angeles-Long Beach, CA</td>\n",
       "      <td>age2044</td>\n",
       "      <td>46298</td>\n",
       "    </tr>\n",
       "    <tr>\n",
       "      <th>3548</th>\n",
       "      <td>Los Angeles-Long Beach, CA</td>\n",
       "      <td>Not in a Combined Statistical Area</td>\n",
       "      <td>age2044</td>\n",
       "      <td>49075</td>\n",
       "    </tr>\n",
       "  </tbody>\n",
       "</table>\n",
       "<p>7270 rows × 4 columns</p>\n",
       "</div>"
      ],
      "text/plain": [
       "                                            csa_orig  \\\n",
       "3710            Macon-Bibb County--Warner Robins, GA   \n",
       "5237                    Orlando-Lakeland-Deltona, FL   \n",
       "7186  Washington-Baltimore-Arlington, DC-MD-VA-WV-PA   \n",
       "4234                      Mobile-Daphne-Fairhope, AL   \n",
       "2585                       Houston-The Woodlands, TX   \n",
       "...                                              ...   \n",
       "5024              Not in a Combined Statistical Area   \n",
       "6359              San Jose-San Francisco-Oakland, CA   \n",
       "3547                      Los Angeles-Long Beach, CA   \n",
       "4917              Not in a Combined Statistical Area   \n",
       "3548                      Los Angeles-Long Beach, CA   \n",
       "\n",
       "                                csa_dest  age_cat   flow  \n",
       "3710          Los Angeles-Long Beach, CA  age2044      2  \n",
       "5237         Minneapolis-St. Paul, MN-WI  age2044      2  \n",
       "7186            Sacramento-Roseville, CA  age4564      3  \n",
       "4234   Little Rock-North Little Rock, AR   age65p      3  \n",
       "2585             Mount Pleasant-Alma, MI  age0019      4  \n",
       "...                                  ...      ...    ...  \n",
       "5024  San Jose-San Francisco-Oakland, CA  age2044  34352  \n",
       "6359          Los Angeles-Long Beach, CA  age2044  34555  \n",
       "3547  Not in a Combined Statistical Area  age0019  37808  \n",
       "4917          Los Angeles-Long Beach, CA  age2044  46298  \n",
       "3548  Not in a Combined Statistical Area  age2044  49075  \n",
       "\n",
       "[7270 rows x 4 columns]"
      ]
     },
     "execution_count": 74,
     "metadata": {},
     "output_type": "execute_result"
    }
   ],
   "source": [
    "# matrix where origin is not the same as destination county\n",
    "csa_move_matrix_age = pers_data.loc[((pers_data.csa_orig!=pers_data.csa_dest)\n",
    "                                 &(pers_data.MIG.isin([2,3])))\n",
    "                                 ].groupby(['csa_orig','csa_dest','age_cat'],observed = True).PWGTP.sum().reset_index(name='flow')\n",
    "csa_move_matrix_age.sort_values('flow')"
   ]
  },
  {
   "cell_type": "code",
   "execution_count": 75,
   "id": "4d2a844a",
   "metadata": {},
   "outputs": [
    {
     "ename": "NameError",
     "evalue": "name 'CSA_TOP_15' is not defined",
     "output_type": "error",
     "traceback": [
      "\u001b[0;31m---------------------------------------------------------------------------\u001b[0m",
      "\u001b[0;31mNameError\u001b[0m                                 Traceback (most recent call last)",
      "Cell \u001b[0;32mIn[75], line 1\u001b[0m\n\u001b[0;32m----> 1\u001b[0m csa_age_for_plot \u001b[38;5;241m=\u001b[39m csa_move_matrix_age\u001b[38;5;241m.\u001b[39mquery(\u001b[38;5;124mf\u001b[39m\u001b[38;5;124m'\u001b[39m\u001b[38;5;124m(csa_orig in \u001b[39m\u001b[38;5;132;01m{\u001b[39;00m\u001b[43mCSA_TOP_15\u001b[49m\u001b[38;5;132;01m}\u001b[39;00m\u001b[38;5;124m & csa_dest in \u001b[39m\u001b[38;5;132;01m{\u001b[39;00mCSA_TOP_15\u001b[38;5;132;01m}\u001b[39;00m\u001b[38;5;124m) \u001b[39m\u001b[38;5;124m'\u001b[39m)\u001b[38;5;241m.\u001b[39msort_values(\u001b[38;5;124m'\u001b[39m\u001b[38;5;124mflow\u001b[39m\u001b[38;5;124m'\u001b[39m)\u001b[38;5;241m.\u001b[39mset_index([\u001b[38;5;124m'\u001b[39m\u001b[38;5;124mcsa_orig\u001b[39m\u001b[38;5;124m'\u001b[39m,\u001b[38;5;124m'\u001b[39m\u001b[38;5;124mcsa_dest\u001b[39m\u001b[38;5;124m'\u001b[39m,\u001b[38;5;124m'\u001b[39m\u001b[38;5;124mage_cat\u001b[39m\u001b[38;5;124m'\u001b[39m])\u001b[38;5;241m.\u001b[39mflow\n\u001b[1;32m      2\u001b[0m csa_age_for_plot\u001b[38;5;241m.\u001b[39mreset_index()\u001b[38;5;241m.\u001b[39mto_csv(os\u001b[38;5;241m.\u001b[39mpath\u001b[38;5;241m.\u001b[39mjoin(PROCESSED_DATA,\u001b[38;5;124m'\u001b[39m\u001b[38;5;124meq04mig_puma_mig_csa_age.csv\u001b[39m\u001b[38;5;124m'\u001b[39m))\n",
      "\u001b[0;31mNameError\u001b[0m: name 'CSA_TOP_15' is not defined"
     ]
    }
   ],
   "source": [
    "csa_age_for_plot = csa_move_matrix_age.query(f'(csa_orig in {CSA_TOP_15} & csa_dest in {CSA_TOP_15}) ').sort_values('flow').set_index(['csa_orig','csa_dest','age_cat']).flow\n",
    "csa_age_for_plot.reset_index().to_csv(os.path.join(PROCESSED_DATA,'eq04mig_puma_mig_csa_age.csv'))"
   ]
  },
  {
   "cell_type": "markdown",
   "id": "4be98ef5",
   "metadata": {},
   "source": [
    "#### CSA level - by race / ethnicity"
   ]
  },
  {
   "cell_type": "code",
   "execution_count": null,
   "id": "466a2da9",
   "metadata": {},
   "outputs": [],
   "source": [
    "# matrix where origin is not the same as destination county\n",
    "csa_move_matrix_race = pers_data.loc[((pers_data.csa_orig!=pers_data.csa_dest)\n",
    "                                 &(pers_data.MIG.isin([2,3])))\n",
    "                                 ].groupby(['csa_orig','csa_dest','race_ethn']).PWGTP.sum().reset_index(name='flow')\n",
    "csa_move_matrix_race"
   ]
  },
  {
   "cell_type": "code",
   "execution_count": null,
   "id": "6c5ca35f",
   "metadata": {},
   "outputs": [],
   "source": [
    "csa_move_matrix_race_with_net = csa_move_matrix_race.merge(csa_move_matrix_race.rename(columns={'csa_orig':'csa_dest','csa_dest':'csa_orig'}),\n",
    "                                             on=['csa_orig','csa_dest','race_ethn']).rename(columns={'flow_x':'Flow A to B',\n",
    "                                                                                        'flow_y':'Flow B to A'})\n",
    "csa_move_matrix_race_with_net['Net Flow'] = csa_move_matrix_race_with_net['Flow A to B'] - csa_move_matrix_race_with_net['Flow B to A']\n",
    "csa_move_matrix_race_with_net.set_index(['csa_orig','csa_dest','race_ethn']).unstack(2).loc['San Jose-San Francisco-Oakland, CA','Houston-The Woodlands, TX'].unstack(0).plot(kind='bar')\n"
   ]
  },
  {
   "cell_type": "code",
   "execution_count": null,
   "id": "1228d55f",
   "metadata": {},
   "outputs": [],
   "source": []
  },
  {
   "cell_type": "markdown",
   "id": "2d01ecf8",
   "metadata": {},
   "source": [
    "### Check overall flows in and out of bay area counties"
   ]
  },
  {
   "cell_type": "markdown",
   "id": "e9a352ee",
   "metadata": {},
   "source": [
    "#### Moved FROM Bay Area to anywhere in the US"
   ]
  },
  {
   "cell_type": "code",
   "execution_count": null,
   "id": "184c9f6b",
   "metadata": {},
   "outputs": [],
   "source": [
    "moved_from_bayarea = pers_data.loc[(pers_data.MIGSTPUMA.isin(BAY_AREA_MIGSTPUMAS))&\n",
    "                                  (pers_data.stcounty_dest_bayarea==False)].groupby(['csa_orig','csa_dest']).PWGTP.sum()\n",
    "moved_from_bayarea.sort_values(ascending=False).head(10)"
   ]
  },
  {
   "cell_type": "code",
   "execution_count": null,
   "id": "f6be2ac2",
   "metadata": {},
   "outputs": [],
   "source": [
    "bayarea_exit_totals = pers_data.loc[(pers_data.MIGSTPUMA.isin(BAY_AREA_MIGSTPUMAS))&\n",
    "                                  (pers_data.stcounty_dest_bayarea==False)].groupby(['csa_orig','csa_dest']).PWGTP.sum()\n",
    "bayarea_exit_totals"
   ]
  },
  {
   "cell_type": "markdown",
   "id": "c1b16dee",
   "metadata": {},
   "source": [
    "#### Moved TO the Bay Area FROM anywhere in the US"
   ]
  },
  {
   "cell_type": "code",
   "execution_count": null,
   "id": "843eb000",
   "metadata": {},
   "outputs": [],
   "source": [
    "moved_to_bayarea = pers_data.loc[(pers_data.stcounty_dest.isin(bayareafips_full)) & (pers_data.MIGSP)\n",
    "                                 & (pers_data.stcounty_orig_bayarea == False)].groupby(['csa_orig', 'csa_dest']).PWGTP.sum().sort_values().tail(20)\n",
    "moved_to_bayarea.sort_values(ascending=False).head(10)"
   ]
  },
  {
   "cell_type": "code",
   "execution_count": null,
   "id": "8a96b10c",
   "metadata": {},
   "outputs": [],
   "source": [
    "bayarea_newcomers_total = pers_data.loc[(pers_data.stcounty_dest.isin(bayareafips_full)) & (pers_data.MIGSP)\n",
    "              & (pers_data.stcounty_orig_bayarea == False)].groupby(['csa_dest']).PWGTP.sum()\n",
    "bayarea_newcomers_total"
   ]
  },
  {
   "cell_type": "markdown",
   "id": "228258df",
   "metadata": {},
   "source": [
    "#### Moved WITHIN the Bay Area but to a different county"
   ]
  },
  {
   "cell_type": "code",
   "execution_count": 99,
   "id": "a808b31a",
   "metadata": {},
   "outputs": [],
   "source": [
    "moved_within_bayarea = pers_data.loc[ \n",
    "                                 (pers_data.stcounty_dest_bayarea)\n",
    "                                     & (pers_data.stcounty_orig_bayarea)\n",
    "&(pers_data.stcounty_dest!=pers_data.stcounty_orig)].groupby(['county_orig', 'county_dest']).PWGTP.sum().sort_values()\n"
   ]
  },
  {
   "cell_type": "code",
   "execution_count": 107,
   "id": "9fe42414",
   "metadata": {},
   "outputs": [
    {
     "data": {
      "text/plain": [
       "(array([0.5, 1.5, 2.5, 3.5, 4.5, 5.5, 6.5, 7.5, 8.5]),\n",
       " [Text(0, 0.5, 'Alameda County (CA)'),\n",
       "  Text(0, 1.5, 'Contra Costa County (CA)'),\n",
       "  Text(0, 2.5, 'Marin County (CA)'),\n",
       "  Text(0, 3.5, 'Napa County (CA)'),\n",
       "  Text(0, 4.5, 'San Francisco County (CA)'),\n",
       "  Text(0, 5.5, 'San Mateo County (CA)'),\n",
       "  Text(0, 6.5, 'Santa Clara County (CA)'),\n",
       "  Text(0, 7.5, 'Solano County (CA)'),\n",
       "  Text(0, 8.5, 'Sonoma County (CA)')])"
      ]
     },
     "execution_count": 107,
     "metadata": {},
     "output_type": "execute_result"
    },
    {
     "data": {
      "image/png": "[encoded data removed]",
      "text/plain": [
       "<Figure size 1100x850 with 2 Axes>"
      ]
     },
     "metadata": {},
     "output_type": "display_data"
    }
   ],
   "source": [
    "fig, ax = plt.subplots(figsize=[11, 8.5])\n",
    "sns.heatmap(moved_within_bayarea.unstack(1),\n",
    "            annot=True, fmt=',.0f', linewidths=.5, cmap=cm.coolwarm,\n",
    "            annot_kws={'fontsize': 12})\n",
    "plt.title('Bay Area Internal Move flows\\nNumbers are in 1,000s\\nSource: U.S. Census Bureau, American Community Survey, 2021 PUMS', size=14)\n",
    "plt.tight_layout()\n",
    "plt.xticks(size=10, ha='right', rotation=90)\n",
    "plt.yticks(size=10)\n",
    "#wrap_labels(ax, 20)\n",
    "#savefig(os.path.join(box,'COVID Density Research Proejct/Tidbits/plots/splom_heat.svg'))"
   ]
  },
  {
   "cell_type": "code",
   "execution_count": 118,
   "id": "d16add8a",
   "metadata": {},
   "outputs": [
    {
     "name": "stdout",
     "output_type": "stream",
     "text": [
      "Alameda County (CA)\n",
      "Contra Costa County (CA)\n",
      "Marin County (CA)\n",
      "Napa County (CA)\n",
      "San Francisco County (CA)\n",
      "San Mateo County (CA)\n",
      "Santa Clara County (CA)\n",
      "Solano County (CA)\n",
      "Sonoma County (CA)\n"
     ]
    },
    {
     "name": "stderr",
     "output_type": "stream",
     "text": [
      "/var/folders/x8/3_n775lx7zq1nv3mddc7vmlh0000gp/T/ipykernel_23616/1395307046.py:3: FutureWarning: Using the level keyword in DataFrame and Series aggregations is deprecated and will be removed in a future version. Use groupby instead. df.sum(level=1) should use df.groupby(level=1).sum().\n",
      "  moved_within_bayarea.sum(level=1)\n"
     ]
    },
    {
     "data": {
      "text/plain": [
       "county_dest\n",
       "Napa County (CA)              3731\n",
       "San Mateo County (CA)        18722\n",
       "Solano County (CA)           11358\n",
       "San Francisco County (CA)    27576\n",
       "Contra Costa County (CA)     36210\n",
       "Santa Clara County (CA)      20978\n",
       "Sonoma County (CA)            8125\n",
       "Marin County (CA)            13465\n",
       "Alameda County (CA)          47473\n",
       "Name: PWGTP, dtype: int64"
      ]
     },
     "execution_count": 118,
     "metadata": {},
     "output_type": "execute_result"
    }
   ],
   "source": [
    "for i, row in moved_within_bayarea.groupby(level=0):\n",
    "    print(i)\n"
   ]
  },
  {
   "cell_type": "code",
   "execution_count": 130,
   "id": "c11490de",
   "metadata": {},
   "outputs": [
    {
     "name": "stderr",
     "output_type": "stream",
     "text": [
      "/var/folders/x8/3_n775lx7zq1nv3mddc7vmlh0000gp/T/ipykernel_23616/3386451513.py:2: FutureWarning: Using the level keyword in DataFrame and Series aggregations is deprecated and will be removed in a future version. Use groupby instead. df.sum(level=1) should use df.groupby(level=1).sum().\n",
      "  bayarea_flows = pd.concat([moved_within_bayarea.sum(level=0),\n",
      "/var/folders/x8/3_n775lx7zq1nv3mddc7vmlh0000gp/T/ipykernel_23616/3386451513.py:3: FutureWarning: Using the level keyword in DataFrame and Series aggregations is deprecated and will be removed in a future version. Use groupby instead. df.sum(level=1) should use df.groupby(level=1).sum().\n",
      "  moved_within_bayarea.sum(level=1)],keys=['outbound','inbound'],names=['direction']).unstack(0)\n"
     ]
    },
    {
     "data": {
      "text/plain": [
       "Text(0.5, 0.98, 'Net flow direction, Bay Area Counties\\nUniverse: Bay Area Movers to a Different Bay Area Count\\nSource: US Census Bureau, PUMS 2021')"
      ]
     },
     "execution_count": 130,
     "metadata": {},
     "output_type": "execute_result"
    },
    {
     "data": {
      "image/png": "[encoded data removed]",
      "text/plain": [
       "<Figure size 1200x700 with 1 Axes>"
      ]
     },
     "metadata": {},
     "output_type": "display_data"
    }
   ],
   "source": [
    "# collapse all flows\n",
    "bayarea_flows = pd.concat([moved_within_bayarea.sum(level=0),\n",
    "          moved_within_bayarea.sum(level=1)],keys=['outbound','inbound'],names=['direction']).unstack(0)\n",
    "bayarea_flows.plot(kind='barh')\n",
    "plt.suptitle('Net flow direction, Bay Area Counties\\nUniverse: Bay Area Movers to a Different Bay Area Count\\nSource: US Census Bureau, PUMS 2021')"
   ]
  },
  {
   "cell_type": "markdown",
   "id": "ae1d46eb",
   "metadata": {},
   "source": [
    "## Place of Work tabulation"
   ]
  },
  {
   "cell_type": "code",
   "execution_count": null,
   "id": "5b8d6584",
   "metadata": {},
   "outputs": [],
   "source": [
    "# 11-wfh\n",
    "pers_data[pers_data['stcounty_pow']=='06075'].groupby(['JWTRNS']).PWGTP.sum()/pers_data[pers_data['stcounty_pow']=='06075'].groupby(['JWTRNS']).PWGTP.sum().sum()"
   ]
  },
  {
   "cell_type": "code",
   "execution_count": null,
   "id": "38f54899",
   "metadata": {},
   "outputs": [],
   "source": [
    "(pers_data.loc[(pers_data['stcounty_pow']=='06075')\n",
    "              &(pers_data.JWTRNS!=11)].groupby(['JWTRNS']).PWGTP.sum()/pers_data.loc[(pers_data['stcounty_pow']=='06075')\n",
    "              &(pers_data.JWTRNS!=11)].groupby(['JWTRNS']).PWGTP.sum().sum()).plot(kind='bar')"
   ]
  },
  {
   "cell_type": "code",
   "execution_count": 82,
   "id": "20ee53b2",
   "metadata": {},
   "outputs": [
    {
     "data": {
      "text/plain": [
       "<AxesSubplot: xlabel='JWTRNS'>"
      ]
     },
     "execution_count": 82,
     "metadata": {},
     "output_type": "execute_result"
    },
    {
     "data": {
      "image/png": "[encoded data removed]",
      "text/plain": [
       "<Figure size 1200x700 with 1 Axes>"
      ]
     },
     "metadata": {},
     "output_type": "display_data"
    }
   ],
   "source": [
    "(pers_data.loc[(pers_data['stcounty_pow']=='06075')\n",
    "              &(pers_data.JWTRNS!=11)].groupby(['JWTRNS']).PWGTP.sum()/pers_data.loc[(pers_data['stcounty_pow']=='06075')\n",
    "              &(pers_data.JWTRNS!=11)].groupby(['JWTRNS']).PWGTP.sum().sum()).plot(kind='bar')"
   ]
  },
  {
   "cell_type": "code",
   "execution_count": 78,
   "id": "8852f3f1",
   "metadata": {},
   "outputs": [
    {
     "data": {
      "text/plain": [
       "JWTRNS\n",
       "1.0     227903\n",
       "2.0      41407\n",
       "3.0      30349\n",
       "4.0       5471\n",
       "5.0       2985\n",
       "6.0       1559\n",
       "7.0       2613\n",
       "8.0       2505\n",
       "9.0      10649\n",
       "10.0     32108\n",
       "12.0      7215\n",
       "Name: PWGTP, dtype: int64"
      ]
     },
     "execution_count": 78,
     "metadata": {},
     "output_type": "execute_result"
    }
   ],
   "source": [
    "pers_data.loc[(pers_data['stcounty_pow']=='06075')\n",
    "              &(pers_data.JWTRNS!=11)].groupby(['JWTRNS']).PWGTP.sum()"
   ]
  },
  {
   "cell_type": "code",
   "execution_count": 109,
   "id": "980c4ebe",
   "metadata": {},
   "outputs": [
    {
     "data": {
      "text/html": [
       "<div>\n",
       "<style scoped>\n",
       "    .dataframe tbody tr th:only-of-type {\n",
       "        vertical-align: middle;\n",
       "    }\n",
       "\n",
       "    .dataframe tbody tr th {\n",
       "        vertical-align: top;\n",
       "    }\n",
       "\n",
       "    .dataframe thead th {\n",
       "        text-align: right;\n",
       "    }\n",
       "</style>\n",
       "<table border=\"1\" class=\"dataframe\">\n",
       "  <thead>\n",
       "    <tr style=\"text-align: right;\">\n",
       "      <th></th>\n",
       "      <th>stcounty_dest</th>\n",
       "      <th>county_dest</th>\n",
       "      <th>stcounty_dest_bayarea</th>\n",
       "      <th>stcounty_pow</th>\n",
       "      <th>POWSP</th>\n",
       "      <th>POWPUMA</th>\n",
       "      <th>JWTRNS</th>\n",
       "      <th>PWGTP</th>\n",
       "    </tr>\n",
       "  </thead>\n",
       "  <tbody>\n",
       "    <tr>\n",
       "      <th>0</th>\n",
       "      <td>06027</td>\n",
       "      <td>Inyo County (CA)</td>\n",
       "      <td>False</td>\n",
       "      <td>06109</td>\n",
       "      <td>6.0</td>\n",
       "      <td>300.0</td>\n",
       "      <td>11.0</td>\n",
       "      <td>11450</td>\n",
       "    </tr>\n",
       "    <tr>\n",
       "      <th>1</th>\n",
       "      <td>06105</td>\n",
       "      <td>Trinity County (CA)</td>\n",
       "      <td>False</td>\n",
       "      <td>06103</td>\n",
       "      <td>6.0</td>\n",
       "      <td>1100.0</td>\n",
       "      <td>11.0</td>\n",
       "      <td>4008</td>\n",
       "    </tr>\n",
       "    <tr>\n",
       "      <th>2</th>\n",
       "      <td>06115</td>\n",
       "      <td>Yuba County (CA)</td>\n",
       "      <td>False</td>\n",
       "      <td>06101</td>\n",
       "      <td>6.0</td>\n",
       "      <td>10100.0</td>\n",
       "      <td>11.0</td>\n",
       "      <td>4753</td>\n",
       "    </tr>\n",
       "  </tbody>\n",
       "</table>\n",
       "</div>"
      ],
      "text/plain": [
       "  stcounty_dest          county_dest  stcounty_dest_bayarea stcounty_pow  \\\n",
       "0         06027     Inyo County (CA)                  False        06109   \n",
       "1         06105  Trinity County (CA)                  False        06103   \n",
       "2         06115     Yuba County (CA)                  False        06101   \n",
       "\n",
       "   POWSP  POWPUMA  JWTRNS  PWGTP  \n",
       "0    6.0    300.0    11.0  11450  \n",
       "1    6.0   1100.0    11.0   4008  \n",
       "2    6.0  10100.0    11.0   4753  "
      ]
     },
     "execution_count": 109,
     "metadata": {},
     "output_type": "execute_result"
    }
   ],
   "source": [
    "pers_data.query('POWPUMA.notna() & ST==6 & JWTRNS==11 & stcounty_dest!=stcounty_pow').groupby(['stcounty_dest','county_dest','stcounty_dest_bayarea','stcounty_pow','POWSP','POWPUMA','JWTRNS']).PWGTP.sum().reset_index()\n"
   ]
  },
  {
   "cell_type": "code",
   "execution_count": 83,
   "id": "17f3dba3",
   "metadata": {},
   "outputs": [
    {
     "data": {
      "text/html": [
       "<div>\n",
       "<style scoped>\n",
       "    .dataframe tbody tr th:only-of-type {\n",
       "        vertical-align: middle;\n",
       "    }\n",
       "\n",
       "    .dataframe tbody tr th {\n",
       "        vertical-align: top;\n",
       "    }\n",
       "\n",
       "    .dataframe thead th {\n",
       "        text-align: right;\n",
       "    }\n",
       "</style>\n",
       "<table border=\"1\" class=\"dataframe\">\n",
       "  <thead>\n",
       "    <tr style=\"text-align: right;\">\n",
       "      <th></th>\n",
       "      <th>stcounty_dest</th>\n",
       "      <th>county_dest</th>\n",
       "      <th>stcounty_dest_bayarea</th>\n",
       "      <th>stcounty_pow</th>\n",
       "      <th>POWSP</th>\n",
       "      <th>POWPUMA</th>\n",
       "      <th>JWTRNS</th>\n",
       "      <th>PWGTP</th>\n",
       "    </tr>\n",
       "  </thead>\n",
       "  <tbody>\n",
       "    <tr>\n",
       "      <th>0</th>\n",
       "      <td>01005</td>\n",
       "      <td>Barbour County (AL)</td>\n",
       "      <td>False</td>\n",
       "      <td>01113</td>\n",
       "      <td>1.0</td>\n",
       "      <td>2400.0</td>\n",
       "      <td>11.0</td>\n",
       "      <td>1913</td>\n",
       "    </tr>\n",
       "    <tr>\n",
       "      <th>1</th>\n",
       "      <td>01025</td>\n",
       "      <td>Clarke County (AL)</td>\n",
       "      <td>False</td>\n",
       "      <td>01053</td>\n",
       "      <td>1.0</td>\n",
       "      <td>2200.0</td>\n",
       "      <td>11.0</td>\n",
       "      <td>1109</td>\n",
       "    </tr>\n",
       "    <tr>\n",
       "      <th>2</th>\n",
       "      <td>01039</td>\n",
       "      <td>Covington County (AL)</td>\n",
       "      <td>False</td>\n",
       "      <td>01031</td>\n",
       "      <td>1.0</td>\n",
       "      <td>2300.0</td>\n",
       "      <td>11.0</td>\n",
       "      <td>1204</td>\n",
       "    </tr>\n",
       "    <tr>\n",
       "      <th>3</th>\n",
       "      <td>01071</td>\n",
       "      <td>Jackson County (AL)</td>\n",
       "      <td>False</td>\n",
       "      <td>01049</td>\n",
       "      <td>1.0</td>\n",
       "      <td>400.0</td>\n",
       "      <td>11.0</td>\n",
       "      <td>4003</td>\n",
       "    </tr>\n",
       "    <tr>\n",
       "      <th>4</th>\n",
       "      <td>01079</td>\n",
       "      <td>Lawrence County (AL)</td>\n",
       "      <td>False</td>\n",
       "      <td>01103</td>\n",
       "      <td>1.0</td>\n",
       "      <td>600.0</td>\n",
       "      <td>11.0</td>\n",
       "      <td>4013</td>\n",
       "    </tr>\n",
       "    <tr>\n",
       "      <th>...</th>\n",
       "      <td>...</td>\n",
       "      <td>...</td>\n",
       "      <td>...</td>\n",
       "      <td>...</td>\n",
       "      <td>...</td>\n",
       "      <td>...</td>\n",
       "      <td>...</td>\n",
       "      <td>...</td>\n",
       "    </tr>\n",
       "    <tr>\n",
       "      <th>184</th>\n",
       "      <td>28103</td>\n",
       "      <td>Noxubee County (MS)</td>\n",
       "      <td>False</td>\n",
       "      <td>28087</td>\n",
       "      <td>28.0</td>\n",
       "      <td>600.0</td>\n",
       "      <td>11.0</td>\n",
       "      <td>3114</td>\n",
       "    </tr>\n",
       "    <tr>\n",
       "      <th>185</th>\n",
       "      <td>28111</td>\n",
       "      <td>Perry County (MS)</td>\n",
       "      <td>False</td>\n",
       "      <td>28035</td>\n",
       "      <td>28.0</td>\n",
       "      <td>1800.0</td>\n",
       "      <td>11.0</td>\n",
       "      <td>3606</td>\n",
       "    </tr>\n",
       "    <tr>\n",
       "      <th>186</th>\n",
       "      <td>28115</td>\n",
       "      <td>Pontotoc County (MS)</td>\n",
       "      <td>False</td>\n",
       "      <td>28081</td>\n",
       "      <td>28.0</td>\n",
       "      <td>500.0</td>\n",
       "      <td>11.0</td>\n",
       "      <td>2217</td>\n",
       "    </tr>\n",
       "    <tr>\n",
       "      <th>187</th>\n",
       "      <td>28153</td>\n",
       "      <td>Wayne County (MS)</td>\n",
       "      <td>False</td>\n",
       "      <td>28067</td>\n",
       "      <td>28.0</td>\n",
       "      <td>1700.0</td>\n",
       "      <td>11.0</td>\n",
       "      <td>1941</td>\n",
       "    </tr>\n",
       "    <tr>\n",
       "      <th>188</th>\n",
       "      <td>28163</td>\n",
       "      <td>Yazoo County (MS)</td>\n",
       "      <td>False</td>\n",
       "      <td>28049</td>\n",
       "      <td>28.0</td>\n",
       "      <td>990.0</td>\n",
       "      <td>11.0</td>\n",
       "      <td>5017</td>\n",
       "    </tr>\n",
       "  </tbody>\n",
       "</table>\n",
       "<p>189 rows × 8 columns</p>\n",
       "</div>"
      ],
      "text/plain": [
       "    stcounty_dest            county_dest  stcounty_dest_bayarea stcounty_pow  \\\n",
       "0           01005    Barbour County (AL)                  False        01113   \n",
       "1           01025     Clarke County (AL)                  False        01053   \n",
       "2           01039  Covington County (AL)                  False        01031   \n",
       "3           01071    Jackson County (AL)                  False        01049   \n",
       "4           01079   Lawrence County (AL)                  False        01103   \n",
       "..            ...                    ...                    ...          ...   \n",
       "184         28103    Noxubee County (MS)                  False        28087   \n",
       "185         28111      Perry County (MS)                  False        28035   \n",
       "186         28115   Pontotoc County (MS)                  False        28081   \n",
       "187         28153      Wayne County (MS)                  False        28067   \n",
       "188         28163      Yazoo County (MS)                  False        28049   \n",
       "\n",
       "     POWSP  POWPUMA  JWTRNS  PWGTP  \n",
       "0      1.0   2400.0    11.0   1913  \n",
       "1      1.0   2200.0    11.0   1109  \n",
       "2      1.0   2300.0    11.0   1204  \n",
       "3      1.0    400.0    11.0   4003  \n",
       "4      1.0    600.0    11.0   4013  \n",
       "..     ...      ...     ...    ...  \n",
       "184   28.0    600.0    11.0   3114  \n",
       "185   28.0   1800.0    11.0   3606  \n",
       "186   28.0    500.0    11.0   2217  \n",
       "187   28.0   1700.0    11.0   1941  \n",
       "188   28.0    990.0    11.0   5017  \n",
       "\n",
       "[189 rows x 8 columns]"
      ]
     },
     "execution_count": 83,
     "metadata": {},
     "output_type": "execute_result"
    }
   ],
   "source": [
    "pers_data.query('POWPUMA.notna() & JWTRNS==11 & stcounty_dest!=stcounty_pow').groupby(['stcounty_dest','county_dest','stcounty_dest_bayarea','stcounty_pow','POWSP','POWPUMA','JWTRNS']).PWGTP.sum().reset_index()\n"
   ]
  },
  {
   "cell_type": "code",
   "execution_count": null,
   "id": "7e1d52c4",
   "metadata": {},
   "outputs": [],
   "source": []
  }
 ],
 "metadata": {
  "kernelspec": {
   "display_name": "Python 3 (ipykernel)",
   "language": "python",
   "name": "python3"
  },
  "language_info": {
   "codemirror_mode": {
    "name": "ipython",
    "version": 3
   },
   "file_extension": ".py",
   "mimetype": "text/x-python",
   "name": "python",
   "nbconvert_exporter": "python",
   "pygments_lexer": "ipython3",
   "version": "3.10.8"
  },
  "toc": {
   "base_numbering": 1,
   "nav_menu": {},
   "number_sections": true,
   "sideBar": true,
   "skip_h1_title": false,
   "title_cell": "Table of Contents",
   "title_sidebar": "Contents",
   "toc_cell": false,
   "toc_position": {},
   "toc_section_display": true,
   "toc_window_display": true
  }
 },
 "nbformat": 4,
 "nbformat_minor": 5
}
