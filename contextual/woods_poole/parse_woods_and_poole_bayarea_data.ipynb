{
 "cells": [
  {
   "cell_type": "markdown",
   "id": "eb8faf1c",
   "metadata": {},
   "source": [
    "# Parse data from Woods & Poole County Forecast Files"
   ]
  },
  {
   "cell_type": "code",
   "execution_count": 1,
   "id": "780d7a5f",
   "metadata": {},
   "outputs": [],
   "source": [
    "import warnings\n",
    "import pandas as pd\n",
    "import glob\n",
    "import os\n",
    "\n",
    "pd.options.display.float_format = '{:,.0f}'.format\n",
    "warnings.filterwarnings('ignore')"
   ]
  },
  {
   "cell_type": "code",
   "execution_count": 2,
   "id": "5dde3d00",
   "metadata": {},
   "outputs": [],
   "source": [
    "bayareafips_full = {'06001': 'Alameda',\n",
    "                    '06013': 'Contra Costa',\n",
    "                    '06041': 'Marin',\n",
    "                    '06055': 'Napa',\n",
    "                    '06075': 'San Francisco',\n",
    "                    '06081': 'San Mateo',\n",
    "                    '06085': 'Santa Clara',\n",
    "                    '06097': 'Sonoma',\n",
    "                    '06095': 'Solano'}"
   ]
  },
  {
   "cell_type": "code",
   "execution_count": 3,
   "id": "e274edd1",
   "metadata": {},
   "outputs": [
    {
     "data": {
      "text/plain": [
       "{'06001': 'ABAG/MTC',\n",
       " '06013': 'ABAG/MTC',\n",
       " '06041': 'ABAG/MTC',\n",
       " '06055': 'ABAG/MTC',\n",
       " '06075': 'ABAG/MTC',\n",
       " '06073': 'SANDAG',\n",
       " '06081': 'ABAG/MTC',\n",
       " '06085': 'ABAG/MTC',\n",
       " '06095': 'ABAG/MTC',\n",
       " '06097': 'ABAG/MTC',\n",
       " '06025': 'SCAG',\n",
       " '06037': 'SCAG',\n",
       " '06071': 'SCAG',\n",
       " '06059': 'SCAG',\n",
       " '06065': 'SCAG',\n",
       " '06111': 'SCAG',\n",
       " '06067': 'SACOG',\n",
       " '06101': 'SACOG',\n",
       " '06113': 'SACOG',\n",
       " '06115': 'SACOG'}"
      ]
     },
     "execution_count": 3,
     "metadata": {},
     "output_type": "execute_result"
    }
   ],
   "source": [
    "cog_regions = {'06001': 'ABAG/MTC',\n",
    "               '06013': 'ABAG/MTC',\n",
    "               '06041': 'ABAG/MTC',\n",
    "               # '06053': 'AMBAG',\n",
    "               '06055': 'ABAG/MTC',\n",
    "               # '06069': 'AMBAG',\n",
    "               '06075': 'ABAG/MTC',\n",
    "               '06073': 'SANDAG',\n",
    "               '06081': 'ABAG/MTC',\n",
    "               '06085': 'ABAG/MTC',\n",
    "               # '06087': 'AMBAG',\n",
    "               '06095': 'ABAG/MTC',\n",
    "               '06097': 'ABAG/MTC',\n",
    "               # '06077': 'SJCOG',\n",
    "               # '06099': 'STANCOG',\n",
    "               # '06047': 'MCAG',\n",
    "               '06025': 'SCAG',  # imperial\n",
    "               '06037': 'SCAG',   # LA\n",
    "               '06071': 'SCAG',  # san bernadino\n",
    "               '06059': 'SCAG',  # orange\n",
    "               '06065': 'SCAG',  # riverside\n",
    "               '06111': 'SCAG',  # ventura\n",
    "               '06067': 'SACOG',  # 'yolo'\n",
    "               '06101': 'SACOG',  # 'sutter'\n",
    "               '06113': 'SACOG',  # 'yolo'\n",
    "               '06115': 'SACOG'\n",
    "               }\n",
    "\n",
    "cog_regions"
   ]
  },
  {
   "cell_type": "markdown",
   "id": "4f97e32b",
   "metadata": {},
   "source": [
    "# Labor Force, Employment file"
   ]
  },
  {
   "cell_type": "code",
   "execution_count": 4,
   "id": "66f84cc7",
   "metadata": {},
   "outputs": [],
   "source": [
    "# labor force, employment detail data file\n",
    "\n",
    "data_emp_fieldmap = pd.read_fwf('/Users/aolsen/Box/DataViz Projects/Data Services/Woods & Poole Forecasting/data/WP_Download_2023/SP_2023_CA/WPCOMP/CACOMP.CSV',\n",
    "                                skiprows=121, skipfooter=24, widths=[2, 15, 92, 1], names=['no', 'variable', 'desc', 'no1'])\n",
    "\n",
    "data_emp_fieldmap.variable = data_emp_fieldmap.variable.str.strip()\n",
    "data_emp_fieldmap.desc = data_emp_fieldmap.desc.str.strip()\n",
    "data_emp_fieldmap = data_emp_fieldmap.set_index('variable').desc"
   ]
  },
  {
   "cell_type": "code",
   "execution_count": 5,
   "id": "3dbf3d17",
   "metadata": {},
   "outputs": [],
   "source": [
    "# read data file itself\n",
    "data_emp = pd.read_csv('/Users/aolsen/Box/DataViz Projects/Data Services/Woods & Poole Forecasting/data/WP_Download_2023/SP_2023_CA/WPCOMP/CACOMP.CSV',\n",
    "                       skiprows=3, skipfooter=75, dtype={'COUNTY': str})"
   ]
  },
  {
   "cell_type": "code",
   "execution_count": 6,
   "id": "253524c5",
   "metadata": {},
   "outputs": [],
   "source": [
    "# list of file row identifiers - we don't need most of these\n",
    "IDENTIFIERS = ['COUNTY', 'TYPE', 'REGION',\n",
    "               'EA', 'MSA', 'CSA', 'MDIV', 'MICRO', 'NAME']"
   ]
  },
  {
   "cell_type": "code",
   "execution_count": 7,
   "id": "9d83363c",
   "metadata": {},
   "outputs": [
    {
     "data": {
      "text/html": [
       "<div>\n",
       "<style scoped>\n",
       "    .dataframe tbody tr th:only-of-type {\n",
       "        vertical-align: middle;\n",
       "    }\n",
       "\n",
       "    .dataframe tbody tr th {\n",
       "        vertical-align: top;\n",
       "    }\n",
       "\n",
       "    .dataframe thead th {\n",
       "        text-align: right;\n",
       "    }\n",
       "</style>\n",
       "<table border=\"1\" class=\"dataframe\">\n",
       "  <thead>\n",
       "    <tr style=\"text-align: right;\">\n",
       "      <th></th>\n",
       "      <th>NAME</th>\n",
       "      <th>value</th>\n",
       "      <th>variable_no_year</th>\n",
       "      <th>variable_stub</th>\n",
       "      <th>variable</th>\n",
       "      <th>year</th>\n",
       "      <th>variable_name</th>\n",
       "    </tr>\n",
       "  </thead>\n",
       "  <tbody>\n",
       "    <tr>\n",
       "      <th>1597</th>\n",
       "      <td>SONOMA, CA</td>\n",
       "      <td>257</td>\n",
       "      <td>ENMT, 1-49 EST</td>\n",
       "      <td>ENMT</td>\n",
       "      <td>ENMT, 1-49 EST</td>\n",
       "      <td>2019</td>\n",
       "      <td>Arts, Entertainment, and Recreation Business E...</td>\n",
       "    </tr>\n",
       "    <tr>\n",
       "      <th>507</th>\n",
       "      <td>MARIN, CA</td>\n",
       "      <td>767</td>\n",
       "      <td>OTHR, 1-49 EST</td>\n",
       "      <td>OTHR</td>\n",
       "      <td>OTHR, 1-49 EST</td>\n",
       "      <td>2019</td>\n",
       "      <td>Other Services (except Public Administration) ...</td>\n",
       "    </tr>\n",
       "    <tr>\n",
       "      <th>621</th>\n",
       "      <td>NAPA, CA</td>\n",
       "      <td>236</td>\n",
       "      <td>ADMN, 1-49 EST</td>\n",
       "      <td>ADMN</td>\n",
       "      <td>ADMN, 1-49 EST</td>\n",
       "      <td>2018</td>\n",
       "      <td>Administrative &amp; Support and Waste Management ...</td>\n",
       "    </tr>\n",
       "  </tbody>\n",
       "</table>\n",
       "</div>"
      ],
      "text/plain": [
       "            NAME  value variable_no_year variable_stub        variable  year  \\\n",
       "1597  SONOMA, CA    257   ENMT, 1-49 EST          ENMT  ENMT, 1-49 EST  2019   \n",
       "507    MARIN, CA    767   OTHR, 1-49 EST          OTHR  OTHR, 1-49 EST  2019   \n",
       "621     NAPA, CA    236   ADMN, 1-49 EST          ADMN  ADMN, 1-49 EST  2018   \n",
       "\n",
       "                                          variable_name  \n",
       "1597  Arts, Entertainment, and Recreation Business E...  \n",
       "507   Other Services (except Public Administration) ...  \n",
       "621   Administrative & Support and Waste Management ...  "
      ]
     },
     "execution_count": 7,
     "metadata": {},
     "output_type": "execute_result"
    }
   ],
   "source": [
    "# subset to bay area counties\n",
    "data_emp_bayarea = data_emp[data_emp.COUNTY.isin(bayareafips_full)]\n",
    "\n",
    "# drop not relevant identifiers - set the remaining variable to be the index variable. Rest of columns are years\n",
    "data_emp_bayarea = data_emp_bayarea.drop(\n",
    "    IDENTIFIERS[:-1], axis=1).set_index('NAME')\n",
    "\n",
    "# turn to long format\n",
    "data_emp_bayarea_l = data_emp_bayarea.stack().reset_index(name='value')\n",
    "\n",
    "\n",
    "# some variables contain both a concept and a detail ('TOTL, 1-49 EST', 'TOTL, ALL EST')\n",
    "# strip out just the year. The dictionary is just focused on the first component, which we call \"stub\"\n",
    "data_emp_bayarea_l['variable_no_year'] = data_emp_bayarea_l.level_1.str.replace(\n",
    "    ', \\d{4}', '')\n",
    "\n",
    "\n",
    "data_emp_bayarea_l['variable_stub'] = data_emp_bayarea_l['variable_no_year'].str.split(\n",
    "    ',').apply(lambda x: x[0])\n",
    "\n",
    "# column headers encode both concept and years. Extract.\n",
    "data_emp_bayarea_l['variable'] = data_emp_bayarea_l.level_1.str.slice(\n",
    "    0, -6).str.strip()\n",
    "data_emp_bayarea_l['year'] = data_emp_bayarea_l.level_1.str.slice(\n",
    "    -4).astype(int)\n",
    "\n",
    "# add descriptive field name from field map\n",
    "data_emp_bayarea_l['variable_name'] = data_emp_bayarea_l.variable_stub.map(\n",
    "    data_emp_fieldmap)\n",
    "\n",
    "\n",
    "# drop unused var\n",
    "data_emp_bayarea_l = data_emp_bayarea_l.drop(['level_1'], axis=1)\n",
    "\n",
    "data_emp_bayarea_l.sample(3)"
   ]
  },
  {
   "cell_type": "code",
   "execution_count": 8,
   "id": "1baeac6f",
   "metadata": {},
   "outputs": [
    {
     "data": {
      "text/html": [
       "<div>\n",
       "<style scoped>\n",
       "    .dataframe tbody tr th:only-of-type {\n",
       "        vertical-align: middle;\n",
       "    }\n",
       "\n",
       "    .dataframe tbody tr th {\n",
       "        vertical-align: top;\n",
       "    }\n",
       "\n",
       "    .dataframe thead th {\n",
       "        text-align: right;\n",
       "    }\n",
       "</style>\n",
       "<table border=\"1\" class=\"dataframe\">\n",
       "  <thead>\n",
       "    <tr style=\"text-align: right;\">\n",
       "      <th></th>\n",
       "      <th>NAME</th>\n",
       "      <th>value</th>\n",
       "      <th>variable_no_year</th>\n",
       "      <th>variable_stub</th>\n",
       "      <th>variable</th>\n",
       "      <th>year</th>\n",
       "      <th>variable_name</th>\n",
       "    </tr>\n",
       "  </thead>\n",
       "  <tbody>\n",
       "    <tr>\n",
       "      <th>1174</th>\n",
       "      <td>SANTA CLARA, CA</td>\n",
       "      <td>3,159</td>\n",
       "      <td>TOTL, 50+ EST</td>\n",
       "      <td>TOTL</td>\n",
       "      <td>TOTL, 50+ EST</td>\n",
       "      <td>2018</td>\n",
       "      <td>Total Number of Business Establishments</td>\n",
       "    </tr>\n",
       "    <tr>\n",
       "      <th>852</th>\n",
       "      <td>SAN FRANCISCO, CA</td>\n",
       "      <td>32,459</td>\n",
       "      <td>TOTL, 1-49 EST</td>\n",
       "      <td>TOTL</td>\n",
       "      <td>TOTL, 1-49 EST</td>\n",
       "      <td>2019</td>\n",
       "      <td>Total Number of Business Establishments</td>\n",
       "    </tr>\n",
       "    <tr>\n",
       "      <th>1496</th>\n",
       "      <td>SONOMA, CA</td>\n",
       "      <td>14,304</td>\n",
       "      <td>TOTL, ALL EST</td>\n",
       "      <td>TOTL</td>\n",
       "      <td>TOTL, ALL EST</td>\n",
       "      <td>2018</td>\n",
       "      <td>Total Number of Business Establishments</td>\n",
       "    </tr>\n",
       "  </tbody>\n",
       "</table>\n",
       "</div>"
      ],
      "text/plain": [
       "                   NAME  value variable_no_year variable_stub        variable  \\\n",
       "1174    SANTA CLARA, CA  3,159    TOTL, 50+ EST          TOTL   TOTL, 50+ EST   \n",
       "852   SAN FRANCISCO, CA 32,459   TOTL, 1-49 EST          TOTL  TOTL, 1-49 EST   \n",
       "1496         SONOMA, CA 14,304    TOTL, ALL EST          TOTL   TOTL, ALL EST   \n",
       "\n",
       "      year                            variable_name  \n",
       "1174  2018  Total Number of Business Establishments  \n",
       "852   2019  Total Number of Business Establishments  \n",
       "1496  2018  Total Number of Business Establishments  "
      ]
     },
     "execution_count": 8,
     "metadata": {},
     "output_type": "execute_result"
    }
   ],
   "source": [
    "data_emp_bayarea_l[data_emp_bayarea_l.variable_stub == 'TOTL'].sample(3)"
   ]
  },
  {
   "cell_type": "markdown",
   "id": "18753e13",
   "metadata": {},
   "source": [
    "# General Files\n",
    "\n",
    "These are stored as a separate file for each variable (122 in total).\n",
    "\n",
    "There is a mapping detailing what each file contains - we load the mapping and the data, and stitch together as appropriate."
   ]
  },
  {
   "cell_type": "code",
   "execution_count": 9,
   "id": "8d718e36",
   "metadata": {},
   "outputs": [],
   "source": [
    "VARIABLE_MAP_PATH = '/Users/aolsen/Box/DataViz Projects/Data Services/Woods & Poole Forecasting/data/WP_Download_2023/SP_2023_CA/CAFILENM.TXT'\n",
    "VARIABLE_PATH = '/Users/aolsen/Box/DataViz Projects/Data Services/Woods & Poole Forecasting/data/WP_Download_2023/SP_2023_CA/WPVAR'\n",
    "DATA_PATH = '/Users/aolsen/Box/DataViz Projects/Data Services/Woods & Poole Forecasting/data/WP_Download_2023/SP_2023_CA/WPVAR'"
   ]
  },
  {
   "cell_type": "code",
   "execution_count": 10,
   "id": "fe37f50b",
   "metadata": {},
   "outputs": [
    {
     "data": {
      "text/plain": [
       "FILE NAME\n",
       "CA001.CSV                                     TOTAL POPULATION\n",
       "CA002.CSV                         POPULATION AGE UNDER 5 YEARS\n",
       "CA003.CSV                          POPULATION AGE 5 to 9 YEARS\n",
       "CA004.CSV                        POPULATION AGE 10 to 14 YEARS\n",
       "CA005.CSV                        POPULATION AGE 15 to 19 YEARS\n",
       "                                   ...                        \n",
       "CA118.CSV    SPORTING GOODS, HOBBY, BOOK, and MUSIC STORES ...\n",
       "CA119.CSV              GENERAL MERCHANDISE STORES RETAIL SALES\n",
       "CA120.CSV                     MISCELLANEOUS STORE RETAIL SALES\n",
       "CA121.CSV                      NONSTORE RETAILERS RETAIL SALES\n",
       "CA122.CSV                     EATING and DRINKING PLACES SALES\n",
       "Name: VARIABLE, Length: 122, dtype: object"
      ]
     },
     "execution_count": 10,
     "metadata": {},
     "output_type": "execute_result"
    }
   ],
   "source": [
    "# load the file name to variable map into a series\n",
    "\n",
    "variable_file_map = pd.read_fwf(\n",
    "    VARIABLE_MAP_PATH, skiprows=10, skipfooter=119, widths=[13, 76])\n",
    "variable_file_map = variable_file_map.set_index('FILE NAME').VARIABLE\n",
    "variable_file_map"
   ]
  },
  {
   "cell_type": "code",
   "execution_count": 11,
   "id": "c4928ba7",
   "metadata": {},
   "outputs": [],
   "source": [
    "for fname in glob.glob1(VARIABLE_PATH, '*CSV'):\n",
    "\n",
    "    # construct the path\n",
    "    full_fname = os.path.join(VARIABLE_PATH, fname)\n",
    "\n",
    "    # read the datafile\n",
    "    this_df = pd.read_csv(full_fname, skiprows=3,\n",
    "                          skipfooter=87, dtype={'COUNTY': str})"
   ]
  },
  {
   "cell_type": "code",
   "execution_count": 12,
   "id": "490202a6",
   "metadata": {},
   "outputs": [
    {
     "data": {
      "text/html": [
       "<div>\n",
       "<style scoped>\n",
       "    .dataframe tbody tr th:only-of-type {\n",
       "        vertical-align: middle;\n",
       "    }\n",
       "\n",
       "    .dataframe tbody tr th {\n",
       "        vertical-align: top;\n",
       "    }\n",
       "\n",
       "    .dataframe thead th {\n",
       "        text-align: right;\n",
       "    }\n",
       "</style>\n",
       "<table border=\"1\" class=\"dataframe\">\n",
       "  <thead>\n",
       "    <tr style=\"text-align: right;\">\n",
       "      <th></th>\n",
       "      <th>variable</th>\n",
       "      <th>county</th>\n",
       "      <th>cog_region</th>\n",
       "      <th>year</th>\n",
       "      <th>value</th>\n",
       "    </tr>\n",
       "  </thead>\n",
       "  <tbody>\n",
       "    <tr>\n",
       "      <th>157188</th>\n",
       "      <td>CONTRIBUTIONS for GOVERNMENT SOCIAL INSURANCE</td>\n",
       "      <td>SACRAMENTO, CA</td>\n",
       "      <td>SACOG</td>\n",
       "      <td>2021</td>\n",
       "      <td>6,251</td>\n",
       "    </tr>\n",
       "    <tr>\n",
       "      <th>76759</th>\n",
       "      <td>INFORMATION EMPLOYMENT</td>\n",
       "      <td>SOLANO, CA</td>\n",
       "      <td>ABAG/MTC</td>\n",
       "      <td>2000</td>\n",
       "      <td>2</td>\n",
       "    </tr>\n",
       "    <tr>\n",
       "      <th>182765</th>\n",
       "      <td>NUMBER of HOUSEHOLDS with MONEY INCOME $20,000...</td>\n",
       "      <td>ORANGE, CA</td>\n",
       "      <td>SCAG</td>\n",
       "      <td>2022</td>\n",
       "      <td>77</td>\n",
       "    </tr>\n",
       "  </tbody>\n",
       "</table>\n",
       "</div>"
      ],
      "text/plain": [
       "                                                 variable          county  \\\n",
       "157188      CONTRIBUTIONS for GOVERNMENT SOCIAL INSURANCE  SACRAMENTO, CA   \n",
       "76759                              INFORMATION EMPLOYMENT      SOLANO, CA   \n",
       "182765  NUMBER of HOUSEHOLDS with MONEY INCOME $20,000...      ORANGE, CA   \n",
       "\n",
       "       cog_region  year value  \n",
       "157188      SACOG  2021 6,251  \n",
       "76759    ABAG/MTC  2000     2  \n",
       "182765       SCAG  2022    77  "
      ]
     },
     "execution_count": 12,
     "metadata": {},
     "output_type": "execute_result"
    }
   ],
   "source": [
    "def fetch_and_stitch_data(VARIABLE_PATH, variable_file_map, subset=False):\n",
    "    \"\"\"\n",
    "    Fetches Woods and Poole County forecast data, stitches the data together from different files,\n",
    "    and stores it in a long format dataframe.\n",
    "\n",
    "    Args:\n",
    "        VARIABLE_PATH (str): Path to the directory containing variable files.\n",
    "        variable_file_map (dict): A dictionary mapping file names to variable names.\n",
    "        bayareafips_full (list): List of county FIPS codes for the Bay Area.\n",
    "\n",
    "    Returns:\n",
    "        pandas.DataFrame: The stitched and processed data in a long format dataframe.\n",
    "    \"\"\"\n",
    "\n",
    "    storage = {}\n",
    "\n",
    "    # loop over list of all variable files in folder\n",
    "    for fname in glob.glob1(VARIABLE_PATH, '*CSV'):\n",
    "\n",
    "        # construct the path\n",
    "        full_fname = os.path.join(VARIABLE_PATH, fname)\n",
    "\n",
    "        # read the datafile - ensure COUNTY fips code doesn't lose leading 0\n",
    "        this_df = pd.read_csv(full_fname, skiprows=3,\n",
    "                              skipfooter=87, dtype={'COUNTY': str})\n",
    "\n",
    "        # look up from the file name what variable it represents\n",
    "        this_var = variable_file_map[fname]\n",
    "\n",
    "        # store in a dict keyed on the variable name\n",
    "        storage[this_var] = this_df\n",
    "\n",
    "    # combine the individual variables\n",
    "    wp_data = pd.concat(storage, names=['VARIABLE', 'ROWID']).reset_index()\n",
    "\n",
    "    # assign COG region based on county\n",
    "    wp_data['cog_region'] = wp_data.COUNTY.map(cog_regions)\n",
    "\n",
    "    # drop non-cog counties\n",
    "    wp_data = wp_data[wp_data.cog_region.notna()]\n",
    "\n",
    "    # subset to bay area counties\n",
    "    if subset:\n",
    "        wp_data = wp_data[wp_data.COUNTY.isin(bayareafips_full)]\n",
    "\n",
    "    wp_data = wp_data.drop(wp_data.columns[1:11], axis=1)\n",
    "    wp_data_l = wp_data.set_index(\n",
    "        ['VARIABLE', 'NAME', 'cog_region']).stack().reset_index(name='value')\n",
    "\n",
    "    wp_data_l = wp_data_l.rename(\n",
    "        columns={'VARIABLE': 'variable', 'NAME': 'county', 'level_3': 'year'})\n",
    "\n",
    "    wp_data_l.year = wp_data_l.year.astype(int)\n",
    "\n",
    "    return wp_data_l\n",
    "\n",
    "wp_data_l = fetch_and_stitch_data(\n",
    "    VARIABLE_PATH, variable_file_map, subset=False)\n",
    "wp_data_l.sample(3)"
   ]
  },
  {
   "cell_type": "markdown",
   "id": "44b59792",
   "metadata": {},
   "source": [
    "## Summaries"
   ]
  },
  {
   "cell_type": "code",
   "execution_count": 13,
   "id": "c4304c50",
   "metadata": {},
   "outputs": [],
   "source": [
    "years_5 = range(2010, 2051, 5)"
   ]
  },
  {
   "cell_type": "markdown",
   "id": "a4e3d547",
   "metadata": {},
   "source": [
    "### Bay Area Total"
   ]
  },
  {
   "cell_type": "code",
   "execution_count": 14,
   "id": "2cf3f99f",
   "metadata": {},
   "outputs": [],
   "source": [
    "# which vars to keep?\n",
    "var_keep = ['TOTAL NUMBER of HOUSEHOLDS',\n",
    "            'TOTAL POPULATION', 'TOTAL EMPLOYMENT']"
   ]
  },
  {
   "cell_type": "code",
   "execution_count": 15,
   "id": "7cb08f67",
   "metadata": {},
   "outputs": [],
   "source": [
    "bay_area_totals = wp_data_l[wp_data_l.variable.isin(var_keep)].groupby(\n",
    "    ['variable', 'year']).value.sum().unstack(0).mul(1e3).astype(int)"
   ]
  },
  {
   "cell_type": "markdown",
   "id": "d4132760",
   "metadata": {},
   "source": [
    "### County Totals"
   ]
  },
  {
   "cell_type": "code",
   "execution_count": 16,
   "id": "cd6c7b83",
   "metadata": {},
   "outputs": [],
   "source": [
    "county_totals = wp_data_l[wp_data_l.variable.isin(var_keep)].groupby(\n",
    "    ['county', 'variable', 'year']).value.sum().unstack(0).mul(1e3).astype(int)"
   ]
  },
  {
   "cell_type": "code",
   "execution_count": 17,
   "id": "146e88db",
   "metadata": {},
   "outputs": [],
   "source": [
    "county_households = wp_data_l.query(\"variable=='TOTAL NUMBER of HOUSEHOLDS'\").groupby([\n",
    "    'county', 'year']).value.sum().unstack(0)"
   ]
  },
  {
   "cell_type": "code",
   "execution_count": 18,
   "id": "98f55b48",
   "metadata": {},
   "outputs": [],
   "source": [
    "# Household growth, 2020 - 2050\n",
    "#county_households.loc['2050'] - county_households.loc['2020']"
   ]
  },
  {
   "cell_type": "markdown",
   "id": "8510da24",
   "metadata": {},
   "source": [
    "### COG Totals"
   ]
  },
  {
   "cell_type": "code",
   "execution_count": 19,
   "id": "f1f33d34",
   "metadata": {},
   "outputs": [
    {
     "data": {
      "text/plain": [
       "<AxesSubplot: xlabel='year'>"
      ]
     },
     "execution_count": 19,
     "metadata": {},
     "output_type": "execute_result"
    },
    {
     "data": {
      "image/png": "[encoded data removed]",
      "text/plain": [
       "<Figure size 640x480 with 1 Axes>"
      ]
     },
     "metadata": {},
     "output_type": "display_data"
    }
   ],
   "source": [
    "COG_households = wp_data_l.query(\"variable=='TOTAL NUMBER of HOUSEHOLDS'\").groupby([\n",
    "    'cog_region', 'year']).value.sum().unstack(0)\n",
    "# county_households.plot()\n",
    "COG_households = COG_households.mul(1000).astype(int)\n",
    "\n",
    "(COG_households.loc[years_5]/COG_households.loc[2020]).plot()"
   ]
  },
  {
   "cell_type": "code",
   "execution_count": 20,
   "id": "559d4d5f",
   "metadata": {},
   "outputs": [
    {
     "data": {
      "text/plain": [
       "<AxesSubplot: xlabel='cog_region'>"
      ]
     },
     "execution_count": 20,
     "metadata": {},
     "output_type": "execute_result"
    },
    {
     "data": {
      "image/png": "[encoded data removed]",
      "text/plain": [
       "<Figure size 640x480 with 1 Axes>"
      ]
     },
     "metadata": {},
     "output_type": "display_data"
    }
   ],
   "source": [
    "COG_households.loc[years_5].diff().T.plot(kind='bar')"
   ]
  },
  {
   "cell_type": "code",
   "execution_count": null,
   "id": "e1641537",
   "metadata": {},
   "outputs": [],
   "source": []
  }
 ],
 "metadata": {
  "kernelspec": {
   "display_name": "Python 3 (ipykernel)",
   "language": "python",
   "name": "python3"
  },
  "language_info": {
   "codemirror_mode": {
    "name": "ipython",
    "version": 3
   },
   "file_extension": ".py",
   "mimetype": "text/x-python",
   "name": "python",
   "nbconvert_exporter": "python",
   "pygments_lexer": "ipython3",
   "version": "3.10.8"
  },
  "toc": {
   "base_numbering": 1,
   "nav_menu": {},
   "number_sections": true,
   "sideBar": true,
   "skip_h1_title": false,
   "title_cell": "Table of Contents",
   "title_sidebar": "Contents",
   "toc_cell": false,
   "toc_position": {},
   "toc_section_display": true,
   "toc_window_display": false
  }
 },
 "nbformat": 4,
 "nbformat_minor": 5
}
