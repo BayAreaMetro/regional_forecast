{
 "cells": [
  {
   "cell_type": "code",
   "execution_count": 2,
   "metadata": {},
   "outputs": [
    {
     "name": "stdout",
     "output_type": "stream",
     "text": [
      "Populating the interactive namespace from numpy and matplotlib\n"
     ]
    },
    {
     "name": "stderr",
     "output_type": "stream",
     "text": [
      "/Users/aolsen/anaconda2/envs/geoenv/lib/python2.7/site-packages/IPython/core/magics/pylab.py:161: UserWarning: pylab import has clobbered these variables: ['datetime']\n",
      "`%matplotlib` prevents importing * from pylab and numpy\n",
      "  \"\\n`%matplotlib` prevents importing * from pylab and numpy\"\n"
     ]
    }
   ],
   "source": [
    "import pandas as pd\n",
    "import openpyxl\n",
    "\n",
    "import os\n",
    "from datetime import datetime\n",
    "\n",
    "from pandas.api.types import CategoricalDtype\n",
    "import pylab as P\n",
    "\n",
    "import seaborn as sns\n",
    "import matplotlib.pyplot as plt\n",
    "import matplotlib.cm as cm, matplotlib.font_manager as fm\n",
    "                            \n",
    "import glob\n",
    "import fnmatch\n",
    "import os\n",
    "import re\n",
    "\n",
    "pd.set_option('display.max_columns', 1800)\n",
    "pd.set_option('display.width', 1800)\n",
    "\n",
    "fig_size = plt.rcParams[\"figure.figsize\"]\n",
    " \n",
    "%pylab inline\n",
    "sns.set(style=\"darkgrid\")\n",
    "plt.style.use('ggplot')\n",
    "\n",
    "# Set figure width to 12 and height to 9\n",
    "fig_size[0] = 12\n",
    "fig_size[1] = 7\n",
    "plt.rcParams[\"figure.figsize\"] = fig_size\n",
    "\n",
    "\n",
    "drop=os.getenv('DROPBOX_LOC')\n",
    "box=os.getenv('BOX_LOC')\n",
    "\n",
    "import warnings\n",
    "warnings.filterwarnings('ignore')"
   ]
  },
  {
   "cell_type": "code",
   "execution_count": 92,
   "metadata": {},
   "outputs": [],
   "source": [
    "pd.options.display.float_format = '{:,.0f}'.format"
   ]
  },
  {
   "cell_type": "markdown",
   "metadata": {},
   "source": [
    "### Household projection notebook\n",
    "\n",
    "Notebook uses headship rates to predict future households. It includes placeholder code to work with different vintages of headship rates.\n",
    "\n",
    "Processes REMI population data to age/race combinations consistent with headship rate files made from PUMS data in separate utility scripts.\n",
    "\n",
    "Headship rates for some scenarios use a phase-in period, going from current rates to more accomodating / relaxed ones. Specifically, we use phased rates that transition from ACS 2018 to Census 2000 rates, roughly consistent with the assumption that we move towards a housing price regime from an earlier time.\n",
    "\n",
    "The 2018 headship rate is transitioned to the relatively higher rates from Census 2000 between 2022 and 2037. Then we hold rates constant after 2037 through 2050."
   ]
  },
  {
   "cell_type": "markdown",
   "metadata": {},
   "source": [
    "### Misc mappings, functions"
   ]
  },
  {
   "cell_type": "code",
   "execution_count": null,
   "metadata": {},
   "outputs": [],
   "source": [
    "pct=lambda x: x/x.sum()"
   ]
  },
  {
   "cell_type": "code",
   "execution_count": 29,
   "metadata": {},
   "outputs": [],
   "source": [
    "## set grouping levels to be used for summary of the population data from REMI\n",
    "\n",
    "\n",
    "grpqtrbins = ['YEAR', 'Region', 'gender', 'rac_ethn', 'age_grp_5']\n",
    "agegrp = 'age_grp_5'\n",
    "reg = 'region'"
   ]
  },
  {
   "cell_type": "code",
   "execution_count": 5,
   "metadata": {},
   "outputs": [],
   "source": [
    "def agebreaker(breaks):\n",
    "    labels=[]\n",
    "    for f in range(len(breaks)-1):\n",
    "        labels.append(\"age{fr:02.0f}{to:02.0f}\".format(fr=breaks[f],to=breaks[f+1]-1))\n",
    "    labels[-1]='age{dt:,.0f}p'.format(dt=breaks[-2])\n",
    "    return labels\n",
    "def agebreaker2(breaks):\n",
    "    labels=[]\n",
    "    for f in range(len(breaks)-1):\n",
    "        labels.append(\"Ages {fr:.0f}-{to:.0f}\".format(fr=breaks[f],to=breaks[f+1]-1))\n",
    "    labels[-1]='Ages {dt:,.0f}+'.format(dt=breaks[-2])\n",
    "    return labels\n",
    "\n",
    "breaks_5 =range(0,86,5)+[np.inf]\n",
    "SENIORS=agebreaker2(breaks_5)[-5:]\n",
    "YOUNG=agebreaker2(breaks_5)[5:9]\n",
    "diffbreaks_custom =[0,5]+range(20,90,5)+[np.inf]\n",
    "YEARS_5_str=map(str,range(2010,2051,5))\n",
    "YEARS_10_50_str=map(str,range(2010,2051,5))\n",
    "YEARS_15_50_str=map(str,range(2015,2051,5))\n",
    "YEARS_10_40_str=map(str,range(2010,2041,5))\n",
    "YEARS_15_40_str=map(str,range(2015,2041,5))\n",
    "YEARS_1_str=map(str,range(2010,2051,1))\n",
    "\n",
    "YEARS_RHNA_str=['2015','2020']+map(str,range(2022,2031))"
   ]
  },
  {
   "cell_type": "code",
   "execution_count": 6,
   "metadata": {},
   "outputs": [],
   "source": [
    "## geography mappings\n",
    "\n",
    "bayareafips_full ={'06001':'Alameda', '06013':'Contra Costa', '06041':'Marin', '06055':'Napa', '06075':'San Francisco', '06081':'San Mateo', '06085':'Santa Clara', '06097':'Sonoma', '06095':'Solano'}\n",
    "cntystring='({})'.format('|'.join(bayareafips_full.values()))\n",
    "\n",
    "remiregions={'Alameda': 'East Bay',\n",
    " 'Contra Costa': 'East Bay',\n",
    " 'Marin': 'West Bay',\n",
    " 'Napa': 'North Bay',\n",
    " 'San Francisco': 'West Bay',\n",
    " 'San Mateo': 'West Bay',\n",
    " 'Santa Clara': 'South Bay',\n",
    " 'Solano': 'North Bay',\n",
    " 'Sonoma': 'North Bay'}\n",
    "\n",
    "bayarearegionsmtc={4:'Alameda',#East Bay',\n",
    " 5:'Contra Costa',#East Bay',\n",
    " 3:'Santa Clara',#South Bay',\n",
    " 7:'Napa',#North Bay',\n",
    " 2:'San Mateo',#West Bay',\n",
    " 1:'San Francisco',#West Bay',\n",
    " 8:'Sonoma',#North Bay',\n",
    " 9:'Marin',#'West Bay',\n",
    " 6:'Solano'}#'North Bay'}"
   ]
  },
  {
   "cell_type": "code",
   "execution_count": 7,
   "metadata": {},
   "outputs": [],
   "source": [
    "def easer(target_series=None,source_series=None,\n",
    "          t_0=7,t_1=15,envelope_year_start=2015,envelope_year_end=2050):\n",
    "    \"\"\"Takes a source series (keyed on year) and transitions to a target series over a period of time.\n",
    "    \n",
    "    \"\"\"\n",
    "    \n",
    "    ## We 'ease out' the difference between the series of interest and the target series\n",
    "    ## when the easing out of the difference is done (difference is 0) the two are identical \n",
    "    \n",
    "    # x-coordinates\n",
    "    index = np.arange(envelope_year_end-envelope_year_start+1)\n",
    "\n",
    "    easing_window = (t_1 - t_0)\n",
    "\n",
    "    # Use a sinusoidal easing function, set to converge in a relevant range between t_0 and t_1\n",
    "    x = np.pi * (index - t_0) / easing_window\n",
    "    easing = 0.5 * np.cos(x) + 0.5\n",
    "\n",
    "    # To the left of the convergence window, easing should be 1 (i.e. = source series)\n",
    "    easing[index < t_0] = 1\n",
    "\n",
    "    # To the right of the convergence window, it should be 0 (i.e. no difference to,\n",
    "    ## or fully transitioned to target series)\n",
    "    \n",
    "    easing[index >= t_1] = 0\n",
    "\n",
    "    # turn in to a pd.Series\n",
    "    easing = pd.Series(easing,index=pd.Index(np.arange(envelope_year_start,envelope_year_end+1),name='Year'))\n",
    "    easing.index=easing.index.set_names('Year')\n",
    "    \n",
    "\n",
    "    source_less_target=source_series-target_series\n",
    "    output=(source_less_target.mul(easing,axis=0)+target_series).stack()\n",
    "    output.name='value'\n",
    "    return output.unstack('Year').rename(columns=lambda x: str(x))"
   ]
  },
  {
   "cell_type": "code",
   "execution_count": 8,
   "metadata": {},
   "outputs": [],
   "source": [
    "pd.options.display.float_format = '{:,.4f}'.format"
   ]
  },
  {
   "cell_type": "markdown",
   "metadata": {},
   "source": [
    "#### Set mapping of scenario to scenario names"
   ]
  },
  {
   "cell_type": "code",
   "execution_count": 121,
   "metadata": {},
   "outputs": [],
   "source": [
    "scenarios={#'RC no change 3':'RC no change 3',\n",
    "           'RC5':'base_RC2050',\n",
    "           'R5H0C':'H0_RC2050','R5H1C':'H1_RC2050','R5H2C':'H2_RC2050',\n",
    "'PBA_2040':'PBA_2040',\n",
    "    \n",
    "## draft blueprint    \n",
    "'RC6':'Blueprint Baseline',\n",
    "'R6H2C_fix':'Blueprint Plus Fix it First',\n",
    "'R6H2C_plus':'Blueprint Plus Crossing',\n",
    "'R6H2C_basic':'Blueprint Basic'\n",
    "}\n",
    "\n",
    "BLUEPRINT_RUNS=['R6H2C_fix','R6H2C_plus']"
   ]
  },
  {
   "cell_type": "code",
   "execution_count": 10,
   "metadata": {},
   "outputs": [],
   "source": [
    "## we use different headship rate vintages for each scenario / variant, so define a mapping\n",
    "\n",
    "scenario_to_headship_map={'PBA_2040':'HR PBA 2040',\n",
    "                          'RC5':'HR PBA 2040',\n",
    "                          'R5H0C':'HR Bay Area ACS 14-18',\n",
    "                          'R5H1C':'HR PBA 2040',\n",
    "                         'R5H2C':'HR Phased',#'HR Bay Area Census 2000',\n",
    "                         \n",
    "                          ## draft blueprint\n",
    "                          'R6H2C_basic':'HR Phased',#'HR Bay Area Census 2000',\n",
    "                         'R6H2C_fix':'HR Phased',#'HR Bay Area Census 2000',\n",
    "                         'R6H2C_plus':'HR Phased',#,'HR Bay Area Census 2000',\n",
    "                         'RC6': 'HR Bay Area ACS 14-18'\n",
    "                         }"
   ]
  },
  {
   "cell_type": "code",
   "execution_count": 11,
   "metadata": {},
   "outputs": [
    {
     "data": {
      "text/plain": [
       "True"
      ]
     },
     "execution_count": 11,
     "metadata": {},
     "output_type": "execute_result"
    }
   ],
   "source": [
    "output_path = os.path.join(drop,'Data')\n",
    "os.path.join(box,'EDF Shared work/control_totals/remi')\n",
    "os.path.exists(output_path)"
   ]
  },
  {
   "cell_type": "markdown",
   "metadata": {},
   "source": [
    "### Load some historical data (PBA, DOF)\n",
    "Sort out age distribution differences to the PBA run"
   ]
  },
  {
   "cell_type": "code",
   "execution_count": 12,
   "metadata": {},
   "outputs": [],
   "source": [
    "remipop_pba=pd.read_csv(os.path.join(drop,'Data/remi_pop_l_NC3RC1.csv'))\n",
    "remipop_pba['age_fine']=pd.cut(remipop_pba.Category.str.extract('(\\d{1,3})',expand=False).astype(int),right=False,bins=diffbreaks_custom,labels=agebreaker(diffbreaks_custom)).astype(str)\n",
    "remipop_pba['age_grp_5']=pd.cut(remipop_pba.Category.str.extract('(\\d{1,3})',expand=False).astype(np.int32),bins=breaks_5,\n",
    "           labels=agebreaker2(breaks_5),include_lowest=True,right=False)\n",
    "remipop_pba['Year']=remipop_pba.variable\n",
    "\n",
    "remipop_pba['rac_ethn']=remipop_pba.hierarchy.str.split('--').map(lambda x: x[0])\n",
    "remipop_pba['gender']=remipop_pba.hierarchy.str.split('--').map(lambda x: x[1])\n",
    "remipop_pba['runid']='PBA_2040'# NC3RC1'\n",
    "remipop_pba_binned=remipop_pba.groupby(['Year',u'runid', u'Region', u'gender', u'rac_ethn', u'age_grp_5']).value.sum().unstack('Year').round(0).astype(int32)\n",
    "\n",
    "remipop_pba_binned=remipop_pba_binned[range(2011,2041)]"
   ]
  },
  {
   "cell_type": "code",
   "execution_count": 13,
   "metadata": {},
   "outputs": [],
   "source": [
    "## load household data from taz files\n",
    "\n",
    "pthtaz=os.path.join(drop,'Documents/Data/Urbansim/urbansim2/pba2040official/run7224c*')\n",
    "files = glob.glob(pthtaz)\n",
    "\n",
    "out={}\n",
    "for f in files:\n",
    "    #print f\n",
    "    yr=re.search('(?<=summaries_)\\d{4}',f).group()\n",
    "    if not 'run7224c_taz_summaries_2010.csv' in f:\n",
    "        #yr='2010*'\n",
    "        temp=pd.read_csv(f)\n",
    "        out[yr]=temp\n",
    "\n",
    "## prep taz data in long format for comparing with jurisdiction-file summaries\n",
    "\n",
    "tazs=pd.concat(out).reset_index().rename(columns={'level_0':'year','level_1':'rowid'})\n",
    "tazs=tazs.rename(columns=lambda x: x.lower())\n",
    "tazs['county']=tazs.county.map(bayarearegionsmtc)\n",
    "tazs['Region']=tazs.county.map(remiregions)\n",
    "tazs['Year']=tazs['year']#.astype(np.int32)\n",
    "\n",
    "pbadatasubreg= tazs.groupby(['Year','Region'])[[u'tothh']].sum().reset_index()\n",
    "\n",
    "pbadata_households=pbadatasubreg.T.sum(axis=1)\n",
    "#pbadata_households.index=pbadata_households.index.astype(int)\n",
    "\n",
    "\n",
    "pbadatasubreg['HR']='HR PBA 2040'\n",
    "pbadatasubreg['runid']='PBA_2040'\n",
    "pbadatasubreg=pbadatasubreg.set_index(['HR','runid','Region','Year']).tothh.unstack('Year')"
   ]
  },
  {
   "cell_type": "code",
   "execution_count": 14,
   "metadata": {},
   "outputs": [],
   "source": [
    "## input 1980 households data from abag projections 1987\n",
    "\n",
    "cnty80={'Alameda':426092, 'Contra Costa':241534, 'Marin':88723, 'Napa':36624, 'San Francisco':298956,\n",
    "       'San Mateo':225201, 'Santa Clara':458519, 'Solano':80426, 'Sonoma':114474}\n",
    "\n",
    "cnty80=pd.Series(pd.Series(cnty80).values,\n",
    "          index=pd.MultiIndex.from_product([pd.Series(cnty80).index,[''],\n",
    "                                            ['Observed'],['1980']],\n",
    "                                           names=['County','HR','runid','year'])).reset_index(name='value')\n",
    "cnty80['Region']=cnty80.County.map(remiregions)\n",
    "hh80=cnty80.groupby(['HR','runid','Region','year']).value.sum()"
   ]
  },
  {
   "cell_type": "code",
   "execution_count": 15,
   "metadata": {},
   "outputs": [
    {
     "data": {
      "text/html": [
       "<div>\n",
       "<style scoped>\n",
       "    .dataframe tbody tr th:only-of-type {\n",
       "        vertical-align: middle;\n",
       "    }\n",
       "\n",
       "    .dataframe tbody tr th {\n",
       "        vertical-align: top;\n",
       "    }\n",
       "\n",
       "    .dataframe thead th {\n",
       "        text-align: right;\n",
       "    }\n",
       "</style>\n",
       "<table border=\"1\" class=\"dataframe\">\n",
       "  <thead>\n",
       "    <tr style=\"text-align: right;\">\n",
       "      <th></th>\n",
       "      <th>totunits</th>\n",
       "      <th>gqpop</th>\n",
       "      <th>hhpop</th>\n",
       "      <th>totpop</th>\n",
       "      <th>tothh</th>\n",
       "    </tr>\n",
       "    <tr>\n",
       "      <th>year</th>\n",
       "      <th></th>\n",
       "      <th></th>\n",
       "      <th></th>\n",
       "      <th></th>\n",
       "      <th></th>\n",
       "    </tr>\n",
       "  </thead>\n",
       "  <tbody>\n",
       "    <tr>\n",
       "      <th>2015</th>\n",
       "      <td>2839588</td>\n",
       "      <td>150,611.0000</td>\n",
       "      <td>7,434,451.0000</td>\n",
       "      <td>7,585,062.0000</td>\n",
       "      <td>2,665,734.0000</td>\n",
       "    </tr>\n",
       "    <tr>\n",
       "      <th>2016</th>\n",
       "      <td>2855421</td>\n",
       "      <td>148,894.0000</td>\n",
       "      <td>7,508,116.0000</td>\n",
       "      <td>7,657,010.0000</td>\n",
       "      <td>2,688,044.0000</td>\n",
       "    </tr>\n",
       "    <tr>\n",
       "      <th>2017</th>\n",
       "      <td>2873992</td>\n",
       "      <td>150,362.0000</td>\n",
       "      <td>7,560,819.0000</td>\n",
       "      <td>7,711,181.0000</td>\n",
       "      <td>2,697,256.0000</td>\n",
       "    </tr>\n",
       "    <tr>\n",
       "      <th>2018</th>\n",
       "      <td>2888803</td>\n",
       "      <td>150,505.0000</td>\n",
       "      <td>7,601,145.0000</td>\n",
       "      <td>7,751,650.0000</td>\n",
       "      <td>2,709,051.0000</td>\n",
       "    </tr>\n",
       "    <tr>\n",
       "      <th>2019</th>\n",
       "      <td>2904234</td>\n",
       "      <td>150,476.0000</td>\n",
       "      <td>7,632,984.0000</td>\n",
       "      <td>7,783,460.0000</td>\n",
       "      <td>2,723,550.0000</td>\n",
       "    </tr>\n",
       "  </tbody>\n",
       "</table>\n",
       "</div>"
      ],
      "text/plain": [
       "      totunits        gqpop          hhpop         totpop          tothh\n",
       "year                                                                    \n",
       "2015   2839588 150,611.0000 7,434,451.0000 7,585,062.0000 2,665,734.0000\n",
       "2016   2855421 148,894.0000 7,508,116.0000 7,657,010.0000 2,688,044.0000\n",
       "2017   2873992 150,362.0000 7,560,819.0000 7,711,181.0000 2,697,256.0000\n",
       "2018   2888803 150,505.0000 7,601,145.0000 7,751,650.0000 2,709,051.0000\n",
       "2019   2904234 150,476.0000 7,632,984.0000 7,783,460.0000 2,723,550.0000"
      ]
     },
     "execution_count": 15,
     "metadata": {},
     "output_type": "execute_result"
    }
   ],
   "source": [
    "## load DOF hh data\n",
    "\n",
    "hh90_19=pd.read_csv(os.path.join(drop,'Data/projections_2040/dof_e5_1990_2017.csv'))\n",
    "#.groupby(['year']).tothh.sum().reset_index()\n",
    "hh90_19.groupby(['year']).sum().loc[2015:2019]"
   ]
  },
  {
   "cell_type": "code",
   "execution_count": 16,
   "metadata": {},
   "outputs": [],
   "source": [
    "hh90_19['year']=hh90_19['year'].astype(str)\n",
    "hh90_19['HR']=''\n",
    "hh90_19['runid']='Observed'\n",
    "\n",
    "hh90_19['Region']=hh90_19.County.map(remiregions)\n",
    "hh90_19=hh90_19.groupby(['HR','runid','Region','year']).tothh.sum().unstack('year')\n",
    "\n",
    "hh90_19=hh80.unstack('year').join(hh90_19)\n",
    "yrgr=(hh90_19.stack().loc[:,:,:,'2019']-hh90_19.stack().loc[:,:,:,'2012'])/7"
   ]
  },
  {
   "cell_type": "code",
   "execution_count": 17,
   "metadata": {},
   "outputs": [],
   "source": [
    "dofpop=pd.read_csv(os.path.join(drop,'Data/projections_2040/dof_e5_1990_2017.csv')).groupby(['year']).totpop.sum()"
   ]
  },
  {
   "cell_type": "code",
   "execution_count": 18,
   "metadata": {},
   "outputs": [],
   "source": [
    "### Prep other DOF data, and add observed counts for all scenarios\n",
    "## TODO: refactor with the above\n",
    "\n",
    "DOFYRS=range(1990,2012)\n",
    "\n",
    "dofdata=pd.read_csv(os.path.join(drop,'Data/PBA2050/dof_reg_hh_pop.csv'))\n",
    "dofdata['HR']='Obs'\n",
    "dofdata['runid']='Obs'\n",
    "dofdata=dofdata.set_index(['year','HR','runid'])\n",
    "\n",
    "dofrecent=dofdata['U Occupied'].diff().loc[2012:].reset_index(level=[1,2],drop=True)\n",
    "dofrecent.index=dofrecent.index.astype(str)\n",
    "\n",
    "dofhh_hist=dofdata['U Occupied']\n",
    "dofhhpop_hist=dofdata['Pop Household']\n",
    "dofhhsize_hist=dofdata['avg_hh_size']\n",
    "dofhhsize_hist=dofhhsize_hist.loc[DOFYRS].reset_index().set_index(['HR','runid','year']).avg_hh_size"
   ]
  },
  {
   "cell_type": "code",
   "execution_count": 19,
   "metadata": {},
   "outputs": [
    {
     "data": {
      "text/plain": [
       "HR   runid\n",
       "Obs  Obs     2,665,734.0000\n",
       "Name: U Occupied, dtype: float64"
      ]
     },
     "execution_count": 19,
     "metadata": {},
     "output_type": "execute_result"
    }
   ],
   "source": [
    "dofdata['U Occupied'].loc[2015]"
   ]
  },
  {
   "cell_type": "markdown",
   "metadata": {},
   "source": [
    "### That was all historic data. Now fetch and process a number of REMI data files for the current forecast\n"
   ]
  },
  {
   "cell_type": "code",
   "execution_count": 20,
   "metadata": {},
   "outputs": [],
   "source": [
    "# ## create output folders for REMI data export\n",
    "\n",
    "# for concept in ['employment','labortot','labor','income','population','economy','across','occupations']:\n",
    "#     for k,v in scenarios.iteritems():\n",
    "#         newpath=os.path.join(drop,'Data/REMI/{conc}/{sc}'.format(conc=concept,sc=k))\n",
    "#         if not os.path.exists(newpath):\n",
    "#             os.makedirs(newpath)"
   ]
  },
  {
   "cell_type": "markdown",
   "metadata": {},
   "source": [
    "### Prep REMI population data"
   ]
  },
  {
   "cell_type": "code",
   "execution_count": 21,
   "metadata": {},
   "outputs": [
    {
     "name": "stdout",
     "output_type": "stream",
     "text": [
      "\tProcessing  R5H0C\n",
      "\tProcessing  RC5\n",
      "\tProcessing  R6H2C_plus\n",
      "\tProcessing  RC6\n",
      "\tProcessing  R6H2C_fix\n",
      "\tProcessing  R5H2C\n",
      "\tProcessing  R6H2C_basic\n",
      "\tProcessing  R5H1C\n"
     ]
    }
   ],
   "source": [
    "matches = []\n",
    "for root, dirnames, filenames in os.walk(os.path.join(drop,'Data/REMI/population')):\n",
    "    for filename in fnmatch.filter(filenames, '*.xlsx'):\n",
    "        matches.append(os.path.join(root, filename))\n",
    "\n",
    "## store each dataframe in a dict\n",
    "outdata={}\n",
    "\n",
    "for fn in matches:\n",
    "\n",
    "    temp=pd.read_excel(fn,skiprows=2)\n",
    "    hdr=temp.iloc[0].to_dict()\n",
    "    \n",
    "    ## only load file if in scenarios dict defined above\n",
    "    if hdr['Forecast'].strip() in scenarios:\n",
    "        print \"\\tProcessing \",hdr['Forecast']#,hdr['Region']\n",
    "    \n",
    "        temp=pd.read_excel(fn,skiprows=5)\n",
    "#        outdata[(scenarios[hdr['Forecast'].strip()],hdr['Region'].strip())]=temp.set_index(['Race','Gender','Ages']).filter(regex='\\d{4}')\n",
    "        outdata[hdr['Forecast'].strip()]=temp.set_index(['Region','Race','Gender','Ages']).filter(regex='\\d{4}')\n",
    "\n",
    "outdata=pd.concat(outdata)\n",
    "\n",
    "outdata.index=outdata.index.set_names(['runid'],level=[0])\n",
    "remipop=(outdata.stack()*1000).round(0).astype(np.int32).reset_index(name='value')\n",
    "\n",
    "remipop=remipop.rename(columns={'Race':'rac_ethn','level_5':'Year'})\n",
    "remipop['sex']=remipop.Gender.str.lower()\n",
    "remipop['age_fine']=pd.cut(remipop.Ages.str.extract('(\\d{1,3})',expand=False).astype(int),right=False,bins=diffbreaks_custom,labels=agebreaker(diffbreaks_custom)).astype(str)\n",
    "remipop['age_grp_5']=pd.cut(remipop.Ages.str.extract('(\\d{1,3})',expand=False).astype(np.int32),bins=breaks_5,\n",
    "           labels=agebreaker2(breaks_5),include_lowest=True,right=False)\n",
    "remipop['gender']=remipop.Gender+'s'"
   ]
  },
  {
   "cell_type": "markdown",
   "metadata": {},
   "source": [
    "### Summarize REMI data by key variables (race, gender age)"
   ]
  },
  {
   "cell_type": "code",
   "execution_count": 22,
   "metadata": {},
   "outputs": [
    {
     "data": {
      "text/html": [
       "<div>\n",
       "<style scoped>\n",
       "    .dataframe tbody tr th:only-of-type {\n",
       "        vertical-align: middle;\n",
       "    }\n",
       "\n",
       "    .dataframe tbody tr th {\n",
       "        vertical-align: top;\n",
       "    }\n",
       "\n",
       "    .dataframe thead th {\n",
       "        text-align: right;\n",
       "    }\n",
       "</style>\n",
       "<table border=\"1\" class=\"dataframe\">\n",
       "  <thead>\n",
       "    <tr style=\"text-align: right;\">\n",
       "      <th></th>\n",
       "      <th></th>\n",
       "      <th></th>\n",
       "      <th></th>\n",
       "      <th>Year</th>\n",
       "      <th>2011</th>\n",
       "      <th>2012</th>\n",
       "      <th>2013</th>\n",
       "      <th>2014</th>\n",
       "      <th>2015</th>\n",
       "      <th>2016</th>\n",
       "      <th>2017</th>\n",
       "      <th>2018</th>\n",
       "      <th>2019</th>\n",
       "      <th>2020</th>\n",
       "      <th>2021</th>\n",
       "      <th>2022</th>\n",
       "      <th>2023</th>\n",
       "      <th>2024</th>\n",
       "      <th>2025</th>\n",
       "      <th>2026</th>\n",
       "      <th>2027</th>\n",
       "      <th>2028</th>\n",
       "      <th>2029</th>\n",
       "      <th>2030</th>\n",
       "      <th>2031</th>\n",
       "      <th>2032</th>\n",
       "      <th>2033</th>\n",
       "      <th>2034</th>\n",
       "      <th>2035</th>\n",
       "      <th>2036</th>\n",
       "      <th>2037</th>\n",
       "      <th>2038</th>\n",
       "      <th>2039</th>\n",
       "      <th>2040</th>\n",
       "      <th>2041</th>\n",
       "      <th>2042</th>\n",
       "      <th>2043</th>\n",
       "      <th>2044</th>\n",
       "      <th>2045</th>\n",
       "      <th>2046</th>\n",
       "      <th>2047</th>\n",
       "      <th>2048</th>\n",
       "      <th>2049</th>\n",
       "      <th>2050</th>\n",
       "    </tr>\n",
       "    <tr>\n",
       "      <th>runid</th>\n",
       "      <th>Region</th>\n",
       "      <th>gender</th>\n",
       "      <th>rac_ethn</th>\n",
       "      <th>age_grp_5</th>\n",
       "      <th></th>\n",
       "      <th></th>\n",
       "      <th></th>\n",
       "      <th></th>\n",
       "      <th></th>\n",
       "      <th></th>\n",
       "      <th></th>\n",
       "      <th></th>\n",
       "      <th></th>\n",
       "      <th></th>\n",
       "      <th></th>\n",
       "      <th></th>\n",
       "      <th></th>\n",
       "      <th></th>\n",
       "      <th></th>\n",
       "      <th></th>\n",
       "      <th></th>\n",
       "      <th></th>\n",
       "      <th></th>\n",
       "      <th></th>\n",
       "      <th></th>\n",
       "      <th></th>\n",
       "      <th></th>\n",
       "      <th></th>\n",
       "      <th></th>\n",
       "      <th></th>\n",
       "      <th></th>\n",
       "      <th></th>\n",
       "      <th></th>\n",
       "      <th></th>\n",
       "      <th></th>\n",
       "      <th></th>\n",
       "      <th></th>\n",
       "      <th></th>\n",
       "      <th></th>\n",
       "      <th></th>\n",
       "      <th></th>\n",
       "      <th></th>\n",
       "      <th></th>\n",
       "      <th></th>\n",
       "    </tr>\n",
       "  </thead>\n",
       "  <tbody>\n",
       "    <tr>\n",
       "      <th rowspan=\"5\" valign=\"top\">R5H0C</th>\n",
       "      <th rowspan=\"5\" valign=\"top\">East Bay</th>\n",
       "      <th rowspan=\"5\" valign=\"top\">Females</th>\n",
       "      <th rowspan=\"5\" valign=\"top\">Black-NonHispanic</th>\n",
       "      <th>Ages 0-4</th>\n",
       "      <td>8106</td>\n",
       "      <td>7845</td>\n",
       "      <td>7714</td>\n",
       "      <td>7504</td>\n",
       "      <td>7390</td>\n",
       "      <td>7345</td>\n",
       "      <td>7376</td>\n",
       "      <td>7416</td>\n",
       "      <td>7480</td>\n",
       "      <td>7605</td>\n",
       "      <td>7630</td>\n",
       "      <td>7572</td>\n",
       "      <td>7549</td>\n",
       "      <td>7510</td>\n",
       "      <td>7446</td>\n",
       "      <td>7357</td>\n",
       "      <td>7249</td>\n",
       "      <td>7138</td>\n",
       "      <td>7024</td>\n",
       "      <td>6913</td>\n",
       "      <td>6805</td>\n",
       "      <td>6707</td>\n",
       "      <td>6613</td>\n",
       "      <td>6533</td>\n",
       "      <td>6471</td>\n",
       "      <td>6426</td>\n",
       "      <td>6403</td>\n",
       "      <td>6398</td>\n",
       "      <td>6409</td>\n",
       "      <td>6434</td>\n",
       "      <td>6460</td>\n",
       "      <td>6491</td>\n",
       "      <td>6527</td>\n",
       "      <td>6565</td>\n",
       "      <td>6608</td>\n",
       "      <td>6653</td>\n",
       "      <td>6702</td>\n",
       "      <td>6755</td>\n",
       "      <td>6808</td>\n",
       "      <td>6861</td>\n",
       "    </tr>\n",
       "    <tr>\n",
       "      <th>Ages 5-9</th>\n",
       "      <td>8302</td>\n",
       "      <td>8200</td>\n",
       "      <td>8131</td>\n",
       "      <td>7867</td>\n",
       "      <td>7849</td>\n",
       "      <td>7638</td>\n",
       "      <td>7321</td>\n",
       "      <td>7294</td>\n",
       "      <td>7347</td>\n",
       "      <td>7346</td>\n",
       "      <td>7390</td>\n",
       "      <td>7575</td>\n",
       "      <td>7612</td>\n",
       "      <td>7659</td>\n",
       "      <td>7749</td>\n",
       "      <td>7736</td>\n",
       "      <td>7638</td>\n",
       "      <td>7581</td>\n",
       "      <td>7516</td>\n",
       "      <td>7434</td>\n",
       "      <td>7339</td>\n",
       "      <td>7240</td>\n",
       "      <td>7139</td>\n",
       "      <td>7043</td>\n",
       "      <td>6952</td>\n",
       "      <td>6870</td>\n",
       "      <td>6797</td>\n",
       "      <td>6733</td>\n",
       "      <td>6683</td>\n",
       "      <td>6648</td>\n",
       "      <td>6630</td>\n",
       "      <td>6626</td>\n",
       "      <td>6635</td>\n",
       "      <td>6660</td>\n",
       "      <td>6689</td>\n",
       "      <td>6725</td>\n",
       "      <td>6767</td>\n",
       "      <td>6814</td>\n",
       "      <td>6866</td>\n",
       "      <td>6919</td>\n",
       "    </tr>\n",
       "    <tr>\n",
       "      <th>Ages 10-14</th>\n",
       "      <td>9185</td>\n",
       "      <td>8971</td>\n",
       "      <td>8756</td>\n",
       "      <td>8473</td>\n",
       "      <td>8083</td>\n",
       "      <td>7737</td>\n",
       "      <td>7567</td>\n",
       "      <td>7647</td>\n",
       "      <td>7651</td>\n",
       "      <td>7686</td>\n",
       "      <td>7688</td>\n",
       "      <td>7534</td>\n",
       "      <td>7497</td>\n",
       "      <td>7532</td>\n",
       "      <td>7501</td>\n",
       "      <td>7512</td>\n",
       "      <td>7665</td>\n",
       "      <td>7674</td>\n",
       "      <td>7700</td>\n",
       "      <td>7778</td>\n",
       "      <td>7760</td>\n",
       "      <td>7668</td>\n",
       "      <td>7621</td>\n",
       "      <td>7569</td>\n",
       "      <td>7504</td>\n",
       "      <td>7430</td>\n",
       "      <td>7352</td>\n",
       "      <td>7277</td>\n",
       "      <td>7205</td>\n",
       "      <td>7138</td>\n",
       "      <td>7074</td>\n",
       "      <td>7017</td>\n",
       "      <td>6963</td>\n",
       "      <td>6921</td>\n",
       "      <td>6894</td>\n",
       "      <td>6884</td>\n",
       "      <td>6888</td>\n",
       "      <td>6907</td>\n",
       "      <td>6938</td>\n",
       "      <td>6979</td>\n",
       "    </tr>\n",
       "    <tr>\n",
       "      <th>Ages 15-19</th>\n",
       "      <td>10304</td>\n",
       "      <td>9823</td>\n",
       "      <td>9378</td>\n",
       "      <td>8933</td>\n",
       "      <td>8726</td>\n",
       "      <td>8519</td>\n",
       "      <td>8209</td>\n",
       "      <td>8254</td>\n",
       "      <td>8202</td>\n",
       "      <td>8006</td>\n",
       "      <td>7897</td>\n",
       "      <td>7935</td>\n",
       "      <td>8008</td>\n",
       "      <td>7997</td>\n",
       "      <td>8007</td>\n",
       "      <td>7978</td>\n",
       "      <td>7794</td>\n",
       "      <td>7737</td>\n",
       "      <td>7756</td>\n",
       "      <td>7714</td>\n",
       "      <td>7724</td>\n",
       "      <td>7885</td>\n",
       "      <td>7904</td>\n",
       "      <td>7946</td>\n",
       "      <td>8039</td>\n",
       "      <td>8042</td>\n",
       "      <td>7972</td>\n",
       "      <td>7948</td>\n",
       "      <td>7918</td>\n",
       "      <td>7876</td>\n",
       "      <td>7820</td>\n",
       "      <td>7755</td>\n",
       "      <td>7692</td>\n",
       "      <td>7628</td>\n",
       "      <td>7567</td>\n",
       "      <td>7512</td>\n",
       "      <td>7466</td>\n",
       "      <td>7422</td>\n",
       "      <td>7389</td>\n",
       "      <td>7371</td>\n",
       "    </tr>\n",
       "    <tr>\n",
       "      <th>Ages 20-24</th>\n",
       "      <td>10873</td>\n",
       "      <td>11095</td>\n",
       "      <td>11015</td>\n",
       "      <td>10766</td>\n",
       "      <td>10095</td>\n",
       "      <td>9471</td>\n",
       "      <td>8926</td>\n",
       "      <td>8526</td>\n",
       "      <td>8318</td>\n",
       "      <td>8447</td>\n",
       "      <td>8619</td>\n",
       "      <td>8683</td>\n",
       "      <td>8703</td>\n",
       "      <td>8609</td>\n",
       "      <td>8355</td>\n",
       "      <td>8182</td>\n",
       "      <td>8153</td>\n",
       "      <td>8174</td>\n",
       "      <td>8128</td>\n",
       "      <td>8122</td>\n",
       "      <td>8096</td>\n",
       "      <td>7931</td>\n",
       "      <td>7898</td>\n",
       "      <td>7952</td>\n",
       "      <td>7950</td>\n",
       "      <td>8004</td>\n",
       "      <td>8215</td>\n",
       "      <td>8288</td>\n",
       "      <td>8383</td>\n",
       "      <td>8527</td>\n",
       "      <td>8571</td>\n",
       "      <td>8529</td>\n",
       "      <td>8528</td>\n",
       "      <td>8517</td>\n",
       "      <td>8491</td>\n",
       "      <td>8453</td>\n",
       "      <td>8412</td>\n",
       "      <td>8371</td>\n",
       "      <td>8330</td>\n",
       "      <td>8292</td>\n",
       "    </tr>\n",
       "  </tbody>\n",
       "</table>\n",
       "</div>"
      ],
      "text/plain": [
       "Year                                                  2011   2012   2013   2014   2015  2016  2017  2018  2019  2020  2021  2022  2023  2024  2025  2026  2027  2028  2029  2030  2031  2032  2033  2034  2035  2036  2037  2038  2039  2040  2041  2042  2043  2044  2045  2046  2047  2048  2049  2050\n",
       "runid Region   gender  rac_ethn          age_grp_5                                                                                                                                                                                                                                                      \n",
       "R5H0C East Bay Females Black-NonHispanic Ages 0-4     8106   7845   7714   7504   7390  7345  7376  7416  7480  7605  7630  7572  7549  7510  7446  7357  7249  7138  7024  6913  6805  6707  6613  6533  6471  6426  6403  6398  6409  6434  6460  6491  6527  6565  6608  6653  6702  6755  6808  6861\n",
       "                                         Ages 5-9     8302   8200   8131   7867   7849  7638  7321  7294  7347  7346  7390  7575  7612  7659  7749  7736  7638  7581  7516  7434  7339  7240  7139  7043  6952  6870  6797  6733  6683  6648  6630  6626  6635  6660  6689  6725  6767  6814  6866  6919\n",
       "                                         Ages 10-14   9185   8971   8756   8473   8083  7737  7567  7647  7651  7686  7688  7534  7497  7532  7501  7512  7665  7674  7700  7778  7760  7668  7621  7569  7504  7430  7352  7277  7205  7138  7074  7017  6963  6921  6894  6884  6888  6907  6938  6979\n",
       "                                         Ages 15-19  10304   9823   9378   8933   8726  8519  8209  8254  8202  8006  7897  7935  8008  7997  8007  7978  7794  7737  7756  7714  7724  7885  7904  7946  8039  8042  7972  7948  7918  7876  7820  7755  7692  7628  7567  7512  7466  7422  7389  7371\n",
       "                                         Ages 20-24  10873  11095  11015  10766  10095  9471  8926  8526  8318  8447  8619  8683  8703  8609  8355  8182  8153  8174  8128  8122  8096  7931  7898  7952  7950  8004  8215  8288  8383  8527  8571  8529  8528  8517  8491  8453  8412  8371  8330  8292"
      ]
     },
     "execution_count": 22,
     "metadata": {},
     "output_type": "execute_result"
    }
   ],
   "source": [
    "remipop_binned = remipop.groupby(['runid','Year','Region','gender','rac_ethn','age_grp_5']).value.sum().unstack('Year')\n",
    "remipop_binned=remipop_binned.loc[:,range(2011,2051)]\n",
    "remipop_binned.head()"
   ]
  },
  {
   "cell_type": "code",
   "execution_count": 23,
   "metadata": {},
   "outputs": [],
   "source": [
    "## add PBA2040 data\n",
    "remipop_binned=remipop_binned.append(remipop_pba_binned)\n",
    "remipop_binned_age_pct=remipop_binned.sum(level=['runid','age_grp_5']).stack().groupby(level=['Year','runid']).apply(pct)"
   ]
  },
  {
   "cell_type": "code",
   "execution_count": 24,
   "metadata": {},
   "outputs": [
    {
     "data": {
      "text/plain": [
       "<matplotlib.axes._subplots.AxesSubplot at 0x12256a550>"
      ]
     },
     "execution_count": 24,
     "metadata": {},
     "output_type": "execute_result"
    },
    {
     "data": {
      "image/png": "[encoded data removed]",
      "text/plain": [
       "<Figure size 432x288 with 1 Axes>"
      ]
     },
     "metadata": {
      "needs_background": "light"
     },
     "output_type": "display_data"
    }
   ],
   "source": [
    "## How does the current age distribution differ from PBA 2040 expectations?\n",
    "\n",
    "remipop_binned.sum(level=['runid','age_grp_5']).stack().loc[['PBA_2040','R6H2C_plus'],:,2040].unstack(0).diff(axis=1).R6H2C_plus.plot(kind='barh',color='grey')"
   ]
  },
  {
   "cell_type": "code",
   "execution_count": 25,
   "metadata": {},
   "outputs": [
    {
     "data": {
      "text/plain": [
       "Text(0.5,1,'Change in age groups, 2015=index 100\\nSource: ABAG/MTC, from REMI, \"BP Fix it First\"')"
      ]
     },
     "execution_count": 25,
     "metadata": {},
     "output_type": "execute_result"
    },
    {
     "data": {
      "image/png": "[encoded data removed]",
      "text/plain": [
       "<Figure size 432x288 with 1 Axes>"
      ]
     },
     "metadata": {
      "needs_background": "light"
     },
     "output_type": "display_data"
    }
   ],
   "source": [
    "## age group relative growth? The ones growing the most also have high headship rates\n",
    "\n",
    "((remipop_binned.loc['R6H2C_fix'].sum(level='age_grp_5').T/remipop_binned.loc['R6H2C_fix'].sum(level='age_grp_5').T.loc[2015])).loc[2015:2030].plot(cmap=cm.Set1)\n",
    "legend(ncol=2)\n",
    "title('Change in age groups, 2015=index 100\\nSource: ABAG/MTC, from REMI, \"BP Fix it First\"')"
   ]
  },
  {
   "cell_type": "markdown",
   "metadata": {},
   "source": [
    "### Now, `REMI's` population projection is binned by the same dimensions as the PUMS data used to make headship rates. That means we can easily apply the `PUMS` rates to the appropriate bin counts\n",
    "\n",
    "But first, REMI's population counts include group quartered populations, so first we need a slight adjustment of the population in these bins, removing counts for group quarters.\n",
    "\n",
    "From detailed census 2010 data, we get age/gender/race specific rates, which we apply to the future population without adjustments. The result is the REMI household population.\n"
   ]
  },
  {
   "cell_type": "code",
   "execution_count": 30,
   "metadata": {},
   "outputs": [
    {
     "data": {
      "text/plain": [
       "Region    gender  rac_ethn           age_grp_5 \n",
       "West Bay  Males   White-NonHispanic  Ages 65-69   0.0139\n",
       "                                     Ages 70-74   0.0215\n",
       "                                     Ages 75-79   0.0276\n",
       "                                     Ages 80-84   0.0410\n",
       "                                     Ages 85+     0.0689\n",
       "Name: value, dtype: float64"
      ]
     },
     "execution_count": 30,
     "metadata": {},
     "output_type": "execute_result"
    }
   ],
   "source": [
    "## Load group quarter shares for household population estimates\n",
    "\n",
    "grp_qtr_shares=pd.read_csv(os.path.join(box,'EDF Shared work/control_totals/base_data/census_2010_pums_grp_qtr_%s_%s_binned_shares.csv'%(reg,agegrp)),index_col=None,names=grpqtrbins[1:]+['value'])\n",
    "pums2010index = grpqtrbins[1:5] if 'Region' in grpqtrbins else grpqtrbins[-3:]\n",
    "\n",
    "grp_qtr_shares.set_index(pums2010index,inplace=True)\n",
    "grp_qtr_shares=grp_qtr_shares.value.fillna(0)\n",
    "grp_qtr_shares.tail(5)"
   ]
  },
  {
   "cell_type": "markdown",
   "metadata": {},
   "source": [
    "### Load / Prep a bunch of headship rates\n",
    "\n",
    "We load a number of different versions to test the effect"
   ]
  },
  {
   "cell_type": "code",
   "execution_count": 31,
   "metadata": {},
   "outputs": [
    {
     "data": {
      "text/plain": [
       "rac_ethn           age_grp_5 \n",
       "Black-NonHispanic  Ages 0-4     0.0000\n",
       "                   Ages 10-14   0.0002\n",
       "                   Ages 15-19   0.0361\n",
       "                   Ages 20-24   0.2277\n",
       "                   Ages 25-29   0.3432\n",
       "                   Ages 30-34   0.4528\n",
       "                   Ages 35-39   0.5520\n",
       "                   Ages 40-44   0.5883\n",
       "                   Ages 45-49   0.5939\n",
       "                   Ages 5-9     0.0000\n",
       "Name: PWGTP, dtype: float64"
      ]
     },
     "execution_count": 31,
     "metadata": {},
     "output_type": "execute_result"
    }
   ],
   "source": [
    "## PBA rates, post-adjustment\n",
    "\n",
    "headship_rates = pd.read_csv(os.path.join(box,'EDF Shared work/control_totals/base_data/headship_rates_adj.csv'),index_col=['rac_ethn','age_grp_5']).PWGTP\n",
    "headship_rates.head(10)"
   ]
  },
  {
   "cell_type": "code",
   "execution_count": 32,
   "metadata": {},
   "outputs": [],
   "source": [
    "## load rates that transition from constrained ACS 2018 rates to less constrained 2000 ones over a 15 year period\n",
    "\n",
    "#headship_rates_phased=pd.read_csv(os.path.join(drop,'Data/PBA2050/headship_acs16_to_c2000.csv'),dtype={'Year':str}).set_index(['Year','rac_ethn','age_grp_5']).value\n",
    "headship_rates_phased=pd.read_csv(os.path.join(drop,'Data/PBA2050/headship_combo_eased.csv'),dtype={'Year':str}).set_index(['Year','rac_ethn','age_grp_5']).value"
   ]
  },
  {
   "cell_type": "markdown",
   "metadata": {},
   "source": [
    "#### PBA 2040 convergence adjustments\n",
    "\n",
    "Percentage point adjustments used in PBA2040"
   ]
  },
  {
   "cell_type": "code",
   "execution_count": 33,
   "metadata": {},
   "outputs": [
    {
     "data": {
      "text/plain": [
       "rac_ethn           age_grp_5 \n",
       "Black-NonHispanic  Ages 25-29   -0.0500\n",
       "                   Ages 30-34   -0.0500\n",
       "                   Ages 65-69   -0.0500\n",
       "                   Ages 70-74   -0.0500\n",
       "                   Ages 75-79   -0.1000\n",
       "dtype: float64"
      ]
     },
     "execution_count": 33,
     "metadata": {},
     "output_type": "execute_result"
    }
   ],
   "source": [
    "## Prep series for potential adjustment of headship\n",
    "## Adjustments-these are the NET change, not the targets!\n",
    "\n",
    "headship_adjust=pd.Series({\n",
    " ('White-NonHispanic', 'Ages 25-29'): -0.05,\n",
    " ('White-NonHispanic', 'Ages 30-34'): -0.05,\n",
    " ('White-NonHispanic', 'Ages 65-69'): -0.05,\n",
    " ('White-NonHispanic', 'Ages 70-74'): -0.05,\n",
    " ('White-NonHispanic', 'Ages 75-79'): -0.1,\n",
    " ('White-NonHispanic', 'Ages 80-84'): -0.1,\n",
    " ('White-NonHispanic', 'Ages 85+'): -0.1,\n",
    " \n",
    " ('Black-NonHispanic', 'Ages 25-29'): -0.05,\n",
    " ('Black-NonHispanic', 'Ages 30-34'): -0.05,\n",
    " ('Black-NonHispanic', 'Ages 65-69'): -0.05,\n",
    " ('Black-NonHispanic', 'Ages 70-74'): -0.05,\n",
    " ('Black-NonHispanic', 'Ages 75-79'): -0.1,\n",
    " ('Black-NonHispanic', 'Ages 80-84'): -0.1,\n",
    " ('Black-NonHispanic', 'Ages 85+'): -0.1})\n",
    "\n",
    "headship_adjust.index=headship_adjust.index.set_names(['rac_ethn','age_grp_5'])\n",
    "headship_adjust.head()"
   ]
  },
  {
   "cell_type": "markdown",
   "metadata": {},
   "source": [
    "#### Load a file that is packaged with several rates from a utility script\n",
    "(`HHPROJ UTIL A - Generate multiregion headship rates from PUMS.ipynb`)"
   ]
  },
  {
   "cell_type": "code",
   "execution_count": 34,
   "metadata": {},
   "outputs": [],
   "source": [
    "HR_KEEP=[u'Bay Area Census 2000',u'Bay Area ACS 12-16',u'Bay Area ACS 14-18',u'Bay Area ACS 18']\n",
    "bayarea_hrs=['Bay Area Census 2000','Bay Area ACS 12-16','Bay Area ACS 14-18','Bay Area ACS 18']\n"
   ]
  },
  {
   "cell_type": "code",
   "execution_count": 35,
   "metadata": {},
   "outputs": [],
   "source": [
    "## set adjustment flag. Default to false.\n",
    "\n",
    "ADJUST_RATES=False\n",
    "#ADJUST_RATES=True\n",
    "\n",
    "\n",
    "headship_alt=pd.read_csv(os.path.join(drop,'Data/PBA2050/headship_stateregions_vintages.csv'),index_col=['vintage', u'region', u'rac_ethn', u'age_grp_5']).value.fillna(0).reset_index()\n",
    "\n",
    "\n",
    "headship_alt['geovintage']=headship_alt.region+' '+headship_alt.vintage\n",
    "headship_alt=headship_alt[headship_alt.geovintage.isin(['Bay Area Census 2000', 'Rest of CA Census 2000',\n",
    "       #'SANDAG Census 2000', 'SCAG Census 2000',\n",
    "       'Atlanta Regional ACS 12-16', 'Bay Area ACS 12-16','Bay Area ACS 14-18','Bay Area ACS 18',\n",
    "       'Rest of CA ACS 12-16', 'SANDAG ACS 12-16', 'SCAG ACS 12-16'])]\n",
    "headship_alt.age_grp_5=headship_alt.age_grp_5.astype(CategoricalDtype(categories=agebreaker2(breaks_5),ordered=True))\n",
    "headship_alt=headship_alt.set_index([u'geovintage', u'rac_ethn', u'age_grp_5']).value\n",
    "\n",
    "\n",
    "## if ADJUST_RATES is true, update rates by adding change\n",
    "\n",
    "if ADJUST_RATES:\n",
    "\n",
    "    headship_alt_wide=headship_alt.unstack(0)\n",
    "\n",
    "    ## BEFORE adjustment values \n",
    "    print headship_alt.loc[:,'Black-NonHispanic','Ages 25-29']\n",
    "\n",
    "    ## use adjustment series to select relevant records only\n",
    "    # update with the base rates, PLUS the net adjustment from above\n",
    "\n",
    "    headship_alt_adj=headship_alt_wide.loc[headship_adjust.index].stack().add(headship_adjust).reset_index(name='value').set_index([u'geovintage', u'rac_ethn', u'age_grp_5']).value.sort_index()\n",
    "    \n",
    "    ## move back to original headship rate df\n",
    "\n",
    "    headship_alt.update(headship_alt_adj)\n",
    "\n",
    "    ## AFTER adjustment values \n",
    "    print headship_alt.loc[:,'Black-NonHispanic','Ages 25-29']\n"
   ]
  },
  {
   "cell_type": "markdown",
   "metadata": {},
   "source": [
    "### We now have a number of different heaship rates. Create mapping of rates to data, so we can apply multiple rates to the same population projection\n",
    "\n",
    "In the household projection, we loop through the household population dataframes and then multiply with a number of different headship rates. We store in a dict."
   ]
  },
  {
   "cell_type": "code",
   "execution_count": 36,
   "metadata": {},
   "outputs": [],
   "source": [
    "hsr={}\n",
    "for rgn in headship_alt.index.get_level_values('geovintage').unique():\n",
    "    if rgn in HR_KEEP:\n",
    "        hsr['HR %s'%rgn]=headship_alt.loc[rgn]"
   ]
  },
  {
   "cell_type": "code",
   "execution_count": 37,
   "metadata": {},
   "outputs": [],
   "source": [
    "## Also add PBA 2040 headship rates, as well as the special phased version, from ACS 14-18 to Census 2000 rates\n",
    "\n",
    "hsr['HR PBA 2040']=headship_rates\n",
    "hsr['HR Phased']=headship_rates_phased"
   ]
  },
  {
   "cell_type": "markdown",
   "metadata": {},
   "source": [
    "#### Other prep\n",
    "\n",
    "We get DOF observed households, to override the early modeled years with observed years"
   ]
  },
  {
   "cell_type": "code",
   "execution_count": 38,
   "metadata": {},
   "outputs": [],
   "source": [
    "hhs_observed=hh90_19[map(str,range(2011,2020))].sum(level='Region')"
   ]
  },
  {
   "cell_type": "markdown",
   "metadata": {},
   "source": [
    "#### Prepare source series for early-year transition\n",
    "As DOF 2019 counts are a bit lower than what is projected in part due to differences in REMI's and DOF's household population, we ease in the early years to avoid a large jump in 2020."
   ]
  },
  {
   "cell_type": "code",
   "execution_count": 39,
   "metadata": {},
   "outputs": [
    {
     "data": {
      "text/html": [
       "<div>\n",
       "<style scoped>\n",
       "    .dataframe tbody tr th:only-of-type {\n",
       "        vertical-align: middle;\n",
       "    }\n",
       "\n",
       "    .dataframe tbody tr th {\n",
       "        vertical-align: top;\n",
       "    }\n",
       "\n",
       "    .dataframe thead th {\n",
       "        text-align: right;\n",
       "    }\n",
       "</style>\n",
       "<table border=\"1\" class=\"dataframe\">\n",
       "  <thead>\n",
       "    <tr style=\"text-align: right;\">\n",
       "      <th>Region</th>\n",
       "      <th>East Bay</th>\n",
       "      <th>North Bay</th>\n",
       "      <th>South Bay</th>\n",
       "      <th>West Bay</th>\n",
       "    </tr>\n",
       "    <tr>\n",
       "      <th>Year</th>\n",
       "      <th></th>\n",
       "      <th></th>\n",
       "      <th></th>\n",
       "      <th></th>\n",
       "    </tr>\n",
       "  </thead>\n",
       "  <tbody>\n",
       "    <tr>\n",
       "      <th>2011</th>\n",
       "      <td>922,672.0000</td>\n",
       "      <td>377,521.0000</td>\n",
       "      <td>605,402.0000</td>\n",
       "      <td>708,060.0000</td>\n",
       "    </tr>\n",
       "    <tr>\n",
       "      <th>2012</th>\n",
       "      <td>927,019.0000</td>\n",
       "      <td>378,841.0000</td>\n",
       "      <td>609,109.0000</td>\n",
       "      <td>709,622.0000</td>\n",
       "    </tr>\n",
       "    <tr>\n",
       "      <th>2013</th>\n",
       "      <td>936,187.0000</td>\n",
       "      <td>380,763.0000</td>\n",
       "      <td>612,406.0000</td>\n",
       "      <td>713,130.0000</td>\n",
       "    </tr>\n",
       "    <tr>\n",
       "      <th>2014</th>\n",
       "      <td>938,271.0000</td>\n",
       "      <td>381,459.0000</td>\n",
       "      <td>616,841.0000</td>\n",
       "      <td>715,211.0000</td>\n",
       "    </tr>\n",
       "    <tr>\n",
       "      <th>2015</th>\n",
       "      <td>941,101.0000</td>\n",
       "      <td>382,031.0000</td>\n",
       "      <td>623,590.0000</td>\n",
       "      <td>719,012.0000</td>\n",
       "    </tr>\n",
       "  </tbody>\n",
       "</table>\n",
       "</div>"
      ],
      "text/plain": [
       "Region     East Bay    North Bay    South Bay     West Bay\n",
       "Year                                                      \n",
       "2011   922,672.0000 377,521.0000 605,402.0000 708,060.0000\n",
       "2012   927,019.0000 378,841.0000 609,109.0000 709,622.0000\n",
       "2013   936,187.0000 380,763.0000 612,406.0000 713,130.0000\n",
       "2014   938,271.0000 381,459.0000 616,841.0000 715,211.0000\n",
       "2015   941,101.0000 382,031.0000 623,590.0000 719,012.0000"
      ]
     },
     "execution_count": 39,
     "metadata": {},
     "output_type": "execute_result"
    }
   ],
   "source": [
    "## create base series for easing function with modest growth assumption\n",
    "## we ease in the difference between this series and the projected one\n",
    "\n",
    "envelope_year_start=2019\n",
    "envelope_year_end=2050\n",
    "base_growth_rate=1.006\n",
    "t_1=15\n",
    "t_0=9\n",
    "\n",
    "source_series={}\n",
    "for yr in range(envelope_year_start,envelope_year_end+1):\n",
    "    source_series[str(yr)]=hhs_observed[str(envelope_year_start)]*(base_growth_rate**(yr-envelope_year_start))\n",
    "\n",
    "source_series=pd.concat(source_series,names=['Year']).unstack('Region')\n",
    "\n",
    "source_series=hhs_observed.T.append(source_series.loc['2020':])\n",
    "source_series.index=pd.Index(map(int,source_series.index),dtype=int,name='Year')\n",
    "source_series.head()"
   ]
  },
  {
   "cell_type": "markdown",
   "metadata": {},
   "source": [
    "## Do the actual household projection for each scenario in a loop\n",
    "\n",
    "This is the main event: Using appropriately and identically binned household population data and headship rates to predict households\n",
    "\n"
   ]
  },
  {
   "cell_type": "code",
   "execution_count": 48,
   "metadata": {},
   "outputs": [
    {
     "name": "stdout",
     "output_type": "stream",
     "text": [
      "H1_RC2050 H1_RC2050 /Users/aolsen/Dropbox/Data/PBA2050/household_forecast/R5H1C\n",
      "\tHR Bay Area ACS 12-16\n",
      "\tHR Bay Area ACS 14-18\n",
      "\tHR Bay Area ACS 18\n",
      "\tHR Phased\n",
      "\tHR PBA 2040\n",
      "\tHR Bay Area Census 2000\n",
      "PBA_2040 PBA_2040 /Users/aolsen/Dropbox/Data/PBA2050/household_forecast/PBA_2040\n",
      "\tHR Bay Area ACS 12-16\n",
      "\tHR Bay Area ACS 14-18\n",
      "\tHR Bay Area ACS 18\n",
      "\tHR Phased\n",
      "\tHR PBA 2040\n",
      "\tHR Bay Area Census 2000\n",
      "Blueprint Plus Crossing Blueprint Plus Crossing /Users/aolsen/Dropbox/Data/PBA2050/household_forecast/R6H2C_plus\n",
      "\tHR Bay Area ACS 12-16\n",
      "\tHR Bay Area ACS 14-18\n",
      "\tHR Bay Area ACS 18\n",
      "\tHR Phased\n",
      "\tHR PBA 2040\n",
      "\tHR Bay Area Census 2000\n",
      "H2_RC2050 H2_RC2050 /Users/aolsen/Dropbox/Data/PBA2050/household_forecast/R5H2C\n",
      "\tHR Bay Area ACS 12-16\n",
      "\tHR Bay Area ACS 14-18\n",
      "\tHR Bay Area ACS 18\n",
      "\tHR Phased\n",
      "\tHR PBA 2040\n",
      "\tHR Bay Area Census 2000\n",
      "Blueprint Basic Blueprint Basic /Users/aolsen/Dropbox/Data/PBA2050/household_forecast/R6H2C_basic\n",
      "\tHR Bay Area ACS 12-16\n",
      "\tHR Bay Area ACS 14-18\n",
      "\tHR Bay Area ACS 18\n",
      "\tHR Phased\n",
      "\tHR PBA 2040\n",
      "\tHR Bay Area Census 2000\n",
      "Blueprint Plus Fix it First Blueprint Plus Fix it First /Users/aolsen/Dropbox/Data/PBA2050/household_forecast/R6H2C_fix\n",
      "\tHR Bay Area ACS 12-16\n",
      "\tHR Bay Area ACS 14-18\n",
      "\tHR Bay Area ACS 18\n",
      "\tHR Phased\n",
      "\tHR PBA 2040\n",
      "\tHR Bay Area Census 2000\n",
      "base_RC2050 base_RC2050 /Users/aolsen/Dropbox/Data/PBA2050/household_forecast/RC5\n",
      "\tHR Bay Area ACS 12-16\n",
      "\tHR Bay Area ACS 14-18\n",
      "\tHR Bay Area ACS 18\n",
      "\tHR Phased\n",
      "\tHR PBA 2040\n",
      "\tHR Bay Area Census 2000\n",
      "Blueprint Baseline Blueprint Baseline /Users/aolsen/Dropbox/Data/PBA2050/household_forecast/RC6\n",
      "\tHR Bay Area ACS 12-16\n",
      "\tHR Bay Area ACS 14-18\n",
      "\tHR Bay Area ACS 18\n",
      "\tHR Phased\n",
      "\tHR PBA 2040\n",
      "\tHR Bay Area Census 2000\n",
      "H0_RC2050 H0_RC2050 /Users/aolsen/Dropbox/Data/PBA2050/household_forecast/R5H0C\n",
      "\tHR Bay Area ACS 12-16\n",
      "\tHR Bay Area ACS 14-18\n",
      "\tHR Bay Area ACS 18\n",
      "\tHR Phased\n",
      "\tHR PBA 2040\n",
      "\tHR Bay Area Census 2000\n"
     ]
    }
   ],
   "source": [
    "## last year from DOF observed data to replace in projected households data\n",
    "\n",
    "DOF_END_OVERRIDE=2019\n",
    "\n",
    "hhproj_out={}\n",
    "hhproj_age_out={}\n",
    "hhproj_eased_out={}\n",
    "hhpop_out={}\n",
    "avg_hh_sz_out={}\n",
    "avg_hh_sz_reg_out={}\n",
    "for scen_abbrev,scen in scenarios.iteritems():\n",
    "    print scen,\n",
    "    output_path=os.path.join(drop,'Data/PBA2050/household_forecast/%s'%scen_abbrev)\n",
    "    print scen,output_path\n",
    "    \n",
    "    if not os.path.exists(output_path):\n",
    "        os.makedirs(output_path)\n",
    "    \n",
    "    ## Get Grp quarter, household population from the total remi population using Census 2010 group qtr binned shares\n",
    "    \n",
    "    gqpop=remipop_binned.loc[scen_abbrev].stack().mul(grp_qtr_shares,axis=0).unstack('Year')\n",
    "    \n",
    "    hhpop=(remipop_binned.loc[scen_abbrev].stack()-gqpop.stack()).unstack('Year').round(0).astype(np.int64)\n",
    "    hhpop_out[scen_abbrev]=hhpop\n",
    "    hhpop.columns=hhpop.columns.map(str)\n",
    "    gqpop.columns=gqpop.columns.map(str)\n",
    "    \n",
    "    ## baseyear prep\n",
    "    ## DEPRECATED since we now use 2015 baseline. \n",
    "    ## read 2010 binned data from decennial pums\n",
    "#     gqpop_binned_2010 = pd.read_csv(os.path.join(box,'EDF Shared work/control_totals/base_data/census2010pums%s_%s_gqpop_binned.csv'%(reg,agegrp)),index_col=0)\n",
    "#     hhpop_binned_2010 = pd.read_csv(os.path.join(box,'EDF Shared work/control_totals/base_data/census2010pums%s_%s_hhpop_binned.csv'%(reg,agegrp)),index_col=0)\n",
    "#     hhtot_binned_2010 = pd.read_csv(os.path.join(box,'EDF Shared work/control_totals/base_data/census2010pums%s_%s_hhtot_binned.csv'%(reg,agegrp)),index_col=0)\n",
    "\n",
    "#     #hhpop_binned_2010['runid']=scen\n",
    "    \n",
    "#     hhpop_binned_2010.set_index(pums2010index,inplace=True)\n",
    "#     gqpop_binned_2010.set_index(pums2010index,inplace=True)\n",
    "#     hhtot_binned_2010.set_index(pums2010index,inplace=True)\n",
    "    \n",
    "    ## apply headship rates to REMI-derived hh pop to get projected households\n",
    "    \n",
    "    for hrname, hr in hsr.iteritems():\n",
    "        \n",
    "        ## make a projection for each headship rate variant\n",
    "        \n",
    "        lvls=list(hr.index.names)\n",
    "        print '\\t'+hrname\n",
    "        \n",
    "        \n",
    "        ## Here, we could apply headship rates to the region or subregions as long as it is in the dataframe\n",
    "                \n",
    "        if 'Year' in hr.index.names:\n",
    "            household_projections_tmp=hhpop.stack().sum(level=list(set(['Region','Year']+lvls)))\n",
    "            household_projections_tmp=household_projections_tmp.reorder_levels(['rac_ethn','age_grp_5','Year','Region'])\n",
    "            household_projections=hr.reorder_levels(['rac_ethn','age_grp_5','Year']).mul(household_projections_tmp).sum(level=['Region']+lvls)\n",
    "            \n",
    "            household_projections=household_projections.unstack('Year')\n",
    "            lvls.remove('Year')  \n",
    "        else:\n",
    "            household_projections = hhpop.fillna(0).sum(level=['Region']+lvls).mul(hr,axis=0)\n",
    "    \n",
    "        ## Sum to subregion\n",
    "        hhproj_age_out[(hrname,scen_abbrev)]=household_projections\n",
    "        household_projections=household_projections.fillna(0).sum(level=['Region'])\n",
    "        \n",
    "        ## update scenario with observed households from DOF, 2011-2019\n",
    "        \n",
    "        household_projections.update(hhs_observed[map(str,range(2011,DOF_END_OVERRIDE+1))])\n",
    "        \n",
    "        #household_projections_eased=easer(household_projections.T,t_0=10,t_1=20)\n",
    "        \n",
    "        ## EASING IN EARLY YEARS - because of jump from observed to projected transition, \n",
    "        ## ease in the difference instead of having an artificial one year spike.\n",
    "        ## \n",
    "        target_series=target_series=household_projections.T\n",
    "        target_series.index=target_series.index.astype(int)\n",
    "        \n",
    "        household_projections_eased=easer(\n",
    "            target_series=target_series,\n",
    "            source_series=source_series,\n",
    "            t_0=9,  ## start year 9 after 2011, which is 2020\n",
    "            t_1=17,\n",
    "            envelope_year_start=2011,\n",
    "            envelope_year_end=2050)\n",
    "        \n",
    "        \n",
    "        \n",
    "        hhpopsum=hhpop.fillna(0).sum(level=['Region']+lvls)\n",
    "        \n",
    "        gqpopsum=gqpop.fillna(0).sum(level=['Region']+lvls)\n",
    "        \n",
    "        fname = \"proj_{geo}_{var}_sc_{scen}_{time:%Y%m%d_%H%M%S}.csv\"\n",
    "        fname2 = \"proj_{geo}_{var}_sc_{scen}_eased_{time:%Y%m%d_%H%M%S}.csv\"\n",
    "\n",
    "        #remipop_binned.xs(scen_abbrev).to_csv(os.path.join(output_path,fname.format(geo=reg,var='poptot',scen=scen_abbrev,time=datetime.datetime.now())))  \n",
    "        ## write output to disk\n",
    "\n",
    "        #gqpop.to_csv(os.path.join(output_path,fname.format(reg,'gq',scen.replace(' ' ,''),datetime.datetime.now())))  \n",
    "        household_projections.to_csv(os.path.join(output_path,fname.format(geo=reg,var='hh',scen=scen_abbrev+'_'+hrname.replace(' ','_').replace('-','_'),time=datetime.datetime.now())))  \n",
    "        household_projections_eased.to_csv(os.path.join(output_path,fname2.format(geo=reg,var='hh',scen=scen_abbrev+'_'+hrname.replace(' ','_').replace('-','_'),time=datetime.datetime.now())))  \n",
    "        #hhpop.to_csv(os.path.join(output_path,fname.format(reg,'pop',scen.replace(' ' ,''),datetime.datetime.now())))\n",
    "\n",
    "        ## avg household size is calculated from summed numerators and denomitators \n",
    "        \n",
    "        avg_hh_size = hhpopsum.groupby(level=[0]).sum().div(household_projections.groupby(level=[0]).sum())\n",
    "        avg_hh_sz_out[(hrname,scen_abbrev)]=avg_hh_size\n",
    "\n",
    "        ## regional version\n",
    "        avg_hh_size_reg = avg_hh_size_reg = pd.DataFrame(hhpopsum.sum().div(household_projections.sum())).T\n",
    "        #avg_hh_size_reg.to_csv(os.path.join(output_path,fname.format(reg,'avg_hh_size_reg',scen.replace(' ' ,''),datetime.datetime.now())))\n",
    "        #avg_hh_size_reg['runid']=scen\n",
    "        #avg_hh_size_reg.set_index('runid',inplace=True)\n",
    "        avg_hh_sz_reg_out[(hrname,scen_abbrev)]=avg_hh_size_reg\n",
    "\n",
    "        hhproj_out[(hrname,scen_abbrev)]=household_projections\n",
    "        hhproj_eased_out[(hrname,scen_abbrev)]=household_projections_eased\n",
    "\n",
    "\n",
    "## concat the dicts from the above loops\n",
    "\n",
    "hhallscenarios = pd.concat(hhproj_out,axis=0,names=['HR','runid']).fillna(0).astype(np.int64)#.append(hhtot_binned_2010.fillna(0).sum(level=hr.index.names))\n",
    "hhallscenarios.columns=hhallscenarios.columns.set_names('Year')\n",
    "\n",
    "hhallscenarios_age = pd.concat(hhproj_age_out,axis=0,names=['HR','runid']).fillna(0).astype(np.int64)#.append(hhtot_binned_2010.fillna(0).sum(level=hr.index.names))\n",
    "hhallscenarios_age.columns=hhallscenarios_age.columns.set_names('Year')\n",
    "\n",
    "hheaseallscenarios = pd.concat(hhproj_eased_out,axis=0,names=['HR','runid']).fillna(0).astype(np.int64)#.append(hhtot_binned_2010.fillna(0).sum(level=hr.index.names))\n",
    "hheaseallscenarios.columns=hheaseallscenarios.columns.set_names('Year')\n",
    "\n",
    "hhsizescenarios = pd.concat(avg_hh_sz_reg_out,axis=0).fillna(0)\n",
    "hhsizescenarios.columns=hhsizescenarios.columns.set_names('Year')\n",
    "\n",
    "hhsizescenarios_subreg = pd.concat(avg_hh_sz_out,axis=0).fillna(0)\n",
    "\n",
    "hhpopallscenarios = pd.concat(hhpop_out,axis=0,names=['runid']).fillna(0).astype(np.int64)\n",
    "hhpopallscenarios.columns=hhpopallscenarios.columns.set_names('Year')\n",
    "#hhpoplevels = index_level_order(hhpopallscenarios) ## order levels\n",
    "#hhpopallscenarios_sorted=hhpopallscenarios.unstack(hhpoplevels).reset_index().rename(columns={'level_0':'year',0:'value'})\n"
   ]
  },
  {
   "cell_type": "markdown",
   "metadata": {},
   "source": [
    "### Inspect results"
   ]
  },
  {
   "cell_type": "code",
   "execution_count": 49,
   "metadata": {},
   "outputs": [
    {
     "data": {
      "text/plain": [
       "<matplotlib.axes._subplots.AxesSubplot at 0x124f15150>"
      ]
     },
     "execution_count": 49,
     "metadata": {},
     "output_type": "execute_result"
    },
    {
     "data": {
      "image/png": "[encoded data removed]",
      "text/plain": [
       "<Figure size 432x288 with 1 Axes>"
      ]
     },
     "metadata": {
      "needs_background": "light"
     },
     "output_type": "display_data"
    }
   ],
   "source": [
    "(hhallscenarios_age.sum(level=[0,1,3]).loc(0)['HR Bay Area ACS 18','R6H2C_basic'].T/hhallscenarios_age.sum(level=[0,1,3]).loc(0)['HR Bay Area ACS 18','R6H2C_basic'].T.loc['2015'])[SENIORS].plot()"
   ]
  },
  {
   "cell_type": "code",
   "execution_count": 50,
   "metadata": {},
   "outputs": [
    {
     "data": {
      "text/plain": [
       "Year\n",
       "2015   70,527.0000\n",
       "2016   59,451.0000\n",
       "2017   44,971.0000\n",
       "2018   49,350.0000\n",
       "2019   83,379.0000\n",
       "dtype: float64"
      ]
     },
     "execution_count": 50,
     "metadata": {},
     "output_type": "execute_result"
    }
   ],
   "source": [
    "## check difference remi to DOF\n",
    "remipop_binned.loc['R6H2C_plus'].sum().loc[2015:2019]-dofpop.loc[2015:2019]"
   ]
  },
  {
   "cell_type": "code",
   "execution_count": 51,
   "metadata": {},
   "outputs": [
    {
     "data": {
      "text/plain": [
       "year\n",
       "2011   2,613,655.0000\n",
       "2012   2,624,591.0000\n",
       "2013   2,642,486.0000\n",
       "2014   2,651,782.0000\n",
       "2015   2,665,734.0000\n",
       "2016   2,688,044.0000\n",
       "2017   2,697,256.0000\n",
       "2018   2,709,051.0000\n",
       "2019   2,723,550.0000\n",
       "dtype: float64"
      ]
     },
     "execution_count": 51,
     "metadata": {},
     "output_type": "execute_result"
    }
   ],
   "source": [
    "hhs_observed[map(str,range(2011,2020))].sum()"
   ]
  },
  {
   "cell_type": "code",
   "execution_count": 52,
   "metadata": {},
   "outputs": [
    {
     "data": {
      "text/html": [
       "<div>\n",
       "<style scoped>\n",
       "    .dataframe tbody tr th:only-of-type {\n",
       "        vertical-align: middle;\n",
       "    }\n",
       "\n",
       "    .dataframe tbody tr th {\n",
       "        vertical-align: top;\n",
       "    }\n",
       "\n",
       "    .dataframe thead tr th {\n",
       "        text-align: left;\n",
       "    }\n",
       "\n",
       "    .dataframe thead tr:last-of-type th {\n",
       "        text-align: right;\n",
       "    }\n",
       "</style>\n",
       "<table border=\"1\" class=\"dataframe\">\n",
       "  <thead>\n",
       "    <tr>\n",
       "      <th>HR</th>\n",
       "      <th>HR Bay Area ACS 12-16</th>\n",
       "      <th>HR Bay Area ACS 14-18</th>\n",
       "      <th>HR Bay Area ACS 18</th>\n",
       "      <th>HR Bay Area Census 2000</th>\n",
       "      <th>HR Phased</th>\n",
       "    </tr>\n",
       "    <tr>\n",
       "      <th>runid</th>\n",
       "      <th>R6H2C_fix</th>\n",
       "      <th>R6H2C_fix</th>\n",
       "      <th>R6H2C_fix</th>\n",
       "      <th>R6H2C_fix</th>\n",
       "      <th>R6H2C_fix</th>\n",
       "    </tr>\n",
       "    <tr>\n",
       "      <th>Year</th>\n",
       "      <th></th>\n",
       "      <th></th>\n",
       "      <th></th>\n",
       "      <th></th>\n",
       "      <th></th>\n",
       "    </tr>\n",
       "  </thead>\n",
       "  <tbody>\n",
       "    <tr>\n",
       "      <th>2015</th>\n",
       "      <td>2665734</td>\n",
       "      <td>2665734</td>\n",
       "      <td>2665734</td>\n",
       "      <td>2665734</td>\n",
       "      <td>2665734</td>\n",
       "    </tr>\n",
       "    <tr>\n",
       "      <th>2019</th>\n",
       "      <td>2723550</td>\n",
       "      <td>2723550</td>\n",
       "      <td>2723550</td>\n",
       "      <td>2723550</td>\n",
       "      <td>2723550</td>\n",
       "    </tr>\n",
       "    <tr>\n",
       "      <th>2020</th>\n",
       "      <td>2881995</td>\n",
       "      <td>2841692</td>\n",
       "      <td>2809468</td>\n",
       "      <td>3021188</td>\n",
       "      <td>2841692</td>\n",
       "    </tr>\n",
       "    <tr>\n",
       "      <th>2025</th>\n",
       "      <td>3069612</td>\n",
       "      <td>3028667</td>\n",
       "      <td>2996357</td>\n",
       "      <td>3214389</td>\n",
       "      <td>3030996</td>\n",
       "    </tr>\n",
       "    <tr>\n",
       "      <th>2030</th>\n",
       "      <td>3225018</td>\n",
       "      <td>3183501</td>\n",
       "      <td>3151491</td>\n",
       "      <td>3376573</td>\n",
       "      <td>3258555</td>\n",
       "    </tr>\n",
       "    <tr>\n",
       "      <th>2035</th>\n",
       "      <td>3383953</td>\n",
       "      <td>3341198</td>\n",
       "      <td>3307236</td>\n",
       "      <td>3542290</td>\n",
       "      <td>3520354</td>\n",
       "    </tr>\n",
       "  </tbody>\n",
       "</table>\n",
       "</div>"
      ],
      "text/plain": [
       "HR    HR Bay Area ACS 12-16 HR Bay Area ACS 14-18 HR Bay Area ACS 18 HR Bay Area Census 2000 HR Phased\n",
       "runid             R6H2C_fix             R6H2C_fix          R6H2C_fix               R6H2C_fix R6H2C_fix\n",
       "Year                                                                                                  \n",
       "2015                2665734               2665734            2665734                 2665734   2665734\n",
       "2019                2723550               2723550            2723550                 2723550   2723550\n",
       "2020                2881995               2841692            2809468                 3021188   2841692\n",
       "2025                3069612               3028667            2996357                 3214389   3030996\n",
       "2030                3225018               3183501            3151491                 3376573   3258555\n",
       "2035                3383953               3341198            3307236                 3542290   3520354"
      ]
     },
     "execution_count": 52,
     "metadata": {},
     "output_type": "execute_result"
    }
   ],
   "source": [
    "hhallscenarios.stack().loc[[u'HR Bay Area ACS 12-16', \n",
    "                            u'HR Bay Area ACS 14-18', \n",
    "                            u'HR Bay Area ACS 18',\n",
    "                           'HR Phased',\n",
    "                           'HR Bay Area Census 2000'],'R6H2C_fix',:,\n",
    "                           ['2019']+map(str,range(2015,2036,5))].sum(\n",
    "    level=['HR','runid','Year']).unstack('Year').T#.plot(kind='bar')\n",
    "#legend(loc=3)"
   ]
  },
  {
   "cell_type": "code",
   "execution_count": 53,
   "metadata": {},
   "outputs": [
    {
     "data": {
      "text/plain": [
       "Text(0.5,1.05,'Effect of different headship rates on yearly household counts\\nHRs begin at 2018 (latest) levels, then phase in Census 2000 levels by 2030')"
      ]
     },
     "execution_count": 53,
     "metadata": {},
     "output_type": "execute_result"
    },
    {
     "data": {
      "image/png": "[encoded data removed]",
      "text/plain": [
       "<Figure size 432x288 with 2 Axes>"
      ]
     },
     "metadata": {
      "needs_background": "light"
     },
     "output_type": "display_data"
    }
   ],
   "source": [
    "fig,ax=plt.subplots(nrows=2)\n",
    "hhallscenarios.stack().loc[[u'HR Bay Area ACS 12-16', \n",
    "                            u'HR Bay Area ACS 14-18', \n",
    "                            u'HR Bay Area ACS 18',\n",
    "                           'HR Phased',\n",
    "                           'HR Bay Area Census 2000'],'R6H2C_plus',:,\n",
    "                           map(str,range(2015,2041))].sum(\n",
    "    level=['HR','runid','Year']).unstack('Year').T.plot(ax=ax[0])\n",
    "hheaseallscenarios.stack().loc[[u'HR Bay Area ACS 12-16', \n",
    "                            u'HR Bay Area ACS 14-18', \n",
    "                            u'HR Bay Area ACS 18',\n",
    "                           'HR Phased',\n",
    "                           'HR Bay Area Census 2000'],'R6H2C_plus',:,\n",
    "                           map(str,range(2015,2041))].sum(\n",
    "    level=['HR','runid','Year']).unstack('Year').T.plot(ax=ax[1])\n",
    "ax[0].set_title('With headship easing alone')\n",
    "ax[1].set_title('With headship phasing and post-processing easing combined')\n",
    "plt.tight_layout()\n",
    "plt.suptitle('Effect of different headship rates on yearly household counts\\nHRs begin at 2018 (latest) levels, then phase in Census 2000 levels by 2030',size=14,y=1.05)     "
   ]
  },
  {
   "cell_type": "code",
   "execution_count": 54,
   "metadata": {},
   "outputs": [
    {
     "data": {
      "text/plain": [
       "Text(0.5,1.05,'Effect of different headship rates on yearly household counts\\nHRs begin at 2018 (latest) levels, then phase in Census 2000 levels by 2030')"
      ]
     },
     "execution_count": 54,
     "metadata": {},
     "output_type": "execute_result"
    },
    {
     "data": {
      "image/png": "[encoded data removed]",
      "text/plain": [
       "<Figure size 432x288 with 2 Axes>"
      ]
     },
     "metadata": {
      "needs_background": "light"
     },
     "output_type": "display_data"
    }
   ],
   "source": [
    "fig,ax=plt.subplots(nrows=2)\n",
    "hhallscenarios.stack().loc[[#u'HR Bay Area ACS 12-16', \n",
    "                            u'HR Bay Area ACS 14-18', \n",
    "#                            u'HR Bay Area ACS 18',\n",
    "                           'HR Phased',\n",
    "                           'HR Bay Area Census 2000'\n",
    "],'R6H2C_plus',:,\n",
    "                           map(str,range(2015,2041,5))].sum(\n",
    "    level=['HR','runid','Year']).unstack('Year').T.plot(kind='bar',ax=ax[0])\n",
    "hheaseallscenarios.stack().loc[[#u'HR Bay Area ACS 12-16', \n",
    "                            u'HR Bay Area ACS 14-18', \n",
    "#                            u'HR Bay Area ACS 18',\n",
    "                           'HR Phased',\n",
    "                           'HR Bay Area Census 2000'\n",
    "],'R6H2C_plus',:,\n",
    "                           map(str,range(2015,2041,5))].sum(\n",
    "    level=['HR','runid','Year']).unstack('Year').T.plot(kind='bar',ax=ax[1])\n",
    "ax[0].set_title('With headship easing alone')\n",
    "ax[1].set_title('With headship phasing and post-processing easing combined')\n",
    "plt.tight_layout()\n",
    "ax[1].legend(bbox_to_anchor=(1,.5))\n",
    "ax[0].legend(bbox_to_anchor=(1,.5))\n",
    "plt.suptitle('Effect of different headship rates on yearly household counts\\nHRs begin at 2018 (latest) levels, then phase in Census 2000 levels by 2030',size=14,y=1.05)     "
   ]
  },
  {
   "cell_type": "code",
   "execution_count": 55,
   "metadata": {},
   "outputs": [
    {
     "data": {
      "text/plain": [
       "<matplotlib.axes._subplots.AxesSubplot at 0x1281b97d0>"
      ]
     },
     "execution_count": 55,
     "metadata": {},
     "output_type": "execute_result"
    },
    {
     "data": {
      "image/png": "[encoded data removed]",
      "text/plain": [
       "<Figure size 432x288 with 1 Axes>"
      ]
     },
     "metadata": {
      "needs_background": "light"
     },
     "output_type": "display_data"
    }
   ],
   "source": [
    "HR_topsheet='HR Bay Area ACS 12-16'\n",
    "HR_topsheet='HR Phased'\n",
    "\n",
    "hheaseallscenarios.sum(level=['HR','runid']).loc(0)[HR_topsheet,['RC6','R6H2C_basic','PBA_2040']].T.loc[YEARS_5_str[1:-2]].plot()"
   ]
  },
  {
   "cell_type": "code",
   "execution_count": 56,
   "metadata": {},
   "outputs": [
    {
     "data": {
      "text/plain": [
       "Text(0.5,1,'Major spike in annual change in households, when using DOF observed HHs through 2019')"
      ]
     },
     "execution_count": 56,
     "metadata": {},
     "output_type": "execute_result"
    },
    {
     "data": {
      "image/png": "[encoded data removed]",
      "text/plain": [
       "<Figure size 432x288 with 1 Axes>"
      ]
     },
     "metadata": {
      "needs_background": "light"
     },
     "output_type": "display_data"
    }
   ],
   "source": [
    "## unfortuntate transition situation observed -> modeled\n",
    "hhallscenarios.sum(level=['HR','runid']).loc(0)[HR_topsheet,['RC6','R6H2C_basic']].T.diff().plot(kind='bar')\n",
    "title('Major spike in annual change in households, when using DOF observed HHs through 2019')"
   ]
  },
  {
   "cell_type": "code",
   "execution_count": 57,
   "metadata": {},
   "outputs": [
    {
     "data": {
      "text/plain": [
       "Text(0.5,1,'Blueprint Fix-it-First, Annualized change in households, with:\\n a) Headship transition 2022-2038; \\nb) obs-to-model year easing 2020-2027')"
      ]
     },
     "execution_count": 57,
     "metadata": {},
     "output_type": "execute_result"
    },
    {
     "data": {
      "image/png": "[encoded data removed]",
      "text/plain": [
       "<Figure size 432x288 with 1 Axes>"
      ]
     },
     "metadata": {
      "needs_background": "light"
     },
     "output_type": "display_data"
    }
   ],
   "source": [
    "## transition with phased headship rates and easing\n",
    "\n",
    "hheaseallscenarios.sum(level=['HR','runid']).loc(0)[HR_topsheet,['RC6','R6H2C_fix']].T.diff().plot(kind='bar')\n",
    "title('Blueprint Fix-it-First, Annualized change in households, with:\\n a) Headship transition 2022-2038; \\nb) obs-to-model year easing 2020-2027')"
   ]
  },
  {
   "cell_type": "code",
   "execution_count": 58,
   "metadata": {},
   "outputs": [],
   "source": [
    "#hheaseallscenarios.sum(level=['HR','runid']).loc(0)[HR_topsheet,['RC6','R6H2C_fix']].T.loc[YEARS_5_str]"
   ]
  },
  {
   "cell_type": "code",
   "execution_count": 59,
   "metadata": {},
   "outputs": [
    {
     "data": {
      "text/plain": [
       "(2500000.0, 4270886.55)"
      ]
     },
     "execution_count": 59,
     "metadata": {},
     "output_type": "execute_result"
    },
    {
     "data": {
      "image/png": "[encoded data removed]",
      "text/plain": [
       "<Figure size 432x288 with 1 Axes>"
      ]
     },
     "metadata": {
      "needs_background": "light"
     },
     "output_type": "display_data"
    }
   ],
   "source": [
    "hheaseallscenarios.sum(level=['HR','runid']).loc(0)[HR_topsheet,['RC6','R6H2C_basic']].T.plot(kind='bar')\n",
    "title('Major spike in annual change in households, when using DOF observed HHs through 2019\\nWith easing in of forecast')\n",
    "ylim(ymin=2.5e6)"
   ]
  },
  {
   "cell_type": "markdown",
   "metadata": {},
   "source": [
    "### Topsheet prep"
   ]
  },
  {
   "cell_type": "code",
   "execution_count": 60,
   "metadata": {},
   "outputs": [
    {
     "name": "stdout",
     "output_type": "stream",
     "text": [
      "PBA_2040\n",
      "R5H0C\n",
      "R5H1C\n",
      "R5H2C\n",
      "R6H2C_basic\n",
      "R6H2C_fix\n",
      "R6H2C_plus\n",
      "RC5\n",
      "RC6\n"
     ]
    }
   ],
   "source": [
    "#### For complete time series with observed counts, add DOF observed \n",
    "## to each projected series for completeness\n",
    "\n",
    "## DOF Expand to each scenario - PPH\n",
    "\n",
    "dofpphexp={}\n",
    "for k, v in hhallscenarios.stack().sum(level=['runid']).iteritems():\n",
    "    #print k\n",
    "    dofpphexp[('Obs',k)]=dofhhsize_hist.reset_index(level=[1,0],drop=True)\n",
    "pphdof_hist=pd.concat(dofpphexp,names=['HR','runid','Year'])\n",
    "\n",
    "dofexp={}\n",
    "for k, v in hhallscenarios.stack().sum(level=['runid']).iteritems():\n",
    "    print k\n",
    "    dofexp[('Obs',k)]=dofhh_hist.reset_index(level=[1,2],drop=True)\n",
    "hhdof_hist=pd.concat(dofexp,names=['HR','runid','Year'])"
   ]
  },
  {
   "cell_type": "code",
   "execution_count": 61,
   "metadata": {},
   "outputs": [],
   "source": [
    "#avg_hh_pop_variants=(hhpopallscenarios.sum(level=['runid'])/hhallscenarios.sum(level=['HR','runid'])).stack().sort_index().append(pphdof_hist).append(pba_pph).reset_index(name='value')\n",
    "#avg_hh_pop_variants#.to_csv(os.path.join(drop,'Data/PBA2050/pers_per_hh_variants.csv'))"
   ]
  },
  {
   "cell_type": "code",
   "execution_count": 62,
   "metadata": {},
   "outputs": [],
   "source": [
    "hhallscenarios_r=hhallscenarios.stack().sum(level=['HR','runid','Year']).sort_index().append(hhdof_hist).reset_index(name='value')\n",
    "hhallscenarios_r.Year=hhallscenarios_r.Year.astype(int)\n",
    "hhallscenarios_r=hhallscenarios_r.set_index(['Year','HR','runid']).value\n",
    "hhallscenarios_r.loc[range(2000,2051,5)].reset_index(name='value').to_csv(os.path.join(drop,'Data/PBA2050/hhproj_x_scen_x_HR.csv'))"
   ]
  },
  {
   "cell_type": "code",
   "execution_count": 63,
   "metadata": {},
   "outputs": [
    {
     "data": {
      "text/html": [
       "<div>\n",
       "<style scoped>\n",
       "    .dataframe tbody tr th:only-of-type {\n",
       "        vertical-align: middle;\n",
       "    }\n",
       "\n",
       "    .dataframe tbody tr th {\n",
       "        vertical-align: top;\n",
       "    }\n",
       "\n",
       "    .dataframe thead th {\n",
       "        text-align: right;\n",
       "    }\n",
       "</style>\n",
       "<table border=\"1\" class=\"dataframe\">\n",
       "  <thead>\n",
       "    <tr style=\"text-align: right;\">\n",
       "      <th></th>\n",
       "      <th>2015</th>\n",
       "    </tr>\n",
       "  </thead>\n",
       "  <tbody>\n",
       "    <tr>\n",
       "      <th>R5H1C</th>\n",
       "      <td>7423305</td>\n",
       "    </tr>\n",
       "    <tr>\n",
       "      <th>PBA_2040</th>\n",
       "      <td>7423305</td>\n",
       "    </tr>\n",
       "    <tr>\n",
       "      <th>R6H2C_plus</th>\n",
       "      <td>7423305</td>\n",
       "    </tr>\n",
       "    <tr>\n",
       "      <th>R5H2C</th>\n",
       "      <td>7423305</td>\n",
       "    </tr>\n",
       "    <tr>\n",
       "      <th>R6H2C_basic</th>\n",
       "      <td>7423305</td>\n",
       "    </tr>\n",
       "    <tr>\n",
       "      <th>R6H2C_fix</th>\n",
       "      <td>7423305</td>\n",
       "    </tr>\n",
       "    <tr>\n",
       "      <th>RC5</th>\n",
       "      <td>7423305</td>\n",
       "    </tr>\n",
       "    <tr>\n",
       "      <th>RC6</th>\n",
       "      <td>7423305</td>\n",
       "    </tr>\n",
       "    <tr>\n",
       "      <th>R5H0C</th>\n",
       "      <td>7423305</td>\n",
       "    </tr>\n",
       "  </tbody>\n",
       "</table>\n",
       "</div>"
      ],
      "text/plain": [
       "                2015\n",
       "R5H1C        7423305\n",
       "PBA_2040     7423305\n",
       "R6H2C_plus   7423305\n",
       "R5H2C        7423305\n",
       "R6H2C_basic  7423305\n",
       "R6H2C_fix    7423305\n",
       "RC5          7423305\n",
       "RC6          7423305\n",
       "R5H0C        7423305"
      ]
     },
     "execution_count": 63,
     "metadata": {},
     "output_type": "execute_result"
    }
   ],
   "source": [
    "#remipop.Year=remipop.Year.astype(str)\n",
    "pd.DataFrame(data={'2015':[7423305]},index=scenarios.keys())"
   ]
  },
  {
   "cell_type": "code",
   "execution_count": 111,
   "metadata": {},
   "outputs": [],
   "source": [
    "topsheet_hhpop=hhpopallscenarios.stack().sum(level=['runid','Year']).loc[:,YEARS_15_50_str].unstack('Year')\n",
    "#topsheet_hhpop.update(pd.DataFrame(data={'2015':[7423305]},index=scenarios.keys()))\n",
    "#topsheet_hhpop=topsheet_hhpop.append(pbahhpop)\n"
   ]
  },
  {
   "cell_type": "markdown",
   "metadata": {},
   "source": [
    "### Fetch a smaller subset of data from the full set of scenario x headship rates"
   ]
  },
  {
   "cell_type": "code",
   "execution_count": 65,
   "metadata": {},
   "outputs": [],
   "source": [
    "pd.options.display.float_format = '{:,.1f}'.format"
   ]
  },
  {
   "cell_type": "code",
   "execution_count": 66,
   "metadata": {},
   "outputs": [],
   "source": [
    "## More curated version with specific combinations of headship rates \n",
    "## and runids defined in `scenario_to_headship_map`\n",
    "\n",
    "curated={}\n",
    "for i,v in enumerate(scenario_to_headship_map.iteritems()):\n",
    "    #print i,v\n",
    "    if v[0]!='PBA_2040':\n",
    "        curated[v]=hheaseallscenarios.stack().sum(level=['runid','HR','Region','Year']).loc[v]\n",
    "hh_curated=pd.concat(curated,names=['runid','HR'])\n",
    "\n",
    "topsheet_hh_curated=hh_curated.sum(level=['HR','runid','Region','Year']).loc[:,:,:,map(str,range(2015,2051,1))].unstack('Year')\n",
    "#topsheet_hh_curated.update(pd.DataFrame(data={'2015':[2678810],'2011':[2678810]},index=topsheet_hh_curated.index))\n",
    "\n",
    "## add pba 2040 from TAZDATA\n",
    "topsheet_hh_curated=topsheet_hh_curated.append(pbadatasubreg)\n",
    "\n",
    "## add historical data\n",
    "\n",
    "topsheet_hh_curated=hh90_19.append(topsheet_hh_curated).sort_index(level=1)#.append(pbafuthh.set_index(['HR','runid']).households)"
   ]
  },
  {
   "cell_type": "code",
   "execution_count": 67,
   "metadata": {},
   "outputs": [
    {
     "data": {
      "text/html": [
       "<div>\n",
       "<style scoped>\n",
       "    .dataframe tbody tr th:only-of-type {\n",
       "        vertical-align: middle;\n",
       "    }\n",
       "\n",
       "    .dataframe tbody tr th {\n",
       "        vertical-align: top;\n",
       "    }\n",
       "\n",
       "    .dataframe thead th {\n",
       "        text-align: right;\n",
       "    }\n",
       "</style>\n",
       "<table border=\"1\" class=\"dataframe\">\n",
       "  <thead>\n",
       "    <tr style=\"text-align: right;\">\n",
       "      <th></th>\n",
       "      <th></th>\n",
       "      <th>2015</th>\n",
       "      <th>2020</th>\n",
       "      <th>2025</th>\n",
       "      <th>2030</th>\n",
       "      <th>2035</th>\n",
       "      <th>2040</th>\n",
       "      <th>2045</th>\n",
       "      <th>2050</th>\n",
       "    </tr>\n",
       "    <tr>\n",
       "      <th>HR</th>\n",
       "      <th>runid</th>\n",
       "      <th></th>\n",
       "      <th></th>\n",
       "      <th></th>\n",
       "      <th></th>\n",
       "      <th></th>\n",
       "      <th></th>\n",
       "      <th></th>\n",
       "      <th></th>\n",
       "    </tr>\n",
       "  </thead>\n",
       "  <tbody>\n",
       "    <tr>\n",
       "      <th></th>\n",
       "      <th>Observed</th>\n",
       "      <td>2.75</td>\n",
       "      <td>0.00</td>\n",
       "      <td>0.00</td>\n",
       "      <td>0.00</td>\n",
       "      <td>0.00</td>\n",
       "      <td>0.00</td>\n",
       "      <td>0.00</td>\n",
       "      <td>0.00</td>\n",
       "    </tr>\n",
       "    <tr>\n",
       "      <th>HR PBA 2040</th>\n",
       "      <th>PBA_2040</th>\n",
       "      <td>2.85</td>\n",
       "      <td>2.97</td>\n",
       "      <td>3.12</td>\n",
       "      <td>3.31</td>\n",
       "      <td>3.45</td>\n",
       "      <td>3.61</td>\n",
       "      <td>0.00</td>\n",
       "      <td>0.00</td>\n",
       "    </tr>\n",
       "    <tr>\n",
       "      <th>HR Bay Area ACS 14-18</th>\n",
       "      <th>R5H0C</th>\n",
       "      <td>2.75</td>\n",
       "      <td>2.82</td>\n",
       "      <td>3.06</td>\n",
       "      <td>3.30</td>\n",
       "      <td>3.43</td>\n",
       "      <td>3.57</td>\n",
       "      <td>3.71</td>\n",
       "      <td>3.85</td>\n",
       "    </tr>\n",
       "    <tr>\n",
       "      <th>HR PBA 2040</th>\n",
       "      <th>R5H1C</th>\n",
       "      <td>2.75</td>\n",
       "      <td>2.82</td>\n",
       "      <td>3.09</td>\n",
       "      <td>3.35</td>\n",
       "      <td>3.48</td>\n",
       "      <td>3.63</td>\n",
       "      <td>3.78</td>\n",
       "      <td>3.93</td>\n",
       "    </tr>\n",
       "    <tr>\n",
       "      <th rowspan=\"4\" valign=\"top\">HR Phased</th>\n",
       "      <th>R5H2C</th>\n",
       "      <td>2.75</td>\n",
       "      <td>2.82</td>\n",
       "      <td>3.09</td>\n",
       "      <td>3.43</td>\n",
       "      <td>3.69</td>\n",
       "      <td>3.89</td>\n",
       "      <td>4.06</td>\n",
       "      <td>4.23</td>\n",
       "    </tr>\n",
       "    <tr>\n",
       "      <th>R6H2C_basic</th>\n",
       "      <td>2.75</td>\n",
       "      <td>2.82</td>\n",
       "      <td>3.08</td>\n",
       "      <td>3.44</td>\n",
       "      <td>3.72</td>\n",
       "      <td>3.94</td>\n",
       "      <td>4.12</td>\n",
       "      <td>4.28</td>\n",
       "    </tr>\n",
       "    <tr>\n",
       "      <th>R6H2C_fix</th>\n",
       "      <td>2.75</td>\n",
       "      <td>2.82</td>\n",
       "      <td>3.08</td>\n",
       "      <td>3.43</td>\n",
       "      <td>3.71</td>\n",
       "      <td>3.92</td>\n",
       "      <td>4.10</td>\n",
       "      <td>4.26</td>\n",
       "    </tr>\n",
       "    <tr>\n",
       "      <th>R6H2C_plus</th>\n",
       "      <td>2.75</td>\n",
       "      <td>2.82</td>\n",
       "      <td>3.08</td>\n",
       "      <td>3.43</td>\n",
       "      <td>3.71</td>\n",
       "      <td>3.92</td>\n",
       "      <td>4.10</td>\n",
       "      <td>4.26</td>\n",
       "    </tr>\n",
       "    <tr>\n",
       "      <th>HR PBA 2040</th>\n",
       "      <th>RC5</th>\n",
       "      <td>2.75</td>\n",
       "      <td>2.82</td>\n",
       "      <td>3.08</td>\n",
       "      <td>3.32</td>\n",
       "      <td>3.45</td>\n",
       "      <td>3.58</td>\n",
       "      <td>3.71</td>\n",
       "      <td>3.84</td>\n",
       "    </tr>\n",
       "    <tr>\n",
       "      <th>HR Bay Area ACS 14-18</th>\n",
       "      <th>RC6</th>\n",
       "      <td>2.75</td>\n",
       "      <td>2.82</td>\n",
       "      <td>3.06</td>\n",
       "      <td>3.29</td>\n",
       "      <td>3.42</td>\n",
       "      <td>3.56</td>\n",
       "      <td>3.68</td>\n",
       "      <td>3.78</td>\n",
       "    </tr>\n",
       "  </tbody>\n",
       "</table>\n",
       "</div>"
      ],
      "text/plain": [
       "                                   2015  2020  2025  2030  2035  2040  2045  2050\n",
       "HR                    runid                                                      \n",
       "                      Observed     2.75  0.00  0.00  0.00  0.00  0.00  0.00  0.00\n",
       "HR PBA 2040           PBA_2040     2.85  2.97  3.12  3.31  3.45  3.61  0.00  0.00\n",
       "HR Bay Area ACS 14-18 R5H0C        2.75  2.82  3.06  3.30  3.43  3.57  3.71  3.85\n",
       "HR PBA 2040           R5H1C        2.75  2.82  3.09  3.35  3.48  3.63  3.78  3.93\n",
       "HR Phased             R5H2C        2.75  2.82  3.09  3.43  3.69  3.89  4.06  4.23\n",
       "                      R6H2C_basic  2.75  2.82  3.08  3.44  3.72  3.94  4.12  4.28\n",
       "                      R6H2C_fix    2.75  2.82  3.08  3.43  3.71  3.92  4.10  4.26\n",
       "                      R6H2C_plus   2.75  2.82  3.08  3.43  3.71  3.92  4.10  4.26\n",
       "HR PBA 2040           RC5          2.75  2.82  3.08  3.32  3.45  3.58  3.71  3.84\n",
       "HR Bay Area ACS 14-18 RC6          2.75  2.82  3.06  3.29  3.42  3.56  3.68  3.78"
      ]
     },
     "execution_count": 67,
     "metadata": {},
     "output_type": "execute_result"
    }
   ],
   "source": [
    "pd.options.display.float_format = '{:,.2f}'.format\n",
    "\n",
    "vac_easing=easer(target_series=pd.Series(.05,index=pd.Index(map(int,YEARS_1_str),name='Year')).to_frame(name='value'),\n",
    "     source_series=pd.Series(.03,index=pd.Index(map(int,YEARS_1_str),name='Year')).to_frame(name='value'),\n",
    "      t_0=7,t_1=15,envelope_year_start=2015,envelope_year_end=2050\n",
    ").T.value#.reset_index(1).value\n",
    "vac_easing.index=vac_easing.index.astype(str)\n",
    "\n",
    "\n",
    "(topsheet_hh_curated.sum(level=[0,1]).div(1-vac_easing)/1e6)[YEARS_15_50_str]"
   ]
  },
  {
   "cell_type": "code",
   "execution_count": null,
   "metadata": {},
   "outputs": [],
   "source": []
  },
  {
   "cell_type": "code",
   "execution_count": 125,
   "metadata": {},
   "outputs": [],
   "source": [
    "pd.options.display.float_format = '{:,.1f}'.format"
   ]
  },
  {
   "cell_type": "code",
   "execution_count": 126,
   "metadata": {},
   "outputs": [
    {
     "data": {
      "text/plain": [
       "Year\n",
       "2015   2.8\n",
       "2020   2.8\n",
       "2025   2.8\n",
       "2030   2.6\n",
       "2035   2.5\n",
       "2040   2.5\n",
       "2045   2.5\n",
       "2050   2.5\n",
       "dtype: float64"
      ]
     },
     "execution_count": 126,
     "metadata": {},
     "output_type": "execute_result"
    }
   ],
   "source": [
    "## avg hh size\n",
    "topsheet_hhpop.loc[BLUEPRINT_RUNS].mean()/topsheet_hh_curated.loc(0)[:,BLUEPRINT_RUNS][YEARS_5_str].stack().sum(level=[0,1,3]).mean(level=2)"
   ]
  },
  {
   "cell_type": "code",
   "execution_count": 101,
   "metadata": {},
   "outputs": [],
   "source": [
    "vacancy_rates=pd.concat([pd.Series(.017,index=map(str,range(2015,2020))),\n",
    "           pd.Series(np.linspace(start=.017,stop=.05,num=11),index=map(str,range(2020,2031))),\n",
    "           pd.Series(.05,index=map(str,range(2031,2051)))])\n"
   ]
  },
  {
   "cell_type": "code",
   "execution_count": 128,
   "metadata": {},
   "outputs": [
    {
     "data": {
      "text/plain": [
       "2015   2.7\n",
       "2020   2.7\n",
       "2025   3.0\n",
       "2030   3.3\n",
       "2035   3.5\n",
       "2040   3.7\n",
       "2045   3.9\n",
       "2050   4.0\n",
       "dtype: float64"
      ]
     },
     "execution_count": 128,
     "metadata": {},
     "output_type": "execute_result"
    }
   ],
   "source": [
    "## HOUSEHOLDS, in millions\n",
    "(topsheet_hh_curated.loc(0)[:,BLUEPRINT_RUNS][YEARS_5_str].stack().sum(level=[0,1,3]).mean(level=2)/1e6)"
   ]
  },
  {
   "cell_type": "code",
   "execution_count": 134,
   "metadata": {},
   "outputs": [
    {
     "data": {
      "text/html": [
       "<div>\n",
       "<style scoped>\n",
       "    .dataframe tbody tr th:only-of-type {\n",
       "        vertical-align: middle;\n",
       "    }\n",
       "\n",
       "    .dataframe tbody tr th {\n",
       "        vertical-align: top;\n",
       "    }\n",
       "\n",
       "    .dataframe thead tr th {\n",
       "        text-align: left;\n",
       "    }\n",
       "</style>\n",
       "<table border=\"1\" class=\"dataframe\">\n",
       "  <thead>\n",
       "    <tr>\n",
       "      <th>HR</th>\n",
       "      <th colspan=\"2\" halign=\"left\">HR Phased</th>\n",
       "    </tr>\n",
       "    <tr>\n",
       "      <th>runid</th>\n",
       "      <th>R6H2C_fix</th>\n",
       "      <th>R6H2C_plus</th>\n",
       "    </tr>\n",
       "  </thead>\n",
       "  <tbody>\n",
       "    <tr>\n",
       "      <th>2015</th>\n",
       "      <td>2,665,734.0</td>\n",
       "      <td>2,665,734.0</td>\n",
       "    </tr>\n",
       "    <tr>\n",
       "      <th>2020</th>\n",
       "      <td>2,739,890.0</td>\n",
       "      <td>2,739,890.0</td>\n",
       "    </tr>\n",
       "    <tr>\n",
       "      <th>2025</th>\n",
       "      <td>2,966,820.0</td>\n",
       "      <td>2,966,951.0</td>\n",
       "    </tr>\n",
       "    <tr>\n",
       "      <th>2030</th>\n",
       "      <td>3,258,555.0</td>\n",
       "      <td>3,258,583.0</td>\n",
       "    </tr>\n",
       "    <tr>\n",
       "      <th>2035</th>\n",
       "      <td>3,520,354.0</td>\n",
       "      <td>3,520,177.0</td>\n",
       "    </tr>\n",
       "    <tr>\n",
       "      <th>2040</th>\n",
       "      <td>3,724,198.0</td>\n",
       "      <td>3,723,903.0</td>\n",
       "    </tr>\n",
       "    <tr>\n",
       "      <th>2045</th>\n",
       "      <td>3,893,272.0</td>\n",
       "      <td>3,892,901.0</td>\n",
       "    </tr>\n",
       "    <tr>\n",
       "      <th>2050</th>\n",
       "      <td>4,048,622.0</td>\n",
       "      <td>4,048,228.0</td>\n",
       "    </tr>\n",
       "  </tbody>\n",
       "</table>\n",
       "</div>"
      ],
      "text/plain": [
       "HR      HR Phased            \n",
       "runid   R6H2C_fix  R6H2C_plus\n",
       "2015  2,665,734.0 2,665,734.0\n",
       "2020  2,739,890.0 2,739,890.0\n",
       "2025  2,966,820.0 2,966,951.0\n",
       "2030  3,258,555.0 3,258,583.0\n",
       "2035  3,520,354.0 3,520,177.0\n",
       "2040  3,724,198.0 3,723,903.0\n",
       "2045  3,893,272.0 3,892,901.0\n",
       "2050  4,048,622.0 4,048,228.0"
      ]
     },
     "execution_count": 134,
     "metadata": {},
     "output_type": "execute_result"
    }
   ],
   "source": [
    "topsheet_hh_curated.loc(0)[:,BLUEPRINT_RUNS][YEARS_5_str].stack().sum(level=[0,1,3]).unstack([0,1])"
   ]
  },
  {
   "cell_type": "code",
   "execution_count": 131,
   "metadata": {},
   "outputs": [
    {
     "data": {
      "text/plain": [
       "1549664.8016276704"
      ]
     },
     "execution_count": 131,
     "metadata": {},
     "output_type": "execute_result"
    }
   ],
   "source": [
    "## UNITS, assuming the stated vacancy rates. 2013-2017 units, limited universe (not other vacant):  2,748,025 \n",
    "((topsheet_hh_curated.loc(0)[:,BLUEPRINT_RUNS][YEARS_5_str].stack().sum(level=[0,1,3]).mean(level=2))/(1-vacancy_rates)).dropna().diff().sum()"
   ]
  },
  {
   "cell_type": "code",
   "execution_count": 70,
   "metadata": {},
   "outputs": [
    {
     "data": {
      "text/plain": [
       "<matplotlib.axes._subplots.AxesSubplot at 0x1297076d0>"
      ]
     },
     "execution_count": 70,
     "metadata": {},
     "output_type": "execute_result"
    },
    {
     "data": {
      "image/png": "[encoded data removed]",
      "text/plain": [
       "<Figure size 432x288 with 1 Axes>"
      ]
     },
     "metadata": {
      "needs_background": "light"
     },
     "output_type": "display_data"
    }
   ],
   "source": [
    "## note the drop in average household size - largely driven by a relatively older population\n",
    "\n",
    "(topsheet_hhpop/topsheet_hh_curated.sum(level='runid'))[YEARS_5_str].T.plot()"
   ]
  },
  {
   "cell_type": "code",
   "execution_count": 71,
   "metadata": {},
   "outputs": [],
   "source": [
    "# ## for r\n",
    "# topsheet_hh_curated_r=topsheet_hh_curated.stack().reset_index(name='value').rename(columns={'level_2':'year'})\n",
    "\n",
    "# topsheet_hh_curated_r.to_csv(os.path.join(drop,'Data/PBA2050/hhproj_combo_hist.csv'))"
   ]
  },
  {
   "cell_type": "markdown",
   "metadata": {},
   "source": [
    "#### Write data for excel topsheet"
   ]
  },
  {
   "cell_type": "code",
   "execution_count": 72,
   "metadata": {},
   "outputs": [],
   "source": [
    "\n",
    "xlpth=os.path.join(box,'Modeling and Surveys/Regional Modeling/Housing/PBA50 Housing/PBA50 Household Forecast/basic household forecast/hhtopsheet_{:%Y_%m_%d__%H_%M}.xlsx'.format(datetime.datetime.now()))\n",
    "\n",
    "xlout=pd.ExcelWriter(xlpth)\n",
    "\n",
    "topsheet_hh_curated.sort_index(level=1).sum(level=['HR','runid']).loc(1)[YEARS_5_str].replace(0,nan).to_excel(xlout,'Household Projection Orig')\n",
    "topsheet_hhpop.to_excel(xlout,'Household Population Projection')\n",
    "(topsheet_hhpop/topsheet_hh_curated.sum(level='runid')[topsheet_hhpop.columns]).sort_index(level=1).to_excel(xlout,'Household Size Projection')\n",
    "xlout.close()\n",
    "\n",
    "wb = openpyxl.load_workbook(xlpth,read_only=False) \n",
    "sht=wb.create_sheet('README',index=0)\n",
    "c1 = sht.cell(row = 1, column = 1) \n",
    "c2 = sht.cell(row = 3, column = 1) \n",
    "c3 = sht.cell(row = 5, column = 1) \n",
    "c4 = sht.cell(row = 7, column = 1) \n",
    "  \n",
    "# writing values to cells \n",
    "c1.value = \"Headship Rates Used:\"\n",
    "#c2.value = HR_topsheet\n",
    "#c3.value = \"Headship Rates Adjusted:\"\n",
    "#c4.value = 'Yes' if ADJUST_RATES else 'No'\n",
    "\n",
    "for i,v in enumerate(scenario_to_headship_map.iteritems()):\n",
    "\n",
    "    cx = sht.cell(row = 3+i, column = 1) \n",
    "    cy = sht.cell(row = 3+i, column = 2)\n",
    "    cx.value=v[0]\n",
    "    cy.value=v[1]\n",
    "\n",
    "wb.save(xlpth)\n",
    "wb.close()"
   ]
  },
  {
   "cell_type": "code",
   "execution_count": null,
   "metadata": {},
   "outputs": [],
   "source": []
  }
 ],
 "metadata": {
  "kernelspec": {
   "display_name": "Python 2",
   "language": "python",
   "name": "python2"
  },
  "language_info": {
   "codemirror_mode": {
    "name": "ipython",
    "version": 2
   },
   "file_extension": ".py",
   "mimetype": "text/x-python",
   "name": "python",
   "nbconvert_exporter": "python",
   "pygments_lexer": "ipython2",
   "version": "2.7.15"
  }
 },
 "nbformat": 4,
 "nbformat_minor": 2
}
