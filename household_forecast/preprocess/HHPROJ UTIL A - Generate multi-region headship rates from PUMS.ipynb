{
 "cells": [
  {
   "cell_type": "code",
   "execution_count": 1,
   "metadata": {},
   "outputs": [],
   "source": [
    "import os\n",
    "import seaborn as sns\n",
    "import pandas as pd\n",
    "import geopandas as gpd\n",
    "import re, io, numpy as np\n",
    "from cStringIO import StringIO \n",
    "from pandas.api.types import CategoricalDtype\n",
    "\n",
    "import logging\n",
    "logger = logging.getLogger()\n",
    "logger.setLevel(logging.ERROR)  #DEBUG, INFO, WARNING, ERROR, CRITICAL"
   ]
  },
  {
   "cell_type": "code",
   "execution_count": 2,
   "metadata": {},
   "outputs": [
    {
     "name": "stdout",
     "output_type": "stream",
     "text": [
      "Populating the interactive namespace from numpy and matplotlib\n",
      "Current size: [6.0, 4.0]\n",
      "Current size: [10, 6.5]\n"
     ]
    }
   ],
   "source": [
    "%pylab inline\n",
    "# Get current size\n",
    "fig_size = plt.rcParams[\"figure.figsize\"]\n",
    "print \"Current size:\", fig_size\n",
    "# Set figure width to 12 and height to 9\n",
    "fig_size[0] = 10\n",
    "fig_size[1] = 6.5\n",
    "plt.rcParams[\"figure.figsize\"] = fig_size\n",
    "print \"Current size:\", fig_size\n",
    "plt.rcParams['figure.figsize']\n",
    "plt.style.use('ggplot')"
   ]
  },
  {
   "cell_type": "code",
   "execution_count": 3,
   "metadata": {},
   "outputs": [],
   "source": [
    "drop=os.getenv('DROPBOX_LOC')\n",
    "box=os.getenv('BOX_LOC')"
   ]
  },
  {
   "cell_type": "code",
   "execution_count": 4,
   "metadata": {},
   "outputs": [],
   "source": [
    "import matplotlib.ticker as ticker\n",
    "fmt = lambda x,pos: '{:,.0f}'.format(x)\n",
    "cbar_kws={'format': ticker.FuncFormatter(fmt)}\n",
    "fmt_float = lambda x,pos: '{:,.3f}'.format(x)\n",
    "cbar_kws_float={'format': ticker.FuncFormatter(fmt_float)}\n",
    "import matplotlib.patches as patches\n",
    "\n",
    "from matplotlib.backends.backend_pdf import PdfPages\n",
    "import matplotlib.colors as colors\n",
    "import matplotlib.patheffects as PathEffects\n",
    "\n",
    "class MidpointNormalize(Normalize):\n",
    "    def __init__(self, vmin=None, vmax=None, midpoint=None, clip=False):\n",
    "        self.midpoint = midpoint\n",
    "        Normalize.__init__(self, vmin, vmax, clip)\n",
    "\n",
    "    def __call__(self, value, clip=None):\n",
    "        # I'm ignoring masked values and all kinds of edge cases to make a\n",
    "        # simple example...\n",
    "        x, y = [self.vmin, self.midpoint, self.vmax], [0, 0.5, 1]\n",
    "        return np.ma.masked_array(np.interp(value, x, y))"
   ]
  },
  {
   "cell_type": "markdown",
   "metadata": {},
   "source": [
    "## Generate a multitude of headship rates from different time periods / vintages, and geographies"
   ]
  },
  {
   "cell_type": "markdown",
   "metadata": {},
   "source": [
    "### Prepare geographic mappings"
   ]
  },
  {
   "cell_type": "code",
   "execution_count": 8,
   "metadata": {},
   "outputs": [],
   "source": [
    "atlantacounties=['Henry','Cobb','Rockdale','DeKalb','Gwinnett','Douglas','Cherokee','Fulton','Fayette','Clayton']"
   ]
  },
  {
   "cell_type": "code",
   "execution_count": 9,
   "metadata": {},
   "outputs": [
    {
     "data": {
      "text/plain": [
       "{u'13057': u'Cherokee',\n",
       " u'13063': u'Clayton',\n",
       " u'13067': u'Cobb',\n",
       " u'13089': u'DeKalb',\n",
       " u'13097': u'Douglas',\n",
       " u'13113': u'Fayette',\n",
       " u'13121': u'Fulton',\n",
       " u'13135': u'Gwinnett',\n",
       " u'13151': u'Henry',\n",
       " u'13247': u'Rockdale'}"
      ]
     },
     "execution_count": 9,
     "metadata": {},
     "output_type": "execute_result"
    }
   ],
   "source": [
    "uscnty=gpd.read_file(os.path.join(drop,'Documents/Data/GIS/Census/tiger/cb_2015_us_county_500k.shp'))\n",
    "uscnty.loc[(uscnty.STATEFP=='13')&(uscnty.NAME.isin(atlantacounties))].set_index('GEOID').NAME.to_dict()"
   ]
  },
  {
   "cell_type": "code",
   "execution_count": 10,
   "metadata": {},
   "outputs": [],
   "source": [
    "bayareafips_full ={'06001':'Alameda', '06013':'Contra Costa', '06041':'Marin', '06055':'Napa', '06075':'San Francisco', '06081':'San Mateo', '06085':'Santa Clara', '06097':'Sonoma', '06095':'Solano'}\n",
    "cntystring='({})'.format('|'.join(bayareafips_full.values()))\n",
    "\n",
    "remiregions={'Alameda': 'East Bay',\n",
    " 'Contra Costa': 'East Bay',\n",
    " 'Marin': 'West Bay',\n",
    " 'Napa': 'North Bay',\n",
    " 'San Francisco': 'West Bay',\n",
    " 'San Mateo': 'West Bay',\n",
    " 'Santa Clara': 'South Bay',\n",
    " 'Solano': 'North Bay',\n",
    " 'Sonoma': 'North Bay'}\n",
    "\n",
    "atlanta_regional={u'13057': u'Cherokee',\n",
    " u'13063': u'Clayton',\n",
    " u'13067': u'Cobb',\n",
    " u'13089': u'DeKalb',\n",
    " u'13097': u'Douglas',\n",
    " u'13113': u'Fayette',\n",
    " u'13121': u'Fulton',\n",
    " u'13135': u'Gwinnett',\n",
    " u'13151': u'Henry',\n",
    " u'13247': u'Rockdale'}\n",
    "\n",
    "\n",
    "atlanta_regional={u'13057': u'Atlanta Regional',\n",
    " u'13063': u'Atlanta Regional',\n",
    " u'13067': u'Atlanta Regional',\n",
    " u'13089': u'Atlanta Regional',\n",
    " u'13097': u'Atlanta Regional',\n",
    " u'13113': u'Atlanta Regional',\n",
    " u'13121': u'Atlanta Regional',\n",
    " u'13135': u'Atlanta Regional',\n",
    " u'13151': u'Atlanta Regional',\n",
    " u'13247': u'Atlanta Regional'}\n",
    "\n",
    "## for halo counties, rely on the regionalization in \n",
    "## http://www.cdss.ca.gov/research/res/pdf/multireports/RegionsofCalifornia.pdf\n",
    "\n",
    "\n",
    "halofips = {'06077':'San Joaquin','06099':'Stanislaus','06067':'Sacramento','06047':'Merced',\n",
    "           '06113':'Yolo','06115':'Yuba','06101':'Sutter','06017':'El Dorado','06061':'Placer',\n",
    "            '06087':'Santa Cruz','06069':'San Benito','06053':'Monterey',\n",
    "            '06033':'Lake','06045':'Mendocino','outside':'outside'}\n",
    "\n",
    "halotype={'06077':'Halo Southern Farm','06047':'Halo Southern Farm','06033':'North and Mountains','06045':'Mendocino',\n",
    "          '06045':'Halo North and Mountains',\n",
    "          '06099':'Halo Southern Farm','06067':'Halo Central Valley',\n",
    "           '06113':'Halo Central Valley','06115':'Halo Central Valley','06101':'Halo Central Valley',\n",
    "          '06017':'Halo Central Valley','06061':'Halo Central Valley',\n",
    "            '06087':'Halo Bay Area','06069':'Halo Southern Farm','06053':'Halo Southern Farm','outside':'outside'}\n",
    "\n",
    "## mapping for REMI area grouping\n",
    "bayarearegions={'06001':'East Bay',\n",
    " '06013':'East Bay',\n",
    " '06085':'South Bay',\n",
    " '06055':'North Bay',\n",
    " '06081':'West Bay',\n",
    " '06075':'West Bay',\n",
    " '06097':'North Bay',\n",
    " '06041':'West Bay',\n",
    " '06095':'North Bay',\n",
    "               }\n",
    "regiontype=bayarearegions.copy()\n",
    "regiontype.update(halotype)\n",
    "\n",
    "bothfips = bayareafips_full.copy()\n",
    "bothfips.update(halofips)\n",
    "\n",
    "north_bay =  {'06055':'North Bay',\n",
    " '06097':'North Bay',\n",
    " '06095':'North Bay'}"
   ]
  },
  {
   "cell_type": "code",
   "execution_count": 11,
   "metadata": {},
   "outputs": [],
   "source": [
    "regiontype_gen={'06001': 'Bay Area',\n",
    " '06013': 'Bay Area',\n",
    " '06017': 'Rest of CA',\n",
    " '06033':'Rest of CA',\n",
    " '06045':'Rest of CA',\n",
    " '06041': 'Bay Area',\n",
    " '06047': 'Rest of CA',\n",
    " '06053': 'Rest of CA',\n",
    " '06055': 'Bay Area',\n",
    " '06061': 'Rest of CA',\n",
    " '06067': 'Rest of CA',\n",
    " '06069': 'Rest of CA',\n",
    " '06075': 'Bay Area',\n",
    " '06077': 'Rest of CA',\n",
    "                '06073':'SANDAG',\n",
    " '06081': 'Bay Area',\n",
    " '06085': 'Bay Area',\n",
    " '06087': 'Rest of CA',\n",
    " '06095': 'Bay Area',\n",
    " '06097': 'Bay Area',\n",
    " '06099': 'Rest of CA',\n",
    " '06101': 'Rest of CA',\n",
    " '06113': 'Rest of CA',\n",
    " '06115': 'Rest of CA',\n",
    "                 '06025': 'SCAG',  # imperial\n",
    " '06037': 'SCAG',   # LA\n",
    " '06071': 'SCAG',  # san bernadino\n",
    " '06059': 'SCAG',  # orange\n",
    " '06065': 'SCAG',  # riverside\n",
    " '06011': 'SCAG', # ventura\n",
    " 'outside': 'outside',\n",
    "               u'13057': u'Atlanta Regional',\n",
    " u'13063': u'Atlanta Regional',\n",
    " u'13067': u'Atlanta Regional',\n",
    " u'13089': u'Atlanta Regional',\n",
    " u'13097': u'Atlanta Regional',\n",
    " u'13113': u'Atlanta Regional',\n",
    " u'13121': u'Atlanta Regional',\n",
    " u'13135': u'Atlanta Regional',\n",
    " u'13151': u'Atlanta Regional',\n",
    " u'13247': u'Atlanta Regional'}"
   ]
  },
  {
   "cell_type": "code",
   "execution_count": 12,
   "metadata": {},
   "outputs": [],
   "source": [
    "regiontype_gen_halodetail={'06001': 'Bay Area',\n",
    " '06013': 'Bay Area',\n",
    " '06017': 'Halo Central Valley',           \n",
    " '06033':'Halo North and Mountains',\n",
    " '06045':'Halo North and Mountains',\n",
    " '06041': 'Bay Area',\n",
    " '06047': 'Halo Southern Farm',\n",
    " '06053': 'Halo Southern Farm',\n",
    " '06055': 'Bay Area',\n",
    " '06061': 'Halo Central Valley',\n",
    " '06067': 'Halo Central Valley',\n",
    " '06069': 'Halo Southern Farm',\n",
    " '06075': 'Bay Area',\n",
    " '06077': 'Halo Southern Farm',\n",
    " '06081': 'Bay Area',\n",
    " '06085': 'Bay Area',\n",
    " '06087': 'Halo Bay Area',\n",
    " '06095': 'Bay Area',\n",
    " '06097': 'Bay Area',\n",
    " '06099': 'Halo Southern Farm',\n",
    " '06101': 'Halo Central Valley',\n",
    " '06113': 'Halo Central Valley',\n",
    " '06115': 'Halo Central Valley',\n",
    " '06025': 'SCAG',  # imperial\n",
    " '06037': 'SCAG',   # LA\n",
    " '06071': 'SCAG',  # san bernadino\n",
    " '06059': 'SCAG',  # orange\n",
    " '06065': 'SCAG',  # riverside\n",
    " '06011': 'SCAG', # ventura\n",
    "                           \n",
    "                           \n",
    " 'outside': 'outside'}"
   ]
  },
  {
   "cell_type": "code",
   "execution_count": 13,
   "metadata": {},
   "outputs": [
    {
     "data": {
      "text/plain": [
       "STPUMA\n",
       "0100100    01077\n",
       "0100200    01083\n",
       "0100301    01089\n",
       "0100302    01089\n",
       "0100400    01049\n",
       "Name: STCOUNTY, dtype: object"
      ]
     },
     "execution_count": 13,
     "metadata": {},
     "output_type": "execute_result"
    }
   ],
   "source": [
    "## puma to county relationship file\n",
    "\n",
    "pumarel=pd.read_csv(os.path.join(drop,'Documents/Data/_Census/geo/2010_Census_Tract_to_2010_PUMA.txt'),dtype=str)\n",
    "pumarel['STPUMA']=pumarel.STATEFP+pumarel.PUMA5CE\n",
    "pumarel['STCOUNTY']=pumarel.STATEFP+pumarel.COUNTYFP\n",
    "pumarel=pumarel.groupby(['STPUMA','STCOUNTY']).size().groupby(level=0,group_keys=False).nlargest(1).reset_index(1).STCOUNTY\n",
    "pumarel.head()"
   ]
  },
  {
   "cell_type": "markdown",
   "metadata": {},
   "source": [
    "### define a few convenience functions"
   ]
  },
  {
   "cell_type": "code",
   "execution_count": 14,
   "metadata": {},
   "outputs": [],
   "source": [
    "pct=lambda x: x/x.sum()\n",
    "\n",
    "def incbreaker(breaks):\n",
    "    labels=[]\n",
    "    for f in range(len(breaks)-1):\n",
    "        labels.append(\"${fr:,.0f}-${to:,.0f}\".format(fr=breaks[f],to=breaks[f+1]-1))\n",
    "    labels[-1]='${dt:,.0f}+'.format(dt=breaks[-2])\n",
    "    return labels\n",
    "\n",
    "\n",
    "def agebreaker(breaks):\n",
    "    labels=[]\n",
    "    for f in range(len(breaks)-1):\n",
    "        labels.append(\"age{fr:02.0f}{to:02.0f}\".format(fr=breaks[f],to=breaks[f+1]-1))\n",
    "    labels[-1]='age{dt:,.0f}p'.format(dt=breaks[-2])\n",
    "    return labels\n",
    "def agebreaker2(breaks):\n",
    "    labels=[]\n",
    "    for f in range(len(breaks)-1):\n",
    "        labels.append(\"Ages {fr:.0f}-{to:.0f}\".format(fr=breaks[f],to=breaks[f+1]-1))\n",
    "    labels[-1]='Ages {dt:,.0f}+'.format(dt=breaks[-2])\n",
    "    return labels\n",
    "\n",
    "diffbreaks_custom =[0,18,25,45,65,np.inf]\n",
    "diffbreaks_5 =range(0,86,5)+[np.inf]"
   ]
  },
  {
   "cell_type": "code",
   "execution_count": 15,
   "metadata": {},
   "outputs": [],
   "source": [
    "def map_value_labels(codes_pasted,var):\n",
    "    \"\"\"\n",
    "    Reads pasted id:value correspondence and prepares a \n",
    "    id:value dictionary to be used for mapping\n",
    "    \"\"\"\n",
    "    \n",
    "    ## substitute dots and leading space\n",
    "    codes_pasted = re.sub(r' \\.','\\t', codes_pasted)\n",
    "    \n",
    "    ## read code string as if it were a file object, store in dataframe\n",
    "    df_codes = pd.read_csv(StringIO(codes_pasted), \n",
    "                           encoding='utf8', sep=\"\\t\",\n",
    "                           header=None if os.name=='posix' else None,\n",
    "                           names=['id','value'],\n",
    "                           dtype={'id': object, 'value': object})\n",
    "    \n",
    "    df_codes['value']=df_codes['value'].str.strip()\n",
    "    df_codes.index=df_codes.id.astype(np.int64)\n",
    "    df_codes=df_codes['value'].to_dict()\n",
    "    \n",
    "    return df_codes"
   ]
  },
  {
   "cell_type": "code",
   "execution_count": 16,
   "metadata": {},
   "outputs": [],
   "source": [
    "def race_eth(df):\n",
    "    if df.name>1:\n",
    "        return 'Hispanic'\n",
    "    else:\n",
    "        return df+'-NonHispanic'"
   ]
  },
  {
   "cell_type": "markdown",
   "metadata": {},
   "source": [
    "### Paste codes from PUMS data dictionary, and modify as needed"
   ]
  },
  {
   "cell_type": "code",
   "execution_count": 17,
   "metadata": {},
   "outputs": [],
   "source": [
    "codesrace =\"\"\"\n",
    "1 .white\n",
    "2 .black\n",
    "3 .other\n",
    "4 .other\n",
    "5 .other\n",
    "6 .asian\n",
    "7 .other\n",
    "8 .other\n",
    "9 .other\n",
    "\"\"\"\n",
    "codesworkers=\"\"\"\n",
    "0 .No workers\n",
    "1 .1 worker\n",
    "2 .2 workers\n",
    "3 .3 or more workers in family\n",
    "\"\"\"\n",
    "## REMI doesn't have much race detail, so we don't either.\n",
    "codesraceREMI =\"\"\"\n",
    "1 .White\n",
    "2 .Black\n",
    "3 .Other\n",
    "4 .Other\n",
    "5 .Other\n",
    "6 .Other\n",
    "7 .Other\n",
    "8 .Other\n",
    "9 .Other\n",
    "\"\"\""
   ]
  },
  {
   "cell_type": "code",
   "execution_count": 18,
   "metadata": {},
   "outputs": [
    {
     "data": {
      "text/plain": [
       "{1: u'White',\n",
       " 2: u'Black',\n",
       " 3: u'Other',\n",
       " 4: u'Other',\n",
       " 5: u'Other',\n",
       " 6: u'Other',\n",
       " 7: u'Other',\n",
       " 8: u'Other',\n",
       " 9: u'Other'}"
      ]
     },
     "execution_count": 18,
     "metadata": {},
     "output_type": "execute_result"
    }
   ],
   "source": [
    "## get value labels\n",
    "race_value_map = map_value_labels(codesrace,'RAC1P')\n",
    "workers_value_map = map_value_labels(codesworkers,'WIF')\n",
    "remirace_value_map = map_value_labels(codesraceREMI,'RAC1P')\n",
    "remirace_value_map"
   ]
  },
  {
   "cell_type": "markdown",
   "metadata": {},
   "source": [
    "## Load PUMS sample data"
   ]
  },
  {
   "cell_type": "code",
   "execution_count": 19,
   "metadata": {},
   "outputs": [
    {
     "data": {
      "text/plain": [
       "'/Users/aolsen/Dropbox/Documents/Data/_Census/ACS/PUMS/2014_2018/psam_p06.csv'"
      ]
     },
     "execution_count": 19,
     "metadata": {},
     "output_type": "execute_result"
    }
   ],
   "source": [
    "## set ACS vars\n",
    "\n",
    "VINTAGE=2018\n",
    "SAMPLE=5\n",
    "\n",
    "acsvintagestr='{:}_{:}'.format(VINTAGE-4,VINTAGE) if SAMPLE==5 else '{:}'.format(VINTAGE)\n",
    "acsvintagestr\n",
    "\n",
    "persons_file='/Users/aolsen/Dropbox/Documents/Data/_Census/ACS/PUMS/{acsvintage}/psam_p06.csv'.format(acsvintage=acsvintagestr)\n",
    "persons_file"
   ]
  },
  {
   "cell_type": "code",
   "execution_count": 20,
   "metadata": {},
   "outputs": [],
   "source": [
    "## create map of local ACS files to load\n",
    "\n",
    "acsmap={'ACS2018_5':{'VINTAGE':2018,'SAMPLE':5},\n",
    "'ACS2016_5':{'VINTAGE':2016,'SAMPLE':5},\n",
    "'ACS2018_1':{'VINTAGE':2018,'SAMPLE':1}}"
   ]
  },
  {
   "cell_type": "code",
   "execution_count": 65,
   "metadata": {},
   "outputs": [
    {
     "name": "stdout",
     "output_type": "stream",
     "text": [
      "ACS2016_5 {'SAMPLE': 5, 'VINTAGE': 2016}\n",
      "/Users/aolsen/Dropbox/Documents/Data/_Census/ACS/PUMS/2012_2016/psam_p06.csv\n",
      "ACS2018_5 {'SAMPLE': 5, 'VINTAGE': 2018}\n",
      "/Users/aolsen/Dropbox/Documents/Data/_Census/ACS/PUMS/2014_2018/psam_p06.csv\n",
      "ACS2018_1 {'SAMPLE': 1, 'VINTAGE': 2018}\n",
      "/Users/aolsen/Dropbox/Documents/Data/_Census/ACS/PUMS/2018/psam_p06.csv\n"
     ]
    }
   ],
   "source": [
    "allpersons={}\n",
    "for k,v in acsmap.iteritems():\n",
    "    print k,v\n",
    "    acsvintagestr='{:}_{:}'.format(v['VINTAGE']-4,v['VINTAGE']) if v['SAMPLE']==5 else '{:}'.format(v['VINTAGE'])\n",
    "    \n",
    "    ## format file string\n",
    "    persons_file='/Users/aolsen/Dropbox/Documents/Data/_Census/ACS/PUMS/{acsvintage}/psam_p06.csv'.format(acsvintage=acsvintagestr)\n",
    "    print persons_file\n",
    "    persons_temp=pd.read_csv(persons_file,usecols=['PWGTP','AGEP','RAC1P','HISP','ST','PUMA','SEX','RELP'])\n",
    "    persons_temp['YEAR']=v['VINTAGE']\n",
    "    \n",
    "    allpersons[(k)]=persons_temp\n",
    "persons=pd.concat(allpersons,names=['VINTAGE','OID'])"
   ]
  },
  {
   "cell_type": "code",
   "execution_count": 76,
   "metadata": {},
   "outputs": [
    {
     "ename": "AttributeError",
     "evalue": "'DataFrameGroupBy' object has no attribute 'PWGTP'",
     "output_type": "error",
     "traceback": [
      "\u001b[0;31m---------------------------------------------------------------------------\u001b[0m",
      "\u001b[0;31mAttributeError\u001b[0m                            Traceback (most recent call last)",
      "\u001b[0;32m<ipython-input-76-ebadbe349c6f>\u001b[0m in \u001b[0;36m<module>\u001b[0;34m()\u001b[0m\n\u001b[0;32m----> 1\u001b[0;31m \u001b[0mpersons\u001b[0m\u001b[0;34m.\u001b[0m\u001b[0mgroupby\u001b[0m\u001b[0;34m(\u001b[0m\u001b[0;34m[\u001b[0m\u001b[0;34m'VINTAGE'\u001b[0m\u001b[0;34m]\u001b[0m\u001b[0;34m)\u001b[0m\u001b[0;34m.\u001b[0m\u001b[0mPWGTP\u001b[0m\u001b[0;34m.\u001b[0m\u001b[0msum\u001b[0m\u001b[0;34m(\u001b[0m\u001b[0;34m)\u001b[0m\u001b[0;34m\u001b[0m\u001b[0m\n\u001b[0m",
      "\u001b[0;32m/Users/aolsen/anaconda2/envs/geoenv/lib/python2.7/site-packages/pandas/core/groupby/groupby.pyc\u001b[0m in \u001b[0;36m__getattr__\u001b[0;34m(self, attr)\u001b[0m\n\u001b[1;32m    534\u001b[0m \u001b[0;34m\u001b[0m\u001b[0m\n\u001b[1;32m    535\u001b[0m         raise AttributeError(\"%r object has no attribute %r\" %\n\u001b[0;32m--> 536\u001b[0;31m                              (type(self).__name__, attr))\n\u001b[0m\u001b[1;32m    537\u001b[0m \u001b[0;34m\u001b[0m\u001b[0m\n\u001b[1;32m    538\u001b[0m     @Substitution(klass='GroupBy',\n",
      "\u001b[0;31mAttributeError\u001b[0m: 'DataFrameGroupBy' object has no attribute 'PWGTP'"
     ]
    }
   ],
   "source": [
    "persons.groupby(['VINTAGE']).PWGTP.sum()"
   ]
  },
  {
   "cell_type": "markdown",
   "metadata": {},
   "source": [
    "### Load data and do key assignments"
   ]
  },
  {
   "cell_type": "code",
   "execution_count": 68,
   "metadata": {},
   "outputs": [
    {
     "name": "stdout",
     "output_type": "stream",
     "text": [
      "CPU times: user 2min 15s, sys: 11.9 s, total: 2min 26s\n",
      "Wall time: 2min 57s\n"
     ]
    }
   ],
   "source": [
    "%%time\n",
    "\n",
    "persons['STPUMA']=persons.ST.apply(lambda x: '{:0>2}'.format(x))+persons.PUMA.apply(lambda x: '{:0>5}'.format(x))\n",
    "persons['STPUMA']=persons['STPUMA'].astype('category')\n",
    "persons['county']=persons.STPUMA.replace(pumarel).fillna('').map(regiontype_gen).fillna('Rest of CA').astype('category')\n",
    "\n",
    "## assign key person variables\n",
    "persons['age_grp_5']=pd.cut(persons.AGEP, right=False,bins=diffbreaks_5,labels=agebreaker2(diffbreaks_5))\n",
    "\n",
    "persons['sex']=persons.SEX.map({1:'male',2:'female'})\n",
    "\n",
    "## add race / ethnicity \n",
    "persons['race_remi']=persons.RAC1P.map(remirace_value_map)\n",
    "persons['rac_ethn']=persons.groupby(['HISP'])['race_remi'].transform(race_eth)\n",
    "\n",
    "persons=persons.drop(labels=['SEX'],axis=1)"
   ]
  },
  {
   "cell_type": "code",
   "execution_count": 77,
   "metadata": {},
   "outputs": [],
   "source": [
    "persons.columns=persons.columns.str.lower()"
   ]
  },
  {
   "cell_type": "code",
   "execution_count": 78,
   "metadata": {},
   "outputs": [
    {
     "data": {
      "text/plain": [
       "<matplotlib.axes._subplots.AxesSubplot at 0x15ad2a310>"
      ]
     },
     "execution_count": 78,
     "metadata": {},
     "output_type": "execute_result"
    },
    {
     "data": {
      "image/png": "[encoded data removed]",
      "text/plain": [
       "<Figure size 720x468 with 1 Axes>"
      ]
     },
     "metadata": {},
     "output_type": "display_data"
    }
   ],
   "source": [
    "persons.groupby(['VINTAGE','rac_ethn']).pwgtp.sum().unstack(0).plot(kind='bar')"
   ]
  },
  {
   "cell_type": "markdown",
   "metadata": {},
   "source": [
    "### Create headship rates\n",
    "We need householders relative to the household population, for relevant subgroups. `RELP` is our friend."
   ]
  },
  {
   "cell_type": "code",
   "execution_count": 79,
   "metadata": {},
   "outputs": [],
   "source": [
    "## set groups of interest for the headship rates - we treat the bay area as \"county\"\n",
    "\n",
    "hhgrp=['VINTAGE','county','rac_ethn','age_grp_5']"
   ]
  },
  {
   "cell_type": "code",
   "execution_count": 80,
   "metadata": {},
   "outputs": [
    {
     "data": {
      "text/plain": [
       "VINTAGE    county    rac_ethn           age_grp_5 \n",
       "ACS2016_5  Bay Area  Black-NonHispanic  Ages 15-19      483\n",
       "                                        Ages 20-24     4661\n",
       "                                        Ages 25-29    10716\n",
       "                                        Ages 30-34    13585\n",
       "                                        Ages 35-39    14370\n",
       "Name: pwgtp, dtype: int64"
      ]
     },
     "execution_count": 80,
     "metadata": {},
     "output_type": "execute_result"
    }
   ],
   "source": [
    "## numerator - householders\n",
    "\n",
    "#numerator=persons.loc[(~persons.relp.isin([16,17]))&(persons.sporder==1)].groupby(hhgrp).pwgtp.sum()\n",
    "numerator=persons.loc[persons.relp.isin([0])].groupby(hhgrp).pwgtp.sum()\n",
    "numerator.head()"
   ]
  },
  {
   "cell_type": "code",
   "execution_count": 81,
   "metadata": {},
   "outputs": [
    {
     "data": {
      "text/plain": [
       "VINTAGE    county    rac_ethn           age_grp_5 \n",
       "ACS2016_5  Bay Area  Black-NonHispanic  Ages 0-4      23884\n",
       "                                        Ages 5-9      25222\n",
       "                                        Ages 10-14    26138\n",
       "                                        Ages 15-19    27513\n",
       "                                        Ages 20-24    30507\n",
       "Name: pwgtp, dtype: int64"
      ]
     },
     "execution_count": 81,
     "metadata": {},
     "output_type": "execute_result"
    }
   ],
   "source": [
    "## denominator - at risk population (household population, excluding group quarter households)\n",
    "\n",
    "denominator=persons.loc[(~persons.relp.isin([16,17]))].groupby(hhgrp).pwgtp.sum()\n",
    "denominator.head()"
   ]
  },
  {
   "cell_type": "code",
   "execution_count": 82,
   "metadata": {},
   "outputs": [],
   "source": [
    "headship=numerator.div(denominator,axis=0)"
   ]
  },
  {
   "cell_type": "code",
   "execution_count": 83,
   "metadata": {},
   "outputs": [
    {
     "data": {
      "text/html": [
       "<div>\n",
       "<style scoped>\n",
       "    .dataframe tbody tr th:only-of-type {\n",
       "        vertical-align: middle;\n",
       "    }\n",
       "\n",
       "    .dataframe tbody tr th {\n",
       "        vertical-align: top;\n",
       "    }\n",
       "\n",
       "    .dataframe thead th {\n",
       "        text-align: right;\n",
       "    }\n",
       "</style>\n",
       "<table border=\"1\" class=\"dataframe\">\n",
       "  <thead>\n",
       "    <tr style=\"text-align: right;\">\n",
       "      <th>VINTAGE</th>\n",
       "      <th>ACS2016_5</th>\n",
       "      <th>ACS2018_1</th>\n",
       "      <th>ACS2018_5</th>\n",
       "    </tr>\n",
       "    <tr>\n",
       "      <th>age_grp_5</th>\n",
       "      <th></th>\n",
       "      <th></th>\n",
       "      <th></th>\n",
       "    </tr>\n",
       "  </thead>\n",
       "  <tbody>\n",
       "    <tr>\n",
       "      <th>Ages 15-19</th>\n",
       "      <td>0.014043</td>\n",
       "      <td>0.005330</td>\n",
       "      <td>0.009987</td>\n",
       "    </tr>\n",
       "    <tr>\n",
       "      <th>Ages 20-24</th>\n",
       "      <td>0.169837</td>\n",
       "      <td>0.138808</td>\n",
       "      <td>0.153220</td>\n",
       "    </tr>\n",
       "    <tr>\n",
       "      <th>Ages 25-29</th>\n",
       "      <td>0.360216</td>\n",
       "      <td>0.337582</td>\n",
       "      <td>0.342035</td>\n",
       "    </tr>\n",
       "    <tr>\n",
       "      <th>Ages 30-34</th>\n",
       "      <td>0.488212</td>\n",
       "      <td>0.473256</td>\n",
       "      <td>0.474900</td>\n",
       "    </tr>\n",
       "    <tr>\n",
       "      <th>Ages 35-39</th>\n",
       "      <td>0.516088</td>\n",
       "      <td>0.496612</td>\n",
       "      <td>0.508238</td>\n",
       "    </tr>\n",
       "    <tr>\n",
       "      <th>Ages 40-44</th>\n",
       "      <td>0.541499</td>\n",
       "      <td>0.535542</td>\n",
       "      <td>0.532306</td>\n",
       "    </tr>\n",
       "    <tr>\n",
       "      <th>Ages 45-49</th>\n",
       "      <td>0.559933</td>\n",
       "      <td>0.556596</td>\n",
       "      <td>0.559316</td>\n",
       "    </tr>\n",
       "    <tr>\n",
       "      <th>Ages 50-54</th>\n",
       "      <td>0.573301</td>\n",
       "      <td>0.564117</td>\n",
       "      <td>0.569824</td>\n",
       "    </tr>\n",
       "    <tr>\n",
       "      <th>Ages 55-59</th>\n",
       "      <td>0.583445</td>\n",
       "      <td>0.570618</td>\n",
       "      <td>0.576831</td>\n",
       "    </tr>\n",
       "    <tr>\n",
       "      <th>Ages 60-64</th>\n",
       "      <td>0.602806</td>\n",
       "      <td>0.588937</td>\n",
       "      <td>0.596426</td>\n",
       "    </tr>\n",
       "    <tr>\n",
       "      <th>Ages 65-69</th>\n",
       "      <td>0.635074</td>\n",
       "      <td>0.618875</td>\n",
       "      <td>0.624253</td>\n",
       "    </tr>\n",
       "    <tr>\n",
       "      <th>Ages 70-74</th>\n",
       "      <td>0.654410</td>\n",
       "      <td>0.647095</td>\n",
       "      <td>0.652027</td>\n",
       "    </tr>\n",
       "    <tr>\n",
       "      <th>Ages 75-79</th>\n",
       "      <td>0.666899</td>\n",
       "      <td>0.655443</td>\n",
       "      <td>0.664775</td>\n",
       "    </tr>\n",
       "    <tr>\n",
       "      <th>Ages 80-84</th>\n",
       "      <td>0.695136</td>\n",
       "      <td>0.711495</td>\n",
       "      <td>0.701046</td>\n",
       "    </tr>\n",
       "    <tr>\n",
       "      <th>Ages 85+</th>\n",
       "      <td>0.745474</td>\n",
       "      <td>0.740640</td>\n",
       "      <td>0.748554</td>\n",
       "    </tr>\n",
       "  </tbody>\n",
       "</table>\n",
       "</div>"
      ],
      "text/plain": [
       "VINTAGE     ACS2016_5  ACS2018_1  ACS2018_5\n",
       "age_grp_5                                  \n",
       "Ages 15-19   0.014043   0.005330   0.009987\n",
       "Ages 20-24   0.169837   0.138808   0.153220\n",
       "Ages 25-29   0.360216   0.337582   0.342035\n",
       "Ages 30-34   0.488212   0.473256   0.474900\n",
       "Ages 35-39   0.516088   0.496612   0.508238\n",
       "Ages 40-44   0.541499   0.535542   0.532306\n",
       "Ages 45-49   0.559933   0.556596   0.559316\n",
       "Ages 50-54   0.573301   0.564117   0.569824\n",
       "Ages 55-59   0.583445   0.570618   0.576831\n",
       "Ages 60-64   0.602806   0.588937   0.596426\n",
       "Ages 65-69   0.635074   0.618875   0.624253\n",
       "Ages 70-74   0.654410   0.647095   0.652027\n",
       "Ages 75-79   0.666899   0.655443   0.664775\n",
       "Ages 80-84   0.695136   0.711495   0.701046\n",
       "Ages 85+     0.745474   0.740640   0.748554"
      ]
     },
     "execution_count": 83,
     "metadata": {},
     "output_type": "execute_result"
    }
   ],
   "source": [
    "headship.unstack('VINTAGE').loc['Bay Area','White-NonHispanic',agebreaker2(diffbreaks_5)].dropna().reset_index([0,1],drop=True)"
   ]
  },
  {
   "cell_type": "markdown",
   "metadata": {},
   "source": [
    "### Plot Bay Area headship rates, by age, race / ethnicity"
   ]
  },
  {
   "cell_type": "code",
   "execution_count": 85,
   "metadata": {},
   "outputs": [
    {
     "data": {
      "text/plain": [
       "(array([0.5, 1.5, 2.5]), <a list of 3 Text xticklabel objects>)"
      ]
     },
     "execution_count": 85,
     "metadata": {},
     "output_type": "execute_result"
    },
    {
     "data": {
      "image/png": "[encoded data removed]",
      "text/plain": [
       "<Figure size 612x792 with 2 Axes>"
      ]
     },
     "metadata": {},
     "output_type": "display_data"
    }
   ],
   "source": [
    "fmt_abs = lambda x,pos: '{:,.2f}'.format(x)\n",
    "\n",
    "fig, ax = plt.subplots()\n",
    "fig.set_figwidth(8.5)\n",
    "fig.set_figheight(11)        \n",
    "ax=sns.heatmap(headship.unstack('VINTAGE').loc['Bay Area','White-NonHispanic',agebreaker2(diffbreaks_5)].dropna().reset_index([0,1],drop=True),\n",
    "             annot=True, fmt='.1%',annot_kws={\"size\": 13.1,'rotation':0},linewidths=.5,\n",
    "              cbar_kws={'format': FuncFormatter(fmt_abs)},\n",
    "               cmap=cm.coolwarm,norm=MidpointNormalize(midpoint=.5));\n",
    "title('Headship rates, by age, race/ethnicity\\nWhite, non-hispanic subset\\nSource: U.S. Census Bureau, PUMS')\n",
    "plt.tight_layout()\n",
    "plt.xticks(rotation=45)"
   ]
  },
  {
   "cell_type": "code",
   "execution_count": 203,
   "metadata": {},
   "outputs": [],
   "source": [
    "## write rates to disk\n",
    "\n",
    "headship.reset_index(name='value').fillna(0).to_csv(os.path.join(drop,'Data/PBA2050/headship_stateregions_2014_2018.csv'))"
   ]
  },
  {
   "cell_type": "code",
   "execution_count": null,
   "metadata": {},
   "outputs": [],
   "source": []
  }
 ],
 "metadata": {
  "kernelspec": {
   "display_name": "Python 2",
   "language": "python",
   "name": "python2"
  },
  "language_info": {
   "codemirror_mode": {
    "name": "ipython",
    "version": 2
   },
   "file_extension": ".py",
   "mimetype": "text/x-python",
   "name": "python",
   "nbconvert_exporter": "python",
   "pygments_lexer": "ipython2",
   "version": "2.7.15"
  }
 },
 "nbformat": 4,
 "nbformat_minor": 1
}
