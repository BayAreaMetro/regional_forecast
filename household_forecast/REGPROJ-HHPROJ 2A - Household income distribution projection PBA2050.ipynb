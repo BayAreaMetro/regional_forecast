{
 "cells": [
  {
   "cell_type": "code",
   "execution_count": 1,
   "metadata": {},
   "outputs": [
    {
     "name": "stdout",
     "output_type": "stream",
     "text": [
      "Populating the interactive namespace from numpy and matplotlib\n"
     ]
    }
   ],
   "source": [
    "import pandas as pd\n",
    "\n",
    "import os\n",
    "from datetime import datetime\n",
    "\n",
    "from pandas.api.types import CategoricalDtype\n",
    "import pylab as P\n",
    "\n",
    "import seaborn as sns\n",
    "import matplotlib.pyplot as plt\n",
    "import matplotlib.cm as cm, matplotlib.font_manager as fm\n",
    "\n",
    "import glob\n",
    "import fnmatch\n",
    "\n",
    "import statsmodels.formula.api as sm\n",
    "import patsy\n",
    "import collections\n",
    "import re\n",
    "\n",
    "import logging\n",
    "\n",
    "from matplotlib.backends.backend_pdf import PdfPages\n",
    "pd.set_option('display.max_columns', 1800)\n",
    "pd.set_option('display.width', 1800)\n",
    "\n",
    "fig_size = plt.rcParams[\"figure.figsize\"]\n",
    " \n",
    "# Set figure width to 12 and height to 9\n",
    "fig_size[0] = 12\n",
    "fig_size[1] = 7\n",
    "plt.rcParams[\"figure.figsize\"] = fig_size\n",
    "import datetime\n",
    "%pylab inline\n",
    "sns.set(style=\"darkgrid\")\n",
    "plt.style.use('ggplot')\n",
    "\n",
    "drop=os.getenv('DROPBOX_LOC')\n",
    "box=os.getenv('BOX_LOC')\n",
    "\n",
    "import warnings\n",
    "warnings.filterwarnings('ignore')"
   ]
  },
  {
   "cell_type": "markdown",
   "metadata": {},
   "source": [
    "`TODO` March 2020: refactor, simplify:\n",
    "* move away from storing RHS vars in a dict. A dataframe would be much simpler with appropriate indices.\n"
   ]
  },
  {
   "cell_type": "markdown",
   "metadata": {},
   "source": [
    "### Notebook for predicting households by income bin\n",
    "\n",
    "\n",
    "Core idea is to use information on labor market, economy, population at the county level to predict shares in each income quartile using four regressions. We use a model fitted on historic data from the past few decades to predict future shares, given data on those same variables from REMI. The approach follows one [laid out](http://www.remi.com/wp-content/uploads/2017/10/Technical_Documentation_for_Household_Forecast_Project.pdf) by REMI, inc, but with a different specification. A regression is fitted for each of four quartiles.\n",
    "\n",
    "A note on functional form: Since regressions are not constrained in the range of the dependent variable, scaling must be done to ensure the shares from the four separate add up to 100 percent.\n",
    "\n",
    "The notebook loads household projections from a separate notebook `REGPROJ-HHPROJ 1 - Total household projection PBA2050 Phased HR` and disaggregates household totals from each scenario / variant based on relatively  rich data from REMI on the future population (demographic, economic, wages). We estimate regressions, prepare future right hand side data, and apply regression parameters to the future state of the region to predict households in each of four income buckets."
   ]
  },
  {
   "cell_type": "markdown",
   "metadata": {},
   "source": [
    "#### Define a number of mappings "
   ]
  },
  {
   "cell_type": "code",
   "execution_count": 2,
   "metadata": {},
   "outputs": [],
   "source": [
    "## geographic mappings\n",
    "\n",
    "bayareafips_full ={'06001':'Alameda', '06013':'Contra Costa', '06041':'Marin', '06055':'Napa', '06075':'San Francisco', '06081':'San Mateo', '06085':'Santa Clara', '06097':'Sonoma', '06095':'Solano'}\n",
    "\n",
    "## mapping for REMI area grouping\n",
    "bayarearegions={'06001':'East Bay',\n",
    " '06013':'East Bay',\n",
    " '06085':'South Bay',\n",
    " '06055':'North Bay',\n",
    " '06081':'West Bay',\n",
    " '06075':'West Bay',\n",
    " '06097':'North Bay',\n",
    " '06041':'West Bay',\n",
    " '06095':'North Bay'}\n",
    "\n",
    "north_bay =  {'06055':'North Bay',\n",
    " '06097':'North Bay',\n",
    " '06095':'North Bay'}\n",
    "pd.DataFrame(data={'county':bayareafips_full,'region':bayarearegions}).to_clipboard()\n",
    "pct=lambda x: x/x.sum()"
   ]
  },
  {
   "cell_type": "code",
   "execution_count": 3,
   "metadata": {},
   "outputs": [],
   "source": [
    "## relate naics categories to abag classification\n",
    "\n",
    "naics_map = {'Forestry, Fishing, and Related Activities':'Agriculture & Natural Resources', \n",
    "             u'Mining':'Agriculture & Natural Resources',\n",
    "             u'Utilities':'Transportation & Utilities', \n",
    "             u'Construction':u'Construction',\n",
    "             u'Manufacturing':u'Manufacturing & Wholesale',\n",
    "             u'Wholesale Trade':u'Manufacturing & Wholesale',\n",
    "             u'Retail Trade':u'Retail Trade',\n",
    "             u'Transportation and Warehousing':'Transportation & Utilities',\n",
    "             u'Information':u'Information',\n",
    "             u'Finance and Insurance':'Financial & Leasing',\n",
    "             u'Real Estate and Rental and Leasing':'Professional & Managerial Services',\n",
    "             u'Professional, Scientific, and Technical Services':'Professional & Managerial Services',\n",
    "             u'Management of Companies and Enterprises':'Professional & Managerial Services',\n",
    "             u'Administrative and Waste Management Services':'Professional & Managerial Services',\n",
    "             u'Educational Services; private':'Health & Educational Services',\n",
    "             u'Health Care and Social Assistance':'Health & Educational Services',\n",
    "             u'Arts, Entertainment, and Recreation':'Arts, Recreation & Other Services',\n",
    "             u'Accommodation and Food Services':'Arts, Recreation & Other Services',\n",
    "             u'Other Services, except Public Administration':'Arts, Recreation & Other Services',\n",
    "             u'State and Local Government Employment':'Government',\n",
    "             u'Federal Civilian Employment':'Government',\n",
    "             u'Federal Military Employment':'Government'}"
   ]
  },
  {
   "cell_type": "code",
   "execution_count": 4,
   "metadata": {},
   "outputs": [],
   "source": [
    "## map remi occ groups to census major ones--this is dirty, bc the census ones shift.\n",
    "occ_to_census = {u'Management, business, and financial occupations':'occ_mgmt',\n",
    "u'Computer, mathematical, architecture, and engineering occupations':'occ_mgmt',\n",
    "u'Life, physical, and social science occupations':'occ_mgmt',\n",
    "u'Community and social service occupations':'occ_svcs',\n",
    "u'Legal occupations':'occ_mgmt',\n",
    "u'Education, training, and library occupations':'occ_svcs',\n",
    "u'Arts, design, entertainment, sports, and media occupations':'occ_svcs',\n",
    "u'Healthcare occupations':'occ_svcs',\n",
    "u'Protective service occupations':'occ_svcs',\n",
    "u'Food preparation and serving related occupations':'occ_sls',\n",
    "u'Building and grounds cleaning and maintenance,personal care and service occupations':'occ_svcs',\n",
    "u'Sales and related, office and administrative support occupations':'occ_sls',\n",
    "u'Farming, fishing, and forestry occupations':'occ_nat',\n",
    "u'Construction and extraction occupations':'occ_nat',\n",
    "u'Installation, maintenance, and repair occupations':'occ_prod',\n",
    "u'Production occupations':'occ_prod',\n",
    "u'Transportation and material moving occupations':'occ_prod',\n",
    "u'Military':'occ_other'}\n"
   ]
  },
  {
   "cell_type": "code",
   "execution_count": 5,
   "metadata": {},
   "outputs": [
    {
     "data": {
      "text/plain": [
       "{u'Ages 0-15',\n",
       " u'Ages 16-19',\n",
       " u'Ages 20-24',\n",
       " u'Ages 25-34',\n",
       " u'Ages 35-44',\n",
       " u'Ages 45-54',\n",
       " u'Ages 55-64',\n",
       " u'Ages 65+'}"
      ]
     },
     "execution_count": 5,
     "metadata": {},
     "output_type": "execute_result"
    }
   ],
   "source": [
    "## this table is custom generated in REMI--mxing in govt as industry employment\n",
    "\n",
    "indus_to_census={u'State and Local Government':'ind_public',\n",
    "u'Federal Civilian':'ind_public',\n",
    "u'Federal Military':'ind_public',\n",
    "u'Forestry, Fishing, and Related Activities':'ind_other',\n",
    "u'Mining':'ind_other',\n",
    "u'Utilities':'ind_other',\n",
    "u'Construction':'ind_other',\n",
    "u'Manufacturing':'ind_other',\n",
    "u'Wholesale Trade':'ind_other',\n",
    "u'Retail Trade':'ind_retail',\n",
    "u'Transportation and Warehousing':'ind_other',\n",
    "u'Information':'ind_prof',\n",
    "u'Finance and Insurance':'ind_prof',\n",
    "u'Real Estate and Rental and Leasing':'ind_prof',\n",
    "u'Professional, Scientific, and Technical Services':'ind_prof',\n",
    "u'Management of Companies and Enterprises':'ind_prof',\n",
    "u'Administrative and Waste Management Services':'ind_other',\n",
    "                 'Administrative, Support, Waste Management, And Remediation Services':'ind_other',\n",
    "u'Educational Services':'ind_educ',\n",
    "u'Educational Services; private':'ind_educ',\n",
    "u'Health Care and Social Assistance':'ind_health',\n",
    "u'Arts, Entertainment, and Recreation':'ind_other',\n",
    "u'Accommodation and Food Services':'ind_accom_food_svcs',\n",
    "u'Other Services, except Public Administration':'ind_other',\n",
    "                u'Other Services':'ind_other'}\n",
    "\n",
    "## mapping that collapses finer to coarser age bins in the remi output\n",
    "\n",
    "agemapcollapser={u'Ages 0-15':u'Ages 0-15', u'Ages 16-19':u'Ages 16-19', u'Ages 20-21':u'Ages 20-24', u'Ages 22-24':u'Ages 20-24',\n",
    " u'Ages 25-29':u'Ages 25-34', u'Ages 30-34':u'Ages 25-34',\n",
    " u'Ages 35-44':u'Ages 35-44', u'Ages 45-54':u'Ages 45-54', u'Ages 55-59':u'Ages 55-64',\n",
    " u'Ages 60-61':u'Ages 55-64', u'Ages 62-64':u'Ages 55-64', u'Ages 65-69':u'Ages 65+', u'Ages 70-74':u'Ages 65+',\n",
    " u'Ages 75+':u'Ages 65+'}\n",
    "set(agemapcollapser.values())"
   ]
  },
  {
   "cell_type": "code",
   "execution_count": 6,
   "metadata": {},
   "outputs": [],
   "source": [
    "## prepare slicer object for subsetting dataframes\n",
    "\n",
    "idx = pd.IndexSlice"
   ]
  },
  {
   "cell_type": "code",
   "execution_count": 7,
   "metadata": {},
   "outputs": [],
   "source": [
    "## mapping from year to ACS / census  source\n",
    "\n",
    "yr_to_vintage={1990:'C1990',1991:'C1990',2000:'C2000',2005:'ACS2005',2006:'ACS2006',2007:'ACS2007',\n",
    "2008:'ACS2008',2009:'ACS2009',2010:'ACS2010',2011:'ACS2011',2012:'ACS2012',2013:'ACS2013',2014:'ACS2014',\n",
    "2015:'ACS2015',2016:'ACS2016',2017:'ACS2017',2018:'ACS2018'}"
   ]
  },
  {
   "cell_type": "code",
   "execution_count": 8,
   "metadata": {},
   "outputs": [],
   "source": [
    "## map from quarter to first month in quarter\n",
    "\n",
    "qtrmap = {1:'01',2:'04',3:'07',4:'10'}"
   ]
  },
  {
   "cell_type": "code",
   "execution_count": 9,
   "metadata": {},
   "outputs": [],
   "source": [
    "## convenience label function\n",
    "def agebreaker(breaks):\n",
    "    labels=[]\n",
    "    for f in range(len(breaks)-1):\n",
    "        labels.append(\"Ages {fr}-{to}\".format(fr=breaks[f],to=breaks[f+1]-1))\n",
    "    labels[-1]='Ages {dt:,.0f}+'.format(dt=breaks[-2])\n",
    "    return labels\n",
    "#agebreaker(range(0,86,5))\n",
    "\n",
    "def agebreaker2(breaks):\n",
    "    labels=[]\n",
    "    for f in range(len(breaks)-1):\n",
    "        labels.append(\"Ages {fr:.0f}-{to:.0f}\".format(fr=breaks[f],to=breaks[f+1]-1))\n",
    "    labels[-1]='Ages {dt:,.0f}+'.format(dt=breaks[-2])\n",
    "    return labels\n",
    "\n",
    "breaks_5 =range(0,86,5)+[np.inf]\n",
    "#diffbreaks_5 =range(0,76,5)+[np.inf]\n",
    "\n",
    "diffbreaks_custom =[0,5]+range(20,90,5)+[np.inf]\n",
    "age_coarse=[0,5,15,25,65,inf]"
   ]
  },
  {
   "cell_type": "code",
   "execution_count": 10,
   "metadata": {},
   "outputs": [],
   "source": [
    "def classifier(df):\n",
    "    \"\"\"\n",
    "    we need to classify each row with the appropriate hierarchy level.\n",
    "    for each row, we want to get the rightmost value available--\n",
    "    that represents the finest grained detail class\n",
    "    \"\"\"\n",
    "    \n",
    "    x = df.ix[:4].tolist()\n",
    "    try:\n",
    "        out = next(s for s in x if not s is np.NaN)\n",
    "    except:\n",
    "        out = None\n",
    "    return  out\n",
    "\n",
    "def classlevel(s):\n",
    "    \n",
    "    try:\n",
    "        if s[3:]=='0000':\n",
    "            return 'major'\n",
    "        elif np.float64(s[3:]) % 100==0:\n",
    "            return 'minor'\n",
    "        elif np.float64(s[3:]) % 10==0:\n",
    "            return 'broad'\n",
    "        else:\n",
    "            return 'detail'\n",
    "    except:\n",
    "        return 'none'"
   ]
  },
  {
   "cell_type": "code",
   "execution_count": 11,
   "metadata": {},
   "outputs": [],
   "source": [
    "## old school format wrappers\n",
    "def f1(x):\n",
    "    return '%.4f' % x\n",
    "def f4(x):\n",
    "    return '%.4f' % x if x>0 else ''"
   ]
  },
  {
   "cell_type": "code",
   "execution_count": 12,
   "metadata": {},
   "outputs": [],
   "source": [
    "## helper function to adjust the wharton index at a passed rate, implying either more or less hardship in the future\n",
    "\n",
    "def adjust_wharton(rv_wharton_geo_input,rate=1.03,regions=['West Bay']):\n",
    "    rv_wharton_geo_t = rv_wharton_geo_input.T.copy()\n",
    "    \n",
    "    for r in regions:  \n",
    "                ## grow the last value (2014) with 1% per year to 2040\n",
    "        subreg = rv_wharton_geo_t.ix[:,r]\n",
    "        subreg_last =subreg.ix[2014]\n",
    "        \n",
    "        subreg.ix[range(2014,2051)]=subreg_last*np.multiply.accumulate(np.full(subreg.ix[range(2015,2051)].shape[0], fill_value=rate))\n",
    "\n",
    "        ## move back to orig dataframe\n",
    "        rv_wharton_geo_t.ix[:,r]=subreg\n",
    "    rv_wharton_geo=rv_wharton_geo_t.T\n",
    "    return rv_wharton_geo\n",
    "\n",
    "def adjust_wharton_variable(rv_wharton_geo_input,regionrates=None):\n",
    "    rv_wharton_geo_t = rv_wharton_geo_input.T.copy()\n",
    "    \n",
    "    for reg,rates in regionrates.iteritems():  \n",
    "                ## grow the last value (2014) with 1% per year to 2040\n",
    "        subreg = rv_wharton_geo_t.loc[:,reg]\n",
    "        subreg_last =subreg.loc[2014]\n",
    "        \n",
    "        subreg.loc[range(2015,2051)]=subreg_last*np.multiply.accumulate(np.full(subreg.loc[range(2015,2051)].shape[0], fill_value=rates))\n",
    "\n",
    "        ## move back to orig dataframe\n",
    "        #rv_wharton_geo_t.loc[:,reg]=subreg\n",
    "        rv_wharton_geo_t.update(subreg)\n",
    "    rv_wharton_geo=rv_wharton_geo_t.T\n",
    "    return rv_wharton_geo\n"
   ]
  },
  {
   "cell_type": "markdown",
   "metadata": {},
   "source": [
    "#### Helper function to get the lastest household total projection based on time stamp embedded in file name\n",
    "(`REGPROJ-HHPROJ 1 - Total household projection PBA2050 Phased HR.ipynb`)"
   ]
  },
  {
   "cell_type": "code",
   "execution_count": 13,
   "metadata": {},
   "outputs": [],
   "source": [
    "def get_latest_scenario_proj(scenario=None,use_eased=False):\n",
    "    #candidates=glob.glob(os.path.join(drop,'Data/PBA2050/household_forecast/%s'%scenario))\n",
    "    ## the household projection spits out two versions; a raw one and one with a \n",
    "    ## post-processing convergence between observed and estimated through 2030. We can use either.\n",
    "    \n",
    "    if not use_eased:\n",
    "        candidates=glob.glob(os.path.join(drop,'Data/PBA2050/household_forecast/{scen}/proj_region_hh_sc_*_{hr}_2*'.format(scen=scenario,hr=scenario_to_headship_map[scenario])))\n",
    "    else:\n",
    "        candidates=glob.glob(os.path.join(drop,'Data/PBA2050/household_forecast/{scen}/proj_region_hh_sc_*_{hr}_eased*'.format(scen=scenario,hr=scenario_to_headship_map[scenario])))\n",
    "    \n",
    "    \n",
    "    #candidates=glob.glob(os.path.join(box,'EDF Shared work/control_totals',scenario,'households/proj_regionhh_scenario_%s*'%scenario))\n",
    "    #return candidates\n",
    "    out={}\n",
    "    for i,f in enumerate(candidates):\n",
    "        #print f\n",
    "        tmp=re.search('(\\d{8}_\\d{6})',f)\n",
    "        date = datetime.datetime.strptime(tmp.group(0),'%Y%m%d_%H%M%S')\n",
    "        #print i,date\n",
    "        out[(i,f)]=date\n",
    "    latest = pd.Series(out).reset_index(name='date').sort_values('date',ascending=False).iloc[0]\n",
    "    return latest.level_1"
   ]
  },
  {
   "cell_type": "code",
   "execution_count": 14,
   "metadata": {},
   "outputs": [],
   "source": [
    "## Also a helper function to format output from a statsmodel regression model object into a simpler table \n",
    "## TODO: March 2020 - time to refactor some of these\n",
    "\n",
    "def statswrapper(modeloutput):\n",
    "    statistics = pd.Series({'r2': modeloutput.rsquared,\n",
    "                  'adj_r2': modeloutput.rsquared_adj})\n",
    "    # put them togher with the result for each term\n",
    "    result_df = pd.DataFrame({'params': modeloutput.params,\n",
    "                              'pvals': modeloutput.pvalues,\n",
    "                              'std': modeloutput.bse,\n",
    "                              'test_stats': statistics})\n",
    "    # add the complexive results for f-value and the total p-value\n",
    "    fisher_df = pd.DataFrame({'params': {'_f_test': modeloutput.fvalue},\n",
    "                              'pvals': {'_f_test': modeloutput.f_pvalue}})\n",
    "    # merge them and unstack to obtain a hierarchically indexed series\n",
    "    res_series = pd.concat([result_df, fisher_df]).sort_values('test_stats')\n",
    "    res_series['test_stats'].apply(lambda x: np.nan if x==0 else x)\n",
    "\n",
    "    return res_series#.dropna()"
   ]
  },
  {
   "cell_type": "code",
   "execution_count": 15,
   "metadata": {},
   "outputs": [],
   "source": [
    "## convenience function for passing a set of variables and estimating a regression with those variables\n",
    "## map bin numbers to names in PUMS file\n",
    "\n",
    "## TODO: March 2020 - time to refactor some of these\n",
    "\n",
    "def run_model(modeldata,rhsvars,inc_cat=1):\n",
    "    cat_rhs='+'.join(rhsvars)\n",
    "    cat = sm.ols(depvar[inc_cat]+' ~ ' +cat_rhs, data=modeldata).fit()\n",
    "    #cat = sm.wls(dataformodels[depvar[inc_cat]]+' ~ ' +cat_rhs, weights = 'population',data=dataformodels).fit()\n",
    "    print '*'*80,'\\n'\n",
    "    print \"SUMMARY FOR INCOME BIN %s, (%s)\"%(inc_cat,'dep var: PUMS based shares' if use_pums_shares else 'fuzzy dep var')\n",
    "    print cat.summary2()\n",
    "    toxls = statswrapper(cat).fillna(0)\n",
    "    toxls.to_excel(xlsmodel,sheet_name='inc_cat_%s'%(inc_cat))\n",
    "    pd.DataFrame(toxls).to_latex(os.path.join(drop,'Data/incomeregressions_cat__{}.tex'.format(inc_cat,datetime.datetime.now())),na_rep='',formatters=[f1,f1,f1,f4])\n",
    "    #pd.DataFrame(toxls).to_latex(os.path.join(r'N:\\Planning\\ABAG Forecasting Models\\Household Module\\Documentation','incomeregressions_cat__{}.tex'.format(inc_catdatetime.datetime.now())),na_rep='',formatters=[f1,f1,f1,f4])\n",
    "    #{:%Y%m%d_%H%M%S}\n",
    "    cat_params = cat.params.to_dict()\n",
    "    cat_params['bin']='cat'+str(inc_cat)\n",
    "    return cat_params"
   ]
  },
  {
   "cell_type": "code",
   "execution_count": 16,
   "metadata": {},
   "outputs": [],
   "source": [
    "## load national county size file\n",
    "\n",
    "county_area=pd.read_csv(os.path.join(box,'EDF Shared work/control_totals/base_data/county_area.csv'),dtype = {'geoid':object,'geoid.1':object}).set_index('geoid')\n",
    "aland = county_area.aland"
   ]
  },
  {
   "cell_type": "markdown",
   "metadata": {},
   "source": [
    "### Data for estimating regressions\n",
    "\n",
    "The data is from a separate notebook which calls up the census API, gets the data for each county, and packages it as appropriate into desired variables.\n",
    "\n"
   ]
  },
  {
   "cell_type": "code",
   "execution_count": 17,
   "metadata": {},
   "outputs": [
    {
     "data": {
      "text/html": [
       "<div>\n",
       "<style scoped>\n",
       "    .dataframe tbody tr th:only-of-type {\n",
       "        vertical-align: middle;\n",
       "    }\n",
       "\n",
       "    .dataframe tbody tr th {\n",
       "        vertical-align: top;\n",
       "    }\n",
       "\n",
       "    .dataframe thead th {\n",
       "        text-align: right;\n",
       "    }\n",
       "</style>\n",
       "<table border=\"1\" class=\"dataframe\">\n",
       "  <thead>\n",
       "    <tr style=\"text-align: right;\">\n",
       "      <th></th>\n",
       "      <th></th>\n",
       "      <th>pop_to_hh</th>\n",
       "      <th>is_bay_area</th>\n",
       "      <th>lf</th>\n",
       "      <th>inc_retirement</th>\n",
       "      <th>inc_wage</th>\n",
       "      <th>inc_rental</th>\n",
       "      <th>inc_self_emp</th>\n",
       "      <th>inc_public_asst</th>\n",
       "      <th>is_bay_area2</th>\n",
       "      <th>median_home_value</th>\n",
       "      <th>inc_cat_1</th>\n",
       "      <th>inc_cat_2</th>\n",
       "      <th>inc_cat_3</th>\n",
       "      <th>inc_cat_4</th>\n",
       "      <th>inc_cat_5</th>\n",
       "      <th>hh</th>\n",
       "      <th>remi_region</th>\n",
       "      <th>is_north_bay</th>\n",
       "      <th>population</th>\n",
       "      <th>density</th>\n",
       "      <th>per_capita_inc</th>\n",
       "      <th>ag_15_24</th>\n",
       "      <th>ag_25_64</th>\n",
       "      <th>ag_65p</th>\n",
       "      <th>Swhite_NH</th>\n",
       "      <th>Sblack_NH</th>\n",
       "      <th>Sother_NH</th>\n",
       "      <th>Shispanic</th>\n",
       "      <th>SLF</th>\n",
       "      <th>w_sex</th>\n",
       "      <th>aland</th>\n",
       "      <th>ind_educ</th>\n",
       "      <th>ind_retail</th>\n",
       "      <th>ind_public</th>\n",
       "      <th>ind_accom_food_svcs</th>\n",
       "      <th>ind_health</th>\n",
       "      <th>ind_prof</th>\n",
       "      <th>hhshare_q1</th>\n",
       "      <th>hhshare_q2</th>\n",
       "      <th>hhshare_q3</th>\n",
       "      <th>hhshare_q4</th>\n",
       "      <th>inc_cat_1_tot</th>\n",
       "      <th>inc_cat_2_tot</th>\n",
       "      <th>inc_cat_3_tot</th>\n",
       "      <th>inc_cat_4_tot</th>\n",
       "      <th>inc_cat_5_tot</th>\n",
       "      <th>built_past_decade</th>\n",
       "      <th>lt_20min_worktravel</th>\n",
       "      <th>occ_tot</th>\n",
       "      <th>occ_mgmt</th>\n",
       "      <th>occ_svcs</th>\n",
       "      <th>occ_sls</th>\n",
       "      <th>occ_nat</th>\n",
       "      <th>occ_prod</th>\n",
       "      <th>vintage.1</th>\n",
       "      <th>hhinc_q1</th>\n",
       "      <th>hhinc_q2</th>\n",
       "      <th>hhinc_q3</th>\n",
       "      <th>hhinc_q4</th>\n",
       "      <th>years</th>\n",
       "      <th>state</th>\n",
       "      <th>inc_cat_1_pums</th>\n",
       "      <th>inc_cat_2_pums</th>\n",
       "      <th>inc_cat_3_pums</th>\n",
       "      <th>inc_cat_4_pums</th>\n",
       "      <th>WRLURI</th>\n",
       "      <th>metroconcept</th>\n",
       "      <th>msasize</th>\n",
       "      <th>us_median_home_value</th>\n",
       "      <th>per_capita_inc_adj2009</th>\n",
       "      <th>median_home_value_adj2009</th>\n",
       "      <th>us_median_home_value_adj2009</th>\n",
       "      <th>inc_retirement_adj2009</th>\n",
       "      <th>inc_wage_adj2009</th>\n",
       "      <th>inc_rental_adj2009</th>\n",
       "      <th>inc_self_emp_adj2009</th>\n",
       "      <th>inc_public_asst_adj2009</th>\n",
       "      <th>cnty_to_us</th>\n",
       "      <th>bin1</th>\n",
       "      <th>bin2</th>\n",
       "      <th>bin3</th>\n",
       "      <th>bin4</th>\n",
       "      <th>division</th>\n",
       "    </tr>\n",
       "    <tr>\n",
       "      <th>vintage</th>\n",
       "      <th>geoid10</th>\n",
       "      <th></th>\n",
       "      <th></th>\n",
       "      <th></th>\n",
       "      <th></th>\n",
       "      <th></th>\n",
       "      <th></th>\n",
       "      <th></th>\n",
       "      <th></th>\n",
       "      <th></th>\n",
       "      <th></th>\n",
       "      <th></th>\n",
       "      <th></th>\n",
       "      <th></th>\n",
       "      <th></th>\n",
       "      <th></th>\n",
       "      <th></th>\n",
       "      <th></th>\n",
       "      <th></th>\n",
       "      <th></th>\n",
       "      <th></th>\n",
       "      <th></th>\n",
       "      <th></th>\n",
       "      <th></th>\n",
       "      <th></th>\n",
       "      <th></th>\n",
       "      <th></th>\n",
       "      <th></th>\n",
       "      <th></th>\n",
       "      <th></th>\n",
       "      <th></th>\n",
       "      <th></th>\n",
       "      <th></th>\n",
       "      <th></th>\n",
       "      <th></th>\n",
       "      <th></th>\n",
       "      <th></th>\n",
       "      <th></th>\n",
       "      <th></th>\n",
       "      <th></th>\n",
       "      <th></th>\n",
       "      <th></th>\n",
       "      <th></th>\n",
       "      <th></th>\n",
       "      <th></th>\n",
       "      <th></th>\n",
       "      <th></th>\n",
       "      <th></th>\n",
       "      <th></th>\n",
       "      <th></th>\n",
       "      <th></th>\n",
       "      <th></th>\n",
       "      <th></th>\n",
       "      <th></th>\n",
       "      <th></th>\n",
       "      <th></th>\n",
       "      <th></th>\n",
       "      <th></th>\n",
       "      <th></th>\n",
       "      <th></th>\n",
       "      <th></th>\n",
       "      <th></th>\n",
       "      <th></th>\n",
       "      <th></th>\n",
       "      <th></th>\n",
       "      <th></th>\n",
       "      <th></th>\n",
       "      <th></th>\n",
       "      <th></th>\n",
       "      <th></th>\n",
       "      <th></th>\n",
       "      <th></th>\n",
       "      <th></th>\n",
       "      <th></th>\n",
       "      <th></th>\n",
       "      <th></th>\n",
       "      <th></th>\n",
       "      <th></th>\n",
       "      <th></th>\n",
       "      <th></th>\n",
       "      <th></th>\n",
       "      <th></th>\n",
       "      <th></th>\n",
       "      <th></th>\n",
       "    </tr>\n",
       "  </thead>\n",
       "  <tbody>\n",
       "    <tr>\n",
       "      <th rowspan=\"2\" valign=\"top\">ACS2010</th>\n",
       "      <th>01003</th>\n",
       "      <td>0.395219</td>\n",
       "      <td>not bay area</td>\n",
       "      <td>84253</td>\n",
       "      <td>395875200.0</td>\n",
       "      <td>3088521500</td>\n",
       "      <td>280365100.0</td>\n",
       "      <td>308500100.0</td>\n",
       "      <td>2274200.0</td>\n",
       "      <td>ouside bay area</td>\n",
       "      <td>177200.0</td>\n",
       "      <td>0.392769</td>\n",
       "      <td>0.304782</td>\n",
       "      <td>0.19519</td>\n",
       "      <td>0.107260</td>\n",
       "      <td>0.302450</td>\n",
       "      <td>69476</td>\n",
       "      <td>not bay area</td>\n",
       "      <td>not north bay</td>\n",
       "      <td>175791</td>\n",
       "      <td>42.692287</td>\n",
       "      <td>26469.0</td>\n",
       "      <td>0.115723</td>\n",
       "      <td>0.526591</td>\n",
       "      <td>0.164912</td>\n",
       "      <td>0.840777</td>\n",
       "      <td>0.093793</td>\n",
       "      <td>0.026475</td>\n",
       "      <td>0.038955</td>\n",
       "      <td>0.602767</td>\n",
       "      <td>0.511340</td>\n",
       "      <td>4117.629064</td>\n",
       "      <td>0.068721</td>\n",
       "      <td>0.137723</td>\n",
       "      <td>0.045950</td>\n",
       "      <td>0.078732</td>\n",
       "      <td>0.110494</td>\n",
       "      <td>0.098688</td>\n",
       "      <td>0.226711</td>\n",
       "      <td>0.271518</td>\n",
       "      <td>0.199321</td>\n",
       "      <td>0.302450</td>\n",
       "      <td>27288</td>\n",
       "      <td>21175</td>\n",
       "      <td>13561</td>\n",
       "      <td>7452</td>\n",
       "      <td>21013</td>\n",
       "      <td>0.310120</td>\n",
       "      <td>0.426655</td>\n",
       "      <td>78520</td>\n",
       "      <td>0.315219</td>\n",
       "      <td>0.175586</td>\n",
       "      <td>0.268785</td>\n",
       "      <td>0.134832</td>\n",
       "      <td>0.105578</td>\n",
       "      <td>ACS2010</td>\n",
       "      <td>0.226711</td>\n",
       "      <td>0.271518</td>\n",
       "      <td>0.199321</td>\n",
       "      <td>0.302450</td>\n",
       "      <td>2010</td>\n",
       "      <td>01</td>\n",
       "      <td>0.402239</td>\n",
       "      <td>0.336995</td>\n",
       "      <td>0.136518</td>\n",
       "      <td>0.124248</td>\n",
       "      <td>-0.790027</td>\n",
       "      <td>19300</td>\n",
       "      <td>up to 1,000,000</td>\n",
       "      <td>188400</td>\n",
       "      <td>25792.938355</td>\n",
       "      <td>172674.021555</td>\n",
       "      <td>183587.955198</td>\n",
       "      <td>3.857639e+08</td>\n",
       "      <td>3.009636e+09</td>\n",
       "      <td>2.732041e+08</td>\n",
       "      <td>3.006205e+08</td>\n",
       "      <td>2.216113e+06</td>\n",
       "      <td>0.940552</td>\n",
       "      <td>0.226711</td>\n",
       "      <td>0.271518</td>\n",
       "      <td>0.199321</td>\n",
       "      <td>0.302450</td>\n",
       "      <td>06</td>\n",
       "    </tr>\n",
       "    <tr>\n",
       "      <th>01055</th>\n",
       "      <td>0.399593</td>\n",
       "      <td>not bay area</td>\n",
       "      <td>46024</td>\n",
       "      <td>146297800.0</td>\n",
       "      <td>1422221100</td>\n",
       "      <td>71733900.0</td>\n",
       "      <td>123505900.0</td>\n",
       "      <td>1305800.0</td>\n",
       "      <td>ouside bay area</td>\n",
       "      <td>98200.0</td>\n",
       "      <td>0.542949</td>\n",
       "      <td>0.253174</td>\n",
       "      <td>0.14799</td>\n",
       "      <td>0.055887</td>\n",
       "      <td>0.203876</td>\n",
       "      <td>41584</td>\n",
       "      <td>not bay area</td>\n",
       "      <td>not north bay</td>\n",
       "      <td>104066</td>\n",
       "      <td>75.056299</td>\n",
       "      <td>20439.0</td>\n",
       "      <td>0.128294</td>\n",
       "      <td>0.526599</td>\n",
       "      <td>0.155815</td>\n",
       "      <td>0.798436</td>\n",
       "      <td>0.148819</td>\n",
       "      <td>0.021957</td>\n",
       "      <td>0.030788</td>\n",
       "      <td>0.554239</td>\n",
       "      <td>0.517489</td>\n",
       "      <td>1386.505888</td>\n",
       "      <td>0.085529</td>\n",
       "      <td>0.111466</td>\n",
       "      <td>0.051269</td>\n",
       "      <td>0.069052</td>\n",
       "      <td>0.164308</td>\n",
       "      <td>0.074206</td>\n",
       "      <td>0.182450</td>\n",
       "      <td>0.299755</td>\n",
       "      <td>0.227756</td>\n",
       "      <td>0.290039</td>\n",
       "      <td>22578</td>\n",
       "      <td>10528</td>\n",
       "      <td>6154</td>\n",
       "      <td>2324</td>\n",
       "      <td>8478</td>\n",
       "      <td>0.074658</td>\n",
       "      <td>0.537659</td>\n",
       "      <td>41331</td>\n",
       "      <td>0.292879</td>\n",
       "      <td>0.172244</td>\n",
       "      <td>0.235828</td>\n",
       "      <td>0.109216</td>\n",
       "      <td>0.189833</td>\n",
       "      <td>ACS2010</td>\n",
       "      <td>0.182450</td>\n",
       "      <td>0.299755</td>\n",
       "      <td>0.227756</td>\n",
       "      <td>0.290039</td>\n",
       "      <td>2010</td>\n",
       "      <td>01</td>\n",
       "      <td>0.534823</td>\n",
       "      <td>0.301034</td>\n",
       "      <td>0.122414</td>\n",
       "      <td>0.041729</td>\n",
       "      <td>-0.454230</td>\n",
       "      <td>23460</td>\n",
       "      <td>up to 1,000,000</td>\n",
       "      <td>188400</td>\n",
       "      <td>19916.954439</td>\n",
       "      <td>95691.811042</td>\n",
       "      <td>183587.955198</td>\n",
       "      <td>1.425611e+08</td>\n",
       "      <td>1.385895e+09</td>\n",
       "      <td>6.990170e+07</td>\n",
       "      <td>1.203514e+08</td>\n",
       "      <td>1.272448e+06</td>\n",
       "      <td>0.521231</td>\n",
       "      <td>0.182450</td>\n",
       "      <td>0.299755</td>\n",
       "      <td>0.227756</td>\n",
       "      <td>0.290039</td>\n",
       "      <td>06</td>\n",
       "    </tr>\n",
       "  </tbody>\n",
       "</table>\n",
       "</div>"
      ],
      "text/plain": [
       "                 pop_to_hh   is_bay_area     lf  inc_retirement    inc_wage   inc_rental  inc_self_emp  inc_public_asst     is_bay_area2  median_home_value  inc_cat_1  inc_cat_2  inc_cat_3  inc_cat_4  inc_cat_5     hh   remi_region   is_north_bay  population    density  per_capita_inc  ag_15_24  ag_25_64    ag_65p  Swhite_NH  Sblack_NH  Sother_NH  Shispanic       SLF     w_sex        aland  ind_educ  ind_retail  ind_public  ind_accom_food_svcs  ind_health  ind_prof  hhshare_q1  hhshare_q2  hhshare_q3  hhshare_q4  inc_cat_1_tot  inc_cat_2_tot  inc_cat_3_tot  inc_cat_4_tot  inc_cat_5_tot  built_past_decade  lt_20min_worktravel  occ_tot  occ_mgmt  occ_svcs   occ_sls   occ_nat  occ_prod vintage.1  hhinc_q1  hhinc_q2  hhinc_q3  hhinc_q4  years state  inc_cat_1_pums  inc_cat_2_pums  inc_cat_3_pums  inc_cat_4_pums    WRLURI metroconcept          msasize  us_median_home_value  per_capita_inc_adj2009  median_home_value_adj2009  us_median_home_value_adj2009  inc_retirement_adj2009  inc_wage_adj2009  inc_rental_adj2009  inc_self_emp_adj2009  inc_public_asst_adj2009  cnty_to_us      bin1      bin2      bin3      bin4 division\n",
       "vintage geoid10                                                                                                                                                                                                                                                                                                                                                                                                                                                                                                                                                                                                                                                                                                                                                                                                                                                                                                                                                                                                                                                                                                                                                            \n",
       "ACS2010 01003     0.395219  not bay area  84253     395875200.0  3088521500  280365100.0   308500100.0        2274200.0  ouside bay area           177200.0   0.392769   0.304782    0.19519   0.107260   0.302450  69476  not bay area  not north bay      175791  42.692287         26469.0  0.115723  0.526591  0.164912   0.840777   0.093793   0.026475   0.038955  0.602767  0.511340  4117.629064  0.068721    0.137723    0.045950             0.078732    0.110494  0.098688    0.226711    0.271518    0.199321    0.302450          27288          21175          13561           7452          21013           0.310120             0.426655    78520  0.315219  0.175586  0.268785  0.134832  0.105578   ACS2010  0.226711  0.271518  0.199321  0.302450   2010    01        0.402239        0.336995        0.136518        0.124248 -0.790027        19300  up to 1,000,000                188400            25792.938355              172674.021555                 183587.955198            3.857639e+08      3.009636e+09        2.732041e+08          3.006205e+08             2.216113e+06    0.940552  0.226711  0.271518  0.199321  0.302450       06\n",
       "        01055     0.399593  not bay area  46024     146297800.0  1422221100   71733900.0   123505900.0        1305800.0  ouside bay area            98200.0   0.542949   0.253174    0.14799   0.055887   0.203876  41584  not bay area  not north bay      104066  75.056299         20439.0  0.128294  0.526599  0.155815   0.798436   0.148819   0.021957   0.030788  0.554239  0.517489  1386.505888  0.085529    0.111466    0.051269             0.069052    0.164308  0.074206    0.182450    0.299755    0.227756    0.290039          22578          10528           6154           2324           8478           0.074658             0.537659    41331  0.292879  0.172244  0.235828  0.109216  0.189833   ACS2010  0.182450  0.299755  0.227756  0.290039   2010    01        0.534823        0.301034        0.122414        0.041729 -0.454230        23460  up to 1,000,000                188400            19916.954439               95691.811042                 183587.955198            1.425611e+08      1.385895e+09        6.990170e+07          1.203514e+08             1.272448e+06    0.521231  0.182450  0.299755  0.227756  0.290039       06"
      ]
     },
     "execution_count": 17,
     "metadata": {},
     "output_type": "execute_result"
    }
   ],
   "source": [
    "## load county-level census data for the past few decades\n",
    "\n",
    "dataformodels = pd.read_csv(os.path.join(box,'EDF Shared work/control_totals/base_data/censusdata.csv'))\n",
    "\n",
    "#dataformodels=pd.read_csv(os.path.join(box,'EDF Shared work/control_totals/base_data/allyears_feb2020upd.csv'))\n",
    "dataformodels.geoid10=dataformodels.geoid10.map(lambda x: '{:05d}'.format(x))\n",
    "dataformodels.state=dataformodels.state.map(lambda x: '{:02d}'.format(x))\n",
    "dataformodels.division=dataformodels.division.map(lambda x: '{:02d}'.format(x))\n",
    "dataformodels=dataformodels.set_index(['vintage','geoid10'])\n",
    "dataformodels.head(2)"
   ]
  },
  {
   "cell_type": "code",
   "execution_count": 18,
   "metadata": {},
   "outputs": [
    {
     "data": {
      "text/html": [
       "<div>\n",
       "<style scoped>\n",
       "    .dataframe tbody tr th:only-of-type {\n",
       "        vertical-align: middle;\n",
       "    }\n",
       "\n",
       "    .dataframe tbody tr th {\n",
       "        vertical-align: top;\n",
       "    }\n",
       "\n",
       "    .dataframe thead th {\n",
       "        text-align: right;\n",
       "    }\n",
       "</style>\n",
       "<table border=\"1\" class=\"dataframe\">\n",
       "  <thead>\n",
       "    <tr style=\"text-align: right;\">\n",
       "      <th></th>\n",
       "      <th></th>\n",
       "      <th>occ_det_mgmt</th>\n",
       "      <th>occ_det_biz</th>\n",
       "      <th>occ_det_comp</th>\n",
       "      <th>occ_det_community</th>\n",
       "      <th>occ_det_lgl</th>\n",
       "      <th>occ_det_hlthsup</th>\n",
       "      <th>occ_det_foodprep</th>\n",
       "      <th>occ_det_officeadmin</th>\n",
       "    </tr>\n",
       "    <tr>\n",
       "      <th>vintage</th>\n",
       "      <th>geoid10</th>\n",
       "      <th></th>\n",
       "      <th></th>\n",
       "      <th></th>\n",
       "      <th></th>\n",
       "      <th></th>\n",
       "      <th></th>\n",
       "      <th></th>\n",
       "      <th></th>\n",
       "    </tr>\n",
       "  </thead>\n",
       "  <tbody>\n",
       "    <tr>\n",
       "      <th rowspan=\"2\" valign=\"top\">ACS2010</th>\n",
       "      <th>01001</th>\n",
       "      <td>0.080440</td>\n",
       "      <td>0.041206</td>\n",
       "      <td>0.019884</td>\n",
       "      <td>0.012119</td>\n",
       "      <td>0.009531</td>\n",
       "      <td>0.019391</td>\n",
       "      <td>0.050737</td>\n",
       "      <td>0.164085</td>\n",
       "    </tr>\n",
       "    <tr>\n",
       "      <th>01003</th>\n",
       "      <td>0.096319</td>\n",
       "      <td>0.034030</td>\n",
       "      <td>0.010838</td>\n",
       "      <td>0.012086</td>\n",
       "      <td>0.011513</td>\n",
       "      <td>0.015601</td>\n",
       "      <td>0.060061</td>\n",
       "      <td>0.120110</td>\n",
       "    </tr>\n",
       "  </tbody>\n",
       "</table>\n",
       "</div>"
      ],
      "text/plain": [
       "                 occ_det_mgmt  occ_det_biz  occ_det_comp  occ_det_community  occ_det_lgl  occ_det_hlthsup  occ_det_foodprep  occ_det_officeadmin\n",
       "vintage geoid10                                                                                                                                 \n",
       "ACS2010 01001        0.080440     0.041206      0.019884           0.012119     0.009531         0.019391          0.050737             0.164085\n",
       "        01003        0.096319     0.034030      0.010838           0.012086     0.011513         0.015601          0.060061             0.120110"
      ]
     },
     "execution_count": 18,
     "metadata": {},
     "output_type": "execute_result"
    }
   ],
   "source": [
    "## Appendix from 2020 on occupations\n",
    "\n",
    "dataformodels_occdet = pd.read_csv(os.path.join(box,'EDF Shared work/control_totals/base_data/censusdata_occvars.csv'))\n",
    "dataformodels_occdet.geoid10=dataformodels_occdet.geoid10.map(lambda x: '{:05d}'.format(x))\n",
    "dataformodels_occdet=dataformodels_occdet.set_index(['vintage','geoid10'])\n",
    "dataformodels_occdet.head(2)"
   ]
  },
  {
   "cell_type": "code",
   "execution_count": 19,
   "metadata": {},
   "outputs": [],
   "source": [
    "## add extra occupation detail\n",
    "dataformodels=dataformodels.join(dataformodels_occdet)"
   ]
  },
  {
   "cell_type": "code",
   "execution_count": 20,
   "metadata": {},
   "outputs": [],
   "source": [
    "## load msa classifiers for each census vintage\n",
    "\n",
    "msaclass = pd.read_csv(os.path.join(box,'EDF Shared work/control_totals/base_data/msamappings_1990_2013.csv'),dtype=object,index_col=0)\n",
    "\n",
    "msaclass['geoid']=msaclass.geoid.apply(lambda x: \"%05d\" %int(x) )\n",
    "msaclass=msaclass.drop_duplicates(['geoid','vintage'])\n",
    "\n",
    "msaclass=msaclass.set_index(['vintage','geoid']).metroconcept\n",
    "msaclass.index=msaclass.index.set_names(dataformodels.index.names)\n",
    "\n",
    "## assign msa code back to county data\n",
    "dataformodels['MSA_code']=msaclass"
   ]
  },
  {
   "cell_type": "code",
   "execution_count": 21,
   "metadata": {},
   "outputs": [],
   "source": [
    "# 'http://www.fhfa.gov/DataTools/Downloads/Documents/HPI/HPI_PO_metro.txt'\n",
    "## get FHFA housing price indices at metro level\n",
    "\n",
    "metro = pd.read_csv(os.path.join(box,'EDF Shared work/control_totals/base_data/HPI_PO_metro.txt'),sep='\\t')#names=['cbsa','cbsa_id','year','qtr','index'])\n",
    "metro_for_stacking=    metro[['metro_name','cbsa','yr','qtr','index_nsa']].rename(columns={'metro_name':'geo','yr':'year'})\n",
    "metro_for_stacking['cbsa']=metro_for_stacking.cbsa.apply(lambda x: '%05d'%int(x))\n",
    "metro_for_stacking['qtrmo']=metro_for_stacking.qtr.map(qtrmap)\n",
    "msaclass2 = msaclass['ACS2010'].copy()\n",
    "\n",
    "metro_for_stacking['date']=metro_for_stacking.apply(lambda x: pd.to_datetime('%s-%s-%s' %(x['qtrmo'],'01',x.year) ),axis=1)\n",
    "metro_for_stacking['vintage']=metro_for_stacking.year.map(yr_to_vintage)\n",
    "metro_for_stacking_m = metro_for_stacking.merge(msaclass2.reset_index(),left_on='cbsa',right_on='metroconcept',how='inner').rename(columns={'geoid':'geoid10'})\n",
    "metro_for_stacking_m=metro_for_stacking_m.ix[(metro_for_stacking_m.vintage.notnull()) & (metro_for_stacking_m.qtr==1)].set_index(['vintage','geoid10'])#.unstack(3)\n",
    "\n",
    "dataformodels['fhfa']= metro_for_stacking_m.index_nsa"
   ]
  },
  {
   "cell_type": "code",
   "execution_count": 22,
   "metadata": {},
   "outputs": [],
   "source": [
    "## subset to just counties in top 50 msas by population, each period\n",
    "\n",
    "vintage_MSA_sizes=dataformodels.reset_index().groupby(['vintage','MSA_code']).population.sum()\n",
    "vintage_top50_msas=vintage_MSA_sizes.groupby(level='vintage',group_keys=False).nlargest(50)\n",
    "vintage_top30_msas=vintage_MSA_sizes.groupby(level='vintage',group_keys=False).nlargest(30)\n",
    "vintage_top70_msas=vintage_MSA_sizes.groupby(level='vintage',group_keys=False).nlargest(70)\n",
    "\n",
    "dataformodels_top50msas=dataformodels.reset_index().merge(vintage_top50_msas,on=['vintage','MSA_code'],how='inner').set_index(['vintage','geoid10'])\n",
    "dataformodels_top70msas=dataformodels.reset_index().merge(vintage_top70_msas,on=['vintage','MSA_code'],how='inner').set_index(['vintage','geoid10'])\n",
    "dataformodels_top30msas=dataformodels.reset_index().merge(vintage_top30_msas,on=['vintage','MSA_code'],how='inner').set_index(['vintage','geoid10'])"
   ]
  },
  {
   "cell_type": "code",
   "execution_count": 23,
   "metadata": {},
   "outputs": [],
   "source": [
    "#dataformodels.reset_index().to_excel(os.path.join(box,'Modeling and Surveys/Regional Modeling/Housing/PBA50 Housing/PBA50 Household Forecast/input data/censusdata_countylevel_multidecade.xlsx'))"
   ]
  },
  {
   "cell_type": "markdown",
   "metadata": {},
   "source": [
    "### Load starting / observed income distributions"
   ]
  },
  {
   "cell_type": "code",
   "execution_count": 24,
   "metadata": {},
   "outputs": [],
   "source": [
    "depvar={1: 'inc_cat_1_pums',\n",
    " 2: 'inc_cat_2_pums',\n",
    " 3: 'inc_cat_3_pums',\n",
    " 4: 'inc_cat_4_pums'}\n"
   ]
  },
  {
   "cell_type": "code",
   "execution_count": 25,
   "metadata": {},
   "outputs": [
    {
     "data": {
      "text/html": [
       "<div>\n",
       "<style scoped>\n",
       "    .dataframe tbody tr th:only-of-type {\n",
       "        vertical-align: middle;\n",
       "    }\n",
       "\n",
       "    .dataframe tbody tr th {\n",
       "        vertical-align: top;\n",
       "    }\n",
       "\n",
       "    .dataframe thead th {\n",
       "        text-align: right;\n",
       "    }\n",
       "</style>\n",
       "<table border=\"1\" class=\"dataframe\">\n",
       "  <thead>\n",
       "    <tr style=\"text-align: right;\">\n",
       "      <th></th>\n",
       "      <th></th>\n",
       "      <th></th>\n",
       "      <th>remi_region</th>\n",
       "      <th>East Bay</th>\n",
       "      <th>North Bay</th>\n",
       "      <th>South Bay</th>\n",
       "      <th>West Bay</th>\n",
       "    </tr>\n",
       "    <tr>\n",
       "      <th>vintage</th>\n",
       "      <th>years</th>\n",
       "      <th></th>\n",
       "      <th>what</th>\n",
       "      <th></th>\n",
       "      <th></th>\n",
       "      <th></th>\n",
       "      <th></th>\n",
       "    </tr>\n",
       "  </thead>\n",
       "  <tbody>\n",
       "    <tr>\n",
       "      <th rowspan=\"2\" valign=\"top\">ACS2010</th>\n",
       "      <th rowspan=\"2\" valign=\"top\">2010</th>\n",
       "      <th>inc_cat_1_tot</th>\n",
       "      <th>observed</th>\n",
       "      <td>0.276902</td>\n",
       "      <td>0.292201</td>\n",
       "      <td>0.226128</td>\n",
       "      <td>0.261124</td>\n",
       "    </tr>\n",
       "    <tr>\n",
       "      <th>inc_cat_2_tot</th>\n",
       "      <th>observed</th>\n",
       "      <td>0.234718</td>\n",
       "      <td>0.272396</td>\n",
       "      <td>0.207307</td>\n",
       "      <td>0.214626</td>\n",
       "    </tr>\n",
       "  </tbody>\n",
       "</table>\n",
       "</div>"
      ],
      "text/plain": [
       "remi_region                           East Bay  North Bay  South Bay  West Bay\n",
       "vintage years               what                                              \n",
       "ACS2010 2010  inc_cat_1_tot observed  0.276902   0.292201   0.226128  0.261124\n",
       "              inc_cat_2_tot observed  0.234718   0.272396   0.207307  0.214626"
      ]
     },
     "execution_count": 25,
     "metadata": {},
     "output_type": "execute_result"
    }
   ],
   "source": [
    "## OBSERVED household income distribution COUNTS, three snapshots, from census summary files (not PUMS)\n",
    "## the non-pums version lacks precision since it comes from binned data\n",
    "\n",
    "incshares_nonpums = dataformodels.ix[dataformodels.is_bay_area!='not bay area',\n",
    "            ['inc_cat_%s_tot'%x for x in range(1,5)]+['remi_region','years']]\n",
    "\n",
    "incshares_nonpums=incshares_nonpums.set_index(['remi_region','years'],append=True,inplace=False)\n",
    "incshares_nonpums['what']='historic'\n",
    "incshares_nonpums=incshares_nonpums.groupby(level=[0,3,2])[['inc_cat_%s_tot'%x for x in range(1,5)]].sum().stack().groupby(level=[0,1,2]).apply(lambda x: x/x.sum()).unstack([2])\n",
    "incshares_nonpums['what']='observed'\n",
    "incshares_nonpums=incshares_nonpums.set_index('what',append=True)\n",
    "\n",
    "incshares_nonpums_long=incshares_nonpums.stack().reset_index(name='share').rename(columns={'level_2':'inc_cat'})\n",
    "\n",
    "incshares_nonpums.head(2)"
   ]
  },
  {
   "cell_type": "code",
   "execution_count": 26,
   "metadata": {},
   "outputs": [
    {
     "data": {
      "text/html": [
       "<div>\n",
       "<style scoped>\n",
       "    .dataframe tbody tr th:only-of-type {\n",
       "        vertical-align: middle;\n",
       "    }\n",
       "\n",
       "    .dataframe tbody tr th {\n",
       "        vertical-align: top;\n",
       "    }\n",
       "\n",
       "    .dataframe thead th {\n",
       "        text-align: right;\n",
       "    }\n",
       "</style>\n",
       "<table border=\"1\" class=\"dataframe\">\n",
       "  <thead>\n",
       "    <tr style=\"text-align: right;\">\n",
       "      <th></th>\n",
       "      <th></th>\n",
       "      <th>remi_region</th>\n",
       "      <th>East Bay</th>\n",
       "      <th>North Bay</th>\n",
       "      <th>South Bay</th>\n",
       "      <th>West Bay</th>\n",
       "    </tr>\n",
       "    <tr>\n",
       "      <th>vintage</th>\n",
       "      <th></th>\n",
       "      <th>year</th>\n",
       "      <th></th>\n",
       "      <th></th>\n",
       "      <th></th>\n",
       "      <th></th>\n",
       "    </tr>\n",
       "  </thead>\n",
       "  <tbody>\n",
       "    <tr>\n",
       "      <th rowspan=\"2\" valign=\"top\">ACS2010</th>\n",
       "      <th>inc_cat_1_tot</th>\n",
       "      <th>2010</th>\n",
       "      <td>0.276902</td>\n",
       "      <td>0.292201</td>\n",
       "      <td>0.226128</td>\n",
       "      <td>0.261124</td>\n",
       "    </tr>\n",
       "    <tr>\n",
       "      <th>inc_cat_2_tot</th>\n",
       "      <th>2010</th>\n",
       "      <td>0.234718</td>\n",
       "      <td>0.272396</td>\n",
       "      <td>0.207307</td>\n",
       "      <td>0.214626</td>\n",
       "    </tr>\n",
       "  </tbody>\n",
       "</table>\n",
       "</div>"
      ],
      "text/plain": [
       "remi_region                 East Bay  North Bay  South Bay  West Bay\n",
       "vintage               year                                          \n",
       "ACS2010 inc_cat_1_tot 2010  0.276902   0.292201   0.226128  0.261124\n",
       "        inc_cat_2_tot 2010  0.234718   0.272396   0.207307  0.214626"
      ]
     },
     "execution_count": 26,
     "metadata": {},
     "output_type": "execute_result"
    }
   ],
   "source": [
    "incshares_nonpums_acs = incshares_nonpums.groupby(level=[0,2]).sum()\n",
    "incshares_nonpums_acs=incshares_nonpums_acs.rename(columns={'inc_cat_1_tot':'bin_1','inc_cat_2_tot':'bin_2','inc_cat_3_tot':'bin_3','inc_cat_4_tot':'bin_4'})\n",
    "incshares_nonpums_acs['year'] = pd.Series(pd.Series(incshares_nonpums_acs.index.get_level_values(0)).map({'ACS2010':2010,'ACS2013':2013,'C1990':1990,'C2000':2000}).values,\n",
    "                                          index=incshares_nonpums_acs.index)\n",
    "incshares_nonpums_acs.set_index('year',append=True,inplace=True)\n",
    "\n",
    "incshares_nonpums_acs.head(2)"
   ]
  },
  {
   "cell_type": "code",
   "execution_count": 27,
   "metadata": {},
   "outputs": [],
   "source": [
    "## generated with http://localhost:8888/notebooks/analysis/topical/population/IPUMS%20income.ipynb#\n",
    "\n",
    "## load pums income shares since 1990\n",
    "## county-level, U.S., with poor coverage in small-population counties that are smaller than 100,000 threshold\n",
    "## this is immaterial insofar as we are focused on the larger CBSAs\n",
    "\n",
    "incshares_pums = pd.read_csv(os.path.join(box,'EDF Shared work/control_totals/base_data/pums_county_income_shares_1990_2013.csv'))\n",
    "incshares_pums['geoid10']=incshares_pums.STCOUNTY.apply(lambda x: \"%05d\" %int(x) )\n",
    "incshares_pums['vintage']=incshares_pums.YEAR.map(yr_to_vintage)\n",
    "incshares_pums.set_index(['vintage','geoid10'],inplace=True)\n",
    "\n",
    "## income bins using PUMS data\n",
    "\n",
    "hhshare_pums_q1 = incshares_pums.inc_cat_1\n",
    "hhshare_pums_q1.name='hhshare_pums_q1'\n",
    "hhshare_pums_q2 = incshares_pums.inc_cat_2\n",
    "hhshare_pums_q2.name='hhshare_pums_q2'\n",
    "hhshare_pums_q3 = incshares_pums.inc_cat_3\n",
    "hhshare_pums_q3.name='hhshare_pums_q3'\n",
    "hhshare_pums_q4 = incshares_pums.inc_cat_4\n",
    "hhshare_pums_q4.name='hhshare_pums_q4'\n"
   ]
  },
  {
   "cell_type": "code",
   "execution_count": 28,
   "metadata": {},
   "outputs": [
    {
     "data": {
      "text/html": [
       "<div>\n",
       "<style scoped>\n",
       "    .dataframe tbody tr th:only-of-type {\n",
       "        vertical-align: middle;\n",
       "    }\n",
       "\n",
       "    .dataframe tbody tr th {\n",
       "        vertical-align: top;\n",
       "    }\n",
       "\n",
       "    .dataframe thead th {\n",
       "        text-align: right;\n",
       "    }\n",
       "</style>\n",
       "<table border=\"1\" class=\"dataframe\">\n",
       "  <thead>\n",
       "    <tr style=\"text-align: right;\">\n",
       "      <th></th>\n",
       "      <th>vintage</th>\n",
       "      <th>years</th>\n",
       "      <th>what</th>\n",
       "      <th>remi_region</th>\n",
       "      <th>inc_cat</th>\n",
       "      <th>value</th>\n",
       "    </tr>\n",
       "  </thead>\n",
       "  <tbody>\n",
       "    <tr>\n",
       "      <th>0</th>\n",
       "      <td>C1990</td>\n",
       "      <td>1990</td>\n",
       "      <td>pba2017</td>\n",
       "      <td>East Bay</td>\n",
       "      <td>inc_cat_1_tot</td>\n",
       "      <td>0.255488</td>\n",
       "    </tr>\n",
       "    <tr>\n",
       "      <th>1</th>\n",
       "      <td>C1990</td>\n",
       "      <td>1990</td>\n",
       "      <td>pba2017</td>\n",
       "      <td>East Bay</td>\n",
       "      <td>inc_cat_2_tot</td>\n",
       "      <td>0.292561</td>\n",
       "    </tr>\n",
       "  </tbody>\n",
       "</table>\n",
       "</div>"
      ],
      "text/plain": [
       "  vintage  years     what remi_region        inc_cat     value\n",
       "0   C1990   1990  pba2017    East Bay  inc_cat_1_tot  0.255488\n",
       "1   C1990   1990  pba2017    East Bay  inc_cat_2_tot  0.292561"
      ]
     },
     "execution_count": 28,
     "metadata": {},
     "output_type": "execute_result"
    }
   ],
   "source": [
    "## load pums income shares since 1990\n",
    "## BAY AREA subregion detail\n",
    "\n",
    "incshare_pums_bayarea_subregions = pd.read_csv(os.path.join(box,'EDF Shared work/control_totals/base_data/pums_bayarea_income_shares_1990_2013.csv'),\n",
    "                                           names=['years','remi_region']+['inc_cat_%s_tot'%x for x in range(1,5)],skiprows=1)\n",
    "incshare_pums_bayarea_subregions['vintage']=incshare_pums_bayarea_subregions.years.map(yr_to_vintage)\n",
    "incshare_pums_bayarea_subregions=incshare_pums_bayarea_subregions.ix[incshare_pums_bayarea_subregions.remi_region!='outside bay area']\n",
    "incshare_pums_bayarea_subregions['what']='pba2017'\n",
    "\n",
    "incshare_pums_bayarea_subregions=incshare_pums_bayarea_subregions.set_index(['vintage','years','what','remi_region']).stack().reset_index(name='value').rename(columns={'level_4':'inc_cat'})        \n",
    "incshare_pums_bayarea_subregions.head(2)"
   ]
  },
  {
   "cell_type": "code",
   "execution_count": 29,
   "metadata": {},
   "outputs": [],
   "source": [
    "mtc_pba2013=pd.read_csv(os.path.join(box,'EDF Shared work/control_totals/base_data/mtc2010_2040_inccats.csv'),index_col=0)"
   ]
  },
  {
   "cell_type": "code",
   "execution_count": 30,
   "metadata": {},
   "outputs": [
    {
     "data": {
      "text/html": [
       "<div>\n",
       "<style scoped>\n",
       "    .dataframe tbody tr th:only-of-type {\n",
       "        vertical-align: middle;\n",
       "    }\n",
       "\n",
       "    .dataframe tbody tr th {\n",
       "        vertical-align: top;\n",
       "    }\n",
       "\n",
       "    .dataframe thead th {\n",
       "        text-align: right;\n",
       "    }\n",
       "</style>\n",
       "<table border=\"1\" class=\"dataframe\">\n",
       "  <thead>\n",
       "    <tr style=\"text-align: right;\">\n",
       "      <th></th>\n",
       "      <th>inc_cat_1_tot</th>\n",
       "      <th>inc_cat_2_tot</th>\n",
       "      <th>inc_cat_3_tot</th>\n",
       "      <th>inc_cat_4_tot</th>\n",
       "    </tr>\n",
       "    <tr>\n",
       "      <th>remi_region</th>\n",
       "      <th></th>\n",
       "      <th></th>\n",
       "      <th></th>\n",
       "      <th></th>\n",
       "    </tr>\n",
       "  </thead>\n",
       "  <tbody>\n",
       "    <tr>\n",
       "      <th>East Bay</th>\n",
       "      <td>0.268097</td>\n",
       "      <td>0.261035</td>\n",
       "      <td>0.224631</td>\n",
       "      <td>0.246237</td>\n",
       "    </tr>\n",
       "    <tr>\n",
       "      <th>North Bay</th>\n",
       "      <td>0.316808</td>\n",
       "      <td>0.312828</td>\n",
       "      <td>0.210716</td>\n",
       "      <td>0.159648</td>\n",
       "    </tr>\n",
       "    <tr>\n",
       "      <th>South Bay</th>\n",
       "      <td>0.211933</td>\n",
       "      <td>0.212848</td>\n",
       "      <td>0.222073</td>\n",
       "      <td>0.353146</td>\n",
       "    </tr>\n",
       "    <tr>\n",
       "      <th>West Bay</th>\n",
       "      <td>0.247987</td>\n",
       "      <td>0.215210</td>\n",
       "      <td>0.208612</td>\n",
       "      <td>0.328190</td>\n",
       "    </tr>\n",
       "  </tbody>\n",
       "</table>\n",
       "</div>"
      ],
      "text/plain": [
       "             inc_cat_1_tot  inc_cat_2_tot  inc_cat_3_tot  inc_cat_4_tot\n",
       "remi_region                                                            \n",
       "East Bay          0.268097       0.261035       0.224631       0.246237\n",
       "North Bay         0.316808       0.312828       0.210716       0.159648\n",
       "South Bay         0.211933       0.212848       0.222073       0.353146\n",
       "West Bay          0.247987       0.215210       0.208612       0.328190"
      ]
     },
     "execution_count": 30,
     "metadata": {},
     "output_type": "execute_result"
    }
   ],
   "source": [
    "## observed starting distribution\n",
    "\n",
    "incshares_pums_recent = pd.read_excel(os.path.join(box,'EDF Shared work/control_totals/base_data/pums_remireg_income_shares_2006_2018_pct.xlsx'),dtype={'STCOUNTY':str}).rename(columns={'YEAR':'vintage'})\n",
    "incshares_pums_recent.vintage=incshares_pums_recent.vintage.map(yr_to_vintage)\n",
    "\n",
    "bayareashares_pums_2015=incshares_pums_recent[incshares_pums_recent.vintage=='ACS2015'].set_index(['remi_region']).filter(regex='inc_cat').rename(columns=lambda x: x+'_tot')\n",
    "bayareashares_pums_2015"
   ]
  },
  {
   "cell_type": "code",
   "execution_count": 31,
   "metadata": {},
   "outputs": [
    {
     "data": {
      "text/plain": [
       "inc_cat_1_tot    688276\n",
       "inc_cat_2_tot    657079\n",
       "inc_cat_3_tot    584177\n",
       "inc_cat_4_tot    753096\n",
       "dtype: int64"
      ]
     },
     "execution_count": 31,
     "metadata": {},
     "output_type": "execute_result"
    }
   ],
   "source": [
    "## observed starting distribution\n",
    "\n",
    "incshares_pums_recent_abs = pd.read_excel(os.path.join(box,'EDF Shared work/control_totals/base_data/pums_remireg_income_shares_2006_2018_abs.xlsx'),dtype={'STCOUNTY':str}).rename(columns={'YEAR':'vintage'})\n",
    "incshares_pums_recent_abs.vintage=incshares_pums_recent_abs.vintage.map(yr_to_vintage)\n",
    "\n",
    "bayareainc_pums_2015=incshares_pums_recent_abs[incshares_pums_recent_abs.vintage=='ACS2015'].set_index(['remi_region']).filter(regex='inc_cat').rename(columns=lambda x: x+'_tot')\n",
    "bayareainc_pums_2015.sum()"
   ]
  },
  {
   "cell_type": "code",
   "execution_count": 32,
   "metadata": {},
   "outputs": [],
   "source": [
    "bayareaincomeobs=incshares_pums_recent_abs[incshares_pums_recent_abs.vintage.isin(['ACS2015','ACS2010'])].set_index('vintage').groupby(lambda x: int(x[-4:])).sum().rename(columns=lambda x: x.replace('inc_cat','bin'))\n",
    "\n",
    "## scale to decennial household counts\n",
    "#bayareaincomeobs.loc[2010]*=2608000/2546621.\n",
    "bayareaincomeobs.index=bayareaincomeobs.index.set_names(['YEAR'])"
   ]
  },
  {
   "cell_type": "code",
   "execution_count": 33,
   "metadata": {},
   "outputs": [
    {
     "data": {
      "text/plain": [
       "YEAR\n",
       "2010    2546621\n",
       "2015    2682628\n",
       "dtype: int64"
      ]
     },
     "execution_count": 33,
     "metadata": {},
     "output_type": "execute_result"
    }
   ],
   "source": [
    "bayareaincomeobs.sum(axis=1)"
   ]
  },
  {
   "cell_type": "markdown",
   "metadata": {},
   "source": [
    "#### Prep non-census variables"
   ]
  },
  {
   "cell_type": "code",
   "execution_count": 34,
   "metadata": {},
   "outputs": [
    {
     "data": {
      "text/plain": [
       "vintage  geoid10\n",
       "ACS2010  01001     -0.991755\n",
       "         01003     -0.777164\n",
       "         01005     -1.613258\n",
       "         01009     -1.204409\n",
       "         01015     -0.324215\n",
       "Name: WRLURI, dtype: float64"
      ]
     },
     "execution_count": 34,
     "metadata": {},
     "output_type": "execute_result"
    }
   ],
   "source": [
    "# ## Load Wharton index from Gyourko. Idea is that more restrictive areas might all other things equal be more top \n",
    "# ## heavy in the income distribution\n",
    "\n",
    "## We made a household-weighted version when aggregating jurisdictions to county\n",
    "## http://localhost:8888/notebooks/analysis/topical/get%20census%20API%20place%20data%20national.ipynb\n",
    "\n",
    "wharton_combo=pd.read_excel(os.path.join(box,'EDF Shared work/control_totals/base_data/WRLURI_weighted_and_orig.xlsx'),dtype={'geoid10':str})\n",
    "WRLURI_wgt=wharton_combo.set_index('geoid10').weighted\n",
    "WRLURI_wgt.name='WRLURI'\n",
    "\n",
    "## create a frame with the index literally repeated for each census vintage. \n",
    "## The update method doesn't seem to broadcast without it\n",
    "\n",
    "WRLURI_expanded={}\n",
    "WRLURI_wgt.loc['06001']\n",
    "for vint in dataformodels.index.get_level_values(0).unique():\n",
    "    WRLURI_expanded[vint]=WRLURI_wgt\n",
    "WRLURI_expanded=pd.concat(WRLURI_expanded,names=['vintage'])\n",
    "WRLURI_expanded.head()"
   ]
  },
  {
   "cell_type": "code",
   "execution_count": 35,
   "metadata": {},
   "outputs": [],
   "source": [
    "## assign to dataformodels dataframe\n",
    "dataformodels.update(WRLURI_expanded)"
   ]
  },
  {
   "cell_type": "code",
   "execution_count": 36,
   "metadata": {},
   "outputs": [
    {
     "data": {
      "text/html": [
       "<div>\n",
       "<style scoped>\n",
       "    .dataframe tbody tr th:only-of-type {\n",
       "        vertical-align: middle;\n",
       "    }\n",
       "\n",
       "    .dataframe tbody tr th {\n",
       "        vertical-align: top;\n",
       "    }\n",
       "\n",
       "    .dataframe thead th {\n",
       "        text-align: right;\n",
       "    }\n",
       "</style>\n",
       "<table border=\"1\" class=\"dataframe\">\n",
       "  <thead>\n",
       "    <tr style=\"text-align: right;\">\n",
       "      <th></th>\n",
       "      <th>Region</th>\n",
       "      <th>weighted</th>\n",
       "      <th>unweighted</th>\n",
       "    </tr>\n",
       "  </thead>\n",
       "  <tbody>\n",
       "    <tr>\n",
       "      <th>0</th>\n",
       "      <td>East Bay</td>\n",
       "      <td>0.622919</td>\n",
       "      <td>0.759408</td>\n",
       "    </tr>\n",
       "    <tr>\n",
       "      <th>1</th>\n",
       "      <td>North Bay</td>\n",
       "      <td>1.131277</td>\n",
       "      <td>1.022805</td>\n",
       "    </tr>\n",
       "    <tr>\n",
       "      <th>2</th>\n",
       "      <td>South Bay</td>\n",
       "      <td>0.161823</td>\n",
       "      <td>0.161942</td>\n",
       "    </tr>\n",
       "    <tr>\n",
       "      <th>3</th>\n",
       "      <td>West Bay</td>\n",
       "      <td>1.724180</td>\n",
       "      <td>0.965146</td>\n",
       "    </tr>\n",
       "  </tbody>\n",
       "</table>\n",
       "</div>"
      ],
      "text/plain": [
       "      Region  weighted  unweighted\n",
       "0   East Bay  0.622919    0.759408\n",
       "1  North Bay  1.131277    1.022805\n",
       "2  South Bay  0.161823    0.161942\n",
       "3   West Bay  1.724180    0.965146"
      ]
     },
     "execution_count": 36,
     "metadata": {},
     "output_type": "execute_result"
    }
   ],
   "source": [
    "## this version is household-weighted within each subregion\n",
    "\n",
    "combo_remireg = pd.read_excel(os.path.join(box,'EDF Shared work/control_totals/base_data/WRLURI_bayarea_weighted_and_orig.xlsx'))\n",
    "combo_remireg"
   ]
  },
  {
   "cell_type": "code",
   "execution_count": 37,
   "metadata": {},
   "outputs": [],
   "source": [
    "# ## grow index negatively (i.e. slightly less restrictive as policies are adjusted)\n",
    "# rv_wharton_geo_adj = adjust_wharton(rv_wharton_geo,rate=.99,\n",
    "#                                     regions=['North Bay','West Bay','East Bay','South Bay'])\n",
    "# rv_wharton_geo_adj"
   ]
  },
  {
   "cell_type": "markdown",
   "metadata": {},
   "source": [
    "### Now we have the county-level census data for the entire United States for the model's right hand side, and we have REMI projections for the region.\n",
    "\n",
    "Next we need to \n",
    "So we can project *future* households. For this we need:\n",
    "* future data\n",
    "* coefficients"
   ]
  },
  {
   "cell_type": "code",
   "execution_count": 38,
   "metadata": {},
   "outputs": [],
   "source": [
    "pd.options.display.float_format = '{:,.2f}'.format"
   ]
  },
  {
   "cell_type": "code",
   "execution_count": 39,
   "metadata": {},
   "outputs": [],
   "source": [
    "scenarios={#'RC no change 3':'RC no change 3',\n",
    "           'RC5':'base_RC2050',\n",
    "           'R5H0C':'H0_RC2050','R5H1C':'H1_RC2050','R5H2C':'H2_RC2050',\n",
    "'PBA_2040':'PBA_2040',\n",
    "    \n",
    "## draft blueprint    \n",
    "'RC6':'Blueprint Baseline',\n",
    "'R6H2C_fix':'Blueprint Plus Fix it First',\n",
    "'R6H2C_plus':'Blueprint Plus Crossing',\n",
    "'R6H2C_basic':'Blueprint Basic'\n",
    "}\n",
    "scenario='RC5'\n",
    "\n",
    "## scenarios are related to specific headship rates according to this map\n",
    "\n",
    "scenario_to_headship_map={'PBA_2040': 'HR_PBA_2040',\n",
    " 'R5H0C': 'HR_Bay_Area_ACS_12_16',\n",
    " 'R5H1C': 'HR_PBA_2040',\n",
    " 'R5H2C': 'HR_Bay_Area_Census_2000',\n",
    " 'RC5': 'HR_PBA_2040'}"
   ]
  },
  {
   "cell_type": "code",
   "execution_count": 40,
   "metadata": {},
   "outputs": [],
   "source": [
    "scenario_to_headship_map={'RC5':'HR_PBA_2040',\n",
    "                          'R5H0C':'HR_Bay_Area_ACS_12_16','R5H1C':'HR_PBA_2040',\n",
    "                         'R5H2C':'HR_Bay_Area_Census_2000','PBA_2040':'HR_PBA_2040',\n",
    "                         \n",
    "                          ## draft blueprint\n",
    "                          'R6H2C_basic':'HR_Phased',\n",
    " 'R6H2C_fix':'HR_Phased',\n",
    " 'R6H2C_plus':'HR_Phased',\n",
    " 'RC6': 'HR_Bay_Area_ACS_18'}"
   ]
  },
  {
   "cell_type": "markdown",
   "metadata": {},
   "source": [
    "## Start preparing future RHS data / variables\n",
    "\n",
    "#### Load REMI data\n",
    "Updated, February 2020\n",
    "\n",
    "Since remi 2.3, the export format is a bit different. We have mostly separate files, and mostly, for the big files, segmented by subregion."
   ]
  },
  {
   "cell_type": "code",
   "execution_count": 41,
   "metadata": {},
   "outputs": [
    {
     "name": "stdout",
     "output_type": "stream",
     "text": [
      "\tProcessing  R5H0C\n",
      "\tProcessing  RC5\n",
      "\tProcessing  R6H2C_plus\n",
      "\tProcessing  RC6\n",
      "\tProcessing  R6H2C_fix\n",
      "\tProcessing  R5H2C\n",
      "\tProcessing  R6H2C_basic\n",
      "\tProcessing  R5H1C\n"
     ]
    }
   ],
   "source": [
    "matches = []\n",
    "for root, dirnames, filenames in os.walk(os.path.join(drop,'Data/REMI/population')):\n",
    "    for filename in fnmatch.filter(filenames, '*.xlsx'):\n",
    "        matches.append(os.path.join(root, filename))\n",
    "outdata={}\n",
    "\n",
    "for fn in matches:\n",
    "    #print hdr['Forecast']\n",
    "    #temp=pd.read_excel(matches[0],skiprows=5)\n",
    "\n",
    "    temp=pd.read_excel(fn,skiprows=2)\n",
    "    hdr=temp.iloc[0].to_dict()\n",
    "    \n",
    "    ## only load file if in scenarios dict defined above\n",
    "    if hdr['Forecast'].strip() in scenarios:\n",
    "        print \"\\tProcessing \",hdr['Forecast']#,hdr['Region']\n",
    "    \n",
    "        temp=pd.read_excel(fn,skiprows=5)\n",
    "#        outdata[(scenarios[hdr['Forecast'].strip()],hdr['Region'].strip())]=temp.set_index(['Race','Gender','Ages']).filter(regex='\\d{4}')\n",
    "        outdata[hdr['Forecast'].strip()]=temp.set_index(['Region','Race','Gender','Ages']).filter(regex='\\d{4}')\n",
    "\n",
    "outdata=pd.concat(outdata)\n",
    "\n",
    "outdata.index=outdata.index.set_names(['runid'],level=[0])\n",
    "remipop=(outdata.stack()*1000).round(0).astype(np.int32).reset_index(name='value')\n",
    "\n",
    "remipop=remipop.rename(columns={'Race':'rac_ethn','level_5':'Year'})\n",
    "remipop['sex']=remipop.Gender.str.lower()\n",
    "remipop['age_fine']=pd.cut(remipop.Ages.str.extract('(\\d{1,3})',expand=False).astype(int),right=False,bins=diffbreaks_custom,labels=agebreaker(diffbreaks_custom)).astype(str)\n",
    "remipop['age_grp_5']=pd.cut(remipop.Ages.str.extract('(\\d{1,3})',expand=False).astype(np.int32),bins=breaks_5,\n",
    "           labels=agebreaker2(breaks_5),include_lowest=True,right=False)\n",
    "remipop['age_grp_coarse']=pd.cut(remipop.Ages.str.extract('(\\d{1,3})',expand=False).astype(np.int32),bins=age_coarse,\n",
    "           labels=agebreaker2(age_coarse),include_lowest=True,right=False)\n",
    "\n",
    "remipop['gender']=remipop.Gender+'s'"
   ]
  },
  {
   "cell_type": "code",
   "execution_count": 42,
   "metadata": {},
   "outputs": [],
   "source": [
    "futurepop=remipop.groupby(['runid','Region','Year']).value.sum().unstack('Year')"
   ]
  },
  {
   "cell_type": "code",
   "execution_count": 43,
   "metadata": {},
   "outputs": [],
   "source": [
    "## create core demographic frames from which to extract specific series\n",
    "\n",
    "remi_age=remipop.groupby(['runid','Region','Year','age_grp_coarse']).value.sum()#.unstack('Year')\n",
    "remi_race=remipop.groupby(['runid','Region','Year','rac_ethn']).value.sum()#.unstack('Year')"
   ]
  },
  {
   "cell_type": "markdown",
   "metadata": {},
   "source": [
    "#### Extract race, age specific series\n",
    "We store each right hand side variable separate for now, in a series and ultimately store those in a dictionary."
   ]
  },
  {
   "cell_type": "code",
   "execution_count": 44,
   "metadata": {},
   "outputs": [],
   "source": [
    "## subset to relevant race group and turn to percent\n",
    "\n",
    "rv_Swhite_NH=remi_race.groupby(level=['runid','Region','Year']).apply(pct).loc[:,:,:,'White-NonHispanic'].unstack('Year')\n",
    "rv_Sblack_NH=remi_race.groupby(level=['runid','Region','Year']).apply(pct).loc[:,:,:,'Black-NonHispanic'].unstack('Year')\n",
    "rv_Sother_NH=remi_race.groupby(level=['runid','Region','Year']).apply(pct).loc[:,:,:,'Other-NonHispanic'].unstack('Year')\n",
    "rv_Shispanic=remi_race.groupby(level=['runid','Region','Year']).apply(pct).loc[:,:,:,'Hispanic'].unstack('Year')\n",
    "\n",
    "## age specific series\n",
    "rv_ag15_24=remi_age.groupby(level=['runid','Region','Year']).apply(pct).loc[:,:,:,'Ages 15-24'].unstack('Year')\n",
    "rv_ag25_64=remi_age.groupby(level=['runid','Region','Year']).apply(pct).loc[:,:,:,'Ages 25-64'].unstack('Year')\n",
    "rv_ag65p=remi_age.groupby(level=['runid','Region','Year']).apply(pct).loc[:,:,:,'Ages 65+'].unstack('Year')"
   ]
  },
  {
   "cell_type": "code",
   "execution_count": 45,
   "metadata": {},
   "outputs": [
    {
     "data": {
      "text/plain": [
       "<matplotlib.axes._subplots.AxesSubplot at 0x11cafb990>"
      ]
     },
     "execution_count": 45,
     "metadata": {},
     "output_type": "execute_result"
    },
    {
     "data": {
      "image/png": "[encoded data removed]",
      "text/plain": [
       "<Figure size 432x288 with 1 Axes>"
      ]
     },
     "metadata": {
      "needs_background": "light"
     },
     "output_type": "display_data"
    }
   ],
   "source": [
    "## check senior trend\n",
    "rv_ag65p.T['R6H2C_basic'].plot()"
   ]
  },
  {
   "cell_type": "markdown",
   "metadata": {},
   "source": [
    "#### Load labor force frames"
   ]
  },
  {
   "cell_type": "code",
   "execution_count": 46,
   "metadata": {},
   "outputs": [],
   "source": [
    "import fnmatch\n",
    "matches = []\n",
    "for root, dirnames, filenames in os.walk(os.path.join(drop,'Data/REMI/labor')):\n",
    "    for filename in fnmatch.filter(filenames, 'lfpr_gender*.xlsx'):\n",
    "        matches.append(os.path.join(root, filename))\n",
    "\n",
    "outlfpr={}\n",
    "for fn in matches:\n",
    "    scen=fn.split('/')[-2]\n",
    "    \n",
    "    ## only load file if in scenarios dict defined above\n",
    "    this_scen=fn.split(os.path.sep)[-2]\n",
    "    if this_scen in scenarios:\n",
    "        tmplfpr=pd.read_excel(fn,sheet_name='All',skiprows=5)\n",
    "        ## append scenario consistent with pathname only (file also has comparison / reference scenario - omit here)\n",
    "        outlfpr[scen]=tmplfpr\n",
    "\n",
    "outlfpr=pd.concat(outlfpr,names=['runid']).reset_index(1,drop=True).reset_index()\n",
    "rv_S_lf_female=outlfpr[outlfpr.Gender=='Female'].set_index(['runid','Region']).filter(regex='\\d{4}')\n",
    "\n",
    "rv_S_lf=outlfpr[outlfpr.Gender=='Total'].set_index(['runid','Region']).filter(regex='\\d{4}')"
   ]
  },
  {
   "cell_type": "markdown",
   "metadata": {},
   "source": [
    "#### Load industry and occupation frames"
   ]
  },
  {
   "cell_type": "code",
   "execution_count": 47,
   "metadata": {},
   "outputs": [],
   "source": [
    "import fnmatch\n",
    "matches = []\n",
    "for root, dirnames, filenames in os.walk(os.path.join(drop,'Data/REMI/employment')):\n",
    "    for filename in fnmatch.filter(filenames, 'hhinc 4 emp occ indus.xlsx'):\n",
    "        matches.append(os.path.join(root, filename))\n",
    "\n",
    "\n",
    "outocc=[]\n",
    "outindus=[]\n",
    "for fn in matches:\n",
    "    this_scen=fn.split('/')[-2]\n",
    "    if this_scen in scenarios:\n",
    "    \n",
    "        tmpocc=pd.read_excel(fn,sheet_name='Occupations',skiprows=4)\n",
    "        tmpind=pd.read_excel(fn,sheet_name='Employment by Industry',skiprows=4)\n",
    "        ## append scenario consistent with pathname only (file also has comparison / reference scenario - omit here)\n",
    "        outocc.append(tmpocc[tmpocc.Forecast==this_scen])\n",
    "        outindus.append(tmpind[tmpind.Forecast==this_scen])\n",
    "\n",
    "outocc=pd.concat(outocc)\n",
    "outindus=pd.concat(outindus)"
   ]
  },
  {
   "cell_type": "code",
   "execution_count": 48,
   "metadata": {},
   "outputs": [],
   "source": [
    "## mapping to SOC\n",
    "occ_det_soc_map={'occ_det_mgmt':'11-0000',  ## mgmt\n",
    "'occ_det_biz':'13-0000',   #  Business and Financial Operations Occupations\n",
    "'occ_det_comp':'15-0000',   # Computer and Mathematical Occupations\n",
    "'occ_det_community':'21-0000',  # Community and Social Service Occupations\n",
    "'occ_det_lgl':'23-0000',  # legal\n",
    "'occ_det_hlthsup':'31-0000',  # Healthcare Support Occupations\n",
    "'occ_det_foodprep':'35-0000',  # Food Preparation and Serving Related Occupations\n",
    "'occ_det_officeadmin':'43-0000'}#,  ## Office and Administrative Support Occupations\n",
    "\n",
    "occ_det_soc_map={'11-0000': 'occ_det_mgmt',\n",
    " '13-0000': 'occ_det_biz',\n",
    " '15-0000': 'occ_det_comp',\n",
    " '21-0000': 'occ_det_community',\n",
    " '23-0000': 'occ_det_lgl',\n",
    " '31-0000': 'occ_det_hlthsup',\n",
    " '35-0000': 'occ_det_foodprep',\n",
    " '43-0000': 'occ_det_officeadmin'}"
   ]
  },
  {
   "cell_type": "code",
   "execution_count": 49,
   "metadata": {},
   "outputs": [],
   "source": [
    "soc = pd.read_excel(os.path.join(drop,'Documents/Data/_BLS/SOC/soc_structure_2010.xls'),skiprows=11,\n",
    "                   names=[u'Major Group', u'Minor Group', u'Broad Group', u'Detailed Occupation', u'Description'])\n",
    "soc['soc_2']=soc['Major Group']#.fillna('').str.split('-').apply(lambda x: x[0])\n",
    "soc['class']=soc.ix[:,:4].apply(classifier,axis=1)\n",
    "soc['hierarchy']=soc['class'].fillna('-1').map(classlevel)\n",
    "soc['Description']=soc.Description.fillna('0').str.lower()\n",
    "\n",
    "soc=soc.append(pd.DataFrame(data={'Description':['counselors and social workers'],'soc_2':['21-0000'],'class':['21-0000']}))\n",
    "\n",
    "soc['soc_2']=soc['soc_2'].fillna(method='ffill')\n",
    "soc=soc[soc['soc_2'].notnull()]"
   ]
  },
  {
   "cell_type": "code",
   "execution_count": 50,
   "metadata": {},
   "outputs": [],
   "source": [
    "# ### in the regressions, we have a few more detailed occupation groups now.\n",
    "\n",
    "# acsocc= pd.read_excel('/Users/aolsen/Dropbox/Documents/Data/_Census/lookups/2018-occupation-code-list-and-crosswalk.xlsx','2018 Census Occ Code List',skiprows=4)\n",
    "# acsocc['soc_maj']=acsocc['Unnamed: 0']\n",
    "# acsocc['soc_maj']=acsocc['soc_maj'].fillna(method='ffill')"
   ]
  },
  {
   "cell_type": "code",
   "execution_count": 54,
   "metadata": {},
   "outputs": [],
   "source": [
    "## Load occupation employment by scenario, sub-region\n",
    "## Note: invariably fails to run the first time, with `remove_unused_levels` error. Second time always works.\n",
    "\n",
    "outocc.loc[~outocc.Occupations.str.match(r'\\s+'),'major_group']=outocc.loc[~outocc.Occupations.str.match(r'\\s+')].Occupations\n",
    "outocc.loc[outocc.Occupations.str.match(r'\\s+'),'detail']=outocc.loc[outocc.Occupations.str.match(r'\\s+')].Occupations.str.strip()\n",
    "outocc['soc_2']=outocc.Occupations.str.lower().str.strip().map(soc.groupby('Description')['soc_2'].first())\n",
    "\n",
    "outocc['occup_grp']=outocc.major_group.map(occ_to_census)\n",
    "outocc['occup_grp_det']=outocc.soc_2.map(occ_det_soc_map)\n",
    "outocc['occup_grp_det']=outocc['occup_grp_det'].fillna('Other Occupations')\n",
    "\n",
    "outocc.major_group=outocc.major_group.fillna(method='ffill')\n",
    "outocc=outocc[outocc.detail.notnull()]\n"
   ]
  },
  {
   "cell_type": "code",
   "execution_count": 55,
   "metadata": {},
   "outputs": [],
   "source": [
    "empoccup_pct=outocc.groupby(['Forecast','Region','occup_grp']).sum().stack().groupby(level=[0,1,3]).apply(pct).unstack(3)"
   ]
  },
  {
   "cell_type": "code",
   "execution_count": 56,
   "metadata": {},
   "outputs": [],
   "source": [
    "empoccup_det_pct=outocc.groupby(['Forecast','Region','occup_grp_det']).sum().stack().groupby(level=[0,1,3]).apply(pct).unstack(3)"
   ]
  },
  {
   "cell_type": "code",
   "execution_count": 57,
   "metadata": {},
   "outputs": [],
   "source": [
    "#empoccup_det_pct.T['R6H2C_basic'].plot()"
   ]
  },
  {
   "cell_type": "code",
   "execution_count": 58,
   "metadata": {},
   "outputs": [],
   "source": [
    "## Load industry employment by scenario, sub-region\n",
    "\n",
    "outindus['naics']=outindus.Industries.str.extract(\"\\(([0-9_\\-,]+)\\)\")\n",
    "outindus['industry_name']=outindus.Industries.str.split('(').apply(lambda x: x[0]).str.strip().str.title()\n",
    "## keep only records with 2-digit detail\n",
    "outindus=outindus.loc[outindus.naics.fillna('').str.contains('^\\d{2}$|^\\d{2}-\\d{2}$')]\n",
    "outindus['indus_grp']=outindus.industry_name.map(dict(zip(map(lambda x: x.title(),indus_to_census.keys()), indus_to_census.values())))\n",
    "\n",
    "empindus_pct=outindus.groupby(['Forecast','Region','indus_grp']).sum().stack().groupby(level=[0,1,3]).apply(pct).unstack(3)"
   ]
  },
  {
   "cell_type": "markdown",
   "metadata": {},
   "source": [
    "### Extract industry and occupation series"
   ]
  },
  {
   "cell_type": "code",
   "execution_count": 59,
   "metadata": {},
   "outputs": [
    {
     "data": {
      "text/plain": [
       "<matplotlib.axes._subplots.AxesSubplot at 0x11cd8dcd0>"
      ]
     },
     "execution_count": 59,
     "metadata": {},
     "output_type": "execute_result"
    },
    {
     "data": {
      "image/png": "[encoded data removed]",
      "text/plain": [
       "<Figure size 432x288 with 1 Axes>"
      ]
     },
     "metadata": {
      "needs_background": "light"
     },
     "output_type": "display_data"
    }
   ],
   "source": [
    "rv_S_ind_educ=empindus_pct.loc(0)[:,:,'ind_educ'].reset_index(2,drop=True)\n",
    "\n",
    "rv_S_ind_retail = empindus_pct.loc(0)[:,:,'ind_retail'].reset_index(2,drop=True)\n",
    "#rv_S_ind_public = empindus_pct.loc(0)[:,:,'ind_public']\n",
    "rv_S_ind_accom_food_svcs = empindus_pct.loc(0)[:,:,'ind_accom_food_svcs'].reset_index(2,drop=True)\n",
    "rv_S_ind_health = empindus_pct.loc(0)[:,:,'ind_health'].reset_index(2,drop=True)\n",
    "rv_S_ind_prof = empindus_pct.loc(0)[:,:,'ind_prof'].reset_index(2,drop=True)\n",
    "\n",
    "rv_S_occ_mgmt = empoccup_pct.loc(0)[:,:,'occ_mgmt'].reset_index(2,drop=True)\n",
    "rv_S_occ_nat = empoccup_pct.loc(0)[:,:,'occ_nat'].reset_index(2,drop=True)\n",
    "rv_S_occ_svcs = empoccup_pct.loc(0)[:,:,'occ_svcs'].reset_index(2,drop=True)\n",
    "rv_S_occ_prod = empoccup_pct.loc(0)[:,:,'occ_prod'].reset_index(2,drop=True)\n",
    "rv_S_occ_sls = empoccup_pct.loc(0)[:,:,'occ_sls'].reset_index(2,drop=True)\n",
    "\n",
    "## check sales\n",
    "rv_S_occ_sls.T['R6H2C_basic'].plot()"
   ]
  },
  {
   "cell_type": "code",
   "execution_count": 60,
   "metadata": {},
   "outputs": [],
   "source": [
    "rv_S_occ_det_mgmt = empoccup_det_pct.loc(0)[:,:,'occ_det_mgmt'].reset_index(2,drop=True)\n",
    "rv_S_occ_det_biz = empoccup_det_pct.loc(0)[:,:,'occ_det_biz'].reset_index(2,drop=True)\n",
    "rv_S_occ_det_comp = empoccup_det_pct.loc(0)[:,:,'occ_det_comp'].reset_index(2,drop=True)\n",
    "rv_S_occ_det_community = empoccup_det_pct.loc(0)[:,:,'occ_det_community'].reset_index(2,drop=True)\n",
    "rv_S_occ_det_lgl = empoccup_det_pct.loc(0)[:,:,'occ_det_lgl'].reset_index(2,drop=True)\n",
    "rv_S_occ_det_hlthsup = empoccup_det_pct.loc(0)[:,:,'occ_det_hlthsup'].reset_index(2,drop=True)\n",
    "rv_S_occ_det_foodprep = empoccup_det_pct.loc(0)[:,:,'occ_det_foodprep'].reset_index(2,drop=True)\n",
    "rv_S_occ_det_officeadmin = empoccup_det_pct.loc(0)[:,:,'occ_det_officeadmin'].reset_index(2,drop=True)"
   ]
  },
  {
   "cell_type": "code",
   "execution_count": 61,
   "metadata": {},
   "outputs": [
    {
     "data": {
      "text/plain": [
       "<matplotlib.axes._subplots.AxesSubplot at 0x11c906c50>"
      ]
     },
     "execution_count": 61,
     "metadata": {},
     "output_type": "execute_result"
    },
    {
     "data": {
      "image/png": "[encoded data removed]",
      "text/plain": [
       "<Figure size 432x288 with 1 Axes>"
      ]
     },
     "metadata": {
      "needs_background": "light"
     },
     "output_type": "display_data"
    }
   ],
   "source": [
    "## check computer occupations\n",
    "rv_S_occ_det_comp.T['R6H2C_basic'].plot()"
   ]
  },
  {
   "cell_type": "code",
   "execution_count": 62,
   "metadata": {},
   "outputs": [
    {
     "name": "stdout",
     "output_type": "stream",
     "text": [
      "R5H0C\n",
      "RC5\n",
      "R6H2C_plus\n",
      "RC6\n",
      "R6H2C_fix\n",
      "R5H2C\n",
      "R6H2C_basic\n",
      "R5H1C\n"
     ]
    }
   ],
   "source": [
    "## Load misc income output\n",
    "\n",
    "matches = []\n",
    "for root, dirnames, filenames in os.walk(os.path.join(drop,'Data/REMI/income')):\n",
    "    for filename in fnmatch.filter(filenames, 'misc income.xlsx'):\n",
    "        matches.append(os.path.join(root, filename))\n",
    "\n",
    "\n",
    "outincome=[]\n",
    "\n",
    "for fn in matches:\n",
    "    \n",
    "    this_scen=fn.split('/')[-2]\n",
    "    if this_scen in scenarios:\n",
    "        print this_scen\n",
    "        tmp=pd.read_excel(fn,skiprows=5)\n",
    "        ## append scenario consistent with pathname only (file also has comparison / reference scenario - omit here)\n",
    "        outincome.append(tmp[tmp.Forecast==this_scen])\n",
    "\n",
    "outincome=pd.concat(outincome).set_index(['Forecast','Region','Category','Units']).filter(regex='\\d{4}')\n",
    "\n",
    "## turn into true values\n",
    "outincome.loc(0)[:,:,:,'Thousands']*=1000\n",
    "outincome.loc(0)[:,:,:,'Billions of Fixed (2009) Dollars']*=1e9"
   ]
  },
  {
   "cell_type": "markdown",
   "metadata": {},
   "source": [
    "#### Extract wage, income series"
   ]
  },
  {
   "cell_type": "code",
   "execution_count": 63,
   "metadata": {},
   "outputs": [],
   "source": [
    "rh_agg_wage_income=outincome.loc(0)[:,:,'Wages and Salaries'].reset_index(level=['Category','Units'],drop=True)"
   ]
  },
  {
   "cell_type": "code",
   "execution_count": 64,
   "metadata": {},
   "outputs": [],
   "source": [
    "rv_cnty_to_us=outincome.loc(0)[:,:,'Relative Housing Price'].reset_index(level=['Category','Units'],drop=True)"
   ]
  },
  {
   "cell_type": "code",
   "execution_count": 65,
   "metadata": {},
   "outputs": [],
   "source": [
    "real_pers_inc=outincome.loc(0)[:,:,'Personal Income'].reset_index(level=['Category','Units'],drop=True)"
   ]
  },
  {
   "cell_type": "code",
   "execution_count": 66,
   "metadata": {},
   "outputs": [],
   "source": [
    "real_pers_inc_per_cap=outincome.loc(0)[:,:,'Personal Income'].reset_index(level=['Category','Units'],drop=True)/\\\n",
    "outincome.loc(0)[:,:,'Total Population'].reset_index(level=['Category','Units'],drop=True)"
   ]
  },
  {
   "cell_type": "markdown",
   "metadata": {},
   "source": [
    "#### There are a few non-remi variables in use - like restrictiveness of development, size of region\n",
    "Prep those, too."
   ]
  },
  {
   "cell_type": "code",
   "execution_count": 67,
   "metadata": {},
   "outputs": [],
   "source": [
    "## create wharton index for *each* year\n",
    "years = range(2001,2051) if hist else range(2015,2051)\n",
    "\n",
    "rv_wharton={}\n",
    "for yr in years:\n",
    "    rv_wharton[yr]=combo_remireg.set_index('Region').weighted\n",
    "rv_wharton_geo=pd.concat(rv_wharton,names=['year']).unstack(0)"
   ]
  },
  {
   "cell_type": "code",
   "execution_count": 68,
   "metadata": {},
   "outputs": [
    {
     "data": {
      "text/plain": [
       "<matplotlib.axes._subplots.AxesSubplot at 0x11e058750>"
      ]
     },
     "execution_count": 68,
     "metadata": {},
     "output_type": "execute_result"
    },
    {
     "data": {
      "image/png": "[encoded data removed]",
      "text/plain": [
       "<Figure size 432x288 with 1 Axes>"
      ]
     },
     "metadata": {
      "needs_background": "light"
     },
     "output_type": "display_data"
    }
   ],
   "source": [
    "## adjust future expectations for tightness. South Bay is surprisingly low out of the box.\n",
    "regionrates={'West Bay':.995,'South Bay':1,'East Bay':1,'North Bay':1.005}\n",
    "\n",
    "rv_wharton_geo_adj = adjust_wharton_variable(rv_wharton_geo,regionrates)\n",
    "rv_wharton_geo_adj.T.plot()"
   ]
  },
  {
   "cell_type": "code",
   "execution_count": 69,
   "metadata": {},
   "outputs": [],
   "source": [
    "\n",
    "## create dummy frames denoting whether subregion is x or not, one for each subregion\n",
    "\n",
    "length = years.__len__()\n",
    "regions=['West Bay', 'East Bay', 'North Bay', 'South Bay', 'Rest of California']\n",
    "\n",
    "mock_geodummies=pd.DataFrame(np.zeros([len(regions),len(years)],dtype='int'),index=regions,columns=years)\n",
    "mock_geodummies.index.name='Region'\n",
    "\n",
    "rv_is_north_bay=mock_geodummies.copy()\n",
    "rv_is_north_bay.loc['North Bay']=1\n",
    "\n",
    "rv_is_south_bay=mock_geodummies.copy()\n",
    "rv_is_south_bay.loc['South Bay']=1\n",
    "\n",
    "rv_is_east_bay=mock_geodummies.copy()\n",
    "rv_is_east_bay.loc['East Bay']=1\n",
    "\n",
    "rv_is_west_bay=mock_geodummies.copy()\n",
    "rv_is_west_bay.loc['West Bay']=1\n",
    "\n",
    "rv_is_rest_ca=mock_geodummies.copy()\n",
    "rv_is_rest_ca.loc['Rest of California']=1\n",
    "\n",
    "rv_msasize=rv_is_bay_area=mock_geodummies.copy().replace(0,1)\n",
    "#        rv_msasize.loc['North Bay']=0\n",
    "\n",
    "yearly=pd.DataFrame([years, years, years, years, years], columns=years,\n",
    "             index=['West Bay', 'East Bay', 'North Bay', 'South Bay','Rest of California'])\n",
    "yearly.index.name='Region'\n",
    "\n",
    "rv_is_division_9=pd.DataFrame(\n",
    "    [np.repeat(1,length), np.repeat(1,length), np.repeat(1,length), np.repeat(1,length), np.repeat(1,length)],\n",
    "             columns=years,\n",
    "             index=['West Bay', 'East Bay', 'North Bay', 'South Bay', 'Rest of California'])\n",
    "rv_is_division_9.index.name='Region'\n",
    "\n",
    "rv_is_not_division_9=pd.DataFrame(\n",
    "    [np.repeat(0,length), np.repeat(0,length), np.repeat(0,length), np.repeat(0,length), np.repeat(0,length)],\n",
    "             columns=years,\n",
    "             index=['West Bay', 'East Bay', 'North Bay', 'South Bay', 'Rest of California'])\n",
    "rv_is_not_division_9.index.name='Region'\n",
    "\n",
    "yrseries = pd.Series(years)\n",
    "\n",
    "\n",
    "## other misc variables\n",
    "\n",
    "rv_density = county_area.loc[bayarearegions.keys()].rename(columns={'geoid.1':'geoid'})#.map(bayarearegions).reset_index(drop=True)\n",
    "rv_density['Region']=rv_density.geoid.map(bayarearegions)\n",
    "rv_density['population']=dataformodels['population'].xs('ACS2013')\n",
    "rv_density=rv_density.groupby(['Region']).apply(lambda x: x['population'].sum()/x['aland'].sum())\n",
    "rv_density=pd.concat([pd.DataFrame(data={'density':rv_density.repeat(years.__len__()),'variable':pd.concat([yrseries,yrseries,yrseries,yrseries]).values}).set_index('variable',append=True).unstack(1).density,pd.DataFrame(rv_is_not_division_9.loc['Rest of California',:]).T])\n",
    "rv_density.index.name='Region'"
   ]
  },
  {
   "cell_type": "code",
   "execution_count": 70,
   "metadata": {},
   "outputs": [],
   "source": [
    "## Use a dict to keep track of which regression source data is in memory\n",
    "## Should be refactored to include runyears, input paths, whether to use PUMA income shares, etc\n",
    "\n",
    "runstate={}"
   ]
  },
  {
   "cell_type": "code",
   "execution_count": 71,
   "metadata": {},
   "outputs": [
    {
     "data": {
      "text/plain": [
       "'/Users/aolsen/Box/EDF Shared work/futures/future round2/models v2'"
      ]
     },
     "execution_count": 71,
     "metadata": {},
     "output_type": "execute_result"
    }
   ],
   "source": [
    "## set constant for whether to use income shares from PUMS data\n",
    "\n",
    "use_pums_shares=True\n",
    "\n",
    "hist = True\n",
    "\n",
    "forecastyears=range(2015,2051)\n",
    "input_path=os.path.join(box,'EDF Shared work/control_totals/remi')\n",
    "input_path=os.path.join(box,'EDF Shared work/futures/future round2/models v2')\n",
    "input_path"
   ]
  },
  {
   "cell_type": "markdown",
   "metadata": {},
   "source": [
    "### Estimate parameters for the four submodels"
   ]
  },
  {
   "cell_type": "code",
   "execution_count": 72,
   "metadata": {},
   "outputs": [],
   "source": [
    "# xlsmodel = pd.ExcelWriter(os.path.join(drop,'Data/incomeregressions_scenario_{}_{:%Y%m%d_%H%M%S}.xlsx'.format('__'.join(scenarios),datetime.datetime.now())))\n",
    "\n",
    "# cat1_rhs_reg = ['ind_retail','ind_prof', 'ind_accom_food_svcs','occ_nat','Sother_NH','ag_65p','Swhite_NH','years']\n",
    "# cat1_rhs_pums = ['np.log(inc_public_asst_adj2009)','np.log(inc_retirement_adj2009)','cnty_to_us','WRLURI','msasize==\\'Above 1 million\\'',  'occ_nat','ag_65p','Swhite_NH']#,'np.log(per_capita_inc_adj2009)']\n",
    "# cat1_rhs_pums = ['cnty_to_us',  'occ_nat','Swhite_NH','np.log(inc_public_asst_adj2009):ag_65p']\n",
    "\n",
    "# cat1_rhs_pums = ['np.log(inc_public_asst_adj2009)','np.log(inc_retirement_adj2009)',\n",
    "#                  'cnty_to_us','WRLURI','msasize==\\'Above 1 million\\'',  \n",
    "#                  'occ_nat','ag_65p','Swhite_NH']#,'np.log(per_capita_inc_adj2009)']\n",
    "# cat1_params=run_model(cat1_rhs_pums if use_pums_shares else cat1_rhs_reg,inc_cat=1)\n",
    "\n",
    "# cat2_rhs_reg = [ 'is_bay_area2','ind_educ','ind_retail','ind_accom_food_svcs','ind_health', 'ag_65p','Swhite_NH','years','np.log(per_capita_inc_adj2009)*ag_65p','years']\n",
    "# cat2_rhs_pums = ['cnty_to_us','ind_health','ind_educ','Shispanic','ag_65p',]\n",
    "\n",
    "# ## Specification, late Dec 2015\n",
    "# cat2_rhs_pums = ['is_bay_area2','SLF','cnty_to_us','WRLURI','division==\\'09\\'','ind_health','ind_educ','Shispanic','ag_25_64','ag_65p']\n",
    "\n",
    "# ## Specification 1, early Jan 2016\n",
    "# cat2_rhs_pums = ['SLF','cnty_to_us','WRLURI','division==\\'09\\'','ind_health','ind_educ','Shispanic','ag_25_64','np.log(inc_public_asst_adj2009):ag_65p']\n",
    "# cat2_params=run_model(cat2_rhs_pums if use_pums_shares else cat2_rhs_reg,inc_cat=2)\n",
    "\n",
    "# cat3_rhs_reg = [ 'occ_svcs','occ_nat', 'Sother_NH', 'np.log(per_capita_inc_adj2009)','SLF','Swhite_NH','Shispanic','years']\n",
    "# cat3_rhs_pums = ['ind_prof','is_bay_area2','SLF','Sblack_NH','ind_health','WRLURI']#,  ,,'np.log(per_capita_inc_adj2009)']\n",
    "# cat3_rhs_pums = ['np.log(per_capita_inc_adj2009)','ind_prof','SLF','Sblack_NH','ind_health',\n",
    "#                  'WRLURI','msasize==\\'Above 1 million\\'','ag_65p']#,  ,,'np.log(per_capita_inc_adj2009)']\n",
    "# cat3_params=run_model(cat3_rhs_pums if use_pums_shares else cat3_rhs_reg,inc_cat=3)\n",
    "\n",
    "# cat4_rhs_reg = ['msasize==\\'Above 1 million\\'', 'occ_svcs', 'occ_mgmt', 'Sother_NH', 'np.log(per_capita_inc_adj2009)','years','ag_15_24','ag_25_64','ag_65p','Sblack_NH','np.log(population)']\n",
    "# cat4_rhs_pums = ['cnty_to_us','ind_public','is_bay_area2','w_sex', 'occ_mgmt','ind_prof']\n",
    "# cat4_rhs_pums = ['cnty_to_us','ind_prof','Sblack_NH','ind_public','msasize==\\'Above 1 million\\'','ind_educ','w_sex', 'occ_mgmt*ind_prof']\n",
    "\n",
    "# ## Specification, late Dec 2015\n",
    "# cat4_rhs_pums = ['cnty_to_us','ind_prof','Sblack_NH','ind_public','msasize==\\'Above 1 million\\'','ind_educ','w_sex', 'occ_mgmt*ind_prof']\n",
    "\n",
    "# ## Specification 1, early Jan 2016\n",
    "# cat4_rhs_pums = ['cnty_to_us','msasize==\\'Above 1 million\\'','ind_educ','w_sex', 'occ_mgmt','occ_svcs','np.log(per_capita_inc_adj2009)']\n",
    "\n",
    "# ## Specification 2, early Jan 2016\n",
    "# cat4_rhs_pums = ['cnty_to_us','msasize==\\'Above 1 million\\'', 'occ_mgmt','occ_svcs','np.log(per_capita_inc_adj2009)','ag_65p']\n",
    "# #cat4_rhs_pums = ['cnty_to_us','msasize==\\'Above 1 million\\'', 'occ_mgmt','occ_svcs','ag_65p',]\n",
    "# #cat4_rhs_reg = ['msasize==\\'Above 1 million\\'', 'occ_svcs', 'occ_mgmt', 'Sother_NH', 'years','ag_15_24','ag_25_64','ag_65p','Sblack_NH','np.log(population)']\n",
    "\n",
    "# ## Specification 3, early Jan 2016\n",
    "# #cat4_rhs_pums = ['cnty_to_us']#'np.log(per_capita_inc_adj2009)']\n",
    "# cat4_params=run_model(cat4_rhs_pums if use_pums_shares else cat4_rhs_reg,inc_cat=4)\n",
    "# xlsmodel.close()"
   ]
  },
  {
   "cell_type": "code",
   "execution_count": null,
   "metadata": {},
   "outputs": [],
   "source": [
    "## UPDATED specs Jan 2020 - retirement income no longer availalbe in REMI\n",
    "## UPDATED data universe FEB 2020 - removal of smaller counties which may skew regressions\n",
    "\n",
    "runstate['datauniv']='ALL'\n",
    "xlsmodel = pd.ExcelWriter(os.path.join(drop,'Data/incomeregressions_scenario_{}_{:%Y%m%d_%H%M%S}.xlsx'.format('__'.join(scenarios),datetime.datetime.now())))\n",
    "\n",
    "cat1_rhs_reg = ['ind_retail','ind_prof', 'ind_accom_food_svcs','occ_nat','Sother_NH','ag_65p','Swhite_NH','years']\n",
    "cat1_rhs_pums = ['np.log(inc_wage_adj2009)','cnty_to_us','WRLURI','msasize==\\'Above 1 million\\'',  'occ_nat','ag_65p','Swhite_NH']#,'np.log(per_capita_inc_adj2009)']\n",
    "cat1_rhs_pums = ['cnty_to_us',  'occ_nat','Swhite_NH','np.log(inc_public_asst_adj2009):ag_65p']\n",
    "\n",
    "cat1_rhs_pums = ['np.log(inc_wage_adj2009)',\n",
    "                 'cnty_to_us','WRLURI','msasize==\\'Above 1 million\\'',  \n",
    "                 'occ_nat','ag_65p','Swhite_NH']#,'np.log(per_capita_inc_adj2009)']\n",
    "cat1_params=run_model(dataformodels,cat1_rhs_pums if use_pums_shares else cat1_rhs_reg,inc_cat=1)\n",
    "\n",
    "cat2_rhs_reg = [ 'is_bay_area2','ind_educ','ind_retail','ind_accom_food_svcs','ind_health', 'ag_65p','Swhite_NH','years','np.log(per_capita_inc_adj2009)*ag_65p','years']\n",
    "cat2_rhs_pums = ['cnty_to_us','ind_health','ind_educ','Shispanic','ag_65p',]\n",
    "\n",
    "## Specification, late Dec 2015\n",
    "cat2_rhs_pums = ['is_bay_area2','SLF','cnty_to_us','WRLURI','division==\\'09\\'','ind_health','ind_educ','Shispanic','ag_25_64','ag_65p']\n",
    "\n",
    "## Specification 1, early Jan 2016\n",
    "cat2_rhs_pums = ['SLF','cnty_to_us','WRLURI','division==\\'09\\'','ind_health',\n",
    "                 'ind_educ','Shispanic','ag_25_64']#,'np.log(inc_wage_adj2009):ag_65p']\n",
    "\n",
    "\n",
    "cat2_params=run_model(dataformodels,cat2_rhs_pums if use_pums_shares else cat2_rhs_reg,inc_cat=2)\n",
    "\n",
    "cat3_rhs_reg = [ 'occ_svcs','occ_nat', 'Sother_NH', 'np.log(per_capita_inc_adj2009)','SLF','Swhite_NH','Shispanic','years']\n",
    "cat3_rhs_pums = ['ind_prof','is_bay_area2','SLF','Sblack_NH','ind_health','WRLURI']#,  ,,'np.log(per_capita_inc_adj2009)']\n",
    "cat3_rhs_pums = ['np.log(per_capita_inc_adj2009)','ind_prof','SLF','Sblack_NH','ind_health','cnty_to_us',\n",
    "                 'WRLURI','msasize==\\'Above 1 million\\'','ag_65p']#,  ,,'np.log(per_capita_inc_adj2009)']\n",
    "cat3_params=run_model(dataformodels,cat3_rhs_pums if use_pums_shares else cat3_rhs_reg,inc_cat=3)\n",
    "\n",
    "cat4_rhs_reg = ['msasize==\\'Above 1 million\\'', 'occ_svcs', 'occ_mgmt', 'Sother_NH', 'np.log(per_capita_inc_adj2009)','years','ag_15_24','ag_25_64','ag_65p','Sblack_NH','np.log(population)']\n",
    "cat4_rhs_pums = ['cnty_to_us','ind_public','is_bay_area2','w_sex', 'occ_mgmt','occ_nat']\n",
    "cat4_rhs_pums = ['cnty_to_us','ind_prof','Sblack_NH','ind_public','msasize==\\'Above 1 million\\'','ind_educ','w_sex', 'occ_mgmt*ind_prof']\n",
    "\n",
    "## Specification, late Dec 2015\n",
    "cat4_rhs_pums = ['cnty_to_us','ind_prof','Sblack_NH','ind_public','msasize==\\'Above 1 million\\'','ind_educ','w_sex', 'occ_mgmt*ind_prof']\n",
    "\n",
    "## Specification 1, early Jan 2016\n",
    "cat4_rhs_pums = ['cnty_to_us','msasize==\\'Above 1 million\\'','ind_educ','w_sex', 'occ_mgmt','occ_svcs','np.log(per_capita_inc_adj2009)']\n",
    "\n",
    "## Specification 2, early Jan 2016\n",
    "cat4_rhs_pums = ['cnty_to_us','msasize==\\'Above 1 million\\'', 'occ_mgmt','occ_svcs','np.log(per_capita_inc_adj2009)','ag_65p']\n",
    "#cat4_rhs_pums = ['cnty_to_us','msasize==\\'Above 1 million\\'', 'occ_mgmt','occ_svcs','np.log(inc_wage_adj2009)','ag_65p']\n",
    "#cat4_rhs_pums = ['cnty_to_us','msasize==\\'Above 1 million\\'', 'occ_mgmt','occ_svcs','ag_65p',]\n",
    "#cat4_rhs_reg = ['msasize==\\'Above 1 million\\'', 'occ_svcs', 'occ_mgmt', 'Sother_NH', 'years','ag_15_24','ag_25_64','ag_65p','Sblack_NH','np.log(population)']\n",
    "\n",
    "## Specification 3, early Jan 2016\n",
    "#cat4_rhs_pums = ['cnty_to_us']#'np.log(per_capita_inc_adj2009)']\n",
    "cat4_params=run_model(dataformodels,cat4_rhs_pums if use_pums_shares else cat4_rhs_reg,inc_cat=4)\n",
    "xlsmodel.close()"
   ]
  },
  {
   "cell_type": "code",
   "execution_count": null,
   "metadata": {},
   "outputs": [],
   "source": [
    "## UPDATED data universe FEB 2020 - removal of smaller counties which may skew regressions\n",
    "runstate['datauniv']='TOP_MSAS'\n",
    "\n",
    "xlsmodel = pd.ExcelWriter(os.path.join(drop,'Data/incomeregressions_scenario_{}_{:%Y%m%d_%H%M%S}.xlsx'.format('__'.join(scenarios),datetime.datetime.now())))\n",
    "\n",
    "cat1_rhs_pums = ['np.log(inc_wage_adj2009)',\n",
    "                 'cnty_to_us','WRLURI','msasize==\\'Above 1 million\\'',  \n",
    "                 'occ_nat','ag_65p','Swhite_NH']#,'np.log(per_capita_inc_adj2009)']\n",
    "cat1_params=run_model(dataformodels_top50msas,cat1_rhs_pums if use_pums_shares else cat1_rhs_reg,inc_cat=1)\n",
    "\n",
    "## Specification 1, early Jan 2016\n",
    "cat2_rhs_pums = ['SLF','cnty_to_us','WRLURI','division==\\'09\\'','ind_health',\n",
    "                 'ind_educ','Shispanic','ag_25_64']#,'np.log(inc_wage_adj2009):ag_65p']\n",
    "\n",
    "cat2_params=run_model(dataformodels_top50msas,cat2_rhs_pums if use_pums_shares else cat2_rhs_reg,inc_cat=2)\n",
    "\n",
    "cat3_rhs_pums = ['np.log(per_capita_inc_adj2009)','ind_prof','SLF','Sblack_NH','ind_health','cnty_to_us',\n",
    "                 'WRLURI','msasize==\\'Above 1 million\\'','ag_65p']#,  ,,'np.log(per_capita_inc_adj2009)']\n",
    "cat3_params=run_model(dataformodels_top50msas,cat3_rhs_pums if use_pums_shares else cat3_rhs_reg,inc_cat=3)\n",
    "\n",
    "## Specification 2, early Jan 2016\n",
    "cat4_rhs_pums = ['cnty_to_us','msasize==\\'Above 1 million\\'', 'occ_mgmt','occ_svcs','np.log(per_capita_inc_adj2009)','ag_65p']\n",
    "cat4_params=run_model(dataformodels_top50msas,cat4_rhs_pums if use_pums_shares else cat4_rhs_reg,inc_cat=4)\n",
    "xlsmodel.close()"
   ]
  },
  {
   "cell_type": "code",
   "execution_count": null,
   "metadata": {},
   "outputs": [],
   "source": [
    "## TEST FOR PAUL F\n",
    "\n",
    "## UPDATED data universe FEB 2020 - removal of smaller counties which may skew regressions\n",
    "runstate['datauniv']='TOP_MSAS'\n",
    "\n",
    "xlsmodel = pd.ExcelWriter(os.path.join(drop,'Data/incomeregressions_scenario_{}_{:%Y%m%d_%H%M%S}.xlsx'.format('__'.join(scenarios),datetime.datetime.now())))\n",
    "\n",
    "cat1_rhs_pums = ['np.log(inc_wage_adj2009)',\n",
    "                 'np.log(per_capita_inc_adj2009)','WRLURI','msasize==\\'Above 1 million\\'',  \n",
    "                 'occ_nat','ag_65p','Swhite_NH']#,'np.log(per_capita_inc_adj2009)']\n",
    "cat1_params=run_model(dataformodels_top50msas,cat1_rhs_pums if use_pums_shares else cat1_rhs_reg,inc_cat=1)\n",
    "\n",
    "## Specification 1, early Jan 2016\n",
    "cat2_rhs_pums = ['SLF','WRLURI','division==\\'09\\'',\n",
    "                 'ind_health','np.log(per_capita_inc_adj2009)',\n",
    "                 'ind_educ','Shispanic','ag_25_64']#,'np.log(inc_wage_adj2009):ag_65p']\n",
    "\n",
    "cat2_params=run_model(dataformodels_top50msas,cat2_rhs_pums if use_pums_shares else cat2_rhs_reg,inc_cat=2)\n",
    "\n",
    "cat3_rhs_pums = ['np.log(per_capita_inc_adj2009)','ind_prof','SLF','Sblack_NH',\n",
    "                 'ind_health','np.log(per_capita_inc_adj2009)',\n",
    "                 'WRLURI','msasize==\\'Above 1 million\\'','ag_65p']#,  ,,'np.log(per_capita_inc_adj2009)']\n",
    "cat3_params=run_model(dataformodels_top50msas,cat3_rhs_pums if use_pums_shares else cat3_rhs_reg,inc_cat=3)\n",
    "\n",
    "## Specification 2, early Jan 2016\n",
    "cat4_rhs_pums = ['msasize==\\'Above 1 million\\'', \n",
    "                 'occ_mgmt','occ_svcs','np.log(per_capita_inc_adj2009)','ag_65p']\n",
    "cat4_params=run_model(dataformodels_top50msas,cat4_rhs_pums if use_pums_shares else cat4_rhs_reg,inc_cat=4)\n",
    "xlsmodel.close()"
   ]
  },
  {
   "cell_type": "code",
   "execution_count": null,
   "metadata": {},
   "outputs": [],
   "source": [
    "## UPDATED data universe FEB 2020 - removal of smaller counties which may skew regressions\n",
    "runstate['datauniv']='TOP_MSAS_ACS2013'\n",
    "\n",
    "xlsmodel = pd.ExcelWriter(os.path.join(drop,'Data/incomeregressions_scenario_{}_{:%Y%m%d_%H%M%S}.xlsx'.format('__'.join(scenarios),datetime.datetime.now())))\n",
    "\n",
    "cat1_rhs_pums = ['np.log(inc_wage_adj2009)',\n",
    "                 'cnty_to_us','WRLURI','msasize==\\'Above 1 million\\'',  \n",
    "                 'occ_nat','ag_65p','Swhite_NH']#,'np.log(per_capita_inc_adj2009)']\n",
    "cat1_params=run_model(dataformodels_top50msas.loc['ACS2013'],cat1_rhs_pums if use_pums_shares else cat1_rhs_reg,inc_cat=1)\n",
    "\n",
    "## Specification 1, early Jan 2016\n",
    "cat2_rhs_pums = ['SLF','cnty_to_us','WRLURI','division==\\'09\\'','ind_health',\n",
    "                 'ind_educ','Shispanic','ag_25_64']#,'np.log(inc_wage_adj2009):ag_65p']\n",
    "\n",
    "cat2_params=run_model(dataformodels_top50msas.loc['ACS2013'],cat2_rhs_pums if use_pums_shares else cat2_rhs_reg,inc_cat=2)\n",
    "\n",
    "cat3_rhs_pums = ['np.log(per_capita_inc_adj2009)','ind_prof','SLF','Sblack_NH','ind_health','cnty_to_us',\n",
    "                 'WRLURI','msasize==\\'Above 1 million\\'','ag_65p']#,  ,,'np.log(per_capita_inc_adj2009)']\n",
    "cat3_params=run_model(dataformodels_top50msas.loc['ACS2013'],cat3_rhs_pums if use_pums_shares else cat3_rhs_reg,inc_cat=3)\n",
    "\n",
    "## Specification 2, early Jan 2016\n",
    "cat4_rhs_pums = ['cnty_to_us','msasize==\\'Above 1 million\\'', 'occ_mgmt','occ_svcs','np.log(per_capita_inc_adj2009)','ag_65p']\n",
    "cat4_params=run_model(dataformodels_top50msas.loc['ACS2013'],cat4_rhs_pums if use_pums_shares else cat4_rhs_reg,inc_cat=4)\n",
    "xlsmodel.close()"
   ]
  },
  {
   "cell_type": "code",
   "execution_count": null,
   "metadata": {},
   "outputs": [],
   "source": [
    "## UPDATED OCCUPATIONS and data universe MARCH 2020 - removal of smaller counties which may skew regressions\n",
    "runstate['datauniv']='TOP_MSAS_ACS2013'\n",
    "\n",
    "xlsmodel = pd.ExcelWriter(os.path.join(drop,'Data/incomeregressions_scenario_{}_{:%Y%m%d_%H%M%S}.xlsx'.format('__'.join(scenarios),datetime.datetime.now())))\n",
    "\n",
    "cat1_rhs_pums = [#'np.log(inc_wage_adj2009)',\n",
    "                 'cnty_to_us','WRLURI','msasize==\\'Above 1 million\\'',  \n",
    "                             'occ_det_officeadmin',\n",
    "                 'occ_det_mgmt',#'occ_det_community',\n",
    "                 'ag_65p','Swhite_NH']#,'np.log(per_capita_inc_adj2009)']\n",
    "cat1_params=run_model(dataformodels_top50msas.loc['ACS2013'],cat1_rhs_pums if use_pums_shares else cat1_rhs_reg,inc_cat=1)\n",
    "\n",
    "## Specification 1, early Jan 2016\n",
    "cat2_rhs_pums = ['SLF','cnty_to_us','WRLURI','division==\\'09\\'',\n",
    "                 'occ_det_officeadmin'\n",
    "                 ,'occ_det_mgmt','occ_det_hlthsup',\n",
    "                 #'ind_educ',\n",
    "                 'Shispanic','Swhite_NH','ag_25_64']#,'np.log(inc_wage_adj2009):ag_65p']\n",
    "\n",
    "cat2_params=run_model(dataformodels_top50msas.loc['ACS2013'],cat2_rhs_pums if use_pums_shares else cat2_rhs_reg,inc_cat=2)\n",
    "\n",
    "cat3_rhs_pums = ['np.log(per_capita_inc_adj2009)','ind_prof','SLF', 'Sother_NH','occ_det_foodprep',\n",
    "                 'occ_det_hlthsup','cnty_to_us',\n",
    "                 'WRLURI','msasize==\\'Above 1 million\\'','ag_65p']#,  ,,'np.log(per_capita_inc_adj2009)']\n",
    "cat3_params=run_model(dataformodels_top50msas.loc['ACS2013'],cat3_rhs_pums if use_pums_shares else cat3_rhs_reg,inc_cat=3)\n",
    "\n",
    "## Specification 2, early Jan 2016\n",
    "cat4_rhs_pums = ['cnty_to_us','msasize==\\'Above 1 million\\'', \n",
    "                 'occ_det_mgmt','occ_det_community',\n",
    "                 #'occ_det_biz',\n",
    "                 'np.log(per_capita_inc_adj2009)','ag_65p']\n",
    "cat4_params=run_model(dataformodels_top50msas.loc['ACS2013'],cat4_rhs_pums if use_pums_shares else cat4_rhs_reg,inc_cat=4)\n",
    "xlsmodel.close()"
   ]
  },
  {
   "cell_type": "code",
   "execution_count": 73,
   "metadata": {},
   "outputs": [
    {
     "name": "stdout",
     "output_type": "stream",
     "text": [
      "******************************************************************************** \n",
      "\n",
      "SUMMARY FOR INCOME BIN 1, (dep var: PUMS based shares)\n",
      "                           Results: Ordinary least squares\n",
      "=====================================================================================\n",
      "Model:                     OLS                    Adj. R-squared:           0.745    \n",
      "Dependent Variable:        inc_cat_1_pums         AIC:                      -505.1619\n",
      "Date:                      2020-04-02 16:26       BIC:                      -483.9032\n",
      "No. Observations:          154                    Log-Likelihood:           259.58   \n",
      "Df Model:                  6                      F-statistic:              75.57    \n",
      "Df Residuals:              147                    Prob (F-statistic):       1.95e-42 \n",
      "R-squared:                 0.755                  Scale:                    0.0021069\n",
      "-------------------------------------------------------------------------------------\n",
      "                                      Coef.  Std.Err.    t     P>|t|   [0.025  0.975]\n",
      "-------------------------------------------------------------------------------------\n",
      "Intercept                             0.8583   0.0636  13.5019 0.0000  0.7327  0.9840\n",
      "msasize == 'Above 1 million'[T.True] -0.0221   0.0147  -1.5072 0.1339 -0.0511  0.0069\n",
      "cnty_to_us                           -0.0412   0.0067  -6.1070 0.0000 -0.0545 -0.0279\n",
      "occ_det_officeadmin                  -1.1482   0.3207  -3.5808 0.0005 -1.7819 -0.5145\n",
      "occ_det_mgmt                         -2.5501   0.2392 -10.6606 0.0000 -3.0229 -2.0774\n",
      "ag_65p                                0.7190   0.1522   4.7239 0.0000  0.4182  1.0197\n",
      "Swhite_NH                            -0.1433   0.0251  -5.6993 0.0000 -0.1930 -0.0936\n",
      "-------------------------------------------------------------------------------------\n",
      "Omnibus:                      2.761              Durbin-Watson:                 1.618\n",
      "Prob(Omnibus):                0.251              Jarque-Bera (JB):              2.694\n",
      "Skew:                         0.095              Prob(JB):                      0.260\n",
      "Kurtosis:                     3.619              Condition No.:                 205  \n",
      "=====================================================================================\n",
      "\n",
      "******************************************************************************** \n",
      "\n",
      "SUMMARY FOR INCOME BIN 2, (dep var: PUMS based shares)\n",
      "                     Results: Ordinary least squares\n",
      "========================================================================\n",
      "Model:                 OLS               Adj. R-squared:      0.604     \n",
      "Dependent Variable:    inc_cat_2_pums    AIC:                 -716.5886 \n",
      "Date:                  2020-04-02 16:26  BIC:                 -686.2191 \n",
      "No. Observations:      154               Log-Likelihood:      368.29    \n",
      "Df Model:              9                 F-statistic:         26.89     \n",
      "Df Residuals:          144               Prob (F-statistic):  9.00e-27  \n",
      "R-squared:             0.627             Scale:               0.00052412\n",
      "------------------------------------------------------------------------\n",
      "                          Coef.  Std.Err.    t    P>|t|   [0.025  0.975]\n",
      "------------------------------------------------------------------------\n",
      "Intercept                 0.2469   0.0704  3.5087 0.0006  0.1078  0.3860\n",
      "division == '09'[T.True]  0.0195   0.0064  3.0619 0.0026  0.0069  0.0321\n",
      "SLF                       0.1825   0.0645  2.8307 0.0053  0.0551  0.3100\n",
      "cnty_to_us               -0.0220   0.0037 -5.8782 0.0000 -0.0294 -0.0146\n",
      "occ_det_officeadmin       0.1286   0.1691  0.7603 0.4483 -0.2056  0.4628\n",
      "occ_det_mgmt             -0.7151   0.1685 -4.2433 0.0000 -1.0482 -0.3820\n",
      "occ_det_hlthsup          -0.4148   0.3458 -1.1995 0.2323 -1.0984  0.2687\n",
      "Shispanic                 0.0328   0.0237  1.3792 0.1700 -0.0142  0.0797\n",
      "Swhite_NH                 0.0666   0.0151  4.4123 0.0000  0.0368  0.0964\n",
      "ag_25_64                 -0.0430   0.1052 -0.4084 0.6836 -0.2509  0.1650\n",
      "------------------------------------------------------------------------\n",
      "Omnibus:                 0.122          Durbin-Watson:             2.041\n",
      "Prob(Omnibus):           0.941          Jarque-Bera (JB):          0.279\n",
      "Skew:                    0.020          Prob(JB):                  0.870\n",
      "Kurtosis:                2.795          Condition No.:             426  \n",
      "========================================================================\n",
      "\n",
      "******************************************************************************** \n",
      "\n",
      "SUMMARY FOR INCOME BIN 3, (dep var: PUMS based shares)\n",
      "                           Results: Ordinary least squares\n",
      "====================================================================================\n",
      "Model:                     OLS                   Adj. R-squared:          0.724     \n",
      "Dependent Variable:        inc_cat_3_pums        AIC:                     -725.1265 \n",
      "Date:                      2020-04-02 16:26      BIC:                     -691.7200 \n",
      "No. Observations:          154                   Log-Likelihood:          373.56    \n",
      "Df Model:                  10                    F-statistic:             41.23     \n",
      "Df Residuals:              143                   Prob (F-statistic):      2.88e-37  \n",
      "R-squared:                 0.742                 Scale:                   0.00049288\n",
      "------------------------------------------------------------------------------------\n",
      "                                      Coef.  Std.Err.    t    P>|t|   [0.025  0.975]\n",
      "------------------------------------------------------------------------------------\n",
      "Intercept                            -0.7260   0.1930 -3.7617 0.0002 -1.1075 -0.3445\n",
      "msasize == 'Above 1 million'[T.True] -0.0000   0.0071 -0.0018 0.9985 -0.0141  0.0141\n",
      "np.log(per_capita_inc_adj2009)        0.0689   0.0216  3.1885 0.0018  0.0262  0.1116\n",
      "ind_prof                             -0.1934   0.1026 -1.8860 0.0613 -0.3961  0.0093\n",
      "SLF                                   0.5464   0.0894  6.1127 0.0000  0.3697  0.7231\n",
      "Sother_NH                             0.0347   0.0358  0.9670 0.3352 -0.0362  0.1055\n",
      "occ_det_foodprep                     -1.5320   0.2206 -6.9456 0.0000 -1.9680 -1.0960\n",
      "occ_det_hlthsup                      -0.9041   0.2693 -3.3567 0.0010 -1.4364 -0.3717\n",
      "occ_det_biz                          -1.0331   0.2683 -3.8504 0.0002 -1.5634 -0.5027\n",
      "ag_65p                                0.1410   0.1187  1.1881 0.2368 -0.0936  0.3757\n",
      "ag_25_64                              0.0430   0.1083  0.3974 0.6917 -0.1710  0.2571\n",
      "------------------------------------------------------------------------------------\n",
      "Omnibus:                     0.620              Durbin-Watson:                 2.121\n",
      "Prob(Omnibus):               0.733              Jarque-Bera (JB):              0.305\n",
      "Skew:                        0.059              Prob(JB):                      0.859\n",
      "Kurtosis:                    3.183              Condition No.:                 1789 \n",
      "====================================================================================\n",
      "* The condition number is large (2e+03). This might indicate             strong\n",
      "multicollinearity or other numerical problems.\n",
      "******************************************************************************** \n",
      "\n",
      "SUMMARY FOR INCOME BIN 4, (dep var: PUMS based shares)\n",
      "                        Results: Ordinary least squares\n",
      "==============================================================================\n",
      "Model:                   OLS                 Adj. R-squared:        0.889     \n",
      "Dependent Variable:      inc_cat_4_pums      AIC:                   -684.8616 \n",
      "Date:                    2020-04-02 16:26    BIC:                   -666.6399 \n",
      "No. Observations:        154                 Log-Likelihood:        348.43    \n",
      "Df Model:                5                   F-statistic:           246.3     \n",
      "Df Residuals:            148                 Prob (F-statistic):    7.57e-70  \n",
      "R-squared:               0.893               Scale:                 0.00066004\n",
      "------------------------------------------------------------------------------\n",
      "                                Coef.  Std.Err.    t    P>|t|   [0.025  0.975]\n",
      "------------------------------------------------------------------------------\n",
      "Intercept                      -1.9487   0.2210 -8.8176 0.0000 -2.3854 -1.5119\n",
      "cnty_to_us                      0.0231   0.0040  5.7410 0.0000  0.0152  0.0311\n",
      "occ_det_mgmt                    0.6462   0.1996  3.2376 0.0015  0.2518  1.0406\n",
      "occ_det_community              -1.3170   0.6248 -2.1077 0.0367 -2.5518 -0.0822\n",
      "np.log(per_capita_inc_adj2009)  0.2202   0.0244  9.0426 0.0000  0.1721  0.2684\n",
      "ag_25_64                       -0.4392   0.0983 -4.4684 0.0000 -0.6334 -0.2450\n",
      "------------------------------------------------------------------------------\n",
      "Omnibus:                   15.710           Durbin-Watson:              1.835 \n",
      "Prob(Omnibus):             0.000            Jarque-Bera (JB):           44.494\n",
      "Skew:                      0.267            Prob(JB):                   0.000 \n",
      "Kurtosis:                  5.578            Condition No.:              3178  \n",
      "==============================================================================\n",
      "* The condition number is large (3e+03). This might indicate\n",
      "strong multicollinearity or other numerical problems.\n"
     ]
    }
   ],
   "source": [
    "## UPDATED OCCUPATIONS and data universe MARCH 2020 - removal of smaller counties which may skew regressions\n",
    "runstate['datauniv']='TOP30_MSAS_ACS2013'\n",
    "\n",
    "xlsmodel = pd.ExcelWriter(os.path.join(drop,'Data/incomeregressions_scenario_{}_{:%Y%m%d_%H%M%S}.xlsx'.format('__'.join(scenarios),datetime.datetime.now())))\n",
    "\n",
    "cat1_rhs_pums = [#'np.log(inc_wage_adj2009)',\n",
    "                 'cnty_to_us',#'WRLURI',\n",
    "                'msasize==\\'Above 1 million\\'',  \n",
    "                'occ_det_officeadmin',\n",
    "                 'occ_det_mgmt',#'occ_det_community',\n",
    "                 'ag_65p','Swhite_NH']#,'np.log(per_capita_inc_adj2009)']\n",
    "cat1_params=run_model(dataformodels_top30msas.loc['ACS2013'],cat1_rhs_pums if use_pums_shares else cat1_rhs_reg,inc_cat=1)\n",
    "\n",
    "## Specification 1, early Jan 2016\n",
    "cat2_rhs_pums = ['SLF','cnty_to_us',#'WRLURI',\n",
    "                 'division==\\'09\\'',\n",
    "                 'occ_det_officeadmin'\n",
    "                 ,'occ_det_mgmt','occ_det_hlthsup',\n",
    "                 #'ind_educ',\n",
    "                 'Shispanic','Swhite_NH','ag_25_64']#,'np.log(inc_wage_adj2009):ag_65p']\n",
    "\n",
    "cat2_params=run_model(dataformodels_top30msas.loc['ACS2013'],cat2_rhs_pums if use_pums_shares else cat2_rhs_reg,inc_cat=2)\n",
    "\n",
    "cat3_rhs_pums = ['np.log(per_capita_inc_adj2009)','ind_prof','SLF', 'Sother_NH','occ_det_foodprep',\n",
    "                 'occ_det_hlthsup','occ_det_biz',#'cnty_to_us',\n",
    "                 #'WRLURI',\n",
    "                 'msasize==\\'Above 1 million\\'','ag_65p','ag_25_64']#,  ,,'np.log(per_capita_inc_adj2009)']\n",
    "cat3_params=run_model(dataformodels_top30msas.loc['ACS2013'],cat3_rhs_pums if use_pums_shares else cat3_rhs_reg,inc_cat=3)\n",
    "\n",
    "## Specification 2, early Jan 2016\n",
    "cat4_rhs_pums = ['cnty_to_us',#'msasize==\\'Above 1 million\\'', \n",
    "                 'occ_det_mgmt','occ_det_community',\n",
    "                 #'occ_det_biz',\n",
    "                 'np.log(per_capita_inc_adj2009)','ag_25_64']\n",
    "cat4_params=run_model(dataformodels_top30msas.loc['ACS2013'],cat4_rhs_pums if use_pums_shares else cat4_rhs_reg,inc_cat=4)\n",
    "xlsmodel.close()"
   ]
  },
  {
   "cell_type": "code",
   "execution_count": 74,
   "metadata": {},
   "outputs": [
    {
     "data": {
      "text/plain": [
       "{'SLF',\n",
       " 'Shispanic',\n",
       " 'Sother_NH',\n",
       " 'Swhite_NH',\n",
       " 'ag_25_64',\n",
       " 'ag_65p',\n",
       " 'cnty_to_us',\n",
       " \"division=='09'\",\n",
       " 'ind_prof',\n",
       " \"msasize=='Above 1 million'\",\n",
       " 'np.log(per_capita_inc_adj2009)',\n",
       " 'occ_det_biz',\n",
       " 'occ_det_community',\n",
       " 'occ_det_foodprep',\n",
       " 'occ_det_hlthsup',\n",
       " 'occ_det_mgmt',\n",
       " 'occ_det_officeadmin'}"
      ]
     },
     "execution_count": 74,
     "metadata": {},
     "output_type": "execute_result"
    }
   ],
   "source": [
    "## these are the unique variables in the current submodel specifications\n",
    "## To port to the NEW remi version 2.3, we need to re-create those from the new model structure\n",
    "\n",
    "set(cat1_rhs_pums+cat2_rhs_pums +cat3_rhs_pums +cat4_rhs_pums )"
   ]
  },
  {
   "cell_type": "code",
   "execution_count": 75,
   "metadata": {},
   "outputs": [],
   "source": [
    "output_path = os.path.join(box,'Modeling and Surveys/Regional Modeling/Housing/PBA50 Housing/PBA50 Household Forecast')"
   ]
  },
  {
   "cell_type": "markdown",
   "metadata": {},
   "source": [
    "### Run the predictions"
   ]
  },
  {
   "cell_type": "code",
   "execution_count": 76,
   "metadata": {},
   "outputs": [],
   "source": [
    "\n",
    "scenarios=collections.OrderedDict([#('RC no change 3','RC no change 3'),\n",
    "           ('RC5','base_RC2050'),\n",
    "           ('R5H0C','H0_RC2050'),\n",
    "            ('R5H1C','H1_RC2050'),\n",
    "            ('R5H2C','H2_RC2050'),\n",
    "            #('PBA_2040','PBA_2040'),\n",
    "    \n",
    "        ## draft blueprint    \n",
    "        ('RC6','Blueprint Baseline'),\n",
    "        ('R6H2C_fix','Blueprint Plus Fix it First'),\n",
    "        ('R6H2C_plus','Blueprint Plus Crossing'),\n",
    "        ('R6H2C_basic','Blueprint Basic')])\n",
    "\n",
    "\n",
    "scenarios_urbansim=collections.OrderedDict([\n",
    " ('R5H2C','17: Forecast test, less constrained'),\n",
    " ('R6H2C_basic','21: Blueprint Basic'),\n",
    " ('R6H2C_fix','22: Blueprint Plus'),\n",
    " ('R6H2C_plus','23: Blueprint Plus Crossing'),\n",
    " ('RC5','16: Forecast test, base'),\n",
    " ('RC6','20: No Project (Plan Bay Area 2050)')])"
   ]
  },
  {
   "cell_type": "code",
   "execution_count": 77,
   "metadata": {},
   "outputs": [],
   "source": [
    "\n",
    "\n",
    "scenarios_boxfoldermap={'R6H2C_basic':'Forecast 03242020/Blueprint Basic',\n",
    "'R6H2C_fix':'Forecast 03242020/Blueprint Plus Fix it First',\n",
    "'R6H2C_plus':'Forecast 03242020/Blueprint Crossing',\n",
    "'RC5':'Draft Forecast Base Case',\n",
    "'R5H2C':'Draft Forecast Upper Case',\n",
    "                       'RC6':'Forecast 03242020/Blueprint Baseline'}"
   ]
  },
  {
   "cell_type": "code",
   "execution_count": 78,
   "metadata": {},
   "outputs": [
    {
     "name": "stdout",
     "output_type": "stream",
     "text": [
      "RC5\n",
      "R5H0C\n",
      "R5H1C\n",
      "R5H2C\n",
      "RC6\n",
      "R6H2C_fix\n",
      "R6H2C_plus\n",
      "R6H2C_basic\n"
     ]
    }
   ],
   "source": [
    "\n",
    "for k in scenarios:\n",
    "    print k\n",
    "scenarios\n",
    "\n",
    "refscenario=['RC5']\n",
    "variantscenario=['R5H0C','R5H1C','R5H2C']\n",
    "\n",
    "## after draft blueprint\n",
    "refscenario=['RC6']\n",
    "variantscenario=['R6H2C_basic','R6H2C_fix','R6H2C_plus']"
   ]
  },
  {
   "cell_type": "markdown",
   "metadata": {},
   "source": [
    "#### The main, quite unwieldy loop\n",
    "* Runs through each scenario string defined earlier, loads REMI data (exported with \"custom\" format)\n",
    "* Extact relevant variables and turn into future time series for future years, by subregion\n",
    "* Multiply those variables with matching coefficients\n",
    "* Scale to / constrain to 100% since we do four separate regressions in loop\n",
    "* Index grow for each quartile to beginning year levels (there is no reason the prediction would actually predict the baseyear. Instead we just take that as given and move the needle based on the relative prediction."
   ]
  },
  {
   "cell_type": "code",
   "execution_count": 79,
   "metadata": {},
   "outputs": [],
   "source": [
    "## read baseline REFERENCE projection\n",
    "\n",
    "projhh_reference=pd.read_csv(get_latest_scenario_proj('RC6'),index_col=[0])\n",
    "projhh_reference.columns=projhh_reference.columns.astype(int)\n",
    "projhh_reference=projhh_reference.stack()\n",
    "projhh_reference.index=projhh_reference.index.set_names('Year',level=1)"
   ]
  },
  {
   "cell_type": "code",
   "execution_count": 126,
   "metadata": {},
   "outputs": [
    {
     "data": {
      "text/plain": [
       "<Figure size 792x576 with 0 Axes>"
      ]
     },
     "metadata": {},
     "output_type": "display_data"
    },
    {
     "data": {
      "image/png": "[encoded data removed]",
      "text/plain": [
       "<Figure size 432x288 with 1 Axes>"
      ]
     },
     "metadata": {
      "needs_background": "light"
     },
     "output_type": "display_data"
    },
    {
     "data": {
      "text/plain": [
       "<Figure size 792x576 with 0 Axes>"
      ]
     },
     "metadata": {},
     "output_type": "display_data"
    },
    {
     "data": {
      "image/png": "[encoded data removed]",
      "text/plain": [
       "<Figure size 432x288 with 1 Axes>"
      ]
     },
     "metadata": {
      "needs_background": "light"
     },
     "output_type": "display_data"
    },
    {
     "data": {
      "text/plain": [
       "<Figure size 792x576 with 0 Axes>"
      ]
     },
     "metadata": {},
     "output_type": "display_data"
    },
    {
     "data": {
      "image/png": "[encoded data removed]",
      "text/plain": [
       "<Figure size 432x288 with 1 Axes>"
      ]
     },
     "metadata": {
      "needs_background": "light"
     },
     "output_type": "display_data"
    },
    {
     "data": {
      "text/plain": [
       "<Figure size 792x576 with 0 Axes>"
      ]
     },
     "metadata": {},
     "output_type": "display_data"
    },
    {
     "data": {
      "image/png": "[encoded data removed]",
      "text/plain": [
       "<Figure size 432x288 with 1 Axes>"
      ]
     },
     "metadata": {
      "needs_background": "light"
     },
     "output_type": "display_data"
    },
    {
     "data": {
      "text/plain": [
       "<Figure size 792x576 with 0 Axes>"
      ]
     },
     "metadata": {},
     "output_type": "display_data"
    },
    {
     "data": {
      "image/png": "[encoded data removed]",
      "text/plain": [
       "<Figure size 432x288 with 1 Axes>"
      ]
     },
     "metadata": {
      "needs_background": "light"
     },
     "output_type": "display_data"
    },
    {
     "data": {
      "text/plain": [
       "<Figure size 792x576 with 0 Axes>"
      ]
     },
     "metadata": {},
     "output_type": "display_data"
    },
    {
     "data": {
      "image/png": "[encoded data removed]",
      "text/plain": [
       "<Figure size 432x288 with 1 Axes>"
      ]
     },
     "metadata": {
      "needs_background": "light"
     },
     "output_type": "display_data"
    },
    {
     "data": {
      "text/plain": [
       "<Figure size 792x576 with 0 Axes>"
      ]
     },
     "metadata": {},
     "output_type": "display_data"
    },
    {
     "data": {
      "image/png": "[encoded data removed]",
      "text/plain": [
       "<Figure size 432x288 with 1 Axes>"
      ]
     },
     "metadata": {
      "needs_background": "light"
     },
     "output_type": "display_data"
    },
    {
     "data": {
      "image/png": "[encoded data removed]",
      "text/plain": [
       "<Figure size 432x288 with 1 Axes>"
      ]
     },
     "metadata": {
      "needs_background": "light"
     },
     "output_type": "display_data"
    }
   ],
   "source": [
    "### PBA2050 VERSION\n",
    "\n",
    "xlsoutput = pd.ExcelWriter(os.path.join(output_path,'incomeregressions_output_{}_{:%Y%m%d_%H%M%S}.xlsx'.format('_'.join(scenarios),datetime.datetime.now())))\n",
    "STARTYEAR = 2015\n",
    "\n",
    "## determines whether to load eased or 'raw' household projections \n",
    "## from `REGPROJ-HHPROJ 1 - Total household projection PBA2050 Phased HR.ipynb`\n",
    "\n",
    "USE_EASED=True\n",
    "\n",
    "## output containers - so we can store data for each scenario in a loop\n",
    "\n",
    "incomekeep={}\n",
    "outputcontainer={}\n",
    "counterfactuals={}\n",
    "rhs_plotting = {}\n",
    "#coef_leverage_multiscenario={}\n",
    "intercepts={}\n",
    "coefficients={}\n",
    "#coef_leverage_allscens={}\n",
    "hhprojs = {}\n",
    "racepop_combo={}\n",
    "lfprdata_combo={}\n",
    "agepop_combo={}\n",
    "homeprices={}\n",
    "\n",
    "# start logger\n",
    "logger = logging.getLogger(__name__)\n",
    "logger.setLevel(logging.INFO)\n",
    "\n",
    "# create a file handler\n",
    "handler = logging.FileHandler(os.path.join(output_path,'incomeregressions_{:%Y%m%d_%H%M%S}.log'.format(datetime.datetime.now())))\n",
    "handler.setLevel(logging.INFO)\n",
    "\n",
    "# create a log format\n",
    "formatter = logging.Formatter('%(asctime)s - %(name)s - %(levelname)s - %(message)s')\n",
    "handler.setFormatter(formatter)\n",
    "\n",
    "# add the handler to the logger\n",
    "logger.addHandler(handler)\n",
    "\n",
    "\n",
    "with PdfPages(os.path.join(drop, 'plots/horizon/horizon_hhinc_timeseries_{datauniv}_{tme:%Y%m%d_%H%M%S}.pdf'.format(datauniv=runstate['datauniv'],tme=datetime.datetime.now()))) as pdf:\n",
    "    for scenario in scenarios:\n",
    "        \n",
    "        ## load raw scenario-specific remi output and extract key variables\n",
    "        \n",
    "        logger.info(\"*\"*80)\n",
    "        logger.info(\"BEGINNING LOOP FOR SCENARIO {scen}\".format(scen=scenario))\n",
    "        logger.info(\"*\"*80)\n",
    "            \n",
    "        \n",
    "        ## For regression model grab vars at the subregion level\n",
    "        ## Grab the relevant region-specific variables from the population and labor force dataframes\n",
    "        ## These will be used to plug into REMI's regression equation later.\n",
    "\n",
    "        ## save for later\n",
    "        incomekeep[(scenario,'inc_RPI')]=real_pers_inc.loc[scenario]\n",
    "        incomekeep[(scenario,'inc_RPIcap')]=real_pers_inc_per_cap.loc[scenario]\n",
    "        incomekeep[(scenario,'inc_wage')]=rh_agg_wage_income.loc[scenario]\n",
    "        \n",
    "        \n",
    "        # -------------------------------------------------------------------------\n",
    "\n",
    "        ## Now, use parameters from each model to project future households by income bin.\n",
    "        ## For each parameter from the estimated models, we multiply with the appropriate data points.\n",
    "\n",
    "        ## TODO: Consider refactoring. Would be simpler to just use named series instead, and \n",
    "        ## then just multiply those with a similarly indexed series indexed on parameters holding estimates\n",
    "        \n",
    "        ## For now store variable name to dataframe relation in a dict\n",
    "        param_to_var = {'WRLURI':rv_wharton_geo_adj,\n",
    "                        #'np.log(inc_rental_adj2009)':np.log(rh_agg_rental_income),\n",
    "                        #'np.log(inc_public_asst_adj2009)':np.log(rh_agg_public_asst_income),\n",
    "                        #'np.log(inc_self_emp_adj2009)':np.log(rh_agg_self_emp_income),\n",
    "                        'np.log(inc_wage_adj2009)':np.log(rh_agg_wage_income).loc[scenario],\n",
    "                        #'np.log(inc_retirement_adj2009)':np.log(rh_agg_public_asst_income),\n",
    "                        #'np.log(inc_public_asst_adj2009):ag_65p':np.log(rh_agg_public_asst_income)*rv_ag65p,\n",
    "                        'SLF':rv_S_lf.loc[scenario],\n",
    "                        'cnty_to_us':rv_cnty_to_us.loc[scenario],\n",
    "                        'Sblack_NH':rv_Sblack_NH.loc[scenario],\n",
    "                        'Shispanic':rv_Shispanic.loc[scenario],\n",
    "                        'Sother_NH':rv_Sother_NH.loc[scenario],\n",
    "                        'Swhite_NH':rv_Swhite_NH.loc[scenario],\n",
    "                        'ag_15_24':rv_ag15_24.loc[scenario],\n",
    "                        'ag_25_64':rv_ag25_64.loc[scenario],\n",
    "                        'msasize == \\'Above 1 million\\'[T.True]':rv_msasize,\n",
    "                        'occ_mgmt:occ_svcs':  rv_S_occ_mgmt.loc[scenario]*rv_S_occ_svcs.loc[scenario],             \n",
    "                        'occ_mgmt:ind_prof':  rv_S_occ_mgmt.loc[scenario]*rv_S_ind_prof.loc[scenario],             \n",
    "                        'division == \\'09\\'[T.True]':rv_is_division_9,\n",
    "                        'division == \\'03\\'[T.True]':rv_is_not_division_9,\n",
    "                        'division == \\'06\\'[T.True]':rv_is_not_division_9,\n",
    "                        'division == \\'04\\'[T.True]':rv_is_not_division_9,\n",
    "                        'is_bay_area2[T.ouside bay area]':rv_is_bay_area,\n",
    "                        'ag_65p':rv_ag65p.loc[scenario],\n",
    "                        'occ_mgmt':rv_S_occ_mgmt.loc[scenario],\n",
    "                        'np.log(aland)':np.log(aland),\n",
    "                        'occ_prod':rv_S_occ_prod.loc[scenario],\n",
    "                        'occ_nat':rv_S_occ_nat.loc[scenario],\n",
    "                        'occ_sls':rv_S_occ_sls.loc[scenario],\n",
    "                        'occ_svcs':rv_S_occ_svcs.loc[scenario],\n",
    "                        'occ_det_mgmt':rv_S_occ_det_mgmt.loc[scenario],\n",
    "                        'occ_det_biz':rv_S_occ_det_biz.loc[scenario],\n",
    "                        'occ_det_comp':rv_S_occ_det_comp.loc[scenario],\n",
    "                        'occ_det_community':rv_S_occ_det_community.loc[scenario],\n",
    "                        'occ_det_lgl':rv_S_occ_det_lgl.loc[scenario],\n",
    "                        'occ_det_hlthsup':rv_S_occ_det_hlthsup.loc[scenario],\n",
    "                        'occ_det_foodprep':rv_S_occ_det_foodprep.loc[scenario],\n",
    "                        'occ_det_officeadmin':rv_S_occ_det_officeadmin.loc[scenario],\n",
    "                        'ind_educ':rv_S_ind_educ.loc[scenario],\n",
    "                        'ind_retail':rv_S_ind_retail.loc[scenario],\n",
    "                        #'ind_public':rv_S_ind_public.loc[scenario],\n",
    "                        'ind_accom_food_svcs':rv_S_ind_accom_food_svcs.loc[scenario],\n",
    "                        'ind_health':rv_S_ind_health.loc[scenario],\n",
    "                        'ind_prof':rv_S_ind_prof.loc[scenario],\n",
    "                        'np.log(density)':np.log(rv_density),\n",
    "                        #'np.log(per_capita_inc)': np.log(real_pers_inc_per_cap),\n",
    "                        'per_capita_inc_adj2009': real_pers_inc_per_cap.loc[scenario],\n",
    "                        'np.log(per_capita_inc_adj2009)': np.log(real_pers_inc_per_cap).loc[scenario], ## the remi variable is adjusted to 2009 dollars out of the box\n",
    "                        'np.log(per_capita_inc_adj2009 + 1)': np.log(real_pers_inc_per_cap+1).loc[scenario],\n",
    "                        'np.log(population)':np.log(futurepop).loc[scenario],\n",
    "                        #'w_sex':rv_w_sex,\n",
    "                        'years':yearly,\n",
    "                        'Sother_NH:np.log(per_capita_inc)':np.log(real_pers_inc_per_cap).loc[scenario]*rv_Sother_NH.loc[scenario]}\n",
    "\n",
    "        \n",
    "        \n",
    "        ## do the actual prediction - parameter times (future predicted) variable\n",
    "        \n",
    "        ## compile output into one list\n",
    "        i=0\n",
    "        yrs =range(STARTYEAR,2051)\n",
    "        final = {}\n",
    "        coef_leverage={}\n",
    "        var_x_coef_submodels = {}\n",
    "        var_x_coef_submodels_detail = {}\n",
    "        \n",
    "        ## we have variables for each submodel in a list. Loop through them and predict shares using models\n",
    "        for i, prms in enumerate([cat1_params,cat2_params,cat3_params,cat4_params]):\n",
    "            var_x_coef = {}\n",
    "            for p, v in prms.iteritems():\n",
    "                if p not in ['bin','Intercept','np.log(aland)']:\n",
    "                    \n",
    "                    ## fetch the corresponding series to the actually estimated model\n",
    "                    param_times_data=(param_to_var[p].loc[:,yrs]*v)\n",
    "                    var_x_coef[p]=param_times_data\n",
    "                    #coef_leverage_allscens[(scenario,i+1,p)]=param_times_data\n",
    "                    coefficients[(scenario,i+1,p)]=v\n",
    "\n",
    "            \n",
    "            ## after looping through submodels, we sum variables times coefficients, and add intercept\n",
    "            \n",
    "            var_x_coef_submodels[i]=pd.concat(var_x_coef).sum(level=1)+prms['Intercept']\n",
    "            var_x_coef_submodels_detail[i]=pd.concat(var_x_coef)\n",
    "            intercepts[(scenario,i)]=prms['Intercept']\n",
    "\n",
    "        pd.concat(var_x_coef_submodels_detail).loc[:,range(2010,2051,5)].to_csv(os.path.join(drop,'Data/PBA2050/hhinc_coefficient_influence_%s.csv'%(scenario)))\n",
    "        pd.concat(var_x_coef_submodels_detail).loc[:,[2010,2020,2030,2040]].to_excel(xlsoutput,'coef_infl_%s'%scenario)\n",
    "\n",
    "\n",
    "        hhincproj = pd.concat(var_x_coef_submodels)\n",
    "        hhincproj.index=hhincproj.index.set_names('bin',level=0)\n",
    "        hhincproj=hhincproj.swaplevel(0,1)\n",
    "\n",
    "        ## also keep this scenario's coeff times var influence for global sheet\n",
    "        #coef_leverage_multiscenario[scenario]=pd.concat(var_x_coef_submodels_detail).loc[:,[2020,2030,2040,2050]]\n",
    "        \n",
    "        ## shares now predicted but we need to scale to 100% within each subregion        \n",
    "        hhincproj_scaled = hhincproj.groupby(level='Region').apply(pct).stack().unstack('bin')\n",
    "\n",
    "\n",
    "        ## subset to just the Bay Area subregions\n",
    "\n",
    "        hhincproj_scaled_long = hhincproj_scaled.loc(0)[['East Bay','North Bay','West Bay','South Bay'],\n",
    "                                            range(STARTYEAR,2051)]\n",
    "\n",
    "        ## change column names, set indices\n",
    "        hhincproj_scaled_long.columns=['inc_cat_%s_tot'%x for x in range(1,5)]\n",
    "        #hhincproj_scaled_long.columns=hhincproj_scaled_long.columns.map(lambda x: 'inc_cat_{}_tot'.format(x))\n",
    "        #hhincproj_scaled_long.columns=hhincproj_scaled_long.columns.set_names('inc_cat')\n",
    "\n",
    "        hhincproj_scaled_long['what']='modeled'\n",
    "        hhincproj_scaled_long=hhincproj_scaled_long.reset_index().set_index(['level_1','Region','what'])\n",
    "        hhincproj_scaled_long.index=hhincproj_scaled_long.index.set_names(['vintage','remi_region','what'])\n",
    "        hhincproj_scaled_long=hhincproj_scaled_long.stack().reset_index(name='share').rename(columns={'level_3':'inc_cat'})\n",
    "\n",
    "\n",
    "        ## index growth to STARTYEAR levels (we do this using start and end year estimated shares)\n",
    "\n",
    "        hhincproj_scaled_indexed = hhincproj_scaled_long.loc[hhincproj_scaled_long.vintage>=2015].set_index(['vintage','remi_region','what','inc_cat']).share\n",
    "        hhincproj_scaled_indexed=hhincproj_scaled_indexed.unstack(['remi_region','inc_cat'])\n",
    "\n",
    "        ## divide with startyear\n",
    "        hhincproj_scaled_indexed=(hhincproj_scaled_indexed/hhincproj_scaled_indexed.xs(STARTYEAR))\n",
    "        hhincproj_scaled_indexed=hhincproj_scaled_indexed.stack(level=['remi_region']).reset_index(level=1,drop=True)\n",
    "\n",
    "        if use_pums_shares:\n",
    "            #bayareashares_pums_2013 = pd.read_csv(os.path.join(box,'EDF Shared work/control_totals/base_data/pums_bayarea_income_shares_1990_2013.csv'))\n",
    "            #bayareashares_pums_2013.rename(columns={'Region':'remi_region'},inplace=True)\n",
    "            #bayareashares_pums_2013=bayareashares_pums_2013.loc[(bayareashares_pums_2013.YEAR==2013)&(bayareashares_pums_2013.remi_region!='outside bay area'),1:].set_index('remi_region')\n",
    "            existing_shares=bayareashares_pums_2015.copy()\n",
    "        else:\n",
    "            assert 'Provide shares from ACS'\n",
    "            break\n",
    "            #existing_shares=incshares_nonpums.xs('ACS2013').stack().xs(2013).unstack(0).xs('observed')\n",
    "\n",
    "        \n",
    "        ## Then evolve existing income distribution by applying these indexed growth in shares to existing shares\n",
    "        \n",
    "        income_predicted_shares = (existing_shares.mul(hhincproj_scaled_indexed,axis=0)).stack().\\\n",
    "        groupby(level=[0,1]).apply(pct).reset_index(name='share').\\\n",
    "        rename(columns={'level_2':'inc_cat'})\n",
    "        \n",
    "        income_predicted_shares['what']='PBA2050'\n",
    "        income_predicted_shares=income_predicted_shares.rename(columns={'vintage':'years'})\n",
    "        income_predicted_shares['vintage']='projected'\n",
    "        \n",
    "        ## Do some minor reformating of dataframe\n",
    "        ## reshape for easy dataframe x series multiplication, aligning on indices\n",
    "        income_predicted_for_counts=income_predicted_shares.copy()\n",
    "        income_predicted_for_counts['inc_cat']=\\\n",
    "        income_predicted_for_counts.inc_cat.str.extract('(\\d)',expand=False).astype(np.int64)\n",
    "        income_predicted_for_counts=income_predicted_for_counts.set_index(['remi_region','years','inc_cat']).unstack(2).share\n",
    "        income_predicted_for_counts.index=income_predicted_for_counts.index.set_names(['Region','Year'])\n",
    "  \n",
    "        ## write out shares for R\n",
    "#         predobs = pd.concat([mtc_pba2013,income_predicted_shares,incshare_pums_bayarea_subregions if use_pums_shares else incshares_nonpums_long],axis=0)#.stack().reset_index()#.rename(columns={'level_3':'inc_cat',0:'share'})\n",
    "#         if use_pums_shares:\n",
    "#             predobs.to_csv(os.path.join(drop, 'Data/incshares_%s_projected_observed_pums.csv'%scenario))\n",
    "#         else:\n",
    "#             predobs.to_csv(os.path.join(drop, 'Data/incshares_%s_projected_observed.csv'%scenario))\n",
    "\n",
    "\n",
    "        ## ----------------------------------------------------------------------\n",
    "        ## DONE WITH YEARLY INCOME BIN SHARE PREDICTION\n",
    "        ## Now, we need to apply to the relevant household forecast to get counts\n",
    "        ## ----------------------------------------------------------------------\n",
    "        \n",
    "        ## read latest projection of the relevant scenario\n",
    "        projhh_current=pd.read_csv(get_latest_scenario_proj(scenario,use_eased=USE_EASED),index_col=[0])\n",
    "        projhh_current.columns=projhh_current.columns.astype(int)\n",
    "        projhh_current=projhh_current.stack()\n",
    "        projhh_current.index=projhh_current.index.set_names(['Region','Year'])\n",
    "        \n",
    "        hhprojs[scenario]=projhh_current\n",
    "        \n",
    "        ## Drum roll - predicted households times predicted shares \n",
    "        ## scenario specific\n",
    "        \n",
    "        hhincproj_count = projhh_current.mul( income_predicted_for_counts.stack(),axis=0).loc[:,forecastyears].unstack('inc_cat')\n",
    "        hhincproj_count['vintage']='Projection'\n",
    "        hhincproj_count.set_index('vintage',append=True,inplace=True)\n",
    "        hhincproj_count.index=hhincproj_count.index.reorder_levels([2,0,1])\n",
    "        hhincproj_count.columns=hhincproj_count.columns.map(lambda x: 'bin_%s'%x)\n",
    "\n",
    "        ## apply to *reference* projection instead - that is, use scenario-specific income shares,\n",
    "        ## but use with BASELINE population instead of scenario.\n",
    "        \n",
    "        hhincproj_count_reference = projhh_reference.mul( income_predicted_for_counts.stack(),axis=0).loc[:,forecastyears].unstack('inc_cat')\n",
    "        hhincproj_count_reference['vintage']='Projection REF'\n",
    "        hhincproj_count_reference.set_index('vintage',append=True,inplace=True)\n",
    "        hhincproj_count_reference.index=hhincproj_count_reference.index.reorder_levels([2,0,1])\n",
    "        hhincproj_count_reference.columns=hhincproj_count_reference.columns.map(lambda x: 'bin_%s'%x)\n",
    "\n",
    "        \n",
    "        ## the 2010, 2015 counts come from one year pums files\n",
    "        \n",
    "        ## PUMS 2015 is about 20,000 higher than DOF's count. We scale back to DOF levels.\n",
    "        scale_pums_to_2015=hhincproj_count.sum(level=[2]).loc[2015].sum()/bayareaincomeobs.sum(axis=1).loc[2015]\n",
    "        scale_pums_to_2015=pd.Series(scale_pums_to_2015,index=pd.Index([2015]),name='YEAR')\n",
    "\n",
    "        bayareaincomeobs.update(bayareaincomeobs.loc[[2015]].mul(scale_pums_to_2015,axis=0))\n",
    "        \n",
    "        hist_and_projected = pd.concat([bayareaincomeobs,#data2010.unstack(),\n",
    "                     hhincproj_count.sum(level=[2]).loc[range(2020,2051,5)]])\n",
    "        hist_and_projected.to_excel(xlsoutput,('%s_inc_proj'%scenario)[:30])\n",
    "        outputcontainer[scenario]=hist_and_projected\n",
    "        \n",
    "        hist_and_projected_ref = pd.concat([bayareaincomeobs,#data2010.unstack(),\n",
    "                     hhincproj_count_reference.sum(level=[2]).loc[range(2020,2051,5)]])\n",
    "        \n",
    "        counterfactuals[scenario]=hist_and_projected_ref\n",
    "\n",
    "        ## RHS Plotting--future remi vars\n",
    "        ## TODO: minor refactoring - we could use `param_to_var` instead and save this step\n",
    "        \n",
    "        for_rhs_plotting=pd.DataFrame(data={\n",
    "            'occ_mgmt':rv_S_occ_mgmt.loc[:,range(2015,2051)].stack().loc[scenario],\n",
    "                       'SLF':rv_S_lf.stack().loc[scenario],\n",
    "                       'real_pers_inc':real_pers_inc_per_cap.stack().loc[scenario],\n",
    "                       'lf_female':rv_S_lf_female.stack().loc[scenario],\n",
    "                       'occ_mgmt':rv_S_occ_mgmt.loc[:,range(2015,2051)].stack().loc[scenario],\n",
    "                       'occ_svcs':rv_S_occ_svcs.loc[:,range(2015,2051)].stack().loc[scenario],\n",
    "                       'occ_prod':rv_S_occ_prod.loc[:,range(2015,2051)].stack().loc[scenario],\n",
    "                       #'public_asst_income':rh_agg_public_asst_income.stack(),\n",
    "                       'wage_income':rh_agg_wage_income.stack().loc[scenario],\n",
    "                       #'self_emp_income':rh_agg_self_emp_income.stack(),\n",
    "                       #'rental_income':rh_agg_rental_income.stack(),\n",
    "                       'wharton_geo' : rv_wharton_geo.stack(),\n",
    "                       'wharton_geo_adj' : rv_wharton_geo_adj.stack(),\n",
    "                       'msasize' : rv_msasize.stack(),\n",
    "                       'density' : rv_density.stack(),\n",
    "                       'ind_educ' : rv_S_ind_educ.loc[:,range(2015,2051)].stack().loc[scenario],\n",
    "                       'ind_retail' : rv_S_ind_retail.loc[:,range(2015,2051)].stack().loc[scenario],\n",
    "                       #'ind_public' : rv_S_ind_public.loc[:,range(2015,2051)].stack(),\n",
    "                       'ind_accom_food_svcs' : rv_S_ind_accom_food_svcs.loc[:,range(2015,2051)].stack().loc[scenario],\n",
    "                       'ind_health' : rv_S_ind_health.loc[:,range(2015,2051)].stack().loc[scenario],\n",
    "                       'ind_prof' : rv_S_ind_prof.loc[:,range(2015,2051)].stack().loc[scenario],\n",
    "                       'occ_sls' : rv_S_occ_sls.loc[:,range(2015,2051)].stack().loc[scenario],\n",
    "                       'Swhite_NH' : rv_Swhite_NH.stack().loc[scenario],\n",
    "                       'Sother_NH' : rv_Sother_NH.stack().loc[scenario],\n",
    "                       'Sblack_NH' : rv_Sblack_NH.stack().loc[scenario],\n",
    "                       'Shispanic' : rv_Shispanic.stack().loc[scenario],\n",
    "                       'ag15_24' : rv_ag15_24.stack().loc[scenario],\n",
    "                       'ag25_64' : rv_ag25_64.stack().loc[scenario],\n",
    "            \n",
    "                        'occ_det_mgmt':rv_S_occ_det_mgmt.loc[:,range(2015,2051)].stack().loc[scenario],\n",
    "                        'occ_det_biz':rv_S_occ_det_biz.loc[:,range(2015,2051)].stack().loc[scenario],\n",
    "                        'occ_det_comp':rv_S_occ_det_comp.loc[:,range(2015,2051)].stack().loc[scenario],\n",
    "                        'occ_det_community':rv_S_occ_det_community.loc[:,range(2015,2051)].stack().loc[scenario],\n",
    "                        'occ_det_lgl':rv_S_occ_det_lgl.loc[:,range(2015,2051)].stack().loc[scenario],\n",
    "                        'occ_det_hlthsup':rv_S_occ_det_hlthsup.loc[:,range(2015,2051)].stack().loc[scenario],\n",
    "                        'occ_det_foodprep':rv_S_occ_det_foodprep.loc[:,range(2015,2051)].stack().loc[scenario],\n",
    "                        'occ_det_officeadmin':rv_S_occ_det_officeadmin.loc[:,range(2015,2051)].stack().loc[scenario],\n",
    "                        'ag65p' : rv_ag65p.stack().loc[scenario]})\n",
    "        rhs_plotting[scenario]=for_rhs_plotting\n",
    "        \n",
    "        ## plot out the counts by bin\n",
    "        \n",
    "        fig=plt.figure(figsize=(11, 8))\n",
    "        plt.tight_layout()\n",
    "        hhincproj_count.sum(level=['Year']).loc[forecastyears].plot()\n",
    "        plt.title('Households, by income group\\nScenario %s'%(scenario))\n",
    "        plt.tight_layout()\n",
    "        pdf.savefig()\n",
    "    \n",
    "    plt.close(fig)\n",
    "\n",
    "    \n",
    "## Finally, write out *results*\n",
    "pd.concat(outputcontainer,axis=0).astype(np.int64).to_excel(xlsoutput,'scenariocombo')\n",
    "pd.concat(outputcontainer,axis=0).astype(np.int64).stack().reset_index(name='value').rename(columns={'level_0':'runid','level_1':'year','level_2':'bin'}).to_csv(os.path.join(output_path,'incomeproj_%s_%s.csv'%('_'.join(scenarios),runstate['datauniv'])))\n",
    "\n",
    "## write out *right hand side* data\n",
    "pd.concat(rhs_plotting).stack().reset_index(name='value').rename(columns={'level_0':'runid','level_1':'Region','level_2':'year','level_3':'variable'}).to_csv(os.path.join(drop,'Data/PBA2050/hhinc_rhs_vars_remi.csv'))\n",
    "\n",
    "## write out coefficient influence\n",
    "#pd.concat(coef_leverage_multiscenario).unstack(0).sort_index(level=[0,2]).stack(level=[0,1]).reset_index(name='value').rename(columns={'level_0':'income_bin','level_1':'variable','level_3':'year','level_4':'scenario'}).to_csv(os.path.join(drop,'Data/horizon/hhinc_coefficient_influence_scenarios.csv'))\n",
    "#pd.concat(coef_leverage_multiscenario).unstack(0).sort_index(level=[0,2]).reset_index().to_excel(xlsoutput,'coef_infl_detail')\n",
    "#pd.concat(coef_leverage_multiscenario).unstack(0).swaplevel(2,1).sort_index(level=[0,1]).sum(level=[0,1]).to_excel(xlsoutput,'coef_infl_summary')\n",
    "#pd.Series(intercepts).reset_index().rename(columns={'level_0':'scenario','level_1':'bin',0:'intercept'}).to_excel(xlsoutput,'intercepts')\n",
    "pd.Series(coefficients).reset_index().rename(columns={'level_0':'scenario','level_1':'bin','level_2':'variable',0:'coefficient'}).to_excel(xlsoutput,'coefficients')\n",
    "df_intercept=pd.DataFrame(data={'value':pd.Series(intercepts)})\n",
    "df_intercept['variable']='AAintercept'\n",
    "df_intercept.set_index('variable',append=True,inplace=True)\n",
    "df_intercept.index=df_intercept.index.set_names(['scenario','bin','variable'])\n",
    "\n",
    "df_coefficient=pd.DataFrame(data={'value':pd.Series(coefficients)})\n",
    "df_coefficient.index=df_coefficient.index.set_names(['scenario','bin','variable'])\n",
    "pd.concat([df_intercept,df_coefficient]).sort_index().unstack(0).to_excel(xlsoutput,'specifications')\n",
    "\n",
    "## for r\n",
    "file_for_r_index=pd.concat(outputcontainer,axis=0).astype(np.int64).unstack(0)\n",
    "(file_for_r_index/file_for_r_index.iloc[0]).stack(level=[0,1]).\\\n",
    "reset_index(name='value').rename(columns={'level_0':'year','level_2':'runid','level_1':'bin'}).to_csv(os.path.join(drop,'Data/PBA2050/incomeproj_indx_%s.csv'%('_'.join(scenarios))))\n",
    "pd.concat(rhs_plotting).stack().reset_index(name='value').rename(columns={'level_0':'runid','level_1':'Region','level_2':'year','level_3':'variable'}).to_excel(xlsoutput,'rhsdata')\n",
    "\n",
    "xlsoutput.close()\n",
    "\n",
    "logging.shutdown()"
   ]
  },
  {
   "cell_type": "code",
   "execution_count": 84,
   "metadata": {},
   "outputs": [
    {
     "data": {
      "text/plain": [
       "<matplotlib.axes._subplots.AxesSubplot at 0x1207e72d0>"
      ]
     },
     "execution_count": 84,
     "metadata": {},
     "output_type": "execute_result"
    },
    {
     "data": {
      "image/png": "[encoded data removed]",
      "text/plain": [
       "<Figure size 432x288 with 1 Axes>"
      ]
     },
     "metadata": {
      "needs_background": "light"
     },
     "output_type": "display_data"
    }
   ],
   "source": [
    "## what it looks like in 5-year increments\n",
    "pd.concat(outputcontainer,axis=0).loc['R6H2C_basic'].iloc[1:].plot()"
   ]
  },
  {
   "cell_type": "code",
   "execution_count": 127,
   "metadata": {},
   "outputs": [
    {
     "data": {
      "text/plain": [
       "2010   2,546,621.00\n",
       "2015   2,665,734.00\n",
       "2020   2,739,891.30\n",
       "2025   2,966,887.58\n",
       "2030   3,258,571.44\n",
       "2035   3,520,267.15\n",
       "2040   3,724,052.90\n",
       "2045   3,893,088.70\n",
       "2050   4,048,427.11\n",
       "dtype: float64"
      ]
     },
     "execution_count": 127,
     "metadata": {},
     "output_type": "execute_result"
    }
   ],
   "source": [
    "pd.concat(outputcontainer,axis=0).loc[['R6H2C_fix','R6H2C_plus']].stack().mean(level=[1,2]).sum(level=0)"
   ]
  },
  {
   "cell_type": "markdown",
   "metadata": {},
   "source": [
    "#### How much within-bin difference across scenarios? What is the \"intervention impact\" across bins?\n",
    "\n",
    "Counterfactual uses the reference projection levels but applies scenario inc distributions. Point is to make the income projections more \"apples to apples\", looking for variation not just due to the population totals differing between the variants. Instead, we hold counts constant for exposition."
   ]
  },
  {
   "cell_type": "code",
   "execution_count": 128,
   "metadata": {},
   "outputs": [],
   "source": [
    "regular_v_counterfactural=pd.concat([pd.concat(outputcontainer,axis=0).astype(np.int64).stack(),\n",
    "     pd.concat(counterfactuals,axis=0).astype(np.int64).stack()],\n",
    "          keys=['Regular','Counterfactual (RC6 levels)'],\n",
    "         names=['variant','scenario','year','inc_cat'])\n",
    "\n",
    "\n",
    "#.reset_index(name='value').to_csv(os.path.join(drop,'Data/PBA2050/regular_v_counterfactual.csv'))"
   ]
  },
  {
   "cell_type": "code",
   "execution_count": 129,
   "metadata": {},
   "outputs": [],
   "source": [
    "#regular_v_counterfactural.unstack(0).diff(axis=1)['Counterfactual (RC5 levels)'].loc[variantscenario].unstack(2)"
   ]
  },
  {
   "cell_type": "code",
   "execution_count": 130,
   "metadata": {},
   "outputs": [
    {
     "name": "stdout",
     "output_type": "stream",
     "text": [
      "('RC6', 'R6H2C_basic')\n",
      "('RC6', 'R6H2C_fix')\n",
      "('RC6', 'R6H2C_plus')\n"
     ]
    },
    {
     "data": {
      "text/plain": [
       "Text(0.5,1.02,'Comparing RC6 Baseline with Each Variant\\n20200402_163841')"
      ]
     },
     "execution_count": 130,
     "metadata": {},
     "output_type": "execute_result"
    },
    {
     "data": {
      "image/png": "[encoded data removed]",
      "text/plain": [
       "<Figure size 576x792 with 3 Axes>"
      ]
     },
     "metadata": {
      "needs_background": "light"
     },
     "output_type": "display_data"
    }
   ],
   "source": [
    "import itertools\n",
    "fig,ax=plt.subplots(nrows=3,figsize=[8,11])\n",
    "for row,k in enumerate(list(itertools.product(refscenario,variantscenario))):\n",
    "    print k\n",
    "    regular_v_counterfactural.loc['Regular',k].unstack('scenario').loc[:,k].diff(axis=1).loc[:,k[1]].unstack(2).reset_index(0,drop=True).plot(ax=ax[row])\n",
    "    ax[row].set_title('->'.join(k))\n",
    "fig.tight_layout(pad=2.0)\n",
    "fig.suptitle('Comparing RC6 Baseline with Each Variant\\n{:%Y%m%d_%H%M%S}'.format(datetime.datetime.now()),y=1.02,size=16)"
   ]
  },
  {
   "cell_type": "code",
   "execution_count": 131,
   "metadata": {},
   "outputs": [],
   "source": [
    "#patn='({})'.format('|'.join(['Fut_backToTheFuture','Fut_cleanAndGreen','Fut_risingTidesFallingFortunes']))"
   ]
  },
  {
   "cell_type": "code",
   "execution_count": 132,
   "metadata": {},
   "outputs": [],
   "source": [
    "# ## write out rhs data\n",
    "# for_r_alt=pd.concat(rhs_plotting).stack().reset_index(name='value').rename(columns={'level_0':'runid','level_1':'Region','level_2':'year','level_3':'variable'})\n",
    "# for_r_alt['group']=for_r_alt.runid.str.extract(patn,expand=False)\n",
    "# for_r_alt['group2']=for_r_alt.runid.str.contains('_noeq').map({True:'No Earthquake',False:'Earthquake'})\n",
    "\n",
    "# for_r_alt.to_csv(os.path.join(drop,'Data/hhinc_rhs_vars_remi.csv'))"
   ]
  },
  {
   "cell_type": "markdown",
   "metadata": {},
   "source": [
    "### Household file deliverables"
   ]
  },
  {
   "cell_type": "code",
   "execution_count": 152,
   "metadata": {},
   "outputs": [],
   "source": [
    "BLUEPRINT_RUNS=['R6H2C_fix','R6H2C_plus']"
   ]
  },
  {
   "cell_type": "code",
   "execution_count": 133,
   "metadata": {},
   "outputs": [
    {
     "name": "stdout",
     "output_type": "stream",
     "text": [
      "/Users/aolsen/Box/Modeling and Surveys/Regional Modeling/REMI/REMI files/PBA50 Blueprint/REMI output/Forecast 03242020/Blueprint Crossing\n",
      "/Users/aolsen/Box/Modeling and Surveys/Regional Modeling/REMI/REMI files/PBA50 Blueprint/REMI output/Forecast 03242020/Blueprint Plus Fix it First\n",
      "/Users/aolsen/Box/Modeling and Surveys/Regional Modeling/REMI/REMI files/PBA50 Blueprint/REMI output/Draft Forecast Base Case\n",
      "/Users/aolsen/Box/Modeling and Surveys/Regional Modeling/REMI/REMI files/PBA50 Blueprint/REMI output/Forecast 03242020/Blueprint Baseline\n",
      "/Users/aolsen/Box/Modeling and Surveys/Regional Modeling/REMI/REMI files/PBA50 Blueprint/REMI output/Forecast 03242020/Blueprint Basic\n",
      "/Users/aolsen/Box/Modeling and Surveys/Regional Modeling/REMI/REMI files/PBA50 Blueprint/REMI output/Draft Forecast Upper Case\n"
     ]
    }
   ],
   "source": [
    "for k,v in scenarios_boxfoldermap.iteritems():\n",
    "    newpath=os.path.join(box,'Modeling and Surveys/Regional Modeling/REMI/REMI files/PBA50 Blueprint/REMI output/{pth}'.format(pth=v))\n",
    "    if not os.path.exists(newpath):\n",
    "        os.makedirs(newpath)\n",
    "    print newpath"
   ]
  },
  {
   "cell_type": "code",
   "execution_count": 134,
   "metadata": {},
   "outputs": [],
   "source": [
    "## schema: 'bin_1':'q1_households' \tq2_households \tq3_households \tq4_households\n",
    "\n",
    "for_urbansim=pd.concat(outputcontainer,axis=0,names=['scenario','year']).loc(0)[:,range(2015,2051,5)].reset_index()\n",
    "for_urbansim['scenario_urbansim']=for_urbansim.scenario.map(scenarios_urbansim)\n",
    "for_urbansim=for_urbansim[for_urbansim.scenario.isin(scenarios_urbansim)]\n",
    "for_urbansim=for_urbansim.set_index(['year','scenario','scenario_urbansim']).filter(regex='bin').rename(columns=lambda x: 'q{}_households'.format(x[-1]))"
   ]
  },
  {
   "cell_type": "code",
   "execution_count": 180,
   "metadata": {},
   "outputs": [
    {
     "data": {
      "text/html": [
       "<div>\n",
       "<style scoped>\n",
       "    .dataframe tbody tr th:only-of-type {\n",
       "        vertical-align: middle;\n",
       "    }\n",
       "\n",
       "    .dataframe tbody tr th {\n",
       "        vertical-align: top;\n",
       "    }\n",
       "\n",
       "    .dataframe thead th {\n",
       "        text-align: right;\n",
       "    }\n",
       "</style>\n",
       "<table border=\"1\" class=\"dataframe\">\n",
       "  <thead>\n",
       "    <tr style=\"text-align: right;\">\n",
       "      <th>scenario</th>\n",
       "      <th>R6H2C_fix</th>\n",
       "      <th>R6H2C_plus</th>\n",
       "    </tr>\n",
       "    <tr>\n",
       "      <th>year</th>\n",
       "      <th></th>\n",
       "      <th></th>\n",
       "    </tr>\n",
       "  </thead>\n",
       "  <tbody>\n",
       "    <tr>\n",
       "      <th>2015</th>\n",
       "      <td>2,665,734.0</td>\n",
       "      <td>2,665,734.0</td>\n",
       "    </tr>\n",
       "    <tr>\n",
       "      <th>2020</th>\n",
       "      <td>2,739,891.3</td>\n",
       "      <td>2,739,891.3</td>\n",
       "    </tr>\n",
       "    <tr>\n",
       "      <th>2025</th>\n",
       "      <td>2,966,822.2</td>\n",
       "      <td>2,966,952.9</td>\n",
       "    </tr>\n",
       "    <tr>\n",
       "      <th>2030</th>\n",
       "      <td>3,258,557.3</td>\n",
       "      <td>3,258,585.5</td>\n",
       "    </tr>\n",
       "    <tr>\n",
       "      <th>2035</th>\n",
       "      <td>3,520,356.1</td>\n",
       "      <td>3,520,178.2</td>\n",
       "    </tr>\n",
       "    <tr>\n",
       "      <th>2040</th>\n",
       "      <td>3,724,200.3</td>\n",
       "      <td>3,723,905.5</td>\n",
       "    </tr>\n",
       "    <tr>\n",
       "      <th>2045</th>\n",
       "      <td>3,893,274.0</td>\n",
       "      <td>3,892,903.4</td>\n",
       "    </tr>\n",
       "    <tr>\n",
       "      <th>2050</th>\n",
       "      <td>4,048,624.5</td>\n",
       "      <td>4,048,229.7</td>\n",
       "    </tr>\n",
       "  </tbody>\n",
       "</table>\n",
       "</div>"
      ],
      "text/plain": [
       "scenario   R6H2C_fix  R6H2C_plus\n",
       "year                            \n",
       "2015     2,665,734.0 2,665,734.0\n",
       "2020     2,739,891.3 2,739,891.3\n",
       "2025     2,966,822.2 2,966,952.9\n",
       "2030     3,258,557.3 3,258,585.5\n",
       "2035     3,520,356.1 3,520,178.2\n",
       "2040     3,724,200.3 3,723,905.5\n",
       "2045     3,893,274.0 3,892,903.4\n",
       "2050     4,048,624.5 4,048,229.7"
      ]
     },
     "execution_count": 180,
     "metadata": {},
     "output_type": "execute_result"
    }
   ],
   "source": [
    "pd.options.display.float_format = '{:,.1f}'.format\n",
    "for_urbansim.loc(0)[:,BLUEPRINT_RUNS].stack().sum(level=['scenario','year']).unstack(0)"
   ]
  },
  {
   "cell_type": "code",
   "execution_count": 181,
   "metadata": {},
   "outputs": [
    {
     "data": {
      "text/plain": [
       "year\n",
       "2015   2.7\n",
       "2020   2.7\n",
       "2025   3.0\n",
       "2030   3.3\n",
       "2035   3.5\n",
       "2040   3.7\n",
       "2045   3.9\n",
       "2050   4.0\n",
       "dtype: float64"
      ]
     },
     "execution_count": 181,
     "metadata": {},
     "output_type": "execute_result"
    }
   ],
   "source": [
    "(for_urbansim.loc(0)[:,BLUEPRINT_RUNS].stack().mean(level=['year','inc_cat']).unstack(1)/1e6).sum(axis=1)#.to_clipboard()"
   ]
  },
  {
   "cell_type": "code",
   "execution_count": 136,
   "metadata": {},
   "outputs": [
    {
     "name": "stdout",
     "output_type": "stream",
     "text": [
      "('R5H2C', '17: Forecast test, less constrained')\n",
      "('R6H2C_basic', '21: Blueprint Basic')\n",
      "('R6H2C_fix', '22: Blueprint Plus')\n",
      "('R6H2C_plus', '23: Blueprint Plus Crossing')\n",
      "('RC5', '16: Forecast test, base')\n",
      "('RC6', '20: No Project (Plan Bay Area 2050)')\n"
     ]
    }
   ],
   "source": [
    "## write to CSV files on box\n",
    "\n",
    "for nme, dta in for_urbansim.groupby(level=['scenario','scenario_urbansim']):\n",
    "    print nme\n",
    "    dta.reset_index([1,2],drop=True).round(0).astype(int).to_csv(os.path.join(box,'Modeling and Surveys/Regional Modeling/REMI/REMI files/PBA50 Blueprint/REMI output/{pth}/household_controls_s{fl}.csv'.format(pth=scenarios_boxfoldermap[nme[0]],fl=nme[1][:2])))"
   ]
  },
  {
   "cell_type": "code",
   "execution_count": 176,
   "metadata": {},
   "outputs": [],
   "source": [
    "for_urbansim.to_excel(os.path.join(box,'Modeling and Surveys/Regional Modeling/REMI/REMI files/PBA50 Blueprint/REMI output/household_controls_combo.xlsx'))"
   ]
  },
  {
   "cell_type": "markdown",
   "metadata": {},
   "source": [
    "## prepare topsheet\n",
    "Summary sheet with key regional variables from forecast"
   ]
  },
  {
   "cell_type": "code",
   "execution_count": 137,
   "metadata": {},
   "outputs": [
    {
     "data": {
      "text/plain": [
       "'/Users/aolsen/Box/Modeling and Surveys/Regional Modeling/Housing/PBA50 Housing/PBA50 Household Forecast'"
      ]
     },
     "execution_count": 137,
     "metadata": {},
     "output_type": "execute_result"
    }
   ],
   "source": [
    "years_5=range(2015,2051,5)\n",
    "output_path"
   ]
  },
  {
   "cell_type": "code",
   "execution_count": 138,
   "metadata": {},
   "outputs": [],
   "source": [
    "xlsdata=pd.ExcelWriter(os.path.join(output_path,'topsheet_{:%Y%m%d_%H_%M}.xlsx'.format(datetime.datetime.now())))"
   ]
  },
  {
   "cell_type": "code",
   "execution_count": 139,
   "metadata": {},
   "outputs": [],
   "source": [
    "topsheet_specs=pd.Series({'Bin 1': cat1_params,'Bin 2': cat2_params,'Bin 3': cat3_params ,\n",
    "           'Bin 4': cat4_params}).apply(pd.Series,1).stack().\\\n",
    "reset_index(name='variable').rename(columns={'level_0':'Income Bin','level_1':'id'})\n",
    "topsheet_specs=topsheet_specs[topsheet_specs['id']!='bin']\n",
    "topsheet_specs.to_excel(xlsdata,'Model Specs')"
   ]
  },
  {
   "cell_type": "code",
   "execution_count": 140,
   "metadata": {},
   "outputs": [],
   "source": [
    "#pd.Series({'Bin 1': cat1_params,'Bin 2': cat2_params,'Bin 3': cat3_params ,'Bin 4': cat4_params}).apply(pd.Series,1).stack().reset_index(name='variable').rename(columns={'level_0':'Income Bin','level_1':'id'}).to_excel(xlsdata,'Model Vars')"
   ]
  },
  {
   "cell_type": "code",
   "execution_count": 141,
   "metadata": {},
   "outputs": [],
   "source": [
    "pd.concat(outputcontainer,axis=0,names=['scenario','year']).loc(0)[:,years_5].stack().unstack(1).round(0).astype(int).to_excel(xlsdata,'households_incbin')"
   ]
  },
  {
   "cell_type": "code",
   "execution_count": 142,
   "metadata": {},
   "outputs": [],
   "source": [
    "remipop['age_num']=remipop.Ages.str.extract('(\\d{1,3})').astype(int)#.groupby(['runid','Region','Year','age_grp_coarse']).value.sum()"
   ]
  },
  {
   "cell_type": "code",
   "execution_count": 143,
   "metadata": {},
   "outputs": [],
   "source": [
    "## RACE\n",
    "\n",
    "remi_race.groupby(level=['runid','Year','rac_ethn']).sum().loc[:,years_5].groupby(level=['runid','Year']).apply(pct).unstack('Year').to_excel(xlsdata,'race')\n",
    "remi_age.groupby(level=['runid','Year','age_grp_coarse']).sum().loc[:,years_5].groupby(level=['runid','Year']).apply(pct).unstack('Year').to_excel(xlsdata,'age_grp_coarse')\n",
    "\n",
    "\n",
    "remi_age.sum(level=[0,2]).loc[:,years_5].unstack(1).to_excel(xlsdata,'population')"
   ]
  },
  {
   "cell_type": "code",
   "execution_count": 144,
   "metadata": {},
   "outputs": [],
   "source": [
    "remipop_age_pct=remipop.groupby(['runid','Year','age_num']).value.sum().loc[:,years_5].groupby(level=[0,1]).apply(pct).unstack('age_num')\n",
    "agepop_cumsum=remipop_age_pct.cumsum(axis=1)"
   ]
  },
  {
   "cell_type": "code",
   "execution_count": 145,
   "metadata": {},
   "outputs": [],
   "source": [
    "interval_begin=np.arange(0,100)\n",
    "interval_end=np.arange(1,101)-.001"
   ]
  },
  {
   "cell_type": "code",
   "execution_count": 146,
   "metadata": {},
   "outputs": [
    {
     "data": {
      "text/plain": [
       "Text(0.5,1,'Median Age, by REMI variant\\nSource: ABAG/MTC staff, from REMI')"
      ]
     },
     "execution_count": 146,
     "metadata": {},
     "output_type": "execute_result"
    },
    {
     "data": {
      "image/png": "[encoded data removed]",
      "text/plain": [
       "<Figure size 432x288 with 1 Axes>"
      ]
     },
     "metadata": {
      "needs_background": "light"
     },
     "output_type": "display_data"
    }
   ],
   "source": [
    "percentiles=[.1,.25,.5,.75,.9]\n",
    "percentiles=[.5]\n",
    "percentiledata={}\n",
    "for p in percentiles:\n",
    "    agepop_cumsum['middle_bin_start']=agepop_cumsum.apply(lambda x: interval_begin[np.searchsorted(x,p,side='left').min()-1],axis=1)\n",
    "    agepop_cumsum['middle_bin_start_share']=agepop_cumsum.apply(lambda x: x[np.searchsorted(x,p,side='left').min()-1],axis=1)\n",
    "    agepop_cumsum['middle_bin_end']=agepop_cumsum.apply(lambda x: interval_end[np.searchsorted(x,p,side='left').min()-1],axis=1)\n",
    "    agepop_cumsum['median']=agepop_cumsum.apply(lambda x: x.middle_bin_start+(p-x.middle_bin_start_share)*x.middle_bin_start,axis=1)\n",
    "    #print agepop_cumsum['median'].head()\n",
    "    topsheet_age=agepop_cumsum['median'].unstack(1)\n",
    "    percentiledata['p_{:02.0f}'.format(p*100)]=topsheet_age\n",
    "pop_age_medians=pd.concat(percentiledata,axis=0,names=['percentile']).stack().unstack([1,0])\n",
    "pop_age_medians.plot()\n",
    "title('Median Age, by REMI variant\\nSource: ABAG/MTC staff, from REMI')"
   ]
  },
  {
   "cell_type": "code",
   "execution_count": 147,
   "metadata": {},
   "outputs": [],
   "source": [
    "pop_age_medians.to_excel(xlsdata,'age_median')"
   ]
  },
  {
   "cell_type": "code",
   "execution_count": 148,
   "metadata": {},
   "outputs": [],
   "source": [
    "## set BEA to BLS scale factor\n",
    "BEA_SCALE=1.25"
   ]
  },
  {
   "cell_type": "code",
   "execution_count": 149,
   "metadata": {},
   "outputs": [],
   "source": [
    "(outocc.loc[(outocc.Region.isin(['East Bay','West Bay','North Bay','South Bay']))].groupby(['Forecast','major_group']).sum().filter(regex='\\d{4}').stack().loc[:,:,years_5].unstack(2)*1e3/BEA_SCALE).round(0).astype(int64).to_excel(xlsdata,'emp_occup')"
   ]
  },
  {
   "cell_type": "code",
   "execution_count": 150,
   "metadata": {},
   "outputs": [],
   "source": [
    "(outindus.loc[(outindus.Region.isin(['East Bay','West Bay','North Bay','South Bay']))].groupby(['Forecast','indus_grp']).sum().filter(regex='\\d{4}').stack().loc[:,:,years_5].unstack(2)*1e3/BEA_SCALE).round(0).astype(int64).to_excel(xlsdata,'emp_indus')"
   ]
  },
  {
   "cell_type": "code",
   "execution_count": 151,
   "metadata": {},
   "outputs": [],
   "source": [
    "xlsdata.close()"
   ]
  },
  {
   "cell_type": "code",
   "execution_count": null,
   "metadata": {},
   "outputs": [],
   "source": []
  },
  {
   "cell_type": "code",
   "execution_count": null,
   "metadata": {},
   "outputs": [],
   "source": []
  }
 ],
 "metadata": {
  "kernelspec": {
   "display_name": "Python 2",
   "language": "python",
   "name": "python2"
  },
  "language_info": {
   "codemirror_mode": {
    "name": "ipython",
    "version": 2
   },
   "file_extension": ".py",
   "mimetype": "text/x-python",
   "name": "python",
   "nbconvert_exporter": "python",
   "pygments_lexer": "ipython2",
   "version": "2.7.15"
  }
 },
 "nbformat": 4,
 "nbformat_minor": 2
}
