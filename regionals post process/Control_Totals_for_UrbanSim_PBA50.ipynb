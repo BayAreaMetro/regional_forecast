{
 "cells": [
  {
   "cell_type": "code",
   "execution_count": 1,
   "metadata": {
    "collapsed": true
   },
   "outputs": [],
   "source": [
    "import pandas as pd\n",
    "import numpy as np\n",
    "import os"
   ]
  },
  {
   "cell_type": "code",
   "execution_count": 100,
   "metadata": {},
   "outputs": [],
   "source": [
    "# This should point to base dir of regional_forecast git repo\n",
    "# https://github.com/BayAreaMetro/regional_forecast\n",
    "REGIONAL_FORECAST_GIT_DIR = r\"\\\\mainmodel\\MainModelShare\\regional_forecast\"\n",
    "\n",
    "# The location of REMI outputs\n",
    "REMI_OUTPUT_BOX_DIR       = os.path.join(os.environ[\"USERPROFILE\"],\n",
    "                            \"Box\\Modeling and Surveys\\Regional Modeling\\REMI\\REMI files\\PBA50 Blueprint\\REMI output\")\n",
    "\n",
    "# e.g. Draft Forecast Base Case, Draft Forecast Upper Case, Forecast 03122020\n",
    "FORECAST_DIR              = \"Forecast 04132020\"\n",
    "\n",
    "# e.g. Blueprint Baseline, Blueprint Basic, Blueprint Crossing, Blueprint Plus Fix it First\n",
    "FORECAST_VARIANT          = \"Blueprint Plus Fix it First\"\n",
    "\n",
    "# Figure out corresponding UrbanSim Scenario number\n",
    "# see https://github.com/BayAreaMetro/bayarea_urbansim/blob/zoning_mods_update/configs/scenarios.md\n",
    "URBANSIM_VARIANT_MAPPING  = {\"Blueprint Baseline\"         :20,\n",
    "                             \"Blueprint Basic\"            :21,\n",
    "                             \"Blueprint Plus Fix it First\":22,\n",
    "                             \"Blueprint Crossing\"         :23}\n",
    "URBANSIM_VARIANT          = URBANSIM_VARIANT_MAPPING[FORECAST_VARIANT]\n",
    "\n",
    "#step 1: output will into this workbook\n",
    "employment_output_file    = os.path.join(REMI_OUTPUT_BOX_DIR, FORECAST_DIR, FORECAST_VARIANT, \n",
    "                                         \"employment_controls_s{}.csv\".format(URBANSIM_VARIANT))\n",
    "\n",
    "population_output_file    = os.path.join(REMI_OUTPUT_BOX_DIR, FORECAST_DIR, FORECAST_VARIANT, \n",
    "                                         \"population_controls_s{}.csv\".format(URBANSIM_VARIANT))\n",
    "\n",
    "# create readme\n",
    "#readme = pd.DataFrame(data=[{\"label\":\"Created by\",\n",
    "                             #\"value\":os.path.join(REGIONAL_FORECAST_GIT_DIR, \"regionals post process\",\n",
    "                                                  #\"Control Totals File for UrbanSim PBA50.ipynb\")}])\n",
    "#readme.to_excel(writer, sheet_name='readme')"
   ]
  },
  {
   "cell_type": "markdown",
   "metadata": {},
   "source": [
    "# Convert Employment into 6 Categories for Travel Model\n",
    "\n",
    "Where categories are: *RETEMPN*, *FPSEMPN*, *HEREMPN*, *AGREMPN*, *MWTEMPN*, *OTHEMPN*\n",
    "\n",
    "See https://github.com/BayAreaMetro/modeling-website/wiki/TazData"
   ]
  },
  {
   "cell_type": "code",
   "execution_count": 101,
   "metadata": {},
   "outputs": [],
   "source": [
    "# start by aggregating detailed industries into 6 industry categories\n",
    "ind_6cat = pd.read_csv(os.path.join(REGIONAL_FORECAST_GIT_DIR, \"regionals post process\", \"ind_6_cat.csv\"))\n",
    "\n",
    "#then read through all employment results--currently, I am separating the two scripts, ideally\n",
    "#they could be combined\n",
    "#we have different treatment for e-commerce employment, part of retail sector-see \"MEMO E-Commerce in UrbanSim.docx\" in the documentation folder\n",
    "#we may need to decide what to do for the forecast\n",
    "emp = pd.read_csv(os.path.join(REMI_OUTPUT_BOX_DIR, FORECAST_DIR, FORECAST_VARIANT, \"emp by ind11_s{}.csv\".format(URBANSIM_VARIANT)))\n",
    "\n",
    "#merge with industry mapping\n",
    "emp2 = pd.merge(emp, ind_6cat, on = 'ind', how = 'left' )\n",
    "emp2010 = pd.read_csv(os.path.join(REMI_OUTPUT_BOX_DIR, FORECAST_DIR, FORECAST_VARIANT, \"emp2010.csv\"))\n"
   ]
  },
  {
   "cell_type": "code",
   "execution_count": 102,
   "metadata": {
    "scrolled": true
   },
   "outputs": [
    {
     "data": {
      "text/html": [
       "<div>\n",
       "<style>\n",
       "    .dataframe thead tr:only-child th {\n",
       "        text-align: right;\n",
       "    }\n",
       "\n",
       "    .dataframe thead th {\n",
       "        text-align: left;\n",
       "    }\n",
       "\n",
       "    .dataframe tbody tr th {\n",
       "        vertical-align: top;\n",
       "    }\n",
       "</style>\n",
       "<table border=\"1\" class=\"dataframe\">\n",
       "  <thead>\n",
       "    <tr style=\"text-align: right;\">\n",
       "      <th></th>\n",
       "      <th>ind</th>\n",
       "      <th>2015</th>\n",
       "      <th>2020</th>\n",
       "      <th>2025</th>\n",
       "      <th>2030</th>\n",
       "      <th>2035</th>\n",
       "      <th>2040</th>\n",
       "      <th>2045</th>\n",
       "      <th>2050</th>\n",
       "      <th>ind_6cat</th>\n",
       "    </tr>\n",
       "  </thead>\n",
       "  <tbody>\n",
       "    <tr>\n",
       "      <th>0</th>\n",
       "      <td>Agriculture &amp; Natural Resources</td>\n",
       "      <td>24894</td>\n",
       "      <td>23104</td>\n",
       "      <td>23321</td>\n",
       "      <td>26106</td>\n",
       "      <td>27039</td>\n",
       "      <td>28027</td>\n",
       "      <td>29021</td>\n",
       "      <td>29987</td>\n",
       "      <td>AGREMPN</td>\n",
       "    </tr>\n",
       "    <tr>\n",
       "      <th>1</th>\n",
       "      <td>Arts, Recreation &amp; Other Services</td>\n",
       "      <td>598143</td>\n",
       "      <td>507093</td>\n",
       "      <td>615796</td>\n",
       "      <td>696554</td>\n",
       "      <td>725950</td>\n",
       "      <td>763296</td>\n",
       "      <td>787649</td>\n",
       "      <td>813021</td>\n",
       "      <td>HEREMPN</td>\n",
       "    </tr>\n",
       "    <tr>\n",
       "      <th>2</th>\n",
       "      <td>Construction</td>\n",
       "      <td>207781</td>\n",
       "      <td>212482</td>\n",
       "      <td>249657</td>\n",
       "      <td>261216</td>\n",
       "      <td>273236</td>\n",
       "      <td>290458</td>\n",
       "      <td>296933</td>\n",
       "      <td>304811</td>\n",
       "      <td>OTHEMPN</td>\n",
       "    </tr>\n",
       "    <tr>\n",
       "      <th>3</th>\n",
       "      <td>Financial &amp; Leasing</td>\n",
       "      <td>209891</td>\n",
       "      <td>212533</td>\n",
       "      <td>212738</td>\n",
       "      <td>235757</td>\n",
       "      <td>244942</td>\n",
       "      <td>257022</td>\n",
       "      <td>263053</td>\n",
       "      <td>268894</td>\n",
       "      <td>FPSEMPN</td>\n",
       "    </tr>\n",
       "    <tr>\n",
       "      <th>4</th>\n",
       "      <td>Government</td>\n",
       "      <td>466052</td>\n",
       "      <td>519733</td>\n",
       "      <td>480841</td>\n",
       "      <td>498460</td>\n",
       "      <td>502939</td>\n",
       "      <td>509267</td>\n",
       "      <td>503310</td>\n",
       "      <td>496729</td>\n",
       "      <td>OTHEMPN</td>\n",
       "    </tr>\n",
       "    <tr>\n",
       "      <th>5</th>\n",
       "      <td>Health &amp; Educational Services</td>\n",
       "      <td>591292</td>\n",
       "      <td>618162</td>\n",
       "      <td>633314</td>\n",
       "      <td>740983</td>\n",
       "      <td>780092</td>\n",
       "      <td>823641</td>\n",
       "      <td>855531</td>\n",
       "      <td>889410</td>\n",
       "      <td>HEREMPN</td>\n",
       "    </tr>\n",
       "    <tr>\n",
       "      <th>6</th>\n",
       "      <td>Information</td>\n",
       "      <td>171880</td>\n",
       "      <td>205643</td>\n",
       "      <td>201243</td>\n",
       "      <td>245178</td>\n",
       "      <td>266979</td>\n",
       "      <td>294253</td>\n",
       "      <td>325335</td>\n",
       "      <td>360557</td>\n",
       "      <td>OTHEMPN</td>\n",
       "    </tr>\n",
       "    <tr>\n",
       "      <th>7</th>\n",
       "      <td>Manufacturing &amp; Wholesale</td>\n",
       "      <td>472735</td>\n",
       "      <td>465777</td>\n",
       "      <td>414945</td>\n",
       "      <td>434519</td>\n",
       "      <td>428737</td>\n",
       "      <td>431378</td>\n",
       "      <td>434004</td>\n",
       "      <td>436478</td>\n",
       "      <td>MWTEMPN</td>\n",
       "    </tr>\n",
       "    <tr>\n",
       "      <th>8</th>\n",
       "      <td>Professional &amp; Managerial Services</td>\n",
       "      <td>793726</td>\n",
       "      <td>837724</td>\n",
       "      <td>848437</td>\n",
       "      <td>977492</td>\n",
       "      <td>1033410</td>\n",
       "      <td>1092555</td>\n",
       "      <td>1153423</td>\n",
       "      <td>1214656</td>\n",
       "      <td>FPSEMPN</td>\n",
       "    </tr>\n",
       "    <tr>\n",
       "      <th>9</th>\n",
       "      <td>Retail</td>\n",
       "      <td>358070</td>\n",
       "      <td>360466</td>\n",
       "      <td>332291</td>\n",
       "      <td>379739</td>\n",
       "      <td>393971</td>\n",
       "      <td>419014</td>\n",
       "      <td>431883</td>\n",
       "      <td>444423</td>\n",
       "      <td>RETEMPN</td>\n",
       "    </tr>\n",
       "    <tr>\n",
       "      <th>10</th>\n",
       "      <td>Transportation &amp; Utilities</td>\n",
       "      <td>110854</td>\n",
       "      <td>116691</td>\n",
       "      <td>134565</td>\n",
       "      <td>148701</td>\n",
       "      <td>154225</td>\n",
       "      <td>162273</td>\n",
       "      <td>169709</td>\n",
       "      <td>177780</td>\n",
       "      <td>MWTEMPN</td>\n",
       "    </tr>\n",
       "  </tbody>\n",
       "</table>\n",
       "</div>"
      ],
      "text/plain": [
       "                                   ind    2015    2020    2025    2030  \\\n",
       "0      Agriculture & Natural Resources   24894   23104   23321   26106   \n",
       "1    Arts, Recreation & Other Services  598143  507093  615796  696554   \n",
       "2                         Construction  207781  212482  249657  261216   \n",
       "3                  Financial & Leasing  209891  212533  212738  235757   \n",
       "4                           Government  466052  519733  480841  498460   \n",
       "5        Health & Educational Services  591292  618162  633314  740983   \n",
       "6                          Information  171880  205643  201243  245178   \n",
       "7            Manufacturing & Wholesale  472735  465777  414945  434519   \n",
       "8   Professional & Managerial Services  793726  837724  848437  977492   \n",
       "9                               Retail  358070  360466  332291  379739   \n",
       "10          Transportation & Utilities  110854  116691  134565  148701   \n",
       "\n",
       "       2035     2040     2045     2050 ind_6cat  \n",
       "0     27039    28027    29021    29987  AGREMPN  \n",
       "1    725950   763296   787649   813021  HEREMPN  \n",
       "2    273236   290458   296933   304811  OTHEMPN  \n",
       "3    244942   257022   263053   268894  FPSEMPN  \n",
       "4    502939   509267   503310   496729  OTHEMPN  \n",
       "5    780092   823641   855531   889410  HEREMPN  \n",
       "6    266979   294253   325335   360557  OTHEMPN  \n",
       "7    428737   431378   434004   436478  MWTEMPN  \n",
       "8   1033410  1092555  1153423  1214656  FPSEMPN  \n",
       "9    393971   419014   431883   444423  RETEMPN  \n",
       "10   154225   162273   169709   177780  MWTEMPN  "
      ]
     },
     "execution_count": 102,
     "metadata": {},
     "output_type": "execute_result"
    }
   ],
   "source": [
    "emp2"
   ]
  },
  {
   "cell_type": "code",
   "execution_count": 103,
   "metadata": {
    "collapsed": true
   },
   "outputs": [],
   "source": [
    "emp_6cat           = emp2.groupby(['ind_6cat']).sum()\n",
    "emp_6cat_transpose = emp_6cat.T.reset_index()\n",
    "emp_controls       = emp_6cat_transpose.rename(columns={'index': 'year'})\n",
    "emp_controls.year  = emp_controls.year.astype(int)\n",
    "emp_controls       = emp_controls.reset_index(drop = True)"
   ]
  },
  {
   "cell_type": "code",
   "execution_count": 104,
   "metadata": {},
   "outputs": [],
   "source": [
    "emp_controls_final = pd.concat([emp2010,emp_controls])"
   ]
  },
  {
   "cell_type": "code",
   "execution_count": 105,
   "metadata": {},
   "outputs": [],
   "source": [
    "emp_controls_final =emp_controls_final.set_index('year').reset_index()"
   ]
  },
  {
   "cell_type": "code",
   "execution_count": 106,
   "metadata": {
    "scrolled": false
   },
   "outputs": [
    {
     "data": {
      "text/html": [
       "<div>\n",
       "<style>\n",
       "    .dataframe thead tr:only-child th {\n",
       "        text-align: right;\n",
       "    }\n",
       "\n",
       "    .dataframe thead th {\n",
       "        text-align: left;\n",
       "    }\n",
       "\n",
       "    .dataframe tbody tr th {\n",
       "        vertical-align: top;\n",
       "    }\n",
       "</style>\n",
       "<table border=\"1\" class=\"dataframe\">\n",
       "  <thead>\n",
       "    <tr style=\"text-align: right;\">\n",
       "      <th></th>\n",
       "      <th>year</th>\n",
       "      <th>AGREMPN</th>\n",
       "      <th>FPSEMPN</th>\n",
       "      <th>HEREMPN</th>\n",
       "      <th>MWTEMPN</th>\n",
       "      <th>OTHEMPN</th>\n",
       "      <th>RETEMPN</th>\n",
       "    </tr>\n",
       "  </thead>\n",
       "  <tbody>\n",
       "    <tr>\n",
       "      <th>0</th>\n",
       "      <td>2010</td>\n",
       "      <td>27545</td>\n",
       "      <td>818157</td>\n",
       "      <td>867980</td>\n",
       "      <td>561534</td>\n",
       "      <td>546126</td>\n",
       "      <td>636935</td>\n",
       "    </tr>\n",
       "    <tr>\n",
       "      <th>1</th>\n",
       "      <td>2015</td>\n",
       "      <td>24894</td>\n",
       "      <td>1003617</td>\n",
       "      <td>1189435</td>\n",
       "      <td>583589</td>\n",
       "      <td>845713</td>\n",
       "      <td>358070</td>\n",
       "    </tr>\n",
       "    <tr>\n",
       "      <th>2</th>\n",
       "      <td>2020</td>\n",
       "      <td>23104</td>\n",
       "      <td>1050257</td>\n",
       "      <td>1125255</td>\n",
       "      <td>582468</td>\n",
       "      <td>937858</td>\n",
       "      <td>360466</td>\n",
       "    </tr>\n",
       "    <tr>\n",
       "      <th>3</th>\n",
       "      <td>2025</td>\n",
       "      <td>23321</td>\n",
       "      <td>1061175</td>\n",
       "      <td>1249110</td>\n",
       "      <td>549510</td>\n",
       "      <td>931741</td>\n",
       "      <td>332291</td>\n",
       "    </tr>\n",
       "    <tr>\n",
       "      <th>4</th>\n",
       "      <td>2030</td>\n",
       "      <td>26106</td>\n",
       "      <td>1213249</td>\n",
       "      <td>1437537</td>\n",
       "      <td>583220</td>\n",
       "      <td>1004854</td>\n",
       "      <td>379739</td>\n",
       "    </tr>\n",
       "    <tr>\n",
       "      <th>5</th>\n",
       "      <td>2035</td>\n",
       "      <td>27039</td>\n",
       "      <td>1278352</td>\n",
       "      <td>1506042</td>\n",
       "      <td>582962</td>\n",
       "      <td>1043154</td>\n",
       "      <td>393971</td>\n",
       "    </tr>\n",
       "    <tr>\n",
       "      <th>6</th>\n",
       "      <td>2040</td>\n",
       "      <td>28027</td>\n",
       "      <td>1349577</td>\n",
       "      <td>1586937</td>\n",
       "      <td>593651</td>\n",
       "      <td>1093978</td>\n",
       "      <td>419014</td>\n",
       "    </tr>\n",
       "    <tr>\n",
       "      <th>7</th>\n",
       "      <td>2045</td>\n",
       "      <td>29021</td>\n",
       "      <td>1416476</td>\n",
       "      <td>1643180</td>\n",
       "      <td>603713</td>\n",
       "      <td>1125578</td>\n",
       "      <td>431883</td>\n",
       "    </tr>\n",
       "    <tr>\n",
       "      <th>8</th>\n",
       "      <td>2050</td>\n",
       "      <td>29987</td>\n",
       "      <td>1483550</td>\n",
       "      <td>1702431</td>\n",
       "      <td>614258</td>\n",
       "      <td>1162097</td>\n",
       "      <td>444423</td>\n",
       "    </tr>\n",
       "  </tbody>\n",
       "</table>\n",
       "</div>"
      ],
      "text/plain": [
       "   year  AGREMPN  FPSEMPN  HEREMPN  MWTEMPN  OTHEMPN  RETEMPN\n",
       "0  2010    27545   818157   867980   561534   546126   636935\n",
       "1  2015    24894  1003617  1189435   583589   845713   358070\n",
       "2  2020    23104  1050257  1125255   582468   937858   360466\n",
       "3  2025    23321  1061175  1249110   549510   931741   332291\n",
       "4  2030    26106  1213249  1437537   583220  1004854   379739\n",
       "5  2035    27039  1278352  1506042   582962  1043154   393971\n",
       "6  2040    28027  1349577  1586937   593651  1093978   419014\n",
       "7  2045    29021  1416476  1643180   603713  1125578   431883\n",
       "8  2050    29987  1483550  1702431   614258  1162097   444423"
      ]
     },
     "execution_count": 106,
     "metadata": {},
     "output_type": "execute_result"
    }
   ],
   "source": [
    "emp_controls_final"
   ]
  },
  {
   "cell_type": "code",
   "execution_count": 107,
   "metadata": {
    "collapsed": true
   },
   "outputs": [],
   "source": [
    "#write to the master excel file\n",
    "emp_controls_final.to_csv(employment_output_file, header=True, index=False)"
   ]
  },
  {
   "cell_type": "markdown",
   "metadata": {},
   "source": [
    "# Summarize Population by Age Group\n",
    "\n",
    "Where age groups are *AGE0004*, *AGE0519*, *AGE2044*, *AGE4564*, *AGE65p*\n",
    "\n",
    "See https://github.com/BayAreaMetro/modeling-website/wiki/TazData"
   ]
  },
  {
   "cell_type": "code",
   "execution_count": 108,
   "metadata": {},
   "outputs": [],
   "source": [
    "#starts with aggregating pop by single age into 5 age groups\n",
    "#I have created a relationship file, now read it\n",
    "agegrp = pd.read_csv(os.path.join(REGIONAL_FORECAST_GIT_DIR, \"regionals post process\", \"age_group.csv\"))\n",
    "\n",
    "#then read through all population results\n",
    "pop = pd.read_csv(os.path.join(REMI_OUTPUT_BOX_DIR, FORECAST_DIR, FORECAST_VARIANT,\"population_age_s{}.csv\".format(URBANSIM_VARIANT)))"
   ]
  },
  {
   "cell_type": "code",
   "execution_count": 109,
   "metadata": {},
   "outputs": [],
   "source": [
    "#summarize into age groups, needed two transposes\n",
    "pop_indexed    = pop.set_index('Year')\n",
    "pop2           = pop_indexed.T.reset_index()\n",
    "pop2_merge     = pd.merge(pop2, agegrp, left_on = 'index', right_on = 'age', how = 'inner' )\n",
    "pop2_sum       = pop2_merge.groupby(['age_group']).sum()\n",
    "pop2_transpose = pop2_sum.T.reset_index()\n",
    "pop_controls   = pop2_transpose.rename(columns={'index': 'Year'}).reset_index(drop = True)"
   ]
  },
  {
   "cell_type": "code",
   "execution_count": 110,
   "metadata": {},
   "outputs": [
    {
     "data": {
      "text/html": [
       "<div>\n",
       "<style>\n",
       "    .dataframe thead tr:only-child th {\n",
       "        text-align: right;\n",
       "    }\n",
       "\n",
       "    .dataframe thead th {\n",
       "        text-align: left;\n",
       "    }\n",
       "\n",
       "    .dataframe tbody tr th {\n",
       "        vertical-align: top;\n",
       "    }\n",
       "</style>\n",
       "<table border=\"1\" class=\"dataframe\">\n",
       "  <thead>\n",
       "    <tr style=\"text-align: right;\">\n",
       "      <th>age_group</th>\n",
       "      <th>Year</th>\n",
       "      <th>age0004</th>\n",
       "      <th>age0519</th>\n",
       "      <th>age2044</th>\n",
       "      <th>age4564</th>\n",
       "      <th>age65p</th>\n",
       "    </tr>\n",
       "  </thead>\n",
       "  <tbody>\n",
       "    <tr>\n",
       "      <th>0</th>\n",
       "      <td>2010</td>\n",
       "      <td>447575</td>\n",
       "      <td>1321773</td>\n",
       "      <td>2581035</td>\n",
       "      <td>1931699</td>\n",
       "      <td>884968</td>\n",
       "    </tr>\n",
       "    <tr>\n",
       "      <th>1</th>\n",
       "      <td>2015</td>\n",
       "      <td>443193</td>\n",
       "      <td>1336227</td>\n",
       "      <td>2750266</td>\n",
       "      <td>2039829</td>\n",
       "      <td>1086042</td>\n",
       "    </tr>\n",
       "    <tr>\n",
       "      <th>2</th>\n",
       "      <td>2020</td>\n",
       "      <td>423822</td>\n",
       "      <td>1364797</td>\n",
       "      <td>2792002</td>\n",
       "      <td>2082033</td>\n",
       "      <td>1272452</td>\n",
       "    </tr>\n",
       "    <tr>\n",
       "      <th>3</th>\n",
       "      <td>2025</td>\n",
       "      <td>408531</td>\n",
       "      <td>1369155</td>\n",
       "      <td>2831248</td>\n",
       "      <td>2130958</td>\n",
       "      <td>1490333</td>\n",
       "    </tr>\n",
       "    <tr>\n",
       "      <th>4</th>\n",
       "      <td>2030</td>\n",
       "      <td>400880</td>\n",
       "      <td>1356484</td>\n",
       "      <td>2855026</td>\n",
       "      <td>2235717</td>\n",
       "      <td>1706808</td>\n",
       "    </tr>\n",
       "    <tr>\n",
       "      <th>5</th>\n",
       "      <td>2035</td>\n",
       "      <td>416470</td>\n",
       "      <td>1366483</td>\n",
       "      <td>2915326</td>\n",
       "      <td>2413851</td>\n",
       "      <td>1883387</td>\n",
       "    </tr>\n",
       "    <tr>\n",
       "      <th>6</th>\n",
       "      <td>2040</td>\n",
       "      <td>448143</td>\n",
       "      <td>1402936</td>\n",
       "      <td>3067506</td>\n",
       "      <td>2552610</td>\n",
       "      <td>2028175</td>\n",
       "    </tr>\n",
       "    <tr>\n",
       "      <th>7</th>\n",
       "      <td>2045</td>\n",
       "      <td>467546</td>\n",
       "      <td>1458945</td>\n",
       "      <td>3253998</td>\n",
       "      <td>2603670</td>\n",
       "      <td>2169704</td>\n",
       "    </tr>\n",
       "    <tr>\n",
       "      <th>8</th>\n",
       "      <td>2050</td>\n",
       "      <td>474979</td>\n",
       "      <td>1522143</td>\n",
       "      <td>3342822</td>\n",
       "      <td>2666121</td>\n",
       "      <td>2358347</td>\n",
       "    </tr>\n",
       "  </tbody>\n",
       "</table>\n",
       "</div>"
      ],
      "text/plain": [
       "age_group  Year  age0004  age0519  age2044  age4564   age65p\n",
       "0          2010   447575  1321773  2581035  1931699   884968\n",
       "1          2015   443193  1336227  2750266  2039829  1086042\n",
       "2          2020   423822  1364797  2792002  2082033  1272452\n",
       "3          2025   408531  1369155  2831248  2130958  1490333\n",
       "4          2030   400880  1356484  2855026  2235717  1706808\n",
       "5          2035   416470  1366483  2915326  2413851  1883387\n",
       "6          2040   448143  1402936  3067506  2552610  2028175\n",
       "7          2045   467546  1458945  3253998  2603670  2169704\n",
       "8          2050   474979  1522143  3342822  2666121  2358347"
      ]
     },
     "execution_count": 110,
     "metadata": {},
     "output_type": "execute_result"
    }
   ],
   "source": [
    "pop_controls"
   ]
  },
  {
   "cell_type": "code",
   "execution_count": 111,
   "metadata": {
    "collapsed": true
   },
   "outputs": [],
   "source": [
    "pop_controls.to_csv(population_output_file, header=True, index=False)"
   ]
  },
  {
   "cell_type": "markdown",
   "metadata": {
    "collapsed": true
   },
   "source": [
    "# additional step for calculating share of 4 age groups using the transposed pop2\n",
    "agegrp_v2 = pd.read_csv('C:/Users/blu/Box/RTP SCS 2021 Modeling/control_totals/deliverables/4 age groups.csv')\n",
    "pop2_4ag = pd.merge(pop2, agegrp_v2, left_on = 'index', right_on = 'age', how = 'inner' )\n",
    "pop2_4agsum = pop2_4ag.groupby(['age_group']).sum()\n",
    "pop2_4agtranspose = pop2_4agsum.T.reset_index()\n",
    "pop_4ag = pop2_4agtranspose.rename(columns={'index': 'year'}).reset_index(drop = True)"
   ]
  },
  {
   "cell_type": "markdown",
   "metadata": {},
   "source": [
    "pop_4ag.head()"
   ]
  },
  {
   "cell_type": "markdown",
   "metadata": {},
   "source": [
    "pop_4ag['total'] = pop_4ag['age0019'] + pop_4ag['age2034'] + pop_4ag['age3564'] + pop_4ag['age65p']  \n",
    "pop_4ag['shra1'] = pop_4ag['age0019']/pop_4ag['total']\n",
    "pop_4ag['shra2'] = pop_4ag['age2034']/pop_4ag['total']\n",
    "pop_4ag['shra3'] = pop_4ag['age3564']/pop_4ag['total']\n",
    "pop_4ag['shra4'] = pop_4ag['age65p']/pop_4ag['total']\n",
    "pop_4ag.head()"
   ]
  },
  {
   "cell_type": "markdown",
   "metadata": {
    "collapsed": true
   },
   "source": [
    "#this is the tricky part to add share of children\n",
    "#first add column, then calculate value\n",
    "pop_4ag['shry'] = ''\n",
    "#2010 children share is given\n",
    "pop_4ag.shry.iloc[0]= 0.33350388\n",
    "rownum = len(pop_4ag.index)\n",
    "for i in range(1, rownum):\n",
    "    pop_4ag.shry.iloc[i] = pop_4ag.shry.iloc[i-1] * ( pop_4ag.shra1.iloc[i]/pop_4ag.shra1.iloc[i-1])\n",
    "#then add no children share\n",
    "pop_4ag['shrn'] = 1 - pop_4ag['shry']"
   ]
  },
  {
   "cell_type": "markdown",
   "metadata": {},
   "source": [
    "pop_4ag.head()"
   ]
  },
  {
   "cell_type": "markdown",
   "metadata": {},
   "source": [
    "# Transfer Household Results Directly into Output Workbook"
   ]
  },
  {
   "cell_type": "code",
   "execution_count": 12,
   "metadata": {
    "collapsed": true
   },
   "outputs": [],
   "source": [
    "#read through household results\n",
    "hh_file = os.path.join(REMI_OUTPUT_BOX_DIR, FORECAST_DIR, FORECAST_VARIANT,\n",
    "                       \"household_controls_s{}.csv\".format(URBANSIM_VARIANT))\n",
    "hh = pd.read_csv(hh_file)"
   ]
  },
  {
   "cell_type": "code",
   "execution_count": 13,
   "metadata": {},
   "outputs": [
    {
     "data": {
      "text/html": [
       "<div>\n",
       "<style scoped>\n",
       "    .dataframe tbody tr th:only-of-type {\n",
       "        vertical-align: middle;\n",
       "    }\n",
       "\n",
       "    .dataframe tbody tr th {\n",
       "        vertical-align: top;\n",
       "    }\n",
       "\n",
       "    .dataframe thead th {\n",
       "        text-align: right;\n",
       "    }\n",
       "</style>\n",
       "<table border=\"1\" class=\"dataframe\">\n",
       "  <thead>\n",
       "    <tr style=\"text-align: right;\">\n",
       "      <th></th>\n",
       "      <th>year</th>\n",
       "      <th>q1_households</th>\n",
       "      <th>q2_households</th>\n",
       "      <th>q3_households</th>\n",
       "      <th>q4_households</th>\n",
       "    </tr>\n",
       "  </thead>\n",
       "  <tbody>\n",
       "    <tr>\n",
       "      <th>0</th>\n",
       "      <td>2015</td>\n",
       "      <td>688276</td>\n",
       "      <td>657079</td>\n",
       "      <td>584177</td>\n",
       "      <td>753096</td>\n",
       "    </tr>\n",
       "    <tr>\n",
       "      <th>1</th>\n",
       "      <td>2020</td>\n",
       "      <td>686227</td>\n",
       "      <td>627931</td>\n",
       "      <td>612707</td>\n",
       "      <td>867514</td>\n",
       "    </tr>\n",
       "    <tr>\n",
       "      <th>2</th>\n",
       "      <td>2025</td>\n",
       "      <td>782659</td>\n",
       "      <td>670828</td>\n",
       "      <td>646543</td>\n",
       "      <td>967700</td>\n",
       "    </tr>\n",
       "    <tr>\n",
       "      <th>3</th>\n",
       "      <td>2030</td>\n",
       "      <td>887095</td>\n",
       "      <td>719522</td>\n",
       "      <td>675853</td>\n",
       "      <td>1076883</td>\n",
       "    </tr>\n",
       "    <tr>\n",
       "      <th>4</th>\n",
       "      <td>2035</td>\n",
       "      <td>954607</td>\n",
       "      <td>744042</td>\n",
       "      <td>694685</td>\n",
       "      <td>1148066</td>\n",
       "    </tr>\n",
       "    <tr>\n",
       "      <th>5</th>\n",
       "      <td>2040</td>\n",
       "      <td>1012602</td>\n",
       "      <td>768913</td>\n",
       "      <td>723641</td>\n",
       "      <td>1217992</td>\n",
       "    </tr>\n",
       "    <tr>\n",
       "      <th>6</th>\n",
       "      <td>2045</td>\n",
       "      <td>1063297</td>\n",
       "      <td>789688</td>\n",
       "      <td>756240</td>\n",
       "      <td>1282931</td>\n",
       "    </tr>\n",
       "    <tr>\n",
       "      <th>7</th>\n",
       "      <td>2050</td>\n",
       "      <td>1110271</td>\n",
       "      <td>803318</td>\n",
       "      <td>786704</td>\n",
       "      <td>1347164</td>\n",
       "    </tr>\n",
       "  </tbody>\n",
       "</table>\n",
       "</div>"
      ],
      "text/plain": [
       "   year  q1_households  q2_households  q3_households  q4_households\n",
       "0  2015         688276         657079         584177         753096\n",
       "1  2020         686227         627931         612707         867514\n",
       "2  2025         782659         670828         646543         967700\n",
       "3  2030         887095         719522         675853        1076883\n",
       "4  2035         954607         744042         694685        1148066\n",
       "5  2040        1012602         768913         723641        1217992\n",
       "6  2045        1063297         789688         756240        1282931\n",
       "7  2050        1110271         803318         786704        1347164"
      ]
     },
     "execution_count": 13,
     "metadata": {},
     "output_type": "execute_result"
    }
   ],
   "source": [
    "hh"
   ]
  },
  {
   "cell_type": "code",
   "execution_count": 14,
   "metadata": {
    "collapsed": true
   },
   "outputs": [],
   "source": [
    "hh.to_excel(writer, sheet_name='hh_controls')"
   ]
  },
  {
   "cell_type": "code",
   "execution_count": 15,
   "metadata": {
    "collapsed": true
   },
   "outputs": [],
   "source": [
    "pop_controls['totpop'] = pop_controls['age0004'] + \\\n",
    "                         pop_controls['age0519'] + \\\n",
    "                         pop_controls['age2044'] + \\\n",
    "                         pop_controls['age4564'] + \\\n",
    "                         pop_controls['age65p']\n",
    "hh['tothh']            = hh['q1_households'] + \\\n",
    "                         hh['q2_households'] + \\\n",
    "                         hh['q3_households'] + \\\n",
    "                         hh['q4_households']\n",
    "emp_controls['totemp'] = emp_controls['AGREMPN'] + \\\n",
    "                         emp_controls['MWTEMPN'] + \\\n",
    "                         emp_controls['RETEMPN'] + \\\n",
    "                         emp_controls['FPSEMPN'] + \\\n",
    "                         emp_controls['HEREMPN'] + \\\n",
    "                         emp_controls['OTHEMPN']"
   ]
  },
  {
   "cell_type": "code",
   "execution_count": 16,
   "metadata": {
    "collapsed": true
   },
   "outputs": [],
   "source": [
    "regional_controls = pd.merge(pop_controls, emp_controls)\n",
    "regional_controls = pd.merge(regional_controls, hh)\n",
    "regional_controls = regional_controls[[\"year\",\"totpop\",\"tothh\",\"totemp\"]]"
   ]
  },
  {
   "cell_type": "code",
   "execution_count": 17,
   "metadata": {
    "scrolled": true
   },
   "outputs": [
    {
     "data": {
      "text/html": [
       "<div>\n",
       "<style scoped>\n",
       "    .dataframe tbody tr th:only-of-type {\n",
       "        vertical-align: middle;\n",
       "    }\n",
       "\n",
       "    .dataframe tbody tr th {\n",
       "        vertical-align: top;\n",
       "    }\n",
       "\n",
       "    .dataframe thead th {\n",
       "        text-align: right;\n",
       "    }\n",
       "</style>\n",
       "<table border=\"1\" class=\"dataframe\">\n",
       "  <thead>\n",
       "    <tr style=\"text-align: right;\">\n",
       "      <th></th>\n",
       "      <th>year</th>\n",
       "      <th>totpop</th>\n",
       "      <th>tothh</th>\n",
       "      <th>totemp</th>\n",
       "    </tr>\n",
       "  </thead>\n",
       "  <tbody>\n",
       "    <tr>\n",
       "      <th>0</th>\n",
       "      <td>2015</td>\n",
       "      <td>7655557</td>\n",
       "      <td>2682628</td>\n",
       "      <td>4007439</td>\n",
       "    </tr>\n",
       "    <tr>\n",
       "      <th>1</th>\n",
       "      <td>2020</td>\n",
       "      <td>7955156</td>\n",
       "      <td>2794379</td>\n",
       "      <td>4445568</td>\n",
       "    </tr>\n",
       "    <tr>\n",
       "      <th>2</th>\n",
       "      <td>2025</td>\n",
       "      <td>8397502</td>\n",
       "      <td>3067730</td>\n",
       "      <td>4566346</td>\n",
       "    </tr>\n",
       "    <tr>\n",
       "      <th>3</th>\n",
       "      <td>2030</td>\n",
       "      <td>8712598</td>\n",
       "      <td>3359353</td>\n",
       "      <td>4661859</td>\n",
       "    </tr>\n",
       "    <tr>\n",
       "      <th>4</th>\n",
       "      <td>2035</td>\n",
       "      <td>9060735</td>\n",
       "      <td>3541400</td>\n",
       "      <td>4835443</td>\n",
       "    </tr>\n",
       "    <tr>\n",
       "      <th>5</th>\n",
       "      <td>2040</td>\n",
       "      <td>9500663</td>\n",
       "      <td>3723148</td>\n",
       "      <td>5053270</td>\n",
       "    </tr>\n",
       "    <tr>\n",
       "      <th>6</th>\n",
       "      <td>2045</td>\n",
       "      <td>9917230</td>\n",
       "      <td>3892156</td>\n",
       "      <td>5227191</td>\n",
       "    </tr>\n",
       "    <tr>\n",
       "      <th>7</th>\n",
       "      <td>2050</td>\n",
       "      <td>10308095</td>\n",
       "      <td>4047457</td>\n",
       "      <td>5409015</td>\n",
       "    </tr>\n",
       "  </tbody>\n",
       "</table>\n",
       "</div>"
      ],
      "text/plain": [
       "   year    totpop    tothh   totemp\n",
       "0  2015   7655557  2682628  4007439\n",
       "1  2020   7955156  2794379  4445568\n",
       "2  2025   8397502  3067730  4566346\n",
       "3  2030   8712598  3359353  4661859\n",
       "4  2035   9060735  3541400  4835443\n",
       "5  2040   9500663  3723148  5053270\n",
       "6  2045   9917230  3892156  5227191\n",
       "7  2050  10308095  4047457  5409015"
      ]
     },
     "execution_count": 17,
     "metadata": {},
     "output_type": "execute_result"
    }
   ],
   "source": [
    "regional_controls"
   ]
  },
  {
   "cell_type": "code",
   "execution_count": 18,
   "metadata": {
    "collapsed": true
   },
   "outputs": [],
   "source": [
    "regional_controls.to_excel(writer, sheet_name='regional_controls')"
   ]
  },
  {
   "cell_type": "code",
   "execution_count": 22,
   "metadata": {
    "collapsed": true
   },
   "outputs": [],
   "source": [
    "writer.save()"
   ]
  },
  {
   "cell_type": "markdown",
   "metadata": {
    "collapsed": true
   },
   "source": [
    "## sum and write to master excel file\n",
    "hh_sum = hh.groupby(['year','inc_cat_mtc_int']).sum().reset_index()\n",
    "hh_controls = hh_sum.pivot(index='year', columns='inc_cat_mtc_int', values='total').reset_index()\n",
    "hh_controls.to_excel(writer, sheet_name='hh_controls')"
   ]
  },
  {
   "cell_type": "markdown",
   "metadata": {},
   "source": [
    "hh_q = hh_controls\n",
    "hh_q.head()"
   ]
  },
  {
   "cell_type": "markdown",
   "metadata": {
    "collapsed": true
   },
   "source": [
    "#calculate share by inc quarter\n",
    "hh_q['total'] = hh_q['q1'] + hh_q['q2'] + hh_q['q3'] + hh_q['q4']  \n",
    "hh_q['shrq1'] = hh_q['q1']/hh_q['total']\n",
    "hh_q['shrq2'] = hh_q['q2']/hh_q['total']\n",
    "hh_q['shrq3'] = hh_q['q3']/hh_q['total']\n",
    "hh_q['shrq4'] = hh_q['q4']/hh_q['total']"
   ]
  },
  {
   "cell_type": "markdown",
   "metadata": {},
   "source": [
    "hh_q.head()"
   ]
  },
  {
   "cell_type": "markdown",
   "metadata": {},
   "source": [
    "#calculate share by number of workers\n",
    "hh_sumbyworker = hh.groupby(['year','hhworkers']).sum().reset_index()\n",
    "hh_w = hh_sumbyworker.pivot(index='year', columns='hhworkers', values='total').reset_index()\n",
    "hh_w['total'] = hh_w['w0'] + hh_w['w1'] + hh_w['w2'] + hh_w['w3'] \n",
    "hh_w['shrw0'] = hh_w['w0']/hh_w['total']\n",
    "hh_w['shrw1'] = hh_w['w1']/hh_w['total']\n",
    "hh_w['shrw2'] = hh_w['w2']/hh_w['total']\n",
    "hh_w['shrw3'] = hh_w['w3']/hh_w['total']\n",
    "hh_w.head()"
   ]
  },
  {
   "cell_type": "markdown",
   "metadata": {},
   "source": [
    "#calculate share by hh size\n",
    "hh_sumbysize = hh.groupby(['year','hhsize']).sum().reset_index()\n",
    "hh_s = hh_sumbysize.pivot(index='year', columns='hhsize', values='total').reset_index()\n",
    "hh_s['total'] = hh_s['s1'] + hh_s['s2'] + hh_s['s3'] + hh_s['s4']  \n",
    "hh_s['shrs1'] = hh_s['s1']/hh_s['total']\n",
    "hh_s['shrs2'] = hh_s['s2']/hh_s['total']\n",
    "hh_s['shrs3'] = hh_s['s3']/hh_s['total']\n",
    "hh_s['shrs4'] = hh_s['s4']/hh_s['total']\n",
    "hh_s.head()"
   ]
  },
  {
   "cell_type": "markdown",
   "metadata": {
    "collapsed": true
   },
   "source": [
    "#Step 5 add all hh and pop share into a dataframe\n",
    "reg_dem_fcast = pd.DataFrame()\n",
    "b_slice1 = hh_s[['year','shrs1','shrs2','shrs3','shrs4']].copy()\n",
    "b_slice2 = hh_q[['year','shrq1','shrq2','shrq3','shrq4']].copy()\n",
    "b_slice3 = hh_w[['year','shrw0','shrw1','shrw2','shrw3']].copy()\n",
    "b_slice4 = 4ag[['year','shra1','shra2','shra3','shra4','shrn','shry']].copy()\n",
    "reg_dem_fcast = reg_dem_fcast.append(b_slice1)\n",
    "reg_dem_fcast1 = pd.merge(reg_dem_fcast,b_slice2, on = 'year', how = 'left')\n",
    "reg_dem_fcast2 = pd.merge(reg_dem_fcast1,b_slice3, on = 'year', how = 'left')\n",
    "reg_dem_fcast3 = pd.merge(reg_dem_fcast2,b_slice4, on = 'year', how = 'left')"
   ]
  },
  {
   "cell_type": "markdown",
   "metadata": {},
   "source": [
    "reg_dem_fcast3.head()"
   ]
  },
  {
   "cell_type": "markdown",
   "metadata": {
    "collapsed": true
   },
   "source": [
    "reg_dem_fcast3.to_excel(writer, sheet_name='reg_dem_fcast')"
   ]
  },
  {
   "cell_type": "markdown",
   "metadata": {
    "collapsed": true
   },
   "source": [
    "# last step, putting together regional control master file\n",
    "#vacany rate\n",
    "vr= pd.read_csv('C:/Users/blu/Box/RTP SCS 2021 Modeling/control_totals/deliverables/vacancy rate.csv')\n",
    "\n",
    "#pop\n",
    "pop_controls['totpop'] = pop_controls['age0004'] + pop_controls['age0519']+ pop_controls['age2044']+pop_controls['age4564'] + pop_controls['age65p']\n",
    "\n",
    "#employed residents\n",
    "#first set up a constant for rate of employed residents -- update if needed.\n",
    "empres_r = 0.98\n",
    "#then put everything together\n",
    "emp_controls.year = emp_controls.year.astype(int)\n",
    "emp_controls['empres'] = empres_r * (emp_controls['AGREMPN'] +emp_controls['MWTEMPN'] + emp_controls['RETEMPN'] + emp_controls['FPSEMPN'] + emp_controls['HEREMPN'] + emp_controls['OTHEMPN'])\n",
    "empres = emp_controls[['year','empres']]\n",
    "\n",
    "#five age groups\n",
    "pop_5ag = pop_controls[['year','age0004','age0519','age2044','age4564','age65p']]\n",
    "\n",
    "regional_controls = pop_controls[['year','totpop']] \n",
    "regional_controls1 = pd.merge(regional_controls, empres, on = 'year', how = 'left')\n",
    "regional_controls2 = pd.merge(regional_controls1, pop_5ag, on = 'year', how = 'left')\n",
    "regional_controls3 = pd.merge(regional_controls2, vr, on = 'year', how = 'left')\n",
    "\n",
    "#add static median age -- update if needed\n",
    "medianAge = [37.7,38.5,38.9,39.6,40.2,40.9,42.7,42.2,42.9]\n",
    "regional_controls3.insert(loc=3, column='medianage', value=medianAge)"
   ]
  },
  {
   "cell_type": "markdown",
   "metadata": {},
   "source": [
    "regional_controls3.head()"
   ]
  },
  {
   "cell_type": "markdown",
   "metadata": {
    "collapsed": true
   },
   "source": [
    "regional_controls3.to_excel(writer, sheet_name='regional_controls')"
   ]
  },
  {
   "cell_type": "markdown",
   "metadata": {
    "collapsed": true
   },
   "source": [
    "writer.save()"
   ]
  },
  {
   "cell_type": "code",
   "execution_count": null,
   "metadata": {
    "collapsed": true
   },
   "outputs": [],
   "source": []
  }
 ],
 "metadata": {
  "kernelspec": {
   "display_name": "Python 2",
   "language": "python",
   "name": "python2"
  },
  "language_info": {
   "codemirror_mode": {
    "name": "ipython",
    "version": 2
   },
   "file_extension": ".py",
   "mimetype": "text/x-python",
   "name": "python",
   "nbconvert_exporter": "python",
   "pygments_lexer": "ipython2",
   "version": "2.7.14"
  }
 },
 "nbformat": 4,
 "nbformat_minor": 2
}
