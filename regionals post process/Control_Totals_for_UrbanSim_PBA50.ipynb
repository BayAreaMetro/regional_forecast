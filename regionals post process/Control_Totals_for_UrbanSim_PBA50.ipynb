{
 "cells": [
  {
   "cell_type": "code",
   "execution_count": 1,
   "metadata": {},
   "outputs": [],
   "source": [
    "import pandas as pd\n",
    "import numpy as np\n",
    "import os"
   ]
  },
  {
   "cell_type": "code",
   "execution_count": 2,
   "metadata": {},
   "outputs": [
    {
     "name": "stdout",
     "output_type": "stream",
     "text": [
      "Output file is C:\\Users\\lzorn\\Box\\Modeling and Surveys\\Regional Modeling\\REMI\\REMI files\\PBA50 Blueprint\\REMI output\\Forecast 03122020\\Blueprint Crossing\\control totals.xlsx\n"
     ]
    }
   ],
   "source": [
    "# This should point to base dir of regional_forecast git repo\n",
    "# https://github.com/BayAreaMetro/regional_forecast\n",
    "REGIONAL_FORECAST_GIT_DIR = r\"\\\\mainmodel\\MainModelShare\\regional_forecast\"\n",
    "\n",
    "# The location of REMI outputs\n",
    "REMI_OUTPUT_BOX_DIR       = os.path.join(os.environ[\"USERPROFILE\"],\n",
    "                            \"Box\\Modeling and Surveys\\Regional Modeling\\REMI\\REMI files\\PBA50 Blueprint\\REMI output\")\n",
    "\n",
    "# e.g. Draft Forecast Base Case, Draft Forecast Upper Case, Forecast 03122020\n",
    "FORECAST_DIR              = \"Forecast 03122020\"\n",
    "\n",
    "# e.g. Blueprint Baseline, Blueprint Basic, Blueprint Crossing, Blueprint Plus Fix it First\n",
    "FORECAST_VARIANT          = \"Blueprint Crossing\"\n",
    "\n",
    "# Figure out corresponding UrbanSim Scenario number\n",
    "# see https://github.com/BayAreaMetro/bayarea_urbansim/blob/zoning_mods_update/configs/scenarios.md\n",
    "URBANSIM_VARIANT_MAPPING  = {\"Blueprint Baseline\"         :20,\n",
    "                             \"Blueprint Basic\"            :21,\n",
    "                             \"Blueprint Plus Fix it First\":22,\n",
    "                             \"Blueprint Crossing\"         :23}\n",
    "URBANSIM_VARIANT          = URBANSIM_VARIANT_MAPPING[FORECAST_VARIANT]\n",
    "\n",
    "#step 1: output will into this workbook\n",
    "OUTPUT_XLSX               = os.path.join(REMI_OUTPUT_BOX_DIR, FORECAST_DIR, FORECAST_VARIANT, \"control totals.xlsx\")\n",
    "                                \n",
    "writer = pd.ExcelWriter(OUTPUT_XLSX, engine = 'xlsxwriter')\n",
    "print(\"Output file is {}\".format(OUTPUT_XLSX))\n",
    "\n",
    "# create readme\n",
    "readme = pd.DataFrame(data=[{\"label\":\"Created by\",\n",
    "                             \"value\":os.path.join(REGIONAL_FORECAST_GIT_DIR, \"regionals post process\",\n",
    "                                                  \"Control Totals File for UrbanSim PBA50.ipynb\")}])\n",
    "readme.to_excel(writer, sheet_name='readme')"
   ]
  },
  {
   "cell_type": "markdown",
   "metadata": {},
   "source": [
    "# Convert Employment into 6 Categories for Travel Model\n",
    "\n",
    "Where categories are: *RETEMPN*, *FPSEMPN*, *HEREMPN*, *AGREMPN*, *MWTEMPN*, *OTHEMPN*\n",
    "\n",
    "See https://github.com/BayAreaMetro/modeling-website/wiki/TazData"
   ]
  },
  {
   "cell_type": "code",
   "execution_count": 3,
   "metadata": {},
   "outputs": [],
   "source": [
    "# start by aggregating detailed industries into 6 industry categories\n",
    "ind_6cat = pd.read_csv(os.path.join(REGIONAL_FORECAST_GIT_DIR, \"regionals post process\", \"ind 6 cat.csv\"))\n",
    "\n",
    "#then read through all employment results--currently, I am separating the two scripts, ideally\n",
    "#they could be combined\n",
    "#we have different treatment for e-commerce employment, part of retail sector-see \"MEMO E-Commerce in UrbanSim.docx\" in the documentation folder\n",
    "#we may need to decide what to do for the forecast\n",
    "emp = pd.read_csv(os.path.join(REMI_OUTPUT_BOX_DIR, FORECAST_DIR, FORECAST_VARIANT, \"emp by ind.csv\"))\n",
    "\n",
    "#merge with industry mapping\n",
    "emp2 = pd.merge(emp, ind_6cat, on = 'ind', how = 'left' )"
   ]
  },
  {
   "cell_type": "code",
   "execution_count": 4,
   "metadata": {
    "scrolled": true
   },
   "outputs": [
    {
     "data": {
      "text/html": [
       "<div>\n",
       "<style scoped>\n",
       "    .dataframe tbody tr th:only-of-type {\n",
       "        vertical-align: middle;\n",
       "    }\n",
       "\n",
       "    .dataframe tbody tr th {\n",
       "        vertical-align: top;\n",
       "    }\n",
       "\n",
       "    .dataframe thead th {\n",
       "        text-align: right;\n",
       "    }\n",
       "</style>\n",
       "<table border=\"1\" class=\"dataframe\">\n",
       "  <thead>\n",
       "    <tr style=\"text-align: right;\">\n",
       "      <th></th>\n",
       "      <th>ind</th>\n",
       "      <th>2015</th>\n",
       "      <th>2020</th>\n",
       "      <th>2025</th>\n",
       "      <th>2030</th>\n",
       "      <th>2035</th>\n",
       "      <th>2040</th>\n",
       "      <th>2045</th>\n",
       "      <th>2050</th>\n",
       "      <th>ind_6cat</th>\n",
       "    </tr>\n",
       "  </thead>\n",
       "  <tbody>\n",
       "    <tr>\n",
       "      <th>0</th>\n",
       "      <td>Agriculture &amp; Natural Resources</td>\n",
       "      <td>24678</td>\n",
       "      <td>24909</td>\n",
       "      <td>25230</td>\n",
       "      <td>26225</td>\n",
       "      <td>27160</td>\n",
       "      <td>28150</td>\n",
       "      <td>29152</td>\n",
       "      <td>30120</td>\n",
       "      <td>AGREMPN</td>\n",
       "    </tr>\n",
       "    <tr>\n",
       "      <th>1</th>\n",
       "      <td>Arts, Recreation &amp; Other Services</td>\n",
       "      <td>598565</td>\n",
       "      <td>660339</td>\n",
       "      <td>678852</td>\n",
       "      <td>699410</td>\n",
       "      <td>726437</td>\n",
       "      <td>758295</td>\n",
       "      <td>781019</td>\n",
       "      <td>804495</td>\n",
       "      <td>HEREMPN</td>\n",
       "    </tr>\n",
       "    <tr>\n",
       "      <th>2</th>\n",
       "      <td>Construction</td>\n",
       "      <td>208161</td>\n",
       "      <td>239051</td>\n",
       "      <td>279676</td>\n",
       "      <td>262677</td>\n",
       "      <td>271765</td>\n",
       "      <td>286930</td>\n",
       "      <td>293103</td>\n",
       "      <td>300739</td>\n",
       "      <td>OTHEMPN</td>\n",
       "    </tr>\n",
       "    <tr>\n",
       "      <th>3</th>\n",
       "      <td>Financial &amp; Leasing</td>\n",
       "      <td>209927</td>\n",
       "      <td>231585</td>\n",
       "      <td>231259</td>\n",
       "      <td>236698</td>\n",
       "      <td>245184</td>\n",
       "      <td>255769</td>\n",
       "      <td>261785</td>\n",
       "      <td>267630</td>\n",
       "      <td>FPSEMPN</td>\n",
       "    </tr>\n",
       "    <tr>\n",
       "      <th>4</th>\n",
       "      <td>Government</td>\n",
       "      <td>466200</td>\n",
       "      <td>497835</td>\n",
       "      <td>506169</td>\n",
       "      <td>503837</td>\n",
       "      <td>504871</td>\n",
       "      <td>508068</td>\n",
       "      <td>502164</td>\n",
       "      <td>495660</td>\n",
       "      <td>OTHEMPN</td>\n",
       "    </tr>\n",
       "    <tr>\n",
       "      <th>5</th>\n",
       "      <td>Health &amp; Educational Services</td>\n",
       "      <td>591833</td>\n",
       "      <td>671224</td>\n",
       "      <td>709677</td>\n",
       "      <td>743247</td>\n",
       "      <td>781076</td>\n",
       "      <td>820416</td>\n",
       "      <td>851265</td>\n",
       "      <td>883780</td>\n",
       "      <td>HEREMPN</td>\n",
       "    </tr>\n",
       "    <tr>\n",
       "      <th>6</th>\n",
       "      <td>Information</td>\n",
       "      <td>171880</td>\n",
       "      <td>217153</td>\n",
       "      <td>227001</td>\n",
       "      <td>244491</td>\n",
       "      <td>266229</td>\n",
       "      <td>293316</td>\n",
       "      <td>324157</td>\n",
       "      <td>359059</td>\n",
       "      <td>OTHEMPN</td>\n",
       "    </tr>\n",
       "    <tr>\n",
       "      <th>7</th>\n",
       "      <td>Manufacturing &amp; Wholesale</td>\n",
       "      <td>472783</td>\n",
       "      <td>489467</td>\n",
       "      <td>458893</td>\n",
       "      <td>439614</td>\n",
       "      <td>432735</td>\n",
       "      <td>433838</td>\n",
       "      <td>435424</td>\n",
       "      <td>437157</td>\n",
       "      <td>MWTEMPN</td>\n",
       "    </tr>\n",
       "    <tr>\n",
       "      <th>8</th>\n",
       "      <td>Professional &amp; Managerial Services</td>\n",
       "      <td>793905</td>\n",
       "      <td>895967</td>\n",
       "      <td>929473</td>\n",
       "      <td>980679</td>\n",
       "      <td>1036456</td>\n",
       "      <td>1095657</td>\n",
       "      <td>1156644</td>\n",
       "      <td>1218073</td>\n",
       "      <td>FPSEMPN</td>\n",
       "    </tr>\n",
       "    <tr>\n",
       "      <th>9</th>\n",
       "      <td>Retail</td>\n",
       "      <td>358339</td>\n",
       "      <td>379734</td>\n",
       "      <td>380178</td>\n",
       "      <td>380943</td>\n",
       "      <td>394182</td>\n",
       "      <td>416354</td>\n",
       "      <td>429179</td>\n",
       "      <td>441712</td>\n",
       "      <td>RETEMPN</td>\n",
       "    </tr>\n",
       "    <tr>\n",
       "      <th>10</th>\n",
       "      <td>Transportation &amp; Utilities</td>\n",
       "      <td>111168</td>\n",
       "      <td>138304</td>\n",
       "      <td>139938</td>\n",
       "      <td>144038</td>\n",
       "      <td>149348</td>\n",
       "      <td>156477</td>\n",
       "      <td>163299</td>\n",
       "      <td>170590</td>\n",
       "      <td>MWTEMPN</td>\n",
       "    </tr>\n",
       "  </tbody>\n",
       "</table>\n",
       "</div>"
      ],
      "text/plain": [
       "                                   ind    2015    2020    2025    2030  \\\n",
       "0      Agriculture & Natural Resources   24678   24909   25230   26225   \n",
       "1    Arts, Recreation & Other Services  598565  660339  678852  699410   \n",
       "2                         Construction  208161  239051  279676  262677   \n",
       "3                  Financial & Leasing  209927  231585  231259  236698   \n",
       "4                           Government  466200  497835  506169  503837   \n",
       "5        Health & Educational Services  591833  671224  709677  743247   \n",
       "6                          Information  171880  217153  227001  244491   \n",
       "7            Manufacturing & Wholesale  472783  489467  458893  439614   \n",
       "8   Professional & Managerial Services  793905  895967  929473  980679   \n",
       "9                               Retail  358339  379734  380178  380943   \n",
       "10          Transportation & Utilities  111168  138304  139938  144038   \n",
       "\n",
       "       2035     2040     2045     2050 ind_6cat  \n",
       "0     27160    28150    29152    30120  AGREMPN  \n",
       "1    726437   758295   781019   804495  HEREMPN  \n",
       "2    271765   286930   293103   300739  OTHEMPN  \n",
       "3    245184   255769   261785   267630  FPSEMPN  \n",
       "4    504871   508068   502164   495660  OTHEMPN  \n",
       "5    781076   820416   851265   883780  HEREMPN  \n",
       "6    266229   293316   324157   359059  OTHEMPN  \n",
       "7    432735   433838   435424   437157  MWTEMPN  \n",
       "8   1036456  1095657  1156644  1218073  FPSEMPN  \n",
       "9    394182   416354   429179   441712  RETEMPN  \n",
       "10   149348   156477   163299   170590  MWTEMPN  "
      ]
     },
     "execution_count": 4,
     "metadata": {},
     "output_type": "execute_result"
    }
   ],
   "source": [
    "emp2"
   ]
  },
  {
   "cell_type": "code",
   "execution_count": 5,
   "metadata": {},
   "outputs": [],
   "source": [
    "emp_6cat           = emp2.groupby(['ind_6cat']).sum()\n",
    "emp_6cat_transpose = emp_6cat.T.reset_index()\n",
    "emp_controls       = emp_6cat_transpose.rename(columns={'index': 'year'})\n",
    "emp_controls.year  = emp_controls.year.astype(int)\n",
    "emp_controls       = emp_controls.reset_index(drop = True)"
   ]
  },
  {
   "cell_type": "code",
   "execution_count": 6,
   "metadata": {
    "scrolled": true
   },
   "outputs": [
    {
     "data": {
      "text/html": [
       "<div>\n",
       "<style scoped>\n",
       "    .dataframe tbody tr th:only-of-type {\n",
       "        vertical-align: middle;\n",
       "    }\n",
       "\n",
       "    .dataframe tbody tr th {\n",
       "        vertical-align: top;\n",
       "    }\n",
       "\n",
       "    .dataframe thead th {\n",
       "        text-align: right;\n",
       "    }\n",
       "</style>\n",
       "<table border=\"1\" class=\"dataframe\">\n",
       "  <thead>\n",
       "    <tr style=\"text-align: right;\">\n",
       "      <th>ind_6cat</th>\n",
       "      <th>year</th>\n",
       "      <th>AGREMPN</th>\n",
       "      <th>FPSEMPN</th>\n",
       "      <th>HEREMPN</th>\n",
       "      <th>MWTEMPN</th>\n",
       "      <th>OTHEMPN</th>\n",
       "      <th>RETEMPN</th>\n",
       "    </tr>\n",
       "  </thead>\n",
       "  <tbody>\n",
       "    <tr>\n",
       "      <th>0</th>\n",
       "      <td>2015</td>\n",
       "      <td>24678</td>\n",
       "      <td>1003832</td>\n",
       "      <td>1190398</td>\n",
       "      <td>583951</td>\n",
       "      <td>846241</td>\n",
       "      <td>358339</td>\n",
       "    </tr>\n",
       "    <tr>\n",
       "      <th>1</th>\n",
       "      <td>2020</td>\n",
       "      <td>24909</td>\n",
       "      <td>1127552</td>\n",
       "      <td>1331563</td>\n",
       "      <td>627771</td>\n",
       "      <td>954039</td>\n",
       "      <td>379734</td>\n",
       "    </tr>\n",
       "    <tr>\n",
       "      <th>2</th>\n",
       "      <td>2025</td>\n",
       "      <td>25230</td>\n",
       "      <td>1160732</td>\n",
       "      <td>1388529</td>\n",
       "      <td>598831</td>\n",
       "      <td>1012846</td>\n",
       "      <td>380178</td>\n",
       "    </tr>\n",
       "    <tr>\n",
       "      <th>3</th>\n",
       "      <td>2030</td>\n",
       "      <td>26225</td>\n",
       "      <td>1217377</td>\n",
       "      <td>1442657</td>\n",
       "      <td>583652</td>\n",
       "      <td>1011005</td>\n",
       "      <td>380943</td>\n",
       "    </tr>\n",
       "    <tr>\n",
       "      <th>4</th>\n",
       "      <td>2035</td>\n",
       "      <td>27160</td>\n",
       "      <td>1281640</td>\n",
       "      <td>1507513</td>\n",
       "      <td>582083</td>\n",
       "      <td>1042865</td>\n",
       "      <td>394182</td>\n",
       "    </tr>\n",
       "    <tr>\n",
       "      <th>5</th>\n",
       "      <td>2040</td>\n",
       "      <td>28150</td>\n",
       "      <td>1351426</td>\n",
       "      <td>1578711</td>\n",
       "      <td>590315</td>\n",
       "      <td>1088314</td>\n",
       "      <td>416354</td>\n",
       "    </tr>\n",
       "    <tr>\n",
       "      <th>6</th>\n",
       "      <td>2045</td>\n",
       "      <td>29152</td>\n",
       "      <td>1418429</td>\n",
       "      <td>1632284</td>\n",
       "      <td>598723</td>\n",
       "      <td>1119424</td>\n",
       "      <td>429179</td>\n",
       "    </tr>\n",
       "    <tr>\n",
       "      <th>7</th>\n",
       "      <td>2050</td>\n",
       "      <td>30120</td>\n",
       "      <td>1485703</td>\n",
       "      <td>1688275</td>\n",
       "      <td>607747</td>\n",
       "      <td>1155458</td>\n",
       "      <td>441712</td>\n",
       "    </tr>\n",
       "  </tbody>\n",
       "</table>\n",
       "</div>"
      ],
      "text/plain": [
       "ind_6cat  year  AGREMPN  FPSEMPN  HEREMPN  MWTEMPN  OTHEMPN  RETEMPN\n",
       "0         2015    24678  1003832  1190398   583951   846241   358339\n",
       "1         2020    24909  1127552  1331563   627771   954039   379734\n",
       "2         2025    25230  1160732  1388529   598831  1012846   380178\n",
       "3         2030    26225  1217377  1442657   583652  1011005   380943\n",
       "4         2035    27160  1281640  1507513   582083  1042865   394182\n",
       "5         2040    28150  1351426  1578711   590315  1088314   416354\n",
       "6         2045    29152  1418429  1632284   598723  1119424   429179\n",
       "7         2050    30120  1485703  1688275   607747  1155458   441712"
      ]
     },
     "execution_count": 6,
     "metadata": {},
     "output_type": "execute_result"
    }
   ],
   "source": [
    "emp_controls "
   ]
  },
  {
   "cell_type": "code",
   "execution_count": 7,
   "metadata": {},
   "outputs": [],
   "source": [
    "#write to the master excel file\n",
    "emp_controls.to_excel(writer, sheet_name='emp_controls')"
   ]
  },
  {
   "cell_type": "markdown",
   "metadata": {},
   "source": [
    "# Summarize Population by Age Group\n",
    "\n",
    "Where age groups are *AGE0004*, *AGE0519*, *AGE2044*, *AGE4564*, *AGE65p*\n",
    "\n",
    "See https://github.com/BayAreaMetro/modeling-website/wiki/TazData"
   ]
  },
  {
   "cell_type": "code",
   "execution_count": 8,
   "metadata": {},
   "outputs": [],
   "source": [
    "#starts with aggregating pop by single age into 5 age groups\n",
    "#I have created a relationship file, now read it\n",
    "agegrp = pd.read_csv(os.path.join(REGIONAL_FORECAST_GIT_DIR, \"regionals post process\", \"age group.csv\"))\n",
    "\n",
    "#then read through all population results\n",
    "pop = pd.read_csv(os.path.join(REMI_OUTPUT_BOX_DIR, FORECAST_DIR, FORECAST_VARIANT,\"population_age.csv\"))"
   ]
  },
  {
   "cell_type": "code",
   "execution_count": 9,
   "metadata": {},
   "outputs": [],
   "source": [
    "#summarize into age groups, needed two transposes\n",
    "pop_indexed    = pop.set_index('year')\n",
    "pop2           = pop_indexed.T.reset_index()\n",
    "pop2_merge     = pd.merge(pop2, agegrp, left_on = 'index', right_on = 'age', how = 'inner' )\n",
    "pop2_sum       = pop2_merge.groupby(['age_group']).sum()\n",
    "pop2_transpose = pop2_sum.T.reset_index()\n",
    "pop_controls   = pop2_transpose.rename(columns={'index': 'year'}).reset_index(drop = True)"
   ]
  },
  {
   "cell_type": "code",
   "execution_count": 10,
   "metadata": {},
   "outputs": [
    {
     "data": {
      "text/html": [
       "<div>\n",
       "<style scoped>\n",
       "    .dataframe tbody tr th:only-of-type {\n",
       "        vertical-align: middle;\n",
       "    }\n",
       "\n",
       "    .dataframe tbody tr th {\n",
       "        vertical-align: top;\n",
       "    }\n",
       "\n",
       "    .dataframe thead th {\n",
       "        text-align: right;\n",
       "    }\n",
       "</style>\n",
       "<table border=\"1\" class=\"dataframe\">\n",
       "  <thead>\n",
       "    <tr style=\"text-align: right;\">\n",
       "      <th>age_group</th>\n",
       "      <th>year</th>\n",
       "      <th>age0004</th>\n",
       "      <th>age0519</th>\n",
       "      <th>age2044</th>\n",
       "      <th>age4564</th>\n",
       "      <th>age65p</th>\n",
       "    </tr>\n",
       "  </thead>\n",
       "  <tbody>\n",
       "    <tr>\n",
       "      <th>0</th>\n",
       "      <td>2015</td>\n",
       "      <td>443193</td>\n",
       "      <td>1336227</td>\n",
       "      <td>2750266</td>\n",
       "      <td>2039829</td>\n",
       "      <td>1086042</td>\n",
       "    </tr>\n",
       "    <tr>\n",
       "      <th>1</th>\n",
       "      <td>2020</td>\n",
       "      <td>425849</td>\n",
       "      <td>1368937</td>\n",
       "      <td>2803151</td>\n",
       "      <td>2084786</td>\n",
       "      <td>1272433</td>\n",
       "    </tr>\n",
       "    <tr>\n",
       "      <th>2</th>\n",
       "      <td>2025</td>\n",
       "      <td>423718</td>\n",
       "      <td>1403851</td>\n",
       "      <td>2921403</td>\n",
       "      <td>2156559</td>\n",
       "      <td>1491971</td>\n",
       "    </tr>\n",
       "    <tr>\n",
       "      <th>3</th>\n",
       "      <td>2030</td>\n",
       "      <td>412161</td>\n",
       "      <td>1392487</td>\n",
       "      <td>2929711</td>\n",
       "      <td>2265815</td>\n",
       "      <td>1712424</td>\n",
       "    </tr>\n",
       "    <tr>\n",
       "      <th>4</th>\n",
       "      <td>2035</td>\n",
       "      <td>418402</td>\n",
       "      <td>1382938</td>\n",
       "      <td>2931075</td>\n",
       "      <td>2436586</td>\n",
       "      <td>1891734</td>\n",
       "    </tr>\n",
       "    <tr>\n",
       "      <th>5</th>\n",
       "      <td>2040</td>\n",
       "      <td>442633</td>\n",
       "      <td>1401386</td>\n",
       "      <td>3045060</td>\n",
       "      <td>2573108</td>\n",
       "      <td>2038476</td>\n",
       "    </tr>\n",
       "    <tr>\n",
       "      <th>6</th>\n",
       "      <td>2045</td>\n",
       "      <td>458399</td>\n",
       "      <td>1442621</td>\n",
       "      <td>3208763</td>\n",
       "      <td>2625366</td>\n",
       "      <td>2182081</td>\n",
       "    </tr>\n",
       "    <tr>\n",
       "      <th>7</th>\n",
       "      <td>2050</td>\n",
       "      <td>467309</td>\n",
       "      <td>1497518</td>\n",
       "      <td>3293142</td>\n",
       "      <td>2677883</td>\n",
       "      <td>2372243</td>\n",
       "    </tr>\n",
       "  </tbody>\n",
       "</table>\n",
       "</div>"
      ],
      "text/plain": [
       "age_group  year  age0004  age0519  age2044  age4564   age65p\n",
       "0          2015   443193  1336227  2750266  2039829  1086042\n",
       "1          2020   425849  1368937  2803151  2084786  1272433\n",
       "2          2025   423718  1403851  2921403  2156559  1491971\n",
       "3          2030   412161  1392487  2929711  2265815  1712424\n",
       "4          2035   418402  1382938  2931075  2436586  1891734\n",
       "5          2040   442633  1401386  3045060  2573108  2038476\n",
       "6          2045   458399  1442621  3208763  2625366  2182081\n",
       "7          2050   467309  1497518  3293142  2677883  2372243"
      ]
     },
     "execution_count": 10,
     "metadata": {},
     "output_type": "execute_result"
    }
   ],
   "source": [
    "pop_controls"
   ]
  },
  {
   "cell_type": "code",
   "execution_count": 11,
   "metadata": {},
   "outputs": [],
   "source": [
    "pop_controls.to_excel(writer, sheet_name='pop_controls')"
   ]
  },
  {
   "cell_type": "markdown",
   "metadata": {
    "collapsed": true
   },
   "source": [
    "# additional step for calculating share of 4 age groups using the transposed pop2\n",
    "agegrp_v2 = pd.read_csv('C:/Users/blu/Box/RTP SCS 2021 Modeling/control_totals/deliverables/4 age groups.csv')\n",
    "pop2_4ag = pd.merge(pop2, agegrp_v2, left_on = 'index', right_on = 'age', how = 'inner' )\n",
    "pop2_4agsum = pop2_4ag.groupby(['age_group']).sum()\n",
    "pop2_4agtranspose = pop2_4agsum.T.reset_index()\n",
    "pop_4ag = pop2_4agtranspose.rename(columns={'index': 'year'}).reset_index(drop = True)"
   ]
  },
  {
   "cell_type": "markdown",
   "metadata": {},
   "source": [
    "pop_4ag.head()"
   ]
  },
  {
   "cell_type": "markdown",
   "metadata": {},
   "source": [
    "pop_4ag['total'] = pop_4ag['age0019'] + pop_4ag['age2034'] + pop_4ag['age3564'] + pop_4ag['age65p']  \n",
    "pop_4ag['shra1'] = pop_4ag['age0019']/pop_4ag['total']\n",
    "pop_4ag['shra2'] = pop_4ag['age2034']/pop_4ag['total']\n",
    "pop_4ag['shra3'] = pop_4ag['age3564']/pop_4ag['total']\n",
    "pop_4ag['shra4'] = pop_4ag['age65p']/pop_4ag['total']\n",
    "pop_4ag.head()"
   ]
  },
  {
   "cell_type": "markdown",
   "metadata": {
    "collapsed": true
   },
   "source": [
    "#this is the tricky part to add share of children\n",
    "#first add column, then calculate value\n",
    "pop_4ag['shry'] = ''\n",
    "#2010 children share is given\n",
    "pop_4ag.shry.iloc[0]= 0.33350388\n",
    "rownum = len(pop_4ag.index)\n",
    "for i in range(1, rownum):\n",
    "    pop_4ag.shry.iloc[i] = pop_4ag.shry.iloc[i-1] * ( pop_4ag.shra1.iloc[i]/pop_4ag.shra1.iloc[i-1])\n",
    "#then add no children share\n",
    "pop_4ag['shrn'] = 1 - pop_4ag['shry']"
   ]
  },
  {
   "cell_type": "markdown",
   "metadata": {},
   "source": [
    "pop_4ag.head()"
   ]
  },
  {
   "cell_type": "markdown",
   "metadata": {},
   "source": [
    "# Transfer Household Results Directly into Output Workbook"
   ]
  },
  {
   "cell_type": "code",
   "execution_count": 12,
   "metadata": {},
   "outputs": [],
   "source": [
    "#read through household results\n",
    "hh_file = os.path.join(REMI_OUTPUT_BOX_DIR, FORECAST_DIR, FORECAST_VARIANT,\n",
    "                       \"household_controls_s{}.csv\".format(URBANSIM_VARIANT))\n",
    "hh = pd.read_csv(hh_file)"
   ]
  },
  {
   "cell_type": "code",
   "execution_count": 13,
   "metadata": {},
   "outputs": [
    {
     "data": {
      "text/html": [
       "<div>\n",
       "<style scoped>\n",
       "    .dataframe tbody tr th:only-of-type {\n",
       "        vertical-align: middle;\n",
       "    }\n",
       "\n",
       "    .dataframe tbody tr th {\n",
       "        vertical-align: top;\n",
       "    }\n",
       "\n",
       "    .dataframe thead th {\n",
       "        text-align: right;\n",
       "    }\n",
       "</style>\n",
       "<table border=\"1\" class=\"dataframe\">\n",
       "  <thead>\n",
       "    <tr style=\"text-align: right;\">\n",
       "      <th></th>\n",
       "      <th>year</th>\n",
       "      <th>q1_households</th>\n",
       "      <th>q2_households</th>\n",
       "      <th>q3_households</th>\n",
       "      <th>q4_households</th>\n",
       "    </tr>\n",
       "  </thead>\n",
       "  <tbody>\n",
       "    <tr>\n",
       "      <th>0</th>\n",
       "      <td>2015</td>\n",
       "      <td>688276</td>\n",
       "      <td>657079</td>\n",
       "      <td>584177</td>\n",
       "      <td>753096</td>\n",
       "    </tr>\n",
       "    <tr>\n",
       "      <th>1</th>\n",
       "      <td>2020</td>\n",
       "      <td>686227</td>\n",
       "      <td>627931</td>\n",
       "      <td>612707</td>\n",
       "      <td>867514</td>\n",
       "    </tr>\n",
       "    <tr>\n",
       "      <th>2</th>\n",
       "      <td>2025</td>\n",
       "      <td>782659</td>\n",
       "      <td>670828</td>\n",
       "      <td>646543</td>\n",
       "      <td>967700</td>\n",
       "    </tr>\n",
       "    <tr>\n",
       "      <th>3</th>\n",
       "      <td>2030</td>\n",
       "      <td>887095</td>\n",
       "      <td>719522</td>\n",
       "      <td>675853</td>\n",
       "      <td>1076883</td>\n",
       "    </tr>\n",
       "    <tr>\n",
       "      <th>4</th>\n",
       "      <td>2035</td>\n",
       "      <td>954607</td>\n",
       "      <td>744042</td>\n",
       "      <td>694685</td>\n",
       "      <td>1148066</td>\n",
       "    </tr>\n",
       "    <tr>\n",
       "      <th>5</th>\n",
       "      <td>2040</td>\n",
       "      <td>1012602</td>\n",
       "      <td>768913</td>\n",
       "      <td>723641</td>\n",
       "      <td>1217992</td>\n",
       "    </tr>\n",
       "    <tr>\n",
       "      <th>6</th>\n",
       "      <td>2045</td>\n",
       "      <td>1063297</td>\n",
       "      <td>789688</td>\n",
       "      <td>756240</td>\n",
       "      <td>1282931</td>\n",
       "    </tr>\n",
       "    <tr>\n",
       "      <th>7</th>\n",
       "      <td>2050</td>\n",
       "      <td>1110271</td>\n",
       "      <td>803318</td>\n",
       "      <td>786704</td>\n",
       "      <td>1347164</td>\n",
       "    </tr>\n",
       "  </tbody>\n",
       "</table>\n",
       "</div>"
      ],
      "text/plain": [
       "   year  q1_households  q2_households  q3_households  q4_households\n",
       "0  2015         688276         657079         584177         753096\n",
       "1  2020         686227         627931         612707         867514\n",
       "2  2025         782659         670828         646543         967700\n",
       "3  2030         887095         719522         675853        1076883\n",
       "4  2035         954607         744042         694685        1148066\n",
       "5  2040        1012602         768913         723641        1217992\n",
       "6  2045        1063297         789688         756240        1282931\n",
       "7  2050        1110271         803318         786704        1347164"
      ]
     },
     "execution_count": 13,
     "metadata": {},
     "output_type": "execute_result"
    }
   ],
   "source": [
    "hh"
   ]
  },
  {
   "cell_type": "code",
   "execution_count": 14,
   "metadata": {},
   "outputs": [],
   "source": [
    "hh.to_excel(writer, sheet_name='hh_controls')"
   ]
  },
  {
   "cell_type": "code",
   "execution_count": 15,
   "metadata": {},
   "outputs": [],
   "source": [
    "pop_controls['totpop'] = pop_controls['age0004'] + \\\n",
    "                         pop_controls['age0519'] + \\\n",
    "                         pop_controls['age2044'] + \\\n",
    "                         pop_controls['age4564'] + \\\n",
    "                         pop_controls['age65p']\n",
    "hh['tothh']            = hh['q1_households'] + \\\n",
    "                         hh['q2_households'] + \\\n",
    "                         hh['q3_households'] + \\\n",
    "                         hh['q4_households']\n",
    "emp_controls['totemp'] = emp_controls['AGREMPN'] + \\\n",
    "                         emp_controls['MWTEMPN'] + \\\n",
    "                         emp_controls['RETEMPN'] + \\\n",
    "                         emp_controls['FPSEMPN'] + \\\n",
    "                         emp_controls['HEREMPN'] + \\\n",
    "                         emp_controls['OTHEMPN']"
   ]
  },
  {
   "cell_type": "code",
   "execution_count": 16,
   "metadata": {},
   "outputs": [],
   "source": [
    "regional_controls = pd.merge(pop_controls, emp_controls)\n",
    "regional_controls = pd.merge(regional_controls, hh)\n",
    "regional_controls = regional_controls[[\"year\",\"totpop\",\"tothh\",\"totemp\"]]"
   ]
  },
  {
   "cell_type": "code",
   "execution_count": 17,
   "metadata": {
    "scrolled": true
   },
   "outputs": [
    {
     "data": {
      "text/html": [
       "<div>\n",
       "<style scoped>\n",
       "    .dataframe tbody tr th:only-of-type {\n",
       "        vertical-align: middle;\n",
       "    }\n",
       "\n",
       "    .dataframe tbody tr th {\n",
       "        vertical-align: top;\n",
       "    }\n",
       "\n",
       "    .dataframe thead th {\n",
       "        text-align: right;\n",
       "    }\n",
       "</style>\n",
       "<table border=\"1\" class=\"dataframe\">\n",
       "  <thead>\n",
       "    <tr style=\"text-align: right;\">\n",
       "      <th></th>\n",
       "      <th>year</th>\n",
       "      <th>totpop</th>\n",
       "      <th>tothh</th>\n",
       "      <th>totemp</th>\n",
       "    </tr>\n",
       "  </thead>\n",
       "  <tbody>\n",
       "    <tr>\n",
       "      <th>0</th>\n",
       "      <td>2015</td>\n",
       "      <td>7655557</td>\n",
       "      <td>2682628</td>\n",
       "      <td>4007439</td>\n",
       "    </tr>\n",
       "    <tr>\n",
       "      <th>1</th>\n",
       "      <td>2020</td>\n",
       "      <td>7955156</td>\n",
       "      <td>2794379</td>\n",
       "      <td>4445568</td>\n",
       "    </tr>\n",
       "    <tr>\n",
       "      <th>2</th>\n",
       "      <td>2025</td>\n",
       "      <td>8397502</td>\n",
       "      <td>3067730</td>\n",
       "      <td>4566346</td>\n",
       "    </tr>\n",
       "    <tr>\n",
       "      <th>3</th>\n",
       "      <td>2030</td>\n",
       "      <td>8712598</td>\n",
       "      <td>3359353</td>\n",
       "      <td>4661859</td>\n",
       "    </tr>\n",
       "    <tr>\n",
       "      <th>4</th>\n",
       "      <td>2035</td>\n",
       "      <td>9060735</td>\n",
       "      <td>3541400</td>\n",
       "      <td>4835443</td>\n",
       "    </tr>\n",
       "    <tr>\n",
       "      <th>5</th>\n",
       "      <td>2040</td>\n",
       "      <td>9500663</td>\n",
       "      <td>3723148</td>\n",
       "      <td>5053270</td>\n",
       "    </tr>\n",
       "    <tr>\n",
       "      <th>6</th>\n",
       "      <td>2045</td>\n",
       "      <td>9917230</td>\n",
       "      <td>3892156</td>\n",
       "      <td>5227191</td>\n",
       "    </tr>\n",
       "    <tr>\n",
       "      <th>7</th>\n",
       "      <td>2050</td>\n",
       "      <td>10308095</td>\n",
       "      <td>4047457</td>\n",
       "      <td>5409015</td>\n",
       "    </tr>\n",
       "  </tbody>\n",
       "</table>\n",
       "</div>"
      ],
      "text/plain": [
       "   year    totpop    tothh   totemp\n",
       "0  2015   7655557  2682628  4007439\n",
       "1  2020   7955156  2794379  4445568\n",
       "2  2025   8397502  3067730  4566346\n",
       "3  2030   8712598  3359353  4661859\n",
       "4  2035   9060735  3541400  4835443\n",
       "5  2040   9500663  3723148  5053270\n",
       "6  2045   9917230  3892156  5227191\n",
       "7  2050  10308095  4047457  5409015"
      ]
     },
     "execution_count": 17,
     "metadata": {},
     "output_type": "execute_result"
    }
   ],
   "source": [
    "regional_controls"
   ]
  },
  {
   "cell_type": "code",
   "execution_count": 18,
   "metadata": {},
   "outputs": [],
   "source": [
    "regional_controls.to_excel(writer, sheet_name='regional_controls')"
   ]
  },
  {
   "cell_type": "code",
   "execution_count": 19,
   "metadata": {},
   "outputs": [],
   "source": [
    "writer.save()"
   ]
  },
  {
   "cell_type": "markdown",
   "metadata": {
    "collapsed": true
   },
   "source": [
    "## sum and write to master excel file\n",
    "hh_sum = hh.groupby(['year','inc_cat_mtc_int']).sum().reset_index()\n",
    "hh_controls = hh_sum.pivot(index='year', columns='inc_cat_mtc_int', values='total').reset_index()\n",
    "hh_controls.to_excel(writer, sheet_name='hh_controls')"
   ]
  },
  {
   "cell_type": "markdown",
   "metadata": {},
   "source": [
    "hh_q = hh_controls\n",
    "hh_q.head()"
   ]
  },
  {
   "cell_type": "markdown",
   "metadata": {
    "collapsed": true
   },
   "source": [
    "#calculate share by inc quarter\n",
    "hh_q['total'] = hh_q['q1'] + hh_q['q2'] + hh_q['q3'] + hh_q['q4']  \n",
    "hh_q['shrq1'] = hh_q['q1']/hh_q['total']\n",
    "hh_q['shrq2'] = hh_q['q2']/hh_q['total']\n",
    "hh_q['shrq3'] = hh_q['q3']/hh_q['total']\n",
    "hh_q['shrq4'] = hh_q['q4']/hh_q['total']"
   ]
  },
  {
   "cell_type": "markdown",
   "metadata": {},
   "source": [
    "hh_q.head()"
   ]
  },
  {
   "cell_type": "markdown",
   "metadata": {},
   "source": [
    "#calculate share by number of workers\n",
    "hh_sumbyworker = hh.groupby(['year','hhworkers']).sum().reset_index()\n",
    "hh_w = hh_sumbyworker.pivot(index='year', columns='hhworkers', values='total').reset_index()\n",
    "hh_w['total'] = hh_w['w0'] + hh_w['w1'] + hh_w['w2'] + hh_w['w3'] \n",
    "hh_w['shrw0'] = hh_w['w0']/hh_w['total']\n",
    "hh_w['shrw1'] = hh_w['w1']/hh_w['total']\n",
    "hh_w['shrw2'] = hh_w['w2']/hh_w['total']\n",
    "hh_w['shrw3'] = hh_w['w3']/hh_w['total']\n",
    "hh_w.head()"
   ]
  },
  {
   "cell_type": "markdown",
   "metadata": {},
   "source": [
    "#calculate share by hh size\n",
    "hh_sumbysize = hh.groupby(['year','hhsize']).sum().reset_index()\n",
    "hh_s = hh_sumbysize.pivot(index='year', columns='hhsize', values='total').reset_index()\n",
    "hh_s['total'] = hh_s['s1'] + hh_s['s2'] + hh_s['s3'] + hh_s['s4']  \n",
    "hh_s['shrs1'] = hh_s['s1']/hh_s['total']\n",
    "hh_s['shrs2'] = hh_s['s2']/hh_s['total']\n",
    "hh_s['shrs3'] = hh_s['s3']/hh_s['total']\n",
    "hh_s['shrs4'] = hh_s['s4']/hh_s['total']\n",
    "hh_s.head()"
   ]
  },
  {
   "cell_type": "markdown",
   "metadata": {
    "collapsed": true
   },
   "source": [
    "#Step 5 add all hh and pop share into a dataframe\n",
    "reg_dem_fcast = pd.DataFrame()\n",
    "b_slice1 = hh_s[['year','shrs1','shrs2','shrs3','shrs4']].copy()\n",
    "b_slice2 = hh_q[['year','shrq1','shrq2','shrq3','shrq4']].copy()\n",
    "b_slice3 = hh_w[['year','shrw0','shrw1','shrw2','shrw3']].copy()\n",
    "b_slice4 = 4ag[['year','shra1','shra2','shra3','shra4','shrn','shry']].copy()\n",
    "reg_dem_fcast = reg_dem_fcast.append(b_slice1)\n",
    "reg_dem_fcast1 = pd.merge(reg_dem_fcast,b_slice2, on = 'year', how = 'left')\n",
    "reg_dem_fcast2 = pd.merge(reg_dem_fcast1,b_slice3, on = 'year', how = 'left')\n",
    "reg_dem_fcast3 = pd.merge(reg_dem_fcast2,b_slice4, on = 'year', how = 'left')"
   ]
  },
  {
   "cell_type": "markdown",
   "metadata": {},
   "source": [
    "reg_dem_fcast3.head()"
   ]
  },
  {
   "cell_type": "markdown",
   "metadata": {
    "collapsed": true
   },
   "source": [
    "reg_dem_fcast3.to_excel(writer, sheet_name='reg_dem_fcast')"
   ]
  },
  {
   "cell_type": "markdown",
   "metadata": {
    "collapsed": true
   },
   "source": [
    "# last step, putting together regional control master file\n",
    "#vacany rate\n",
    "vr= pd.read_csv('C:/Users/blu/Box/RTP SCS 2021 Modeling/control_totals/deliverables/vacancy rate.csv')\n",
    "\n",
    "#pop\n",
    "pop_controls['totpop'] = pop_controls['age0004'] + pop_controls['age0519']+ pop_controls['age2044']+pop_controls['age4564'] + pop_controls['age65p']\n",
    "\n",
    "#employed residents\n",
    "#first set up a constant for rate of employed residents -- update if needed.\n",
    "empres_r = 0.98\n",
    "#then put everything together\n",
    "emp_controls.year = emp_controls.year.astype(int)\n",
    "emp_controls['empres'] = empres_r * (emp_controls['AGREMPN'] +emp_controls['MWTEMPN'] + emp_controls['RETEMPN'] + emp_controls['FPSEMPN'] + emp_controls['HEREMPN'] + emp_controls['OTHEMPN'])\n",
    "empres = emp_controls[['year','empres']]\n",
    "\n",
    "#five age groups\n",
    "pop_5ag = pop_controls[['year','age0004','age0519','age2044','age4564','age65p']]\n",
    "\n",
    "regional_controls = pop_controls[['year','totpop']] \n",
    "regional_controls1 = pd.merge(regional_controls, empres, on = 'year', how = 'left')\n",
    "regional_controls2 = pd.merge(regional_controls1, pop_5ag, on = 'year', how = 'left')\n",
    "regional_controls3 = pd.merge(regional_controls2, vr, on = 'year', how = 'left')\n",
    "\n",
    "#add static median age -- update if needed\n",
    "medianAge = [37.7,38.5,38.9,39.6,40.2,40.9,42.7,42.2,42.9]\n",
    "regional_controls3.insert(loc=3, column='medianage', value=medianAge)"
   ]
  },
  {
   "cell_type": "markdown",
   "metadata": {},
   "source": [
    "regional_controls3.head()"
   ]
  },
  {
   "cell_type": "markdown",
   "metadata": {
    "collapsed": true
   },
   "source": [
    "regional_controls3.to_excel(writer, sheet_name='regional_controls')"
   ]
  },
  {
   "cell_type": "markdown",
   "metadata": {
    "collapsed": true
   },
   "source": [
    "writer.save()"
   ]
  },
  {
   "cell_type": "code",
   "execution_count": null,
   "metadata": {},
   "outputs": [],
   "source": []
  }
 ],
 "metadata": {
  "kernelspec": {
   "display_name": "Python 2",
   "language": "python",
   "name": "python2"
  },
  "language_info": {
   "codemirror_mode": {
    "name": "ipython",
    "version": 2
   },
   "file_extension": ".py",
   "mimetype": "text/x-python",
   "name": "python",
   "nbconvert_exporter": "python",
   "pygments_lexer": "ipython2",
   "version": "2.7.15"
  }
 },
 "nbformat": 4,
 "nbformat_minor": 2
}
